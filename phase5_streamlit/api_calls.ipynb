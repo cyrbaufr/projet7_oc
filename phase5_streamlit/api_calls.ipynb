{
 "cells": [
  {
   "cell_type": "markdown",
   "id": "21ab7a8b",
   "metadata": {},
   "source": [
    "# Fichier de test de l'API déployée sur FastAPI"
   ]
  },
  {
   "cell_type": "markdown",
   "id": "5822862c",
   "metadata": {},
   "source": [
    "Tests de l'API pour construire le dashboard Streamlit"
   ]
  },
  {
   "cell_type": "code",
   "execution_count": 16,
   "id": "caade3fb",
   "metadata": {},
   "outputs": [],
   "source": [
    "import requests\n",
    "import json\n",
    "import pandas as pd"
   ]
  },
  {
   "cell_type": "code",
   "execution_count": 3,
   "id": "4e29c8e2",
   "metadata": {},
   "outputs": [],
   "source": [
    "url=\"https://test-cyril-fastapi.herokuapp.com/predict\""
   ]
  },
  {
   "cell_type": "code",
   "execution_count": 25,
   "id": "a13fe147",
   "metadata": {},
   "outputs": [],
   "source": [
    "EXT_SOURCE_3 = 0.5\n",
    "EXT_SOURCE_2 = 0.2\n",
    "PREV_DAYS_DECISION_MIN = 100\n",
    "CODE_GENDER = 0\n",
    "DAYS_EMPLOYED = 2000\n",
    "PREV_APP_CREDIT_PERC_MIN = 0.8\n",
    "INSTAL_DPD_MAX = 1\n",
    "AMT_CREDIT = 250000\n",
    "DAYS_BIRTH = 20000\n",
    "FLAG_OWN_CAR = 0\n",
    "NAME_EDUCATION_TYPE_Higher_education = 1"
   ]
  },
  {
   "cell_type": "code",
   "execution_count": 20,
   "id": "cd762648",
   "metadata": {},
   "outputs": [
    {
     "data": {
      "text/html": [
       "<div>\n",
       "<style scoped>\n",
       "    .dataframe tbody tr th:only-of-type {\n",
       "        vertical-align: middle;\n",
       "    }\n",
       "\n",
       "    .dataframe tbody tr th {\n",
       "        vertical-align: top;\n",
       "    }\n",
       "\n",
       "    .dataframe thead th {\n",
       "        text-align: right;\n",
       "    }\n",
       "</style>\n",
       "<table border=\"1\" class=\"dataframe\">\n",
       "  <thead>\n",
       "    <tr style=\"text-align: right;\">\n",
       "      <th></th>\n",
       "      <th>EXT_SOURCE_3</th>\n",
       "      <th>EXT_SOURCE_2</th>\n",
       "    </tr>\n",
       "  </thead>\n",
       "  <tbody>\n",
       "    <tr>\n",
       "      <th>0</th>\n",
       "      <td>0.5</td>\n",
       "      <td>0.5</td>\n",
       "    </tr>\n",
       "  </tbody>\n",
       "</table>\n",
       "</div>"
      ],
      "text/plain": [
       "   EXT_SOURCE_3  EXT_SOURCE_2\n",
       "0           0.5           0.5"
      ]
     },
     "execution_count": 20,
     "metadata": {},
     "output_type": "execute_result"
    }
   ],
   "source": [
    "test_df = pd.DataFrame([[EXT_SOURCE_3, EXT_SOURCE_3]], columns=['EXT_SOURCE_3', 'EXT_SOURCE_2'])\n",
    "test_df"
   ]
  },
  {
   "cell_type": "code",
   "execution_count": 26,
   "id": "d30fcc6a",
   "metadata": {},
   "outputs": [],
   "source": [
    "credit = json.dumps({\n",
    "  \"EXT_SOURCE_3\": EXT_SOURCE_3,\n",
    "  \"EXT_SOURCE_2\": EXT_SOURCE_2,\n",
    "  \"PREV_DAYS_DECISION_MIN\": PREV_DAYS_DECISION_MIN,\n",
    "  \"CODE_GENDER\": CODE_GENDER,\n",
    "  \"DAYS_EMPLOYED\": DAYS_EMPLOYED,\n",
    "  \"PREV_APP_CREDIT_PERC_MIN\": PREV_APP_CREDIT_PERC_MIN,\n",
    "  \"INSTAL_DPD_MAX\": INSTAL_DPD_MAX,\n",
    "  \"AMT_CREDIT\": AMT_CREDIT,\n",
    "  \"DAYS_BIRTH\": DAYS_BIRTH,\n",
    "  \"FLAG_OWN_CAR\": FLAG_OWN_CAR,\n",
    "  \"NAME_EDUCATION_TYPE_Higher_education\": NAME_EDUCATION_TYPE_Higher_education})"
   ]
  },
  {
   "cell_type": "code",
   "execution_count": 27,
   "id": "8c0f39db",
   "metadata": {},
   "outputs": [
    {
     "data": {
      "text/plain": [
       "'{\"EXT_SOURCE_3\": 0.5, \"EXT_SOURCE_2\": 0.2, \"PREV_DAYS_DECISION_MIN\": 100, \"CODE_GENDER\": 0, \"DAYS_EMPLOYED\": 2000, \"PREV_APP_CREDIT_PERC_MIN\": 0.8, \"INSTAL_DPD_MAX\": 1, \"AMT_CREDIT\": 250000, \"DAYS_BIRTH\": 20000, \"FLAG_OWN_CAR\": 0, \"NAME_EDUCATION_TYPE_Higher_education\": 1}'"
      ]
     },
     "execution_count": 27,
     "metadata": {},
     "output_type": "execute_result"
    }
   ],
   "source": [
    "credit"
   ]
  },
  {
   "cell_type": "code",
   "execution_count": 28,
   "id": "d6875270",
   "metadata": {},
   "outputs": [],
   "source": [
    "headers={'accept': 'application/json', 'Content-Type': 'application/json'}"
   ]
  },
  {
   "cell_type": "code",
   "execution_count": 29,
   "id": "74ecedbd",
   "metadata": {},
   "outputs": [],
   "source": [
    "response = requests.request(\"POST\", url, headers=headers, data=credit)"
   ]
  },
  {
   "cell_type": "code",
   "execution_count": 30,
   "id": "5312857c",
   "metadata": {},
   "outputs": [
    {
     "name": "stdout",
     "output_type": "stream",
     "text": [
      "{\"prediction\":\"Crédit accepté\"}\n"
     ]
    }
   ],
   "source": [
    "print(response.text)"
   ]
  },
  {
   "cell_type": "code",
   "execution_count": null,
   "id": "ffe41b1f",
   "metadata": {},
   "outputs": [],
   "source": []
  }
 ],
 "metadata": {
  "kernelspec": {
   "display_name": "Python 3 (ipykernel)",
   "language": "python",
   "name": "python3"
  },
  "language_info": {
   "codemirror_mode": {
    "name": "ipython",
    "version": 3
   },
   "file_extension": ".py",
   "mimetype": "text/x-python",
   "name": "python",
   "nbconvert_exporter": "python",
   "pygments_lexer": "ipython3",
   "version": "3.9.12"
  }
 },
 "nbformat": 4,
 "nbformat_minor": 5
}
