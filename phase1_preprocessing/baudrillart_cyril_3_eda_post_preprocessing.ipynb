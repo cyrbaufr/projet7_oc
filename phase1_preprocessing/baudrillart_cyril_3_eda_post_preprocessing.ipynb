{
 "cells": [
  {
   "cell_type": "markdown",
   "id": "8d4aaa57",
   "metadata": {},
   "source": [
    "# Analyse des données après fusion des tables"
   ]
  },
  {
   "cell_type": "markdown",
   "id": "b988fb1f",
   "metadata": {},
   "source": [
    "Le script preprocessing.py génère un tableau de données unique avec toutes les features disponibles. Chaque ligne correspond à un client unique. Les colonnes contiennent toutes des données quantitatives."
   ]
  },
  {
   "cell_type": "markdown",
   "id": "60ab5614",
   "metadata": {},
   "source": [
    "Comme le fichier de données est trop gros et provoque des crashs dans Jupyter notebook, il convient de le séparer en train et test et de n'utiliser que le train set pour entraîner un modèle de classification et sélectionner les variables."
   ]
  },
  {
   "cell_type": "code",
   "execution_count": 3,
   "id": "d03b1867",
   "metadata": {},
   "outputs": [],
   "source": [
    "import pandas as pd\n",
    "import gc"
   ]
  },
  {
   "cell_type": "markdown",
   "id": "10d28d91",
   "metadata": {},
   "source": [
    "https://stackoverflow.com/questions/845058/how-to-get-line-count-of-a-large-file-cheaply-in-python"
   ]
  },
  {
   "cell_type": "code",
   "execution_count": 4,
   "id": "e0ebdb9c",
   "metadata": {},
   "outputs": [
    {
     "data": {
      "text/plain": [
       "356256"
      ]
     },
     "execution_count": 4,
     "metadata": {},
     "output_type": "execute_result"
    }
   ],
   "source": [
    "# recherche du nombre de lignes d'un fichier csv sans l'ouvrir\n",
    "sum(1 for line in open('../data/final_credit.csv'))"
   ]
  },
  {
   "cell_type": "markdown",
   "id": "f40db355",
   "metadata": {},
   "source": [
    "https://stackoverflow.com/questions/845058/how-to-get-line-count-of-a-large-file-cheaply-in-python"
   ]
  },
  {
   "cell_type": "raw",
   "id": "f0f16108",
   "metadata": {},
   "source": [
    "# Charger les 1000 premières lignes car impossible de charger tout le fichier\n",
    "pd.read_csv(\"../final_credit.csv\", nrows=1000, index_col=0)"
   ]
  },
  {
   "cell_type": "markdown",
   "id": "a6b554c1",
   "metadata": {},
   "source": [
    "On peut utiliser dask pour charger le dataset mais compliqué car pas exactement un Dataframe exploitable avec Pandas"
   ]
  },
  {
   "cell_type": "raw",
   "id": "cc625c4d",
   "metadata": {},
   "source": [
    "# Dataframes implement the Pandas API\n",
    "import dask.dataframe as dd\n",
    "df = dd.read_csv(\"../final_credit.csv\")"
   ]
  },
  {
   "cell_type": "markdown",
   "id": "35af7c78",
   "metadata": {},
   "source": [
    "La solution retenue est celle d'une lecture du fichier csv par lots  \n",
    "https://stackoverflow.com/questions/25962114/how-do-i-read-a-large-csv-file-with-pandas"
   ]
  },
  {
   "cell_type": "code",
   "execution_count": 6,
   "id": "a2eba764",
   "metadata": {},
   "outputs": [],
   "source": [
    "# Ouverture du fichier csv en plusieurs lots afin d'éviter des plantages\n",
    "TextFileReader = pd.read_csv(\"../data/final_credit.csv\",\n",
    "                             chunksize=10000, index_col=0)  # the number of rows per chunk\n",
    "\n",
    "dfList = []\n",
    "for df in TextFileReader:\n",
    "    dfList.append(df)\n",
    "\n",
    "df = pd.concat(dfList,sort=False)"
   ]
  },
  {
   "cell_type": "code",
   "execution_count": 7,
   "id": "d0eb0688",
   "metadata": {},
   "outputs": [
    {
     "data": {
      "text/plain": [
       "(356255, 798)"
      ]
     },
     "execution_count": 7,
     "metadata": {},
     "output_type": "execute_result"
    }
   ],
   "source": [
    "df.shape"
   ]
  },
  {
   "cell_type": "code",
   "execution_count": 8,
   "id": "b802f169",
   "metadata": {},
   "outputs": [
    {
     "data": {
      "text/html": [
       "<div>\n",
       "<style scoped>\n",
       "    .dataframe tbody tr th:only-of-type {\n",
       "        vertical-align: middle;\n",
       "    }\n",
       "\n",
       "    .dataframe tbody tr th {\n",
       "        vertical-align: top;\n",
       "    }\n",
       "\n",
       "    .dataframe thead th {\n",
       "        text-align: right;\n",
       "    }\n",
       "</style>\n",
       "<table border=\"1\" class=\"dataframe\">\n",
       "  <thead>\n",
       "    <tr style=\"text-align: right;\">\n",
       "      <th></th>\n",
       "      <th>index</th>\n",
       "      <th>SK_ID_CURR</th>\n",
       "      <th>TARGET</th>\n",
       "      <th>CODE_GENDER</th>\n",
       "      <th>FLAG_OWN_CAR</th>\n",
       "      <th>FLAG_OWN_REALTY</th>\n",
       "      <th>CNT_CHILDREN</th>\n",
       "      <th>AMT_INCOME_TOTAL</th>\n",
       "      <th>AMT_CREDIT</th>\n",
       "      <th>AMT_ANNUITY</th>\n",
       "      <th>...</th>\n",
       "      <th>CC_NAME_CONTRACT_STATUS_Signed_MAX</th>\n",
       "      <th>CC_NAME_CONTRACT_STATUS_Signed_MEAN</th>\n",
       "      <th>CC_NAME_CONTRACT_STATUS_Signed_SUM</th>\n",
       "      <th>CC_NAME_CONTRACT_STATUS_Signed_VAR</th>\n",
       "      <th>CC_NAME_CONTRACT_STATUS_nan_MIN</th>\n",
       "      <th>CC_NAME_CONTRACT_STATUS_nan_MAX</th>\n",
       "      <th>CC_NAME_CONTRACT_STATUS_nan_MEAN</th>\n",
       "      <th>CC_NAME_CONTRACT_STATUS_nan_SUM</th>\n",
       "      <th>CC_NAME_CONTRACT_STATUS_nan_VAR</th>\n",
       "      <th>CC_COUNT</th>\n",
       "    </tr>\n",
       "  </thead>\n",
       "  <tbody>\n",
       "    <tr>\n",
       "      <th>356250</th>\n",
       "      <td>48739</td>\n",
       "      <td>456221</td>\n",
       "      <td>NaN</td>\n",
       "      <td>1</td>\n",
       "      <td>0</td>\n",
       "      <td>0</td>\n",
       "      <td>0</td>\n",
       "      <td>121500.0</td>\n",
       "      <td>412560.0</td>\n",
       "      <td>17473.5</td>\n",
       "      <td>...</td>\n",
       "      <td>NaN</td>\n",
       "      <td>NaN</td>\n",
       "      <td>NaN</td>\n",
       "      <td>NaN</td>\n",
       "      <td>NaN</td>\n",
       "      <td>NaN</td>\n",
       "      <td>NaN</td>\n",
       "      <td>NaN</td>\n",
       "      <td>NaN</td>\n",
       "      <td>NaN</td>\n",
       "    </tr>\n",
       "    <tr>\n",
       "      <th>356251</th>\n",
       "      <td>48740</td>\n",
       "      <td>456222</td>\n",
       "      <td>NaN</td>\n",
       "      <td>1</td>\n",
       "      <td>0</td>\n",
       "      <td>1</td>\n",
       "      <td>2</td>\n",
       "      <td>157500.0</td>\n",
       "      <td>622413.0</td>\n",
       "      <td>31909.5</td>\n",
       "      <td>...</td>\n",
       "      <td>NaN</td>\n",
       "      <td>NaN</td>\n",
       "      <td>NaN</td>\n",
       "      <td>NaN</td>\n",
       "      <td>NaN</td>\n",
       "      <td>NaN</td>\n",
       "      <td>NaN</td>\n",
       "      <td>NaN</td>\n",
       "      <td>NaN</td>\n",
       "      <td>NaN</td>\n",
       "    </tr>\n",
       "    <tr>\n",
       "      <th>356252</th>\n",
       "      <td>48741</td>\n",
       "      <td>456223</td>\n",
       "      <td>NaN</td>\n",
       "      <td>1</td>\n",
       "      <td>1</td>\n",
       "      <td>0</td>\n",
       "      <td>1</td>\n",
       "      <td>202500.0</td>\n",
       "      <td>315000.0</td>\n",
       "      <td>33205.5</td>\n",
       "      <td>...</td>\n",
       "      <td>NaN</td>\n",
       "      <td>NaN</td>\n",
       "      <td>NaN</td>\n",
       "      <td>NaN</td>\n",
       "      <td>NaN</td>\n",
       "      <td>NaN</td>\n",
       "      <td>NaN</td>\n",
       "      <td>NaN</td>\n",
       "      <td>NaN</td>\n",
       "      <td>NaN</td>\n",
       "    </tr>\n",
       "    <tr>\n",
       "      <th>356253</th>\n",
       "      <td>48742</td>\n",
       "      <td>456224</td>\n",
       "      <td>NaN</td>\n",
       "      <td>0</td>\n",
       "      <td>0</td>\n",
       "      <td>1</td>\n",
       "      <td>0</td>\n",
       "      <td>225000.0</td>\n",
       "      <td>450000.0</td>\n",
       "      <td>25128.0</td>\n",
       "      <td>...</td>\n",
       "      <td>NaN</td>\n",
       "      <td>NaN</td>\n",
       "      <td>NaN</td>\n",
       "      <td>NaN</td>\n",
       "      <td>NaN</td>\n",
       "      <td>NaN</td>\n",
       "      <td>NaN</td>\n",
       "      <td>NaN</td>\n",
       "      <td>NaN</td>\n",
       "      <td>NaN</td>\n",
       "    </tr>\n",
       "    <tr>\n",
       "      <th>356254</th>\n",
       "      <td>48743</td>\n",
       "      <td>456250</td>\n",
       "      <td>NaN</td>\n",
       "      <td>1</td>\n",
       "      <td>1</td>\n",
       "      <td>1</td>\n",
       "      <td>0</td>\n",
       "      <td>135000.0</td>\n",
       "      <td>312768.0</td>\n",
       "      <td>24709.5</td>\n",
       "      <td>...</td>\n",
       "      <td>0.0</td>\n",
       "      <td>0.0</td>\n",
       "      <td>0.0</td>\n",
       "      <td>0.0</td>\n",
       "      <td>0.0</td>\n",
       "      <td>0.0</td>\n",
       "      <td>0.0</td>\n",
       "      <td>0.0</td>\n",
       "      <td>0.0</td>\n",
       "      <td>12.0</td>\n",
       "    </tr>\n",
       "  </tbody>\n",
       "</table>\n",
       "<p>5 rows × 798 columns</p>\n",
       "</div>"
      ],
      "text/plain": [
       "        index  SK_ID_CURR  TARGET  CODE_GENDER  FLAG_OWN_CAR  FLAG_OWN_REALTY  \\\n",
       "356250  48739      456221     NaN            1             0                0   \n",
       "356251  48740      456222     NaN            1             0                1   \n",
       "356252  48741      456223     NaN            1             1                0   \n",
       "356253  48742      456224     NaN            0             0                1   \n",
       "356254  48743      456250     NaN            1             1                1   \n",
       "\n",
       "        CNT_CHILDREN  AMT_INCOME_TOTAL  AMT_CREDIT  AMT_ANNUITY  ...  \\\n",
       "356250             0          121500.0    412560.0      17473.5  ...   \n",
       "356251             2          157500.0    622413.0      31909.5  ...   \n",
       "356252             1          202500.0    315000.0      33205.5  ...   \n",
       "356253             0          225000.0    450000.0      25128.0  ...   \n",
       "356254             0          135000.0    312768.0      24709.5  ...   \n",
       "\n",
       "        CC_NAME_CONTRACT_STATUS_Signed_MAX  \\\n",
       "356250                                 NaN   \n",
       "356251                                 NaN   \n",
       "356252                                 NaN   \n",
       "356253                                 NaN   \n",
       "356254                                 0.0   \n",
       "\n",
       "        CC_NAME_CONTRACT_STATUS_Signed_MEAN  \\\n",
       "356250                                  NaN   \n",
       "356251                                  NaN   \n",
       "356252                                  NaN   \n",
       "356253                                  NaN   \n",
       "356254                                  0.0   \n",
       "\n",
       "        CC_NAME_CONTRACT_STATUS_Signed_SUM  \\\n",
       "356250                                 NaN   \n",
       "356251                                 NaN   \n",
       "356252                                 NaN   \n",
       "356253                                 NaN   \n",
       "356254                                 0.0   \n",
       "\n",
       "        CC_NAME_CONTRACT_STATUS_Signed_VAR  CC_NAME_CONTRACT_STATUS_nan_MIN  \\\n",
       "356250                                 NaN                              NaN   \n",
       "356251                                 NaN                              NaN   \n",
       "356252                                 NaN                              NaN   \n",
       "356253                                 NaN                              NaN   \n",
       "356254                                 0.0                              0.0   \n",
       "\n",
       "        CC_NAME_CONTRACT_STATUS_nan_MAX  CC_NAME_CONTRACT_STATUS_nan_MEAN  \\\n",
       "356250                              NaN                               NaN   \n",
       "356251                              NaN                               NaN   \n",
       "356252                              NaN                               NaN   \n",
       "356253                              NaN                               NaN   \n",
       "356254                              0.0                               0.0   \n",
       "\n",
       "        CC_NAME_CONTRACT_STATUS_nan_SUM  CC_NAME_CONTRACT_STATUS_nan_VAR  \\\n",
       "356250                              NaN                              NaN   \n",
       "356251                              NaN                              NaN   \n",
       "356252                              NaN                              NaN   \n",
       "356253                              NaN                              NaN   \n",
       "356254                              0.0                              0.0   \n",
       "\n",
       "        CC_COUNT  \n",
       "356250       NaN  \n",
       "356251       NaN  \n",
       "356252       NaN  \n",
       "356253       NaN  \n",
       "356254      12.0  \n",
       "\n",
       "[5 rows x 798 columns]"
      ]
     },
     "execution_count": 8,
     "metadata": {},
     "output_type": "execute_result"
    }
   ],
   "source": [
    "df.tail()"
   ]
  },
  {
   "cell_type": "markdown",
   "id": "378811ae",
   "metadata": {},
   "source": [
    "Du fait de l'encodage One Hot des variables catégorielles, le nombre de colonnes augmente fortement."
   ]
  },
  {
   "cell_type": "code",
   "execution_count": 9,
   "id": "3ef004d9",
   "metadata": {},
   "outputs": [
    {
     "data": {
      "text/plain": [
       "index                                    0\n",
       "SK_ID_CURR                               0\n",
       "TARGET                               48744\n",
       "CODE_GENDER                              0\n",
       "FLAG_OWN_CAR                             0\n",
       "                                     ...  \n",
       "CC_NAME_CONTRACT_STATUS_nan_MAX     252697\n",
       "CC_NAME_CONTRACT_STATUS_nan_MEAN    252697\n",
       "CC_NAME_CONTRACT_STATUS_nan_SUM     252697\n",
       "CC_NAME_CONTRACT_STATUS_nan_VAR     253389\n",
       "CC_COUNT                            252697\n",
       "Length: 798, dtype: int64"
      ]
     },
     "execution_count": 9,
     "metadata": {},
     "output_type": "execute_result"
    }
   ],
   "source": [
    "# Certaines colonnes contiennent beaucoup de valeurs manquantes\n",
    "df.isnull().sum()"
   ]
  },
  {
   "cell_type": "code",
   "execution_count": 10,
   "id": "35358569",
   "metadata": {},
   "outputs": [],
   "source": [
    "# Suppression de la colonne 'index' et réinitialisation de l'index\n",
    "df.drop(columns=['index'], inplace=True)"
   ]
  },
  {
   "cell_type": "code",
   "execution_count": 11,
   "id": "da674bd5",
   "metadata": {},
   "outputs": [],
   "source": [
    "df = df.reset_index(drop=True)"
   ]
  },
  {
   "cell_type": "code",
   "execution_count": 12,
   "id": "6e5d8f77",
   "metadata": {},
   "outputs": [
    {
     "data": {
      "text/html": [
       "<div>\n",
       "<style scoped>\n",
       "    .dataframe tbody tr th:only-of-type {\n",
       "        vertical-align: middle;\n",
       "    }\n",
       "\n",
       "    .dataframe tbody tr th {\n",
       "        vertical-align: top;\n",
       "    }\n",
       "\n",
       "    .dataframe thead th {\n",
       "        text-align: right;\n",
       "    }\n",
       "</style>\n",
       "<table border=\"1\" class=\"dataframe\">\n",
       "  <thead>\n",
       "    <tr style=\"text-align: right;\">\n",
       "      <th></th>\n",
       "      <th>SK_ID_CURR</th>\n",
       "      <th>TARGET</th>\n",
       "      <th>CODE_GENDER</th>\n",
       "      <th>FLAG_OWN_CAR</th>\n",
       "      <th>FLAG_OWN_REALTY</th>\n",
       "      <th>CNT_CHILDREN</th>\n",
       "      <th>AMT_INCOME_TOTAL</th>\n",
       "      <th>AMT_CREDIT</th>\n",
       "      <th>AMT_ANNUITY</th>\n",
       "      <th>AMT_GOODS_PRICE</th>\n",
       "      <th>...</th>\n",
       "      <th>CC_NAME_CONTRACT_STATUS_Signed_MAX</th>\n",
       "      <th>CC_NAME_CONTRACT_STATUS_Signed_MEAN</th>\n",
       "      <th>CC_NAME_CONTRACT_STATUS_Signed_SUM</th>\n",
       "      <th>CC_NAME_CONTRACT_STATUS_Signed_VAR</th>\n",
       "      <th>CC_NAME_CONTRACT_STATUS_nan_MIN</th>\n",
       "      <th>CC_NAME_CONTRACT_STATUS_nan_MAX</th>\n",
       "      <th>CC_NAME_CONTRACT_STATUS_nan_MEAN</th>\n",
       "      <th>CC_NAME_CONTRACT_STATUS_nan_SUM</th>\n",
       "      <th>CC_NAME_CONTRACT_STATUS_nan_VAR</th>\n",
       "      <th>CC_COUNT</th>\n",
       "    </tr>\n",
       "  </thead>\n",
       "  <tbody>\n",
       "    <tr>\n",
       "      <th>0</th>\n",
       "      <td>100002</td>\n",
       "      <td>1.0</td>\n",
       "      <td>0</td>\n",
       "      <td>0</td>\n",
       "      <td>0</td>\n",
       "      <td>0</td>\n",
       "      <td>202500.0</td>\n",
       "      <td>406597.5</td>\n",
       "      <td>24700.5</td>\n",
       "      <td>351000.0</td>\n",
       "      <td>...</td>\n",
       "      <td>NaN</td>\n",
       "      <td>NaN</td>\n",
       "      <td>NaN</td>\n",
       "      <td>NaN</td>\n",
       "      <td>NaN</td>\n",
       "      <td>NaN</td>\n",
       "      <td>NaN</td>\n",
       "      <td>NaN</td>\n",
       "      <td>NaN</td>\n",
       "      <td>NaN</td>\n",
       "    </tr>\n",
       "    <tr>\n",
       "      <th>1</th>\n",
       "      <td>100003</td>\n",
       "      <td>0.0</td>\n",
       "      <td>1</td>\n",
       "      <td>0</td>\n",
       "      <td>1</td>\n",
       "      <td>0</td>\n",
       "      <td>270000.0</td>\n",
       "      <td>1293502.5</td>\n",
       "      <td>35698.5</td>\n",
       "      <td>1129500.0</td>\n",
       "      <td>...</td>\n",
       "      <td>NaN</td>\n",
       "      <td>NaN</td>\n",
       "      <td>NaN</td>\n",
       "      <td>NaN</td>\n",
       "      <td>NaN</td>\n",
       "      <td>NaN</td>\n",
       "      <td>NaN</td>\n",
       "      <td>NaN</td>\n",
       "      <td>NaN</td>\n",
       "      <td>NaN</td>\n",
       "    </tr>\n",
       "    <tr>\n",
       "      <th>2</th>\n",
       "      <td>100004</td>\n",
       "      <td>0.0</td>\n",
       "      <td>0</td>\n",
       "      <td>1</td>\n",
       "      <td>0</td>\n",
       "      <td>0</td>\n",
       "      <td>67500.0</td>\n",
       "      <td>135000.0</td>\n",
       "      <td>6750.0</td>\n",
       "      <td>135000.0</td>\n",
       "      <td>...</td>\n",
       "      <td>NaN</td>\n",
       "      <td>NaN</td>\n",
       "      <td>NaN</td>\n",
       "      <td>NaN</td>\n",
       "      <td>NaN</td>\n",
       "      <td>NaN</td>\n",
       "      <td>NaN</td>\n",
       "      <td>NaN</td>\n",
       "      <td>NaN</td>\n",
       "      <td>NaN</td>\n",
       "    </tr>\n",
       "    <tr>\n",
       "      <th>3</th>\n",
       "      <td>100006</td>\n",
       "      <td>0.0</td>\n",
       "      <td>1</td>\n",
       "      <td>0</td>\n",
       "      <td>0</td>\n",
       "      <td>0</td>\n",
       "      <td>135000.0</td>\n",
       "      <td>312682.5</td>\n",
       "      <td>29686.5</td>\n",
       "      <td>297000.0</td>\n",
       "      <td>...</td>\n",
       "      <td>0.0</td>\n",
       "      <td>0.0</td>\n",
       "      <td>0.0</td>\n",
       "      <td>0.0</td>\n",
       "      <td>0.0</td>\n",
       "      <td>0.0</td>\n",
       "      <td>0.0</td>\n",
       "      <td>0.0</td>\n",
       "      <td>0.0</td>\n",
       "      <td>6.0</td>\n",
       "    </tr>\n",
       "    <tr>\n",
       "      <th>4</th>\n",
       "      <td>100007</td>\n",
       "      <td>0.0</td>\n",
       "      <td>0</td>\n",
       "      <td>0</td>\n",
       "      <td>0</td>\n",
       "      <td>0</td>\n",
       "      <td>121500.0</td>\n",
       "      <td>513000.0</td>\n",
       "      <td>21865.5</td>\n",
       "      <td>513000.0</td>\n",
       "      <td>...</td>\n",
       "      <td>NaN</td>\n",
       "      <td>NaN</td>\n",
       "      <td>NaN</td>\n",
       "      <td>NaN</td>\n",
       "      <td>NaN</td>\n",
       "      <td>NaN</td>\n",
       "      <td>NaN</td>\n",
       "      <td>NaN</td>\n",
       "      <td>NaN</td>\n",
       "      <td>NaN</td>\n",
       "    </tr>\n",
       "    <tr>\n",
       "      <th>5</th>\n",
       "      <td>100008</td>\n",
       "      <td>0.0</td>\n",
       "      <td>0</td>\n",
       "      <td>0</td>\n",
       "      <td>0</td>\n",
       "      <td>0</td>\n",
       "      <td>99000.0</td>\n",
       "      <td>490495.5</td>\n",
       "      <td>27517.5</td>\n",
       "      <td>454500.0</td>\n",
       "      <td>...</td>\n",
       "      <td>NaN</td>\n",
       "      <td>NaN</td>\n",
       "      <td>NaN</td>\n",
       "      <td>NaN</td>\n",
       "      <td>NaN</td>\n",
       "      <td>NaN</td>\n",
       "      <td>NaN</td>\n",
       "      <td>NaN</td>\n",
       "      <td>NaN</td>\n",
       "      <td>NaN</td>\n",
       "    </tr>\n",
       "    <tr>\n",
       "      <th>6</th>\n",
       "      <td>100009</td>\n",
       "      <td>0.0</td>\n",
       "      <td>1</td>\n",
       "      <td>1</td>\n",
       "      <td>0</td>\n",
       "      <td>1</td>\n",
       "      <td>171000.0</td>\n",
       "      <td>1560726.0</td>\n",
       "      <td>41301.0</td>\n",
       "      <td>1395000.0</td>\n",
       "      <td>...</td>\n",
       "      <td>NaN</td>\n",
       "      <td>NaN</td>\n",
       "      <td>NaN</td>\n",
       "      <td>NaN</td>\n",
       "      <td>NaN</td>\n",
       "      <td>NaN</td>\n",
       "      <td>NaN</td>\n",
       "      <td>NaN</td>\n",
       "      <td>NaN</td>\n",
       "      <td>NaN</td>\n",
       "    </tr>\n",
       "    <tr>\n",
       "      <th>7</th>\n",
       "      <td>100010</td>\n",
       "      <td>0.0</td>\n",
       "      <td>0</td>\n",
       "      <td>1</td>\n",
       "      <td>0</td>\n",
       "      <td>0</td>\n",
       "      <td>360000.0</td>\n",
       "      <td>1530000.0</td>\n",
       "      <td>42075.0</td>\n",
       "      <td>1530000.0</td>\n",
       "      <td>...</td>\n",
       "      <td>NaN</td>\n",
       "      <td>NaN</td>\n",
       "      <td>NaN</td>\n",
       "      <td>NaN</td>\n",
       "      <td>NaN</td>\n",
       "      <td>NaN</td>\n",
       "      <td>NaN</td>\n",
       "      <td>NaN</td>\n",
       "      <td>NaN</td>\n",
       "      <td>NaN</td>\n",
       "    </tr>\n",
       "    <tr>\n",
       "      <th>8</th>\n",
       "      <td>100011</td>\n",
       "      <td>0.0</td>\n",
       "      <td>1</td>\n",
       "      <td>0</td>\n",
       "      <td>0</td>\n",
       "      <td>0</td>\n",
       "      <td>112500.0</td>\n",
       "      <td>1019610.0</td>\n",
       "      <td>33826.5</td>\n",
       "      <td>913500.0</td>\n",
       "      <td>...</td>\n",
       "      <td>0.0</td>\n",
       "      <td>0.0</td>\n",
       "      <td>0.0</td>\n",
       "      <td>0.0</td>\n",
       "      <td>0.0</td>\n",
       "      <td>0.0</td>\n",
       "      <td>0.0</td>\n",
       "      <td>0.0</td>\n",
       "      <td>0.0</td>\n",
       "      <td>74.0</td>\n",
       "    </tr>\n",
       "    <tr>\n",
       "      <th>9</th>\n",
       "      <td>100012</td>\n",
       "      <td>0.0</td>\n",
       "      <td>0</td>\n",
       "      <td>0</td>\n",
       "      <td>0</td>\n",
       "      <td>0</td>\n",
       "      <td>135000.0</td>\n",
       "      <td>405000.0</td>\n",
       "      <td>20250.0</td>\n",
       "      <td>405000.0</td>\n",
       "      <td>...</td>\n",
       "      <td>NaN</td>\n",
       "      <td>NaN</td>\n",
       "      <td>NaN</td>\n",
       "      <td>NaN</td>\n",
       "      <td>NaN</td>\n",
       "      <td>NaN</td>\n",
       "      <td>NaN</td>\n",
       "      <td>NaN</td>\n",
       "      <td>NaN</td>\n",
       "      <td>NaN</td>\n",
       "    </tr>\n",
       "    <tr>\n",
       "      <th>10</th>\n",
       "      <td>100014</td>\n",
       "      <td>0.0</td>\n",
       "      <td>1</td>\n",
       "      <td>0</td>\n",
       "      <td>0</td>\n",
       "      <td>1</td>\n",
       "      <td>112500.0</td>\n",
       "      <td>652500.0</td>\n",
       "      <td>21177.0</td>\n",
       "      <td>652500.0</td>\n",
       "      <td>...</td>\n",
       "      <td>NaN</td>\n",
       "      <td>NaN</td>\n",
       "      <td>NaN</td>\n",
       "      <td>NaN</td>\n",
       "      <td>NaN</td>\n",
       "      <td>NaN</td>\n",
       "      <td>NaN</td>\n",
       "      <td>NaN</td>\n",
       "      <td>NaN</td>\n",
       "      <td>NaN</td>\n",
       "    </tr>\n",
       "  </tbody>\n",
       "</table>\n",
       "<p>11 rows × 797 columns</p>\n",
       "</div>"
      ],
      "text/plain": [
       "    SK_ID_CURR  TARGET  CODE_GENDER  FLAG_OWN_CAR  FLAG_OWN_REALTY  \\\n",
       "0       100002     1.0            0             0                0   \n",
       "1       100003     0.0            1             0                1   \n",
       "2       100004     0.0            0             1                0   \n",
       "3       100006     0.0            1             0                0   \n",
       "4       100007     0.0            0             0                0   \n",
       "5       100008     0.0            0             0                0   \n",
       "6       100009     0.0            1             1                0   \n",
       "7       100010     0.0            0             1                0   \n",
       "8       100011     0.0            1             0                0   \n",
       "9       100012     0.0            0             0                0   \n",
       "10      100014     0.0            1             0                0   \n",
       "\n",
       "    CNT_CHILDREN  AMT_INCOME_TOTAL  AMT_CREDIT  AMT_ANNUITY  AMT_GOODS_PRICE  \\\n",
       "0              0          202500.0    406597.5      24700.5         351000.0   \n",
       "1              0          270000.0   1293502.5      35698.5        1129500.0   \n",
       "2              0           67500.0    135000.0       6750.0         135000.0   \n",
       "3              0          135000.0    312682.5      29686.5         297000.0   \n",
       "4              0          121500.0    513000.0      21865.5         513000.0   \n",
       "5              0           99000.0    490495.5      27517.5         454500.0   \n",
       "6              1          171000.0   1560726.0      41301.0        1395000.0   \n",
       "7              0          360000.0   1530000.0      42075.0        1530000.0   \n",
       "8              0          112500.0   1019610.0      33826.5         913500.0   \n",
       "9              0          135000.0    405000.0      20250.0         405000.0   \n",
       "10             1          112500.0    652500.0      21177.0         652500.0   \n",
       "\n",
       "    ...  CC_NAME_CONTRACT_STATUS_Signed_MAX  \\\n",
       "0   ...                                 NaN   \n",
       "1   ...                                 NaN   \n",
       "2   ...                                 NaN   \n",
       "3   ...                                 0.0   \n",
       "4   ...                                 NaN   \n",
       "5   ...                                 NaN   \n",
       "6   ...                                 NaN   \n",
       "7   ...                                 NaN   \n",
       "8   ...                                 0.0   \n",
       "9   ...                                 NaN   \n",
       "10  ...                                 NaN   \n",
       "\n",
       "    CC_NAME_CONTRACT_STATUS_Signed_MEAN  CC_NAME_CONTRACT_STATUS_Signed_SUM  \\\n",
       "0                                   NaN                                 NaN   \n",
       "1                                   NaN                                 NaN   \n",
       "2                                   NaN                                 NaN   \n",
       "3                                   0.0                                 0.0   \n",
       "4                                   NaN                                 NaN   \n",
       "5                                   NaN                                 NaN   \n",
       "6                                   NaN                                 NaN   \n",
       "7                                   NaN                                 NaN   \n",
       "8                                   0.0                                 0.0   \n",
       "9                                   NaN                                 NaN   \n",
       "10                                  NaN                                 NaN   \n",
       "\n",
       "    CC_NAME_CONTRACT_STATUS_Signed_VAR  CC_NAME_CONTRACT_STATUS_nan_MIN  \\\n",
       "0                                  NaN                              NaN   \n",
       "1                                  NaN                              NaN   \n",
       "2                                  NaN                              NaN   \n",
       "3                                  0.0                              0.0   \n",
       "4                                  NaN                              NaN   \n",
       "5                                  NaN                              NaN   \n",
       "6                                  NaN                              NaN   \n",
       "7                                  NaN                              NaN   \n",
       "8                                  0.0                              0.0   \n",
       "9                                  NaN                              NaN   \n",
       "10                                 NaN                              NaN   \n",
       "\n",
       "    CC_NAME_CONTRACT_STATUS_nan_MAX  CC_NAME_CONTRACT_STATUS_nan_MEAN  \\\n",
       "0                               NaN                               NaN   \n",
       "1                               NaN                               NaN   \n",
       "2                               NaN                               NaN   \n",
       "3                               0.0                               0.0   \n",
       "4                               NaN                               NaN   \n",
       "5                               NaN                               NaN   \n",
       "6                               NaN                               NaN   \n",
       "7                               NaN                               NaN   \n",
       "8                               0.0                               0.0   \n",
       "9                               NaN                               NaN   \n",
       "10                              NaN                               NaN   \n",
       "\n",
       "    CC_NAME_CONTRACT_STATUS_nan_SUM  CC_NAME_CONTRACT_STATUS_nan_VAR  CC_COUNT  \n",
       "0                               NaN                              NaN       NaN  \n",
       "1                               NaN                              NaN       NaN  \n",
       "2                               NaN                              NaN       NaN  \n",
       "3                               0.0                              0.0       6.0  \n",
       "4                               NaN                              NaN       NaN  \n",
       "5                               NaN                              NaN       NaN  \n",
       "6                               NaN                              NaN       NaN  \n",
       "7                               NaN                              NaN       NaN  \n",
       "8                               0.0                              0.0      74.0  \n",
       "9                               NaN                              NaN       NaN  \n",
       "10                              NaN                              NaN       NaN  \n",
       "\n",
       "[11 rows x 797 columns]"
      ]
     },
     "execution_count": 12,
     "metadata": {},
     "output_type": "execute_result"
    }
   ],
   "source": [
    "df.loc[:10,:].dropna(subset=['TARGET'])"
   ]
  },
  {
   "cell_type": "code",
   "execution_count": 13,
   "id": "113073da",
   "metadata": {},
   "outputs": [],
   "source": [
    "# Le test set correspond aux lignes sans target\n",
    "df_test = df[df['TARGET'].isna()]"
   ]
  },
  {
   "cell_type": "code",
   "execution_count": 14,
   "id": "ce9707a8",
   "metadata": {},
   "outputs": [],
   "source": [
    "# Enregistrement des données du test set\n",
    "df_test.to_csv('../data_models/credit_test.csv')"
   ]
  },
  {
   "cell_type": "code",
   "execution_count": 15,
   "id": "1c396f5c",
   "metadata": {},
   "outputs": [
    {
     "data": {
      "text/plain": [
       "0"
      ]
     },
     "execution_count": 15,
     "metadata": {},
     "output_type": "execute_result"
    }
   ],
   "source": [
    "# Supression du test set pour éviter les problèmes mémoire\n",
    "del df_test\n",
    "gc.collect()"
   ]
  },
  {
   "cell_type": "code",
   "execution_count": 16,
   "id": "2cfc2fe1",
   "metadata": {},
   "outputs": [],
   "source": [
    "# isoler les données du train set\n",
    "df_train = df.dropna(subset=['TARGET'])"
   ]
  },
  {
   "cell_type": "code",
   "execution_count": 17,
   "id": "fd986ad0",
   "metadata": {},
   "outputs": [
    {
     "data": {
      "text/plain": [
       "(307511, 797)"
      ]
     },
     "execution_count": 17,
     "metadata": {},
     "output_type": "execute_result"
    }
   ],
   "source": [
    "df_train.shape"
   ]
  },
  {
   "cell_type": "code",
   "execution_count": 18,
   "id": "e198df33",
   "metadata": {},
   "outputs": [],
   "source": [
    "# Enregistrement des données du train set\n",
    "df_train.to_csv('../data_models/credit_train.csv')"
   ]
  },
  {
   "cell_type": "code",
   "execution_count": 19,
   "id": "33673b18",
   "metadata": {},
   "outputs": [
    {
     "data": {
      "text/plain": [
       "0"
      ]
     },
     "execution_count": 19,
     "metadata": {},
     "output_type": "execute_result"
    }
   ],
   "source": [
    "del df\n",
    "gc.collect()"
   ]
  },
  {
   "cell_type": "code",
   "execution_count": 20,
   "id": "b073e1e9",
   "metadata": {},
   "outputs": [
    {
     "data": {
      "text/plain": [
       "307511"
      ]
     },
     "execution_count": 20,
     "metadata": {},
     "output_type": "execute_result"
    }
   ],
   "source": [
    "# Vérifier que SK_ID_CURR est bien un identifiant unique\n",
    "df_train.SK_ID_CURR.nunique()"
   ]
  },
  {
   "cell_type": "markdown",
   "id": "4fc88c3c",
   "metadata": {},
   "source": [
    "# Analyse de la répartition des classes dans le train set"
   ]
  },
  {
   "cell_type": "code",
   "execution_count": 21,
   "id": "99f167cc",
   "metadata": {},
   "outputs": [],
   "source": [
    "# Sélection des lignes ayant une target = 1 (crédit refusé)\n",
    "df_target1 = df_train[df_train[\"TARGET\"]==1]"
   ]
  },
  {
   "cell_type": "code",
   "execution_count": 22,
   "id": "3dab1d8c",
   "metadata": {},
   "outputs": [],
   "source": [
    "# Sélection des lignes ayant une target = 1 (crédit accordé)\n",
    "df_target0 = df_train[df_train[\"TARGET\"]==0]"
   ]
  },
  {
   "cell_type": "code",
   "execution_count": 23,
   "id": "5e1ef11b",
   "metadata": {},
   "outputs": [
    {
     "data": {
      "text/plain": [
       "24825"
      ]
     },
     "execution_count": 23,
     "metadata": {},
     "output_type": "execute_result"
    }
   ],
   "source": [
    "len(df_target1)"
   ]
  },
  {
   "cell_type": "code",
   "execution_count": 24,
   "id": "8e5f686a",
   "metadata": {},
   "outputs": [
    {
     "data": {
      "text/plain": [
       "282686"
      ]
     },
     "execution_count": 24,
     "metadata": {},
     "output_type": "execute_result"
    }
   ],
   "source": [
    "len(df_target0)"
   ]
  },
  {
   "cell_type": "markdown",
   "id": "a2995d19",
   "metadata": {},
   "source": [
    "On voit qu'il y a un gros déséquilibre entre les classes. Il y a une minorité de crédits refusés (target 1)."
   ]
  },
  {
   "cell_type": "code",
   "execution_count": 25,
   "id": "2aed77d0",
   "metadata": {},
   "outputs": [
    {
     "data": {
      "text/plain": [
       "REFUSED_AMT_DOWN_PAYMENT_MAX      0.92803\n",
       "REFUSED_AMT_DOWN_PAYMENT_MEAN     0.92803\n",
       "REFUSED_AMT_DOWN_PAYMENT_MIN      0.92803\n",
       "REFUSED_RATE_DOWN_PAYMENT_MEAN    0.92803\n",
       "REFUSED_RATE_DOWN_PAYMENT_MAX     0.92803\n",
       "                                   ...   \n",
       "ORGANIZATION_TYPE_Government      0.00000\n",
       "ORGANIZATION_TYPE_Emergency       0.00000\n",
       "ORGANIZATION_TYPE_Electricity     0.00000\n",
       "ORGANIZATION_TYPE_Culture         0.00000\n",
       "SK_ID_CURR                        0.00000\n",
       "Length: 797, dtype: float64"
      ]
     },
     "execution_count": 25,
     "metadata": {},
     "output_type": "execute_result"
    }
   ],
   "source": [
    "# Annalyse du pourcentage de valeurs manquantes\n",
    "na_df = (df_train.isnull().sum()/len(df_target0)).sort_values(ascending=False)\n",
    "na_df"
   ]
  },
  {
   "cell_type": "markdown",
   "id": "17a1271d",
   "metadata": {},
   "source": [
    "Certaines colonnes ont plus de 90% de valuers manquantes."
   ]
  },
  {
   "cell_type": "code",
   "execution_count": 26,
   "id": "5d159ea6",
   "metadata": {},
   "outputs": [
    {
     "data": {
      "text/plain": [
       "APPROVED_AMT_GOODS_PRICE_MEAN           0.065178\n",
       "APPROVED_AMT_GOODS_PRICE_MAX            0.065178\n",
       "APPROVED_AMT_GOODS_PRICE_MIN            0.065178\n",
       "POS_NAME_CONTRACT_STATUS_Active_MEAN    0.063912\n",
       "POS_SK_DPD_DEF_MEAN                     0.063912\n",
       "                                          ...   \n",
       "ORGANIZATION_TYPE_Government            0.000000\n",
       "ORGANIZATION_TYPE_Emergency             0.000000\n",
       "ORGANIZATION_TYPE_Electricity           0.000000\n",
       "ORGANIZATION_TYPE_Culture               0.000000\n",
       "SK_ID_CURR                              0.000000\n",
       "Length: 442, dtype: float64"
      ]
     },
     "execution_count": 26,
     "metadata": {},
     "output_type": "execute_result"
    }
   ],
   "source": [
    "# Liste des variables ayant moins de 10% de valeurs manquantes\n",
    "na_df[na_df<0.1]"
   ]
  },
  {
   "cell_type": "code",
   "execution_count": null,
   "id": "0a726005",
   "metadata": {},
   "outputs": [],
   "source": []
  }
 ],
 "metadata": {
  "kernelspec": {
   "display_name": "Python 3 (ipykernel)",
   "language": "python",
   "name": "python3"
  },
  "language_info": {
   "codemirror_mode": {
    "name": "ipython",
    "version": 3
   },
   "file_extension": ".py",
   "mimetype": "text/x-python",
   "name": "python",
   "nbconvert_exporter": "python",
   "pygments_lexer": "ipython3",
   "version": "3.9.12"
  }
 },
 "nbformat": 4,
 "nbformat_minor": 5
}
