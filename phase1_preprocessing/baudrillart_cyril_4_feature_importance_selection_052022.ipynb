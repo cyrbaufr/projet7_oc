{
 "cells": [
  {
   "cell_type": "markdown",
   "id": "55f92077",
   "metadata": {},
   "source": [
    "# Recherche des features importantes"
   ]
  },
  {
   "cell_type": "markdown",
   "id": "f74e64cf",
   "metadata": {},
   "source": [
    "# Chargement des librairies"
   ]
  },
  {
   "cell_type": "code",
   "execution_count": 1,
   "id": "f2fc2bac",
   "metadata": {},
   "outputs": [],
   "source": [
    "import pandas as pd\n",
    "import numpy as np\n",
    "import  matplotlib.pyplot as plt\n",
    "from collections import Counter\n",
    "\n",
    "from sklearn.model_selection import train_test_split\n",
    "from sklearn.feature_selection import VarianceThreshold"
   ]
  },
  {
   "cell_type": "markdown",
   "id": "70c8840d",
   "metadata": {},
   "source": [
    "# Chargement du dataset"
   ]
  },
  {
   "cell_type": "code",
   "execution_count": 2,
   "id": "41ddf1d5",
   "metadata": {},
   "outputs": [],
   "source": [
    "# X = pd.read_csv('../credit_train.csv', nrows=150000, index_col=0)\n",
    "# Lecture du fichier par lot afin d'éviter les crashes\n",
    "TextFileReader = pd.read_csv('../data_models/credit_train.csv',\n",
    "                             chunksize=10000,\n",
    "                             nrows=None,\n",
    "                             index_col=0)"
   ]
  },
  {
   "cell_type": "code",
   "execution_count": 3,
   "id": "5e1a4f04",
   "metadata": {},
   "outputs": [],
   "source": [
    "dfList = []\n",
    "for df in TextFileReader:\n",
    "    dfList.append(df)\n",
    "\n",
    "X = pd.concat(dfList,sort=False)"
   ]
  },
  {
   "cell_type": "code",
   "execution_count": 4,
   "id": "b031d2ae",
   "metadata": {},
   "outputs": [],
   "source": [
    "# Il faut remplacer les valeurs infinies par nan, autrement XGBoost plante\n",
    "X = X.replace(np.inf, np.nan)"
   ]
  },
  {
   "cell_type": "code",
   "execution_count": 5,
   "id": "d336fcd7",
   "metadata": {},
   "outputs": [],
   "source": [
    "# Suppression des espaces dans le nom des features\n",
    "X.columns = X.columns.str.replace(' ', '_')"
   ]
  },
  {
   "cell_type": "code",
   "execution_count": 6,
   "id": "68cad177",
   "metadata": {},
   "outputs": [
    {
     "data": {
      "text/html": [
       "<div>\n",
       "<style scoped>\n",
       "    .dataframe tbody tr th:only-of-type {\n",
       "        vertical-align: middle;\n",
       "    }\n",
       "\n",
       "    .dataframe tbody tr th {\n",
       "        vertical-align: top;\n",
       "    }\n",
       "\n",
       "    .dataframe thead th {\n",
       "        text-align: right;\n",
       "    }\n",
       "</style>\n",
       "<table border=\"1\" class=\"dataframe\">\n",
       "  <thead>\n",
       "    <tr style=\"text-align: right;\">\n",
       "      <th></th>\n",
       "      <th>SK_ID_CURR</th>\n",
       "      <th>TARGET</th>\n",
       "      <th>CODE_GENDER</th>\n",
       "      <th>FLAG_OWN_CAR</th>\n",
       "      <th>FLAG_OWN_REALTY</th>\n",
       "      <th>CNT_CHILDREN</th>\n",
       "      <th>AMT_INCOME_TOTAL</th>\n",
       "      <th>AMT_CREDIT</th>\n",
       "      <th>AMT_ANNUITY</th>\n",
       "      <th>AMT_GOODS_PRICE</th>\n",
       "      <th>...</th>\n",
       "      <th>CC_NAME_CONTRACT_STATUS_Signed_MAX</th>\n",
       "      <th>CC_NAME_CONTRACT_STATUS_Signed_MEAN</th>\n",
       "      <th>CC_NAME_CONTRACT_STATUS_Signed_SUM</th>\n",
       "      <th>CC_NAME_CONTRACT_STATUS_Signed_VAR</th>\n",
       "      <th>CC_NAME_CONTRACT_STATUS_nan_MIN</th>\n",
       "      <th>CC_NAME_CONTRACT_STATUS_nan_MAX</th>\n",
       "      <th>CC_NAME_CONTRACT_STATUS_nan_MEAN</th>\n",
       "      <th>CC_NAME_CONTRACT_STATUS_nan_SUM</th>\n",
       "      <th>CC_NAME_CONTRACT_STATUS_nan_VAR</th>\n",
       "      <th>CC_COUNT</th>\n",
       "    </tr>\n",
       "  </thead>\n",
       "  <tbody>\n",
       "    <tr>\n",
       "      <th>0</th>\n",
       "      <td>100002</td>\n",
       "      <td>1.0</td>\n",
       "      <td>0</td>\n",
       "      <td>0</td>\n",
       "      <td>0</td>\n",
       "      <td>0</td>\n",
       "      <td>202500.0</td>\n",
       "      <td>406597.5</td>\n",
       "      <td>24700.5</td>\n",
       "      <td>351000.0</td>\n",
       "      <td>...</td>\n",
       "      <td>NaN</td>\n",
       "      <td>NaN</td>\n",
       "      <td>NaN</td>\n",
       "      <td>NaN</td>\n",
       "      <td>NaN</td>\n",
       "      <td>NaN</td>\n",
       "      <td>NaN</td>\n",
       "      <td>NaN</td>\n",
       "      <td>NaN</td>\n",
       "      <td>NaN</td>\n",
       "    </tr>\n",
       "    <tr>\n",
       "      <th>1</th>\n",
       "      <td>100003</td>\n",
       "      <td>0.0</td>\n",
       "      <td>1</td>\n",
       "      <td>0</td>\n",
       "      <td>1</td>\n",
       "      <td>0</td>\n",
       "      <td>270000.0</td>\n",
       "      <td>1293502.5</td>\n",
       "      <td>35698.5</td>\n",
       "      <td>1129500.0</td>\n",
       "      <td>...</td>\n",
       "      <td>NaN</td>\n",
       "      <td>NaN</td>\n",
       "      <td>NaN</td>\n",
       "      <td>NaN</td>\n",
       "      <td>NaN</td>\n",
       "      <td>NaN</td>\n",
       "      <td>NaN</td>\n",
       "      <td>NaN</td>\n",
       "      <td>NaN</td>\n",
       "      <td>NaN</td>\n",
       "    </tr>\n",
       "    <tr>\n",
       "      <th>2</th>\n",
       "      <td>100004</td>\n",
       "      <td>0.0</td>\n",
       "      <td>0</td>\n",
       "      <td>1</td>\n",
       "      <td>0</td>\n",
       "      <td>0</td>\n",
       "      <td>67500.0</td>\n",
       "      <td>135000.0</td>\n",
       "      <td>6750.0</td>\n",
       "      <td>135000.0</td>\n",
       "      <td>...</td>\n",
       "      <td>NaN</td>\n",
       "      <td>NaN</td>\n",
       "      <td>NaN</td>\n",
       "      <td>NaN</td>\n",
       "      <td>NaN</td>\n",
       "      <td>NaN</td>\n",
       "      <td>NaN</td>\n",
       "      <td>NaN</td>\n",
       "      <td>NaN</td>\n",
       "      <td>NaN</td>\n",
       "    </tr>\n",
       "    <tr>\n",
       "      <th>3</th>\n",
       "      <td>100006</td>\n",
       "      <td>0.0</td>\n",
       "      <td>1</td>\n",
       "      <td>0</td>\n",
       "      <td>0</td>\n",
       "      <td>0</td>\n",
       "      <td>135000.0</td>\n",
       "      <td>312682.5</td>\n",
       "      <td>29686.5</td>\n",
       "      <td>297000.0</td>\n",
       "      <td>...</td>\n",
       "      <td>0.0</td>\n",
       "      <td>0.0</td>\n",
       "      <td>0.0</td>\n",
       "      <td>0.0</td>\n",
       "      <td>0.0</td>\n",
       "      <td>0.0</td>\n",
       "      <td>0.0</td>\n",
       "      <td>0.0</td>\n",
       "      <td>0.0</td>\n",
       "      <td>6.0</td>\n",
       "    </tr>\n",
       "    <tr>\n",
       "      <th>4</th>\n",
       "      <td>100007</td>\n",
       "      <td>0.0</td>\n",
       "      <td>0</td>\n",
       "      <td>0</td>\n",
       "      <td>0</td>\n",
       "      <td>0</td>\n",
       "      <td>121500.0</td>\n",
       "      <td>513000.0</td>\n",
       "      <td>21865.5</td>\n",
       "      <td>513000.0</td>\n",
       "      <td>...</td>\n",
       "      <td>NaN</td>\n",
       "      <td>NaN</td>\n",
       "      <td>NaN</td>\n",
       "      <td>NaN</td>\n",
       "      <td>NaN</td>\n",
       "      <td>NaN</td>\n",
       "      <td>NaN</td>\n",
       "      <td>NaN</td>\n",
       "      <td>NaN</td>\n",
       "      <td>NaN</td>\n",
       "    </tr>\n",
       "  </tbody>\n",
       "</table>\n",
       "<p>5 rows × 797 columns</p>\n",
       "</div>"
      ],
      "text/plain": [
       "   SK_ID_CURR  TARGET  CODE_GENDER  FLAG_OWN_CAR  FLAG_OWN_REALTY  \\\n",
       "0      100002     1.0            0             0                0   \n",
       "1      100003     0.0            1             0                1   \n",
       "2      100004     0.0            0             1                0   \n",
       "3      100006     0.0            1             0                0   \n",
       "4      100007     0.0            0             0                0   \n",
       "\n",
       "   CNT_CHILDREN  AMT_INCOME_TOTAL  AMT_CREDIT  AMT_ANNUITY  AMT_GOODS_PRICE  \\\n",
       "0             0          202500.0    406597.5      24700.5         351000.0   \n",
       "1             0          270000.0   1293502.5      35698.5        1129500.0   \n",
       "2             0           67500.0    135000.0       6750.0         135000.0   \n",
       "3             0          135000.0    312682.5      29686.5         297000.0   \n",
       "4             0          121500.0    513000.0      21865.5         513000.0   \n",
       "\n",
       "   ...  CC_NAME_CONTRACT_STATUS_Signed_MAX  \\\n",
       "0  ...                                 NaN   \n",
       "1  ...                                 NaN   \n",
       "2  ...                                 NaN   \n",
       "3  ...                                 0.0   \n",
       "4  ...                                 NaN   \n",
       "\n",
       "   CC_NAME_CONTRACT_STATUS_Signed_MEAN  CC_NAME_CONTRACT_STATUS_Signed_SUM  \\\n",
       "0                                  NaN                                 NaN   \n",
       "1                                  NaN                                 NaN   \n",
       "2                                  NaN                                 NaN   \n",
       "3                                  0.0                                 0.0   \n",
       "4                                  NaN                                 NaN   \n",
       "\n",
       "   CC_NAME_CONTRACT_STATUS_Signed_VAR  CC_NAME_CONTRACT_STATUS_nan_MIN  \\\n",
       "0                                 NaN                              NaN   \n",
       "1                                 NaN                              NaN   \n",
       "2                                 NaN                              NaN   \n",
       "3                                 0.0                              0.0   \n",
       "4                                 NaN                              NaN   \n",
       "\n",
       "   CC_NAME_CONTRACT_STATUS_nan_MAX  CC_NAME_CONTRACT_STATUS_nan_MEAN  \\\n",
       "0                              NaN                               NaN   \n",
       "1                              NaN                               NaN   \n",
       "2                              NaN                               NaN   \n",
       "3                              0.0                               0.0   \n",
       "4                              NaN                               NaN   \n",
       "\n",
       "   CC_NAME_CONTRACT_STATUS_nan_SUM  CC_NAME_CONTRACT_STATUS_nan_VAR  CC_COUNT  \n",
       "0                              NaN                              NaN       NaN  \n",
       "1                              NaN                              NaN       NaN  \n",
       "2                              NaN                              NaN       NaN  \n",
       "3                              0.0                              0.0       6.0  \n",
       "4                              NaN                              NaN       NaN  \n",
       "\n",
       "[5 rows x 797 columns]"
      ]
     },
     "execution_count": 6,
     "metadata": {},
     "output_type": "execute_result"
    }
   ],
   "source": [
    "X.head()"
   ]
  },
  {
   "cell_type": "code",
   "execution_count": 7,
   "id": "258466a6",
   "metadata": {},
   "outputs": [
    {
     "data": {
      "text/plain": [
       "(307511, 797)"
      ]
     },
     "execution_count": 7,
     "metadata": {},
     "output_type": "execute_result"
    }
   ],
   "source": [
    "X.shape"
   ]
  },
  {
   "cell_type": "code",
   "execution_count": 8,
   "id": "6f1ee47f",
   "metadata": {},
   "outputs": [],
   "source": [
    "# Création de la target\n",
    "y = X['TARGET']"
   ]
  },
  {
   "cell_type": "code",
   "execution_count": 9,
   "id": "68971cb4",
   "metadata": {},
   "outputs": [],
   "source": [
    "# Suppression de la target de la matrice X\n",
    "X = X.drop(columns='TARGET')"
   ]
  },
  {
   "cell_type": "code",
   "execution_count": 10,
   "id": "6176f172",
   "metadata": {},
   "outputs": [
    {
     "data": {
      "text/html": [
       "<div>\n",
       "<style scoped>\n",
       "    .dataframe tbody tr th:only-of-type {\n",
       "        vertical-align: middle;\n",
       "    }\n",
       "\n",
       "    .dataframe tbody tr th {\n",
       "        vertical-align: top;\n",
       "    }\n",
       "\n",
       "    .dataframe thead th {\n",
       "        text-align: right;\n",
       "    }\n",
       "</style>\n",
       "<table border=\"1\" class=\"dataframe\">\n",
       "  <thead>\n",
       "    <tr style=\"text-align: right;\">\n",
       "      <th></th>\n",
       "      <th>SK_ID_CURR</th>\n",
       "      <th>CODE_GENDER</th>\n",
       "      <th>FLAG_OWN_CAR</th>\n",
       "      <th>FLAG_OWN_REALTY</th>\n",
       "      <th>CNT_CHILDREN</th>\n",
       "      <th>AMT_INCOME_TOTAL</th>\n",
       "      <th>AMT_CREDIT</th>\n",
       "      <th>AMT_ANNUITY</th>\n",
       "      <th>AMT_GOODS_PRICE</th>\n",
       "      <th>REGION_POPULATION_RELATIVE</th>\n",
       "      <th>...</th>\n",
       "      <th>CC_NAME_CONTRACT_STATUS_Signed_MAX</th>\n",
       "      <th>CC_NAME_CONTRACT_STATUS_Signed_MEAN</th>\n",
       "      <th>CC_NAME_CONTRACT_STATUS_Signed_SUM</th>\n",
       "      <th>CC_NAME_CONTRACT_STATUS_Signed_VAR</th>\n",
       "      <th>CC_NAME_CONTRACT_STATUS_nan_MIN</th>\n",
       "      <th>CC_NAME_CONTRACT_STATUS_nan_MAX</th>\n",
       "      <th>CC_NAME_CONTRACT_STATUS_nan_MEAN</th>\n",
       "      <th>CC_NAME_CONTRACT_STATUS_nan_SUM</th>\n",
       "      <th>CC_NAME_CONTRACT_STATUS_nan_VAR</th>\n",
       "      <th>CC_COUNT</th>\n",
       "    </tr>\n",
       "  </thead>\n",
       "  <tbody>\n",
       "    <tr>\n",
       "      <th>0</th>\n",
       "      <td>100002</td>\n",
       "      <td>0</td>\n",
       "      <td>0</td>\n",
       "      <td>0</td>\n",
       "      <td>0</td>\n",
       "      <td>202500.0</td>\n",
       "      <td>406597.5</td>\n",
       "      <td>24700.5</td>\n",
       "      <td>351000.0</td>\n",
       "      <td>0.018801</td>\n",
       "      <td>...</td>\n",
       "      <td>NaN</td>\n",
       "      <td>NaN</td>\n",
       "      <td>NaN</td>\n",
       "      <td>NaN</td>\n",
       "      <td>NaN</td>\n",
       "      <td>NaN</td>\n",
       "      <td>NaN</td>\n",
       "      <td>NaN</td>\n",
       "      <td>NaN</td>\n",
       "      <td>NaN</td>\n",
       "    </tr>\n",
       "    <tr>\n",
       "      <th>1</th>\n",
       "      <td>100003</td>\n",
       "      <td>1</td>\n",
       "      <td>0</td>\n",
       "      <td>1</td>\n",
       "      <td>0</td>\n",
       "      <td>270000.0</td>\n",
       "      <td>1293502.5</td>\n",
       "      <td>35698.5</td>\n",
       "      <td>1129500.0</td>\n",
       "      <td>0.003541</td>\n",
       "      <td>...</td>\n",
       "      <td>NaN</td>\n",
       "      <td>NaN</td>\n",
       "      <td>NaN</td>\n",
       "      <td>NaN</td>\n",
       "      <td>NaN</td>\n",
       "      <td>NaN</td>\n",
       "      <td>NaN</td>\n",
       "      <td>NaN</td>\n",
       "      <td>NaN</td>\n",
       "      <td>NaN</td>\n",
       "    </tr>\n",
       "    <tr>\n",
       "      <th>2</th>\n",
       "      <td>100004</td>\n",
       "      <td>0</td>\n",
       "      <td>1</td>\n",
       "      <td>0</td>\n",
       "      <td>0</td>\n",
       "      <td>67500.0</td>\n",
       "      <td>135000.0</td>\n",
       "      <td>6750.0</td>\n",
       "      <td>135000.0</td>\n",
       "      <td>0.010032</td>\n",
       "      <td>...</td>\n",
       "      <td>NaN</td>\n",
       "      <td>NaN</td>\n",
       "      <td>NaN</td>\n",
       "      <td>NaN</td>\n",
       "      <td>NaN</td>\n",
       "      <td>NaN</td>\n",
       "      <td>NaN</td>\n",
       "      <td>NaN</td>\n",
       "      <td>NaN</td>\n",
       "      <td>NaN</td>\n",
       "    </tr>\n",
       "    <tr>\n",
       "      <th>3</th>\n",
       "      <td>100006</td>\n",
       "      <td>1</td>\n",
       "      <td>0</td>\n",
       "      <td>0</td>\n",
       "      <td>0</td>\n",
       "      <td>135000.0</td>\n",
       "      <td>312682.5</td>\n",
       "      <td>29686.5</td>\n",
       "      <td>297000.0</td>\n",
       "      <td>0.008019</td>\n",
       "      <td>...</td>\n",
       "      <td>0.0</td>\n",
       "      <td>0.0</td>\n",
       "      <td>0.0</td>\n",
       "      <td>0.0</td>\n",
       "      <td>0.0</td>\n",
       "      <td>0.0</td>\n",
       "      <td>0.0</td>\n",
       "      <td>0.0</td>\n",
       "      <td>0.0</td>\n",
       "      <td>6.0</td>\n",
       "    </tr>\n",
       "    <tr>\n",
       "      <th>4</th>\n",
       "      <td>100007</td>\n",
       "      <td>0</td>\n",
       "      <td>0</td>\n",
       "      <td>0</td>\n",
       "      <td>0</td>\n",
       "      <td>121500.0</td>\n",
       "      <td>513000.0</td>\n",
       "      <td>21865.5</td>\n",
       "      <td>513000.0</td>\n",
       "      <td>0.028663</td>\n",
       "      <td>...</td>\n",
       "      <td>NaN</td>\n",
       "      <td>NaN</td>\n",
       "      <td>NaN</td>\n",
       "      <td>NaN</td>\n",
       "      <td>NaN</td>\n",
       "      <td>NaN</td>\n",
       "      <td>NaN</td>\n",
       "      <td>NaN</td>\n",
       "      <td>NaN</td>\n",
       "      <td>NaN</td>\n",
       "    </tr>\n",
       "  </tbody>\n",
       "</table>\n",
       "<p>5 rows × 796 columns</p>\n",
       "</div>"
      ],
      "text/plain": [
       "   SK_ID_CURR  CODE_GENDER  FLAG_OWN_CAR  FLAG_OWN_REALTY  CNT_CHILDREN  \\\n",
       "0      100002            0             0                0             0   \n",
       "1      100003            1             0                1             0   \n",
       "2      100004            0             1                0             0   \n",
       "3      100006            1             0                0             0   \n",
       "4      100007            0             0                0             0   \n",
       "\n",
       "   AMT_INCOME_TOTAL  AMT_CREDIT  AMT_ANNUITY  AMT_GOODS_PRICE  \\\n",
       "0          202500.0    406597.5      24700.5         351000.0   \n",
       "1          270000.0   1293502.5      35698.5        1129500.0   \n",
       "2           67500.0    135000.0       6750.0         135000.0   \n",
       "3          135000.0    312682.5      29686.5         297000.0   \n",
       "4          121500.0    513000.0      21865.5         513000.0   \n",
       "\n",
       "   REGION_POPULATION_RELATIVE  ...  CC_NAME_CONTRACT_STATUS_Signed_MAX  \\\n",
       "0                    0.018801  ...                                 NaN   \n",
       "1                    0.003541  ...                                 NaN   \n",
       "2                    0.010032  ...                                 NaN   \n",
       "3                    0.008019  ...                                 0.0   \n",
       "4                    0.028663  ...                                 NaN   \n",
       "\n",
       "   CC_NAME_CONTRACT_STATUS_Signed_MEAN  CC_NAME_CONTRACT_STATUS_Signed_SUM  \\\n",
       "0                                  NaN                                 NaN   \n",
       "1                                  NaN                                 NaN   \n",
       "2                                  NaN                                 NaN   \n",
       "3                                  0.0                                 0.0   \n",
       "4                                  NaN                                 NaN   \n",
       "\n",
       "   CC_NAME_CONTRACT_STATUS_Signed_VAR  CC_NAME_CONTRACT_STATUS_nan_MIN  \\\n",
       "0                                 NaN                              NaN   \n",
       "1                                 NaN                              NaN   \n",
       "2                                 NaN                              NaN   \n",
       "3                                 0.0                              0.0   \n",
       "4                                 NaN                              NaN   \n",
       "\n",
       "   CC_NAME_CONTRACT_STATUS_nan_MAX  CC_NAME_CONTRACT_STATUS_nan_MEAN  \\\n",
       "0                              NaN                               NaN   \n",
       "1                              NaN                               NaN   \n",
       "2                              NaN                               NaN   \n",
       "3                              0.0                               0.0   \n",
       "4                              NaN                               NaN   \n",
       "\n",
       "   CC_NAME_CONTRACT_STATUS_nan_SUM  CC_NAME_CONTRACT_STATUS_nan_VAR  CC_COUNT  \n",
       "0                              NaN                              NaN       NaN  \n",
       "1                              NaN                              NaN       NaN  \n",
       "2                              NaN                              NaN       NaN  \n",
       "3                              0.0                              0.0       6.0  \n",
       "4                              NaN                              NaN       NaN  \n",
       "\n",
       "[5 rows x 796 columns]"
      ]
     },
     "execution_count": 10,
     "metadata": {},
     "output_type": "execute_result"
    }
   ],
   "source": [
    "X.head()"
   ]
  },
  {
   "cell_type": "markdown",
   "id": "073e6033",
   "metadata": {},
   "source": [
    "# Préparation des données"
   ]
  },
  {
   "cell_type": "markdown",
   "id": "30b6651f",
   "metadata": {},
   "source": [
    "## Suppression des variables peu renseignées"
   ]
  },
  {
   "cell_type": "markdown",
   "id": "2a316bb3",
   "metadata": {},
   "source": [
    "Un module utile  \n",
    "https://github.com/WillKoehrsen/feature-selector/blob/master/feature_selector/feature_selector.py"
   ]
  },
  {
   "cell_type": "markdown",
   "id": "383ff1f1",
   "metadata": {},
   "source": [
    "### Suppression des variables ayant plus de 50% de valeurs manquantes"
   ]
  },
  {
   "cell_type": "code",
   "execution_count": 11,
   "id": "50bbebb4",
   "metadata": {},
   "outputs": [],
   "source": [
    "# pct de valeurs manquantes\n",
    "percent_missing = X.isnull().sum() * 100 / len(X)"
   ]
  },
  {
   "cell_type": "code",
   "execution_count": 12,
   "id": "4f2b0097",
   "metadata": {},
   "outputs": [
    {
     "data": {
      "text/html": [
       "<div>\n",
       "<style scoped>\n",
       "    .dataframe tbody tr th:only-of-type {\n",
       "        vertical-align: middle;\n",
       "    }\n",
       "\n",
       "    .dataframe tbody tr th {\n",
       "        vertical-align: top;\n",
       "    }\n",
       "\n",
       "    .dataframe thead th {\n",
       "        text-align: right;\n",
       "    }\n",
       "</style>\n",
       "<table border=\"1\" class=\"dataframe\">\n",
       "  <thead>\n",
       "    <tr style=\"text-align: right;\">\n",
       "      <th></th>\n",
       "      <th>percent_missing</th>\n",
       "    </tr>\n",
       "  </thead>\n",
       "  <tbody>\n",
       "    <tr>\n",
       "      <th>REFUSED_AMT_DOWN_PAYMENT_MIN</th>\n",
       "      <td>85.311095</td>\n",
       "    </tr>\n",
       "    <tr>\n",
       "      <th>REFUSED_RATE_DOWN_PAYMENT_MAX</th>\n",
       "      <td>85.311095</td>\n",
       "    </tr>\n",
       "    <tr>\n",
       "      <th>REFUSED_AMT_DOWN_PAYMENT_MAX</th>\n",
       "      <td>85.311095</td>\n",
       "    </tr>\n",
       "    <tr>\n",
       "      <th>REFUSED_RATE_DOWN_PAYMENT_MIN</th>\n",
       "      <td>85.311095</td>\n",
       "    </tr>\n",
       "    <tr>\n",
       "      <th>REFUSED_AMT_DOWN_PAYMENT_MEAN</th>\n",
       "      <td>85.311095</td>\n",
       "    </tr>\n",
       "  </tbody>\n",
       "</table>\n",
       "</div>"
      ],
      "text/plain": [
       "                               percent_missing\n",
       "REFUSED_AMT_DOWN_PAYMENT_MIN         85.311095\n",
       "REFUSED_RATE_DOWN_PAYMENT_MAX        85.311095\n",
       "REFUSED_AMT_DOWN_PAYMENT_MAX         85.311095\n",
       "REFUSED_RATE_DOWN_PAYMENT_MIN        85.311095\n",
       "REFUSED_AMT_DOWN_PAYMENT_MEAN        85.311095"
      ]
     },
     "execution_count": 12,
     "metadata": {},
     "output_type": "execute_result"
    }
   ],
   "source": [
    "# Tri par ordre décroissant du pct de valeurs manquantes\n",
    "missing_value_X = pd.DataFrame({'percent_missing': percent_missing})\n",
    "\n",
    "missing_value_X.sort_values('percent_missing', inplace=True, ascending=False)\n",
    "missing_value_X.head()"
   ]
  },
  {
   "cell_type": "code",
   "execution_count": 13,
   "id": "257a45f1",
   "metadata": {},
   "outputs": [],
   "source": [
    "# Effacer les colonnes avec plus de 50% de valeurs manquantes\n",
    "col_low_missing = missing_value_X[missing_value_X.percent_missing>50].index"
   ]
  },
  {
   "cell_type": "code",
   "execution_count": 14,
   "id": "75c62284",
   "metadata": {},
   "outputs": [
    {
     "data": {
      "text/plain": [
       "Index(['REFUSED_AMT_DOWN_PAYMENT_MIN', 'REFUSED_RATE_DOWN_PAYMENT_MAX',\n",
       "       'REFUSED_AMT_DOWN_PAYMENT_MAX', 'REFUSED_RATE_DOWN_PAYMENT_MIN',\n",
       "       'REFUSED_AMT_DOWN_PAYMENT_MEAN', 'REFUSED_RATE_DOWN_PAYMENT_MEAN',\n",
       "       'REFUSED_APP_CREDIT_PERC_VAR', 'CC_AMT_PAYMENT_CURRENT_VAR',\n",
       "       'CC_CNT_DRAWINGS_POS_CURRENT_VAR', 'CC_AMT_DRAWINGS_OTHER_CURRENT_VAR',\n",
       "       ...\n",
       "       'CLOSED_AMT_CREDIT_MAX_OVERDUE_MEAN', 'APARTMENTS_MEDI',\n",
       "       'APARTMENTS_MODE', 'APARTMENTS_AVG', 'ENTRANCES_AVG', 'ENTRANCES_MODE',\n",
       "       'ENTRANCES_MEDI', 'LIVINGAREA_AVG', 'LIVINGAREA_MODE',\n",
       "       'LIVINGAREA_MEDI'],\n",
       "      dtype='object', length=236)"
      ]
     },
     "execution_count": 14,
     "metadata": {},
     "output_type": "execute_result"
    }
   ],
   "source": [
    "# Nom des colonnes à supprimer\n",
    "col_low_missing"
   ]
  },
  {
   "cell_type": "code",
   "execution_count": 15,
   "id": "d00eee97",
   "metadata": {
    "scrolled": true
   },
   "outputs": [],
   "source": [
    "# Suppression de ces colonnes\n",
    "X = X.drop(columns=col_low_missing)"
   ]
  },
  {
   "cell_type": "code",
   "execution_count": 16,
   "id": "779e5e77",
   "metadata": {},
   "outputs": [
    {
     "data": {
      "text/plain": [
       "(307511, 560)"
      ]
     },
     "execution_count": 16,
     "metadata": {},
     "output_type": "execute_result"
    }
   ],
   "source": [
    "X.shape"
   ]
  },
  {
   "cell_type": "code",
   "execution_count": 17,
   "id": "7b7d8bb3",
   "metadata": {},
   "outputs": [
    {
     "data": {
      "text/plain": [
       "Index(['SK_ID_CURR', 'CODE_GENDER', 'FLAG_OWN_CAR', 'FLAG_OWN_REALTY',\n",
       "       'CNT_CHILDREN', 'AMT_INCOME_TOTAL', 'AMT_CREDIT', 'AMT_ANNUITY',\n",
       "       'AMT_GOODS_PRICE', 'REGION_POPULATION_RELATIVE',\n",
       "       ...\n",
       "       'INSTAL_AMT_INSTALMENT_MEAN', 'INSTAL_AMT_INSTALMENT_SUM',\n",
       "       'INSTAL_AMT_PAYMENT_MIN', 'INSTAL_AMT_PAYMENT_MAX',\n",
       "       'INSTAL_AMT_PAYMENT_MEAN', 'INSTAL_AMT_PAYMENT_SUM',\n",
       "       'INSTAL_DAYS_ENTRY_PAYMENT_MAX', 'INSTAL_DAYS_ENTRY_PAYMENT_MEAN',\n",
       "       'INSTAL_DAYS_ENTRY_PAYMENT_SUM', 'INSTAL_COUNT'],\n",
       "      dtype='object', length=560)"
      ]
     },
     "execution_count": 17,
     "metadata": {},
     "output_type": "execute_result"
    }
   ],
   "source": [
    "X.columns"
   ]
  },
  {
   "cell_type": "markdown",
   "id": "93b07fa0",
   "metadata": {},
   "source": [
    "## Utilisation des méthodes de filtre"
   ]
  },
  {
   "cell_type": "markdown",
   "id": "428d35f2",
   "metadata": {},
   "source": [
    "### Suppression des features trop corrélées"
   ]
  },
  {
   "cell_type": "markdown",
   "id": "7306744c",
   "metadata": {},
   "source": [
    "Dans un modèle de Machine Learning, il est recommandé d'utiliser des variables faiblement corrélées. On va donc supprimer les variables dont la valuer absolue du coefficient de corrélation de Pearson est supérieur à 0.5."
   ]
  },
  {
   "cell_type": "code",
   "execution_count": 18,
   "id": "b9319aa0",
   "metadata": {},
   "outputs": [],
   "source": [
    "# Create correlation matrix\n",
    "corr_matrix = X.corr().abs()\n",
    "\n",
    "# Select upper triangle of correlation matrix\n",
    "upper = corr_matrix.where(np.triu(np.ones(corr_matrix.shape), k=1).astype(bool))\n",
    "\n",
    "# Find features with correlation greater than 0.5\n",
    "to_drop = [column for column in upper.columns if any(upper[column] > 0.5)]"
   ]
  },
  {
   "cell_type": "code",
   "execution_count": 19,
   "id": "7ca0f81b",
   "metadata": {},
   "outputs": [
    {
     "data": {
      "text/plain": [
       "['AMT_ANNUITY',\n",
       " 'AMT_GOODS_PRICE',\n",
       " 'FLAG_EMP_PHONE',\n",
       " 'CNT_FAM_MEMBERS',\n",
       " 'REGION_RATING_CLIENT',\n",
       " 'REGION_RATING_CLIENT_W_CITY',\n",
       " 'LIVE_REGION_NOT_WORK_REGION',\n",
       " 'LIVE_CITY_NOT_WORK_CITY',\n",
       " 'YEARS_BEGINEXPLUATATION_MODE',\n",
       " 'FLOORSMAX_MODE',\n",
       " 'YEARS_BEGINEXPLUATATION_MEDI',\n",
       " 'FLOORSMAX_MEDI',\n",
       " 'TOTALAREA_MODE',\n",
       " 'OBS_60_CNT_SOCIAL_CIRCLE',\n",
       " 'DEF_60_CNT_SOCIAL_CIRCLE',\n",
       " 'FLAG_DOCUMENT_6',\n",
       " 'NAME_CONTRACT_TYPE_Revolving_loans',\n",
       " 'NAME_TYPE_SUITE_Unaccompanied',\n",
       " 'NAME_INCOME_TYPE_Pensioner',\n",
       " 'NAME_INCOME_TYPE_Working',\n",
       " 'NAME_EDUCATION_TYPE_Secondary_/_secondary_special',\n",
       " 'NAME_FAMILY_STATUS_Married',\n",
       " 'NAME_FAMILY_STATUS_Single_/_not_married',\n",
       " 'NAME_HOUSING_TYPE_Municipal_apartment',\n",
       " 'NAME_HOUSING_TYPE_With_parents',\n",
       " 'ORGANIZATION_TYPE_Medicine',\n",
       " 'ORGANIZATION_TYPE_Security',\n",
       " 'ORGANIZATION_TYPE_XNA',\n",
       " 'HOUSETYPE_MODE_block_of_flats',\n",
       " 'WALLSMATERIAL_MODE_Panel',\n",
       " 'EMERGENCYSTATE_MODE_No',\n",
       " 'DAYS_EMPLOYED_PERC',\n",
       " 'INCOME_CREDIT_PERC',\n",
       " 'INCOME_PER_PERSON',\n",
       " 'PAYMENT_RATE',\n",
       " 'BURO_DAYS_CREDIT_MEAN',\n",
       " 'BURO_DAYS_CREDIT_VAR',\n",
       " 'BURO_DAYS_CREDIT_ENDDATE_MEAN',\n",
       " 'BURO_DAYS_CREDIT_UPDATE_MEAN',\n",
       " 'BURO_CREDIT_DAY_OVERDUE_MEAN',\n",
       " 'BURO_AMT_CREDIT_SUM_MEAN',\n",
       " 'BURO_AMT_CREDIT_SUM_SUM',\n",
       " 'BURO_AMT_CREDIT_SUM_DEBT_MAX',\n",
       " 'BURO_AMT_CREDIT_SUM_DEBT_MEAN',\n",
       " 'BURO_AMT_CREDIT_SUM_DEBT_SUM',\n",
       " 'BURO_AMT_CREDIT_SUM_LIMIT_SUM',\n",
       " 'BURO_CREDIT_ACTIVE_Active_MEAN',\n",
       " 'BURO_CREDIT_ACTIVE_Closed_MEAN',\n",
       " 'BURO_CREDIT_CURRENCY_currency_2_MEAN',\n",
       " 'BURO_CREDIT_TYPE_Credit_card_MEAN',\n",
       " 'BURO_CREDIT_TYPE_Mortgage_MEAN',\n",
       " 'ACTIVE_DAYS_CREDIT_MIN',\n",
       " 'ACTIVE_DAYS_CREDIT_MAX',\n",
       " 'ACTIVE_DAYS_CREDIT_MEAN',\n",
       " 'ACTIVE_DAYS_CREDIT_ENDDATE_MIN',\n",
       " 'ACTIVE_DAYS_CREDIT_ENDDATE_MAX',\n",
       " 'ACTIVE_DAYS_CREDIT_ENDDATE_MEAN',\n",
       " 'ACTIVE_CREDIT_DAY_OVERDUE_MAX',\n",
       " 'ACTIVE_CREDIT_DAY_OVERDUE_MEAN',\n",
       " 'ACTIVE_AMT_CREDIT_SUM_MAX',\n",
       " 'ACTIVE_AMT_CREDIT_SUM_MEAN',\n",
       " 'ACTIVE_AMT_CREDIT_SUM_SUM',\n",
       " 'ACTIVE_AMT_CREDIT_SUM_DEBT_MAX',\n",
       " 'ACTIVE_AMT_CREDIT_SUM_DEBT_MEAN',\n",
       " 'ACTIVE_AMT_CREDIT_SUM_DEBT_SUM',\n",
       " 'ACTIVE_AMT_CREDIT_SUM_OVERDUE_MEAN',\n",
       " 'ACTIVE_AMT_CREDIT_SUM_LIMIT_MEAN',\n",
       " 'ACTIVE_AMT_CREDIT_SUM_LIMIT_SUM',\n",
       " 'ACTIVE_CNT_CREDIT_PROLONG_SUM',\n",
       " 'ACTIVE_MONTHS_BALANCE_SIZE_SUM',\n",
       " 'CLOSED_DAYS_CREDIT_MIN',\n",
       " 'CLOSED_DAYS_CREDIT_MAX',\n",
       " 'CLOSED_DAYS_CREDIT_MEAN',\n",
       " 'CLOSED_DAYS_CREDIT_VAR',\n",
       " 'CLOSED_DAYS_CREDIT_ENDDATE_MIN',\n",
       " 'CLOSED_DAYS_CREDIT_ENDDATE_MEAN',\n",
       " 'CLOSED_DAYS_CREDIT_UPDATE_MEAN',\n",
       " 'CLOSED_CREDIT_DAY_OVERDUE_MEAN',\n",
       " 'CLOSED_AMT_CREDIT_SUM_MAX',\n",
       " 'CLOSED_AMT_CREDIT_SUM_MEAN',\n",
       " 'CLOSED_AMT_CREDIT_SUM_SUM',\n",
       " 'CLOSED_AMT_CREDIT_SUM_DEBT_MEAN',\n",
       " 'CLOSED_AMT_CREDIT_SUM_DEBT_SUM',\n",
       " 'CLOSED_AMT_CREDIT_SUM_LIMIT_SUM',\n",
       " 'CLOSED_CNT_CREDIT_PROLONG_SUM',\n",
       " 'CLOSED_MONTHS_BALANCE_SIZE_SUM',\n",
       " 'PREV_AMT_ANNUITY_MEAN',\n",
       " 'PREV_AMT_APPLICATION_MIN',\n",
       " 'PREV_AMT_APPLICATION_MAX',\n",
       " 'PREV_AMT_APPLICATION_MEAN',\n",
       " 'PREV_AMT_CREDIT_MIN',\n",
       " 'PREV_AMT_CREDIT_MAX',\n",
       " 'PREV_AMT_CREDIT_MEAN',\n",
       " 'PREV_APP_CREDIT_PERC_MEAN',\n",
       " 'PREV_APP_CREDIT_PERC_VAR',\n",
       " 'PREV_AMT_DOWN_PAYMENT_MAX',\n",
       " 'PREV_AMT_DOWN_PAYMENT_MEAN',\n",
       " 'PREV_AMT_GOODS_PRICE_MIN',\n",
       " 'PREV_AMT_GOODS_PRICE_MAX',\n",
       " 'PREV_AMT_GOODS_PRICE_MEAN',\n",
       " 'PREV_HOUR_APPR_PROCESS_START_MAX',\n",
       " 'PREV_HOUR_APPR_PROCESS_START_MEAN',\n",
       " 'PREV_RATE_DOWN_PAYMENT_MIN',\n",
       " 'PREV_RATE_DOWN_PAYMENT_MAX',\n",
       " 'PREV_RATE_DOWN_PAYMENT_MEAN',\n",
       " 'PREV_DAYS_DECISION_MEAN',\n",
       " 'PREV_CNT_PAYMENT_MEAN',\n",
       " 'PREV_CNT_PAYMENT_SUM',\n",
       " 'PREV_NAME_CONTRACT_TYPE_Cash_loans_MEAN',\n",
       " 'PREV_NAME_CONTRACT_TYPE_Consumer_loans_MEAN',\n",
       " 'PREV_FLAG_LAST_APPL_PER_CONTRACT_Y_MEAN',\n",
       " 'PREV_NAME_CASH_LOAN_PURPOSE_XAP_MEAN',\n",
       " 'PREV_NAME_CASH_LOAN_PURPOSE_XNA_MEAN',\n",
       " 'PREV_NAME_CONTRACT_STATUS_Approved_MEAN',\n",
       " 'PREV_NAME_CONTRACT_STATUS_Canceled_MEAN',\n",
       " 'PREV_NAME_CONTRACT_STATUS_Refused_MEAN',\n",
       " 'PREV_NAME_PAYMENT_TYPE_Cash_through_the_bank_MEAN',\n",
       " 'PREV_NAME_PAYMENT_TYPE_XNA_MEAN',\n",
       " 'PREV_CODE_REJECT_REASON_CLIENT_MEAN',\n",
       " 'PREV_CODE_REJECT_REASON_HC_MEAN',\n",
       " 'PREV_CODE_REJECT_REASON_XAP_MEAN',\n",
       " 'PREV_NAME_TYPE_SUITE_nan_MEAN',\n",
       " 'PREV_NAME_CLIENT_TYPE_Repeater_MEAN',\n",
       " 'PREV_NAME_GOODS_CATEGORY_XNA_MEAN',\n",
       " 'PREV_NAME_PORTFOLIO_Cards_MEAN',\n",
       " 'PREV_NAME_PORTFOLIO_Cash_MEAN',\n",
       " 'PREV_NAME_PORTFOLIO_POS_MEAN',\n",
       " 'PREV_NAME_PORTFOLIO_XNA_MEAN',\n",
       " 'PREV_NAME_PRODUCT_TYPE_XNA_MEAN',\n",
       " 'PREV_NAME_PRODUCT_TYPE_walk-in_MEAN',\n",
       " 'PREV_NAME_PRODUCT_TYPE_x-sell_MEAN',\n",
       " 'PREV_CHANNEL_TYPE_Car_dealer_MEAN',\n",
       " 'PREV_CHANNEL_TYPE_Credit_and_cash_offices_MEAN',\n",
       " 'PREV_NAME_SELLER_INDUSTRY_Auto_technology_MEAN',\n",
       " 'PREV_NAME_SELLER_INDUSTRY_Clothing_MEAN',\n",
       " 'PREV_NAME_SELLER_INDUSTRY_Connectivity_MEAN',\n",
       " 'PREV_NAME_SELLER_INDUSTRY_Construction_MEAN',\n",
       " 'PREV_NAME_SELLER_INDUSTRY_Furniture_MEAN',\n",
       " 'PREV_NAME_SELLER_INDUSTRY_Jewelry_MEAN',\n",
       " 'PREV_NAME_SELLER_INDUSTRY_XNA_MEAN',\n",
       " 'PREV_NAME_YIELD_GROUP_XNA_MEAN',\n",
       " 'PREV_PRODUCT_COMBINATION_Card_Street_MEAN',\n",
       " 'PREV_PRODUCT_COMBINATION_Card_X-Sell_MEAN',\n",
       " 'PREV_PRODUCT_COMBINATION_Cash_MEAN',\n",
       " 'PREV_PRODUCT_COMBINATION_Cash_Street:_high_MEAN',\n",
       " 'PREV_PRODUCT_COMBINATION_Cash_X-Sell:_middle_MEAN',\n",
       " 'PREV_PRODUCT_COMBINATION_POS_household_with_interest_MEAN',\n",
       " 'PREV_PRODUCT_COMBINATION_POS_household_without_interest_MEAN',\n",
       " 'PREV_PRODUCT_COMBINATION_POS_industry_with_interest_MEAN',\n",
       " 'PREV_PRODUCT_COMBINATION_POS_mobile_with_interest_MEAN',\n",
       " 'PREV_PRODUCT_COMBINATION_nan_MEAN',\n",
       " 'APPROVED_AMT_ANNUITY_MIN',\n",
       " 'APPROVED_AMT_ANNUITY_MAX',\n",
       " 'APPROVED_AMT_ANNUITY_MEAN',\n",
       " 'APPROVED_AMT_APPLICATION_MIN',\n",
       " 'APPROVED_AMT_APPLICATION_MAX',\n",
       " 'APPROVED_AMT_APPLICATION_MEAN',\n",
       " 'APPROVED_AMT_CREDIT_MIN',\n",
       " 'APPROVED_AMT_CREDIT_MAX',\n",
       " 'APPROVED_AMT_CREDIT_MEAN',\n",
       " 'APPROVED_APP_CREDIT_PERC_MIN',\n",
       " 'APPROVED_APP_CREDIT_PERC_MAX',\n",
       " 'APPROVED_APP_CREDIT_PERC_MEAN',\n",
       " 'APPROVED_APP_CREDIT_PERC_VAR',\n",
       " 'APPROVED_AMT_DOWN_PAYMENT_MIN',\n",
       " 'APPROVED_AMT_DOWN_PAYMENT_MAX',\n",
       " 'APPROVED_AMT_DOWN_PAYMENT_MEAN',\n",
       " 'APPROVED_AMT_GOODS_PRICE_MIN',\n",
       " 'APPROVED_AMT_GOODS_PRICE_MAX',\n",
       " 'APPROVED_AMT_GOODS_PRICE_MEAN',\n",
       " 'APPROVED_HOUR_APPR_PROCESS_START_MIN',\n",
       " 'APPROVED_HOUR_APPR_PROCESS_START_MAX',\n",
       " 'APPROVED_HOUR_APPR_PROCESS_START_MEAN',\n",
       " 'APPROVED_RATE_DOWN_PAYMENT_MIN',\n",
       " 'APPROVED_RATE_DOWN_PAYMENT_MAX',\n",
       " 'APPROVED_RATE_DOWN_PAYMENT_MEAN',\n",
       " 'APPROVED_DAYS_DECISION_MIN',\n",
       " 'APPROVED_DAYS_DECISION_MAX',\n",
       " 'APPROVED_DAYS_DECISION_MEAN',\n",
       " 'APPROVED_CNT_PAYMENT_MEAN',\n",
       " 'APPROVED_CNT_PAYMENT_SUM',\n",
       " 'POS_MONTHS_BALANCE_MAX',\n",
       " 'POS_MONTHS_BALANCE_MEAN',\n",
       " 'POS_MONTHS_BALANCE_SIZE',\n",
       " 'POS_SK_DPD_MEAN',\n",
       " 'POS_SK_DPD_DEF_MEAN',\n",
       " 'POS_NAME_CONTRACT_STATUS_Completed_MEAN',\n",
       " 'POS_NAME_CONTRACT_STATUS_Demand_MEAN',\n",
       " 'POS_COUNT',\n",
       " 'INSTAL_DPD_MEAN',\n",
       " 'INSTAL_DPD_SUM',\n",
       " 'INSTAL_DBD_MEAN',\n",
       " 'INSTAL_DBD_SUM',\n",
       " 'INSTAL_PAYMENT_PERC_MEAN',\n",
       " 'INSTAL_PAYMENT_PERC_SUM',\n",
       " 'INSTAL_PAYMENT_PERC_VAR',\n",
       " 'INSTAL_PAYMENT_DIFF_SUM',\n",
       " 'INSTAL_PAYMENT_DIFF_VAR',\n",
       " 'INSTAL_AMT_INSTALMENT_MAX',\n",
       " 'INSTAL_AMT_INSTALMENT_MEAN',\n",
       " 'INSTAL_AMT_INSTALMENT_SUM',\n",
       " 'INSTAL_AMT_PAYMENT_MIN',\n",
       " 'INSTAL_AMT_PAYMENT_MAX',\n",
       " 'INSTAL_AMT_PAYMENT_MEAN',\n",
       " 'INSTAL_AMT_PAYMENT_SUM',\n",
       " 'INSTAL_DAYS_ENTRY_PAYMENT_MAX',\n",
       " 'INSTAL_DAYS_ENTRY_PAYMENT_MEAN',\n",
       " 'INSTAL_DAYS_ENTRY_PAYMENT_SUM',\n",
       " 'INSTAL_COUNT']"
      ]
     },
     "execution_count": 19,
     "metadata": {},
     "output_type": "execute_result"
    }
   ],
   "source": [
    "# Nom des colonnes à supprimer\n",
    "to_drop"
   ]
  },
  {
   "cell_type": "code",
   "execution_count": 20,
   "id": "a240dda7",
   "metadata": {},
   "outputs": [],
   "source": [
    "# Drop features \n",
    "X.drop(to_drop, axis=1, inplace=True)"
   ]
  },
  {
   "cell_type": "code",
   "execution_count": 21,
   "id": "6dd5c5d7",
   "metadata": {
    "scrolled": true
   },
   "outputs": [
    {
     "data": {
      "text/plain": [
       "(307511, 351)"
      ]
     },
     "execution_count": 21,
     "metadata": {},
     "output_type": "execute_result"
    }
   ],
   "source": [
    "X.shape  # Après suppression"
   ]
  },
  {
   "cell_type": "markdown",
   "id": "68cfe17f",
   "metadata": {},
   "source": [
    "### Suppression des features dont la variance est trop faible"
   ]
  },
  {
   "cell_type": "markdown",
   "id": "25eb761b",
   "metadata": {},
   "source": [
    "https://openclassrooms.com/fr/courses/6401081-improve-the-performance-of-a-machine-learning-model/6539936-improve-your-feature-selection"
   ]
  },
  {
   "cell_type": "markdown",
   "id": "48fcdd5a",
   "metadata": {},
   "source": [
    "La fonction VarianceThreshold de scikit-Learn permet de supprimer les features peu importantes. Elle utilise un critère de variance comme critère de tri. Suppression des features qui ont une variance très faible, c'est à dire des valeurs qui varient très peu."
   ]
  },
  {
   "cell_type": "code",
   "execution_count": 22,
   "id": "8cfddc23",
   "metadata": {},
   "outputs": [
    {
     "name": "stdout",
     "output_type": "stream",
     "text": [
      "Feature selection [ True  True  True  True  True  True  True False  True  True  True  True\n",
      " False  True False  True  True  True False  True  True  True  True  True\n",
      " False  True  True  True  True False  True False False False  True False\n",
      " False False False False False False False False False False False False\n",
      " False False  True  True  True  True  True False  True False False False\n",
      "  True False  True False  True False False False  True  True False  True\n",
      "  True False  True False  True False False  True False False  True  True\n",
      " False  True False  True False  True  True False False  True False  True\n",
      " False  True  True  True  True  True  True  True False False False False\n",
      "  True  True False  True False False False  True False False False False\n",
      " False False False False False False False False False False False False\n",
      "  True False False False  True False False False False False  True False\n",
      "  True False False False False False False False False  True False False\n",
      " False False False False False  True  True False False  True False False\n",
      " False  True False False False  True  True  True  True  True  True  True\n",
      "  True  True  True  True False False False False False False False False\n",
      " False False  True False False False False False False False False False\n",
      " False  True  True  True  True  True  True  True  True  True  True  True\n",
      "  True  True  True  True False False  True  True  True  True  True  True\n",
      "  True False False False False False False False False False False False\n",
      " False False False False False False False False False False False False\n",
      " False False False False False False False False False False False False\n",
      " False False False False False  True False False False  True  True  True\n",
      "  True False False False False  True False False  True False  True False\n",
      " False False  True False False False False False False False  True False\n",
      " False False False False False False False False False False False False\n",
      " False  True  True  True False  True False False False False  True  True\n",
      "  True  True False False False False False False False False False  True\n",
      "  True False False False False False False False False  True  True  True\n",
      "  True  True  True]\n",
      "Selected features: ['SK_ID_CURR', 'CODE_GENDER', 'FLAG_OWN_CAR', 'FLAG_OWN_REALTY', 'CNT_CHILDREN', 'AMT_INCOME_TOTAL', 'AMT_CREDIT', 'DAYS_BIRTH', 'DAYS_EMPLOYED', 'DAYS_REGISTRATION', 'DAYS_ID_PUBLISH', 'FLAG_WORK_PHONE', 'FLAG_PHONE', 'FLAG_EMAIL', 'HOUR_APPR_PROCESS_START', 'REG_REGION_NOT_WORK_REGION', 'REG_CITY_NOT_LIVE_CITY', 'REG_CITY_NOT_WORK_CITY', 'EXT_SOURCE_2', 'EXT_SOURCE_3', 'FLOORSMAX_AVG', 'OBS_30_CNT_SOCIAL_CIRCLE', 'DEF_30_CNT_SOCIAL_CIRCLE', 'DAYS_LAST_PHONE_CHANGE', 'FLAG_DOCUMENT_3', 'FLAG_DOCUMENT_8', 'AMT_REQ_CREDIT_BUREAU_WEEK', 'AMT_REQ_CREDIT_BUREAU_MON', 'AMT_REQ_CREDIT_BUREAU_QRT', 'AMT_REQ_CREDIT_BUREAU_YEAR', 'NAME_CONTRACT_TYPE_Cash_loans', 'NAME_TYPE_SUITE_Family', 'NAME_TYPE_SUITE_Spouse,_partner', 'NAME_INCOME_TYPE_Commercial_associate', 'NAME_INCOME_TYPE_State_servant', 'NAME_EDUCATION_TYPE_Higher_education', 'NAME_EDUCATION_TYPE_Incomplete_higher', 'NAME_FAMILY_STATUS_Civil_marriage', 'NAME_FAMILY_STATUS_Separated', 'NAME_FAMILY_STATUS_Widow', 'NAME_HOUSING_TYPE_House_/_apartment', 'OCCUPATION_TYPE_Accountants', 'OCCUPATION_TYPE_Core_staff', 'OCCUPATION_TYPE_Drivers', 'OCCUPATION_TYPE_High_skill_tech_staff', 'OCCUPATION_TYPE_Laborers', 'OCCUPATION_TYPE_Managers', 'OCCUPATION_TYPE_Medicine_staff', 'OCCUPATION_TYPE_Sales_staff', 'OCCUPATION_TYPE_Security_staff', 'WEEKDAY_APPR_PROCESS_START_FRIDAY', 'WEEKDAY_APPR_PROCESS_START_MONDAY', 'WEEKDAY_APPR_PROCESS_START_SATURDAY', 'WEEKDAY_APPR_PROCESS_START_SUNDAY', 'WEEKDAY_APPR_PROCESS_START_THURSDAY', 'WEEKDAY_APPR_PROCESS_START_TUESDAY', 'WEEKDAY_APPR_PROCESS_START_WEDNESDAY', 'ORGANIZATION_TYPE_Business_Entity_Type_2', 'ORGANIZATION_TYPE_Business_Entity_Type_3', 'ORGANIZATION_TYPE_Construction', 'ORGANIZATION_TYPE_Government', 'ORGANIZATION_TYPE_Kindergarten', 'ORGANIZATION_TYPE_Other', 'ORGANIZATION_TYPE_School', 'ORGANIZATION_TYPE_Self-employed', 'ORGANIZATION_TYPE_Trade:_type_7', 'FONDKAPREMONT_MODE_reg_oper_account', 'FONDKAPREMONT_MODE_reg_oper_spec_account', 'WALLSMATERIAL_MODE_Block', 'WALLSMATERIAL_MODE_Stone,_brick', 'BURO_DAYS_CREDIT_MIN', 'BURO_DAYS_CREDIT_MAX', 'BURO_DAYS_CREDIT_ENDDATE_MIN', 'BURO_DAYS_CREDIT_ENDDATE_MAX', 'BURO_CREDIT_DAY_OVERDUE_MAX', 'BURO_AMT_CREDIT_MAX_OVERDUE_MEAN', 'BURO_AMT_CREDIT_SUM_MAX', 'BURO_AMT_CREDIT_SUM_OVERDUE_MEAN', 'BURO_AMT_CREDIT_SUM_LIMIT_MEAN', 'BURO_CNT_CREDIT_PROLONG_SUM', 'BURO_MONTHS_BALANCE_SIZE_SUM', 'BURO_CREDIT_TYPE_Consumer_credit_MEAN', 'ACTIVE_DAYS_CREDIT_UPDATE_MEAN', 'CLOSED_DAYS_CREDIT_ENDDATE_MAX', 'CLOSED_CREDIT_DAY_OVERDUE_MAX', 'CLOSED_AMT_CREDIT_SUM_DEBT_MAX', 'CLOSED_AMT_CREDIT_SUM_OVERDUE_MEAN', 'CLOSED_AMT_CREDIT_SUM_LIMIT_MEAN', 'PREV_AMT_ANNUITY_MIN', 'PREV_AMT_ANNUITY_MAX', 'PREV_APP_CREDIT_PERC_MIN', 'PREV_APP_CREDIT_PERC_MAX', 'PREV_AMT_DOWN_PAYMENT_MIN', 'PREV_HOUR_APPR_PROCESS_START_MIN', 'PREV_DAYS_DECISION_MIN', 'PREV_DAYS_DECISION_MAX', 'PREV_NAME_CONTRACT_TYPE_Revolving_loans_MEAN', 'PREV_WEEKDAY_APPR_PROCESS_START_FRIDAY_MEAN', 'PREV_WEEKDAY_APPR_PROCESS_START_MONDAY_MEAN', 'PREV_WEEKDAY_APPR_PROCESS_START_SATURDAY_MEAN', 'PREV_WEEKDAY_APPR_PROCESS_START_SUNDAY_MEAN', 'PREV_WEEKDAY_APPR_PROCESS_START_THURSDAY_MEAN', 'PREV_WEEKDAY_APPR_PROCESS_START_TUESDAY_MEAN', 'PREV_WEEKDAY_APPR_PROCESS_START_WEDNESDAY_MEAN', 'PREV_NAME_TYPE_SUITE_Family_MEAN', 'PREV_NAME_TYPE_SUITE_Spouse,_partner_MEAN', 'PREV_NAME_TYPE_SUITE_Unaccompanied_MEAN', 'PREV_NAME_CLIENT_TYPE_New_MEAN', 'PREV_NAME_CLIENT_TYPE_Refreshed_MEAN', 'PREV_NAME_GOODS_CATEGORY_Audio/Video_MEAN', 'PREV_NAME_GOODS_CATEGORY_Computers_MEAN', 'PREV_NAME_GOODS_CATEGORY_Consumer_Electronics_MEAN', 'PREV_NAME_GOODS_CATEGORY_Furniture_MEAN', 'PREV_NAME_GOODS_CATEGORY_Mobile_MEAN', 'PREV_CHANNEL_TYPE_Country-wide_MEAN', 'PREV_CHANNEL_TYPE_Regional_/_Local_MEAN', 'PREV_CHANNEL_TYPE_Stone_MEAN', 'PREV_NAME_SELLER_INDUSTRY_Consumer_electronics_MEAN', 'PREV_NAME_YIELD_GROUP_high_MEAN', 'PREV_NAME_YIELD_GROUP_low_action_MEAN', 'PREV_NAME_YIELD_GROUP_low_normal_MEAN', 'PREV_NAME_YIELD_GROUP_middle_MEAN', 'POS_SK_DPD_MAX', 'POS_SK_DPD_DEF_MAX', 'INSTAL_NUM_INSTALMENT_VERSION_NUNIQUE', 'INSTAL_DPD_MAX', 'INSTAL_DBD_MAX', 'INSTAL_PAYMENT_PERC_MAX', 'INSTAL_PAYMENT_DIFF_MAX', 'INSTAL_PAYMENT_DIFF_MEAN']\n",
      "~~~~~~~~~~~~~~~~~~~~~~~~~~~~~~~~~~~~~~~~~~~~~\n",
      "Removed features: ['REGION_POPULATION_RELATIVE', 'FLAG_MOBIL', 'FLAG_CONT_MOBILE', 'REG_REGION_NOT_LIVE_REGION', 'YEARS_BEGINEXPLUATATION_AVG', 'FLAG_DOCUMENT_2', 'FLAG_DOCUMENT_4', 'FLAG_DOCUMENT_5', 'FLAG_DOCUMENT_7', 'FLAG_DOCUMENT_9', 'FLAG_DOCUMENT_10', 'FLAG_DOCUMENT_11', 'FLAG_DOCUMENT_12', 'FLAG_DOCUMENT_13', 'FLAG_DOCUMENT_14', 'FLAG_DOCUMENT_15', 'FLAG_DOCUMENT_16', 'FLAG_DOCUMENT_17', 'FLAG_DOCUMENT_18', 'FLAG_DOCUMENT_19', 'FLAG_DOCUMENT_20', 'FLAG_DOCUMENT_21', 'AMT_REQ_CREDIT_BUREAU_HOUR', 'AMT_REQ_CREDIT_BUREAU_DAY', 'NAME_TYPE_SUITE_Children', 'NAME_TYPE_SUITE_Group_of_people', 'NAME_TYPE_SUITE_Other_A', 'NAME_TYPE_SUITE_Other_B', 'NAME_INCOME_TYPE_Businessman', 'NAME_INCOME_TYPE_Maternity_leave', 'NAME_INCOME_TYPE_Student', 'NAME_INCOME_TYPE_Unemployed', 'NAME_EDUCATION_TYPE_Academic_degree', 'NAME_EDUCATION_TYPE_Lower_secondary', 'NAME_FAMILY_STATUS_Unknown', 'NAME_HOUSING_TYPE_Co-op_apartment', 'NAME_HOUSING_TYPE_Office_apartment', 'NAME_HOUSING_TYPE_Rented_apartment', 'OCCUPATION_TYPE_Cleaning_staff', 'OCCUPATION_TYPE_Cooking_staff', 'OCCUPATION_TYPE_HR_staff', 'OCCUPATION_TYPE_IT_staff', 'OCCUPATION_TYPE_Low-skill_Laborers', 'OCCUPATION_TYPE_Private_service_staff', 'OCCUPATION_TYPE_Realty_agents', 'OCCUPATION_TYPE_Secretaries', 'OCCUPATION_TYPE_Waiters/barmen_staff', 'ORGANIZATION_TYPE_Advertising', 'ORGANIZATION_TYPE_Agriculture', 'ORGANIZATION_TYPE_Bank', 'ORGANIZATION_TYPE_Business_Entity_Type_1', 'ORGANIZATION_TYPE_Cleaning', 'ORGANIZATION_TYPE_Culture', 'ORGANIZATION_TYPE_Electricity', 'ORGANIZATION_TYPE_Emergency', 'ORGANIZATION_TYPE_Hotel', 'ORGANIZATION_TYPE_Housing', 'ORGANIZATION_TYPE_Industry:_type_1', 'ORGANIZATION_TYPE_Industry:_type_10', 'ORGANIZATION_TYPE_Industry:_type_11', 'ORGANIZATION_TYPE_Industry:_type_12', 'ORGANIZATION_TYPE_Industry:_type_13', 'ORGANIZATION_TYPE_Industry:_type_2', 'ORGANIZATION_TYPE_Industry:_type_3', 'ORGANIZATION_TYPE_Industry:_type_4', 'ORGANIZATION_TYPE_Industry:_type_5', 'ORGANIZATION_TYPE_Industry:_type_6', 'ORGANIZATION_TYPE_Industry:_type_7', 'ORGANIZATION_TYPE_Industry:_type_8', 'ORGANIZATION_TYPE_Industry:_type_9', 'ORGANIZATION_TYPE_Insurance', 'ORGANIZATION_TYPE_Legal_Services', 'ORGANIZATION_TYPE_Military', 'ORGANIZATION_TYPE_Mobile', 'ORGANIZATION_TYPE_Police', 'ORGANIZATION_TYPE_Postal', 'ORGANIZATION_TYPE_Realtor', 'ORGANIZATION_TYPE_Religion', 'ORGANIZATION_TYPE_Restaurant', 'ORGANIZATION_TYPE_Security_Ministries', 'ORGANIZATION_TYPE_Services', 'ORGANIZATION_TYPE_Telecom', 'ORGANIZATION_TYPE_Trade:_type_1', 'ORGANIZATION_TYPE_Trade:_type_2', 'ORGANIZATION_TYPE_Trade:_type_3', 'ORGANIZATION_TYPE_Trade:_type_4', 'ORGANIZATION_TYPE_Trade:_type_5', 'ORGANIZATION_TYPE_Trade:_type_6', 'ORGANIZATION_TYPE_Transport:_type_1', 'ORGANIZATION_TYPE_Transport:_type_2', 'ORGANIZATION_TYPE_Transport:_type_3', 'ORGANIZATION_TYPE_Transport:_type_4', 'ORGANIZATION_TYPE_University', 'FONDKAPREMONT_MODE_not_specified', 'FONDKAPREMONT_MODE_org_spec_account', 'HOUSETYPE_MODE_specific_housing', 'HOUSETYPE_MODE_terraced_house', 'WALLSMATERIAL_MODE_Mixed', 'WALLSMATERIAL_MODE_Monolithic', 'WALLSMATERIAL_MODE_Others', 'WALLSMATERIAL_MODE_Wooden', 'EMERGENCYSTATE_MODE_Yes', 'ANNUITY_INCOME_PERC', 'BURO_CREDIT_ACTIVE_Bad_debt_MEAN', 'BURO_CREDIT_ACTIVE_Sold_MEAN', 'BURO_CREDIT_ACTIVE_nan_MEAN', 'BURO_CREDIT_CURRENCY_currency_1_MEAN', 'BURO_CREDIT_CURRENCY_currency_3_MEAN', 'BURO_CREDIT_CURRENCY_currency_4_MEAN', 'BURO_CREDIT_CURRENCY_nan_MEAN', 'BURO_CREDIT_TYPE_Another_type_of_loan_MEAN', 'BURO_CREDIT_TYPE_Car_loan_MEAN', 'BURO_CREDIT_TYPE_Cash_loan_(non-earmarked)_MEAN', 'BURO_CREDIT_TYPE_Interbank_credit_MEAN', 'BURO_CREDIT_TYPE_Loan_for_business_development_MEAN', 'BURO_CREDIT_TYPE_Loan_for_purchase_of_shares_(margin_lending)_MEAN', 'BURO_CREDIT_TYPE_Loan_for_the_purchase_of_equipment_MEAN', 'BURO_CREDIT_TYPE_Loan_for_working_capital_replenishment_MEAN', 'BURO_CREDIT_TYPE_Microloan_MEAN', 'BURO_CREDIT_TYPE_Mobile_operator_loan_MEAN', 'BURO_CREDIT_TYPE_Real_estate_loan_MEAN', 'BURO_CREDIT_TYPE_Unknown_type_of_loan_MEAN', 'BURO_CREDIT_TYPE_nan_MEAN', 'PREV_NAME_CONTRACT_TYPE_XNA_MEAN', 'PREV_NAME_CONTRACT_TYPE_nan_MEAN', 'PREV_WEEKDAY_APPR_PROCESS_START_nan_MEAN', 'PREV_FLAG_LAST_APPL_PER_CONTRACT_N_MEAN', 'PREV_FLAG_LAST_APPL_PER_CONTRACT_nan_MEAN', 'PREV_NAME_CASH_LOAN_PURPOSE_Building_a_house_or_an_annex_MEAN', 'PREV_NAME_CASH_LOAN_PURPOSE_Business_development_MEAN', 'PREV_NAME_CASH_LOAN_PURPOSE_Buying_a_garage_MEAN', 'PREV_NAME_CASH_LOAN_PURPOSE_Buying_a_holiday_home_/_land_MEAN', 'PREV_NAME_CASH_LOAN_PURPOSE_Buying_a_home_MEAN', 'PREV_NAME_CASH_LOAN_PURPOSE_Buying_a_new_car_MEAN', 'PREV_NAME_CASH_LOAN_PURPOSE_Buying_a_used_car_MEAN', 'PREV_NAME_CASH_LOAN_PURPOSE_Car_repairs_MEAN', 'PREV_NAME_CASH_LOAN_PURPOSE_Education_MEAN', 'PREV_NAME_CASH_LOAN_PURPOSE_Everyday_expenses_MEAN', 'PREV_NAME_CASH_LOAN_PURPOSE_Furniture_MEAN', 'PREV_NAME_CASH_LOAN_PURPOSE_Gasification_/_water_supply_MEAN', 'PREV_NAME_CASH_LOAN_PURPOSE_Hobby_MEAN', 'PREV_NAME_CASH_LOAN_PURPOSE_Journey_MEAN', 'PREV_NAME_CASH_LOAN_PURPOSE_Medicine_MEAN', 'PREV_NAME_CASH_LOAN_PURPOSE_Money_for_a_third_person_MEAN', 'PREV_NAME_CASH_LOAN_PURPOSE_Other_MEAN', 'PREV_NAME_CASH_LOAN_PURPOSE_Payments_on_other_loans_MEAN', 'PREV_NAME_CASH_LOAN_PURPOSE_Purchase_of_electronic_equipment_MEAN', 'PREV_NAME_CASH_LOAN_PURPOSE_Refusal_to_name_the_goal_MEAN', 'PREV_NAME_CASH_LOAN_PURPOSE_Repairs_MEAN', 'PREV_NAME_CASH_LOAN_PURPOSE_Urgent_needs_MEAN', 'PREV_NAME_CASH_LOAN_PURPOSE_Wedding_/_gift_/_holiday_MEAN', 'PREV_NAME_CASH_LOAN_PURPOSE_nan_MEAN', 'PREV_NAME_CONTRACT_STATUS_Unused_offer_MEAN', 'PREV_NAME_CONTRACT_STATUS_nan_MEAN', 'PREV_NAME_PAYMENT_TYPE_Cashless_from_the_account_of_the_employer_MEAN', 'PREV_NAME_PAYMENT_TYPE_Non-cash_from_your_account_MEAN', 'PREV_NAME_PAYMENT_TYPE_nan_MEAN', 'PREV_CODE_REJECT_REASON_LIMIT_MEAN', 'PREV_CODE_REJECT_REASON_SCO_MEAN', 'PREV_CODE_REJECT_REASON_SCOFR_MEAN', 'PREV_CODE_REJECT_REASON_SYSTEM_MEAN', 'PREV_CODE_REJECT_REASON_VERIF_MEAN', 'PREV_CODE_REJECT_REASON_XNA_MEAN', 'PREV_CODE_REJECT_REASON_nan_MEAN', 'PREV_NAME_TYPE_SUITE_Children_MEAN', 'PREV_NAME_TYPE_SUITE_Group_of_people_MEAN', 'PREV_NAME_TYPE_SUITE_Other_A_MEAN', 'PREV_NAME_TYPE_SUITE_Other_B_MEAN', 'PREV_NAME_CLIENT_TYPE_XNA_MEAN', 'PREV_NAME_CLIENT_TYPE_nan_MEAN', 'PREV_NAME_GOODS_CATEGORY_Additional_Service_MEAN', 'PREV_NAME_GOODS_CATEGORY_Animals_MEAN', 'PREV_NAME_GOODS_CATEGORY_Auto_Accessories_MEAN', 'PREV_NAME_GOODS_CATEGORY_Clothing_and_Accessories_MEAN', 'PREV_NAME_GOODS_CATEGORY_Construction_Materials_MEAN', 'PREV_NAME_GOODS_CATEGORY_Direct_Sales_MEAN', 'PREV_NAME_GOODS_CATEGORY_Education_MEAN', 'PREV_NAME_GOODS_CATEGORY_Fitness_MEAN', 'PREV_NAME_GOODS_CATEGORY_Gardening_MEAN', 'PREV_NAME_GOODS_CATEGORY_Homewares_MEAN', 'PREV_NAME_GOODS_CATEGORY_House_Construction_MEAN', 'PREV_NAME_GOODS_CATEGORY_Insurance_MEAN', 'PREV_NAME_GOODS_CATEGORY_Jewelry_MEAN', 'PREV_NAME_GOODS_CATEGORY_Medical_Supplies_MEAN', 'PREV_NAME_GOODS_CATEGORY_Medicine_MEAN', 'PREV_NAME_GOODS_CATEGORY_Office_Appliances_MEAN', 'PREV_NAME_GOODS_CATEGORY_Other_MEAN', 'PREV_NAME_GOODS_CATEGORY_Photo_/_Cinema_Equipment_MEAN', 'PREV_NAME_GOODS_CATEGORY_Sport_and_Leisure_MEAN', 'PREV_NAME_GOODS_CATEGORY_Tourism_MEAN', 'PREV_NAME_GOODS_CATEGORY_Vehicles_MEAN', 'PREV_NAME_GOODS_CATEGORY_Weapon_MEAN', 'PREV_NAME_GOODS_CATEGORY_nan_MEAN', 'PREV_NAME_PORTFOLIO_Cars_MEAN', 'PREV_NAME_PORTFOLIO_nan_MEAN', 'PREV_NAME_PRODUCT_TYPE_nan_MEAN', 'PREV_CHANNEL_TYPE_AP+_(Cash_loan)_MEAN', 'PREV_CHANNEL_TYPE_Channel_of_corporate_sales_MEAN', 'PREV_CHANNEL_TYPE_Contact_center_MEAN', 'PREV_CHANNEL_TYPE_nan_MEAN', 'PREV_NAME_SELLER_INDUSTRY_Industry_MEAN', 'PREV_NAME_SELLER_INDUSTRY_MLM_partners_MEAN', 'PREV_NAME_SELLER_INDUSTRY_Tourism_MEAN', 'PREV_NAME_SELLER_INDUSTRY_nan_MEAN', 'PREV_NAME_YIELD_GROUP_nan_MEAN', 'PREV_PRODUCT_COMBINATION_Cash_Street:_low_MEAN', 'PREV_PRODUCT_COMBINATION_Cash_Street:_middle_MEAN', 'PREV_PRODUCT_COMBINATION_Cash_X-Sell:_high_MEAN', 'PREV_PRODUCT_COMBINATION_Cash_X-Sell:_low_MEAN', 'PREV_PRODUCT_COMBINATION_POS_industry_without_interest_MEAN', 'PREV_PRODUCT_COMBINATION_POS_mobile_without_interest_MEAN', 'PREV_PRODUCT_COMBINATION_POS_other_with_interest_MEAN', 'PREV_PRODUCT_COMBINATION_POS_others_without_interest_MEAN', 'POS_NAME_CONTRACT_STATUS_Active_MEAN', 'POS_NAME_CONTRACT_STATUS_Amortized_debt_MEAN', 'POS_NAME_CONTRACT_STATUS_Approved_MEAN', 'POS_NAME_CONTRACT_STATUS_Canceled_MEAN', 'POS_NAME_CONTRACT_STATUS_Returned_to_the_store_MEAN', 'POS_NAME_CONTRACT_STATUS_Signed_MEAN', 'POS_NAME_CONTRACT_STATUS_XNA_MEAN', 'POS_NAME_CONTRACT_STATUS_nan_MEAN']\n"
     ]
    }
   ],
   "source": [
    "# Perform feature selection using a variance threshold\n",
    "# Suppression des features dont variance < 2%\n",
    "sel = VarianceThreshold(threshold=(0.02))\n",
    "sel.fit(X)\n",
    "\n",
    "print(\"Feature selection\", sel.get_support())\n",
    "print(\"Selected features:\", list(X.columns[sel.get_support()]))\n",
    "print('~~~~~~~~~~~~~~~~~~~~~~~~~~~~~~~~~~~~~~~~~~~~~')\n",
    "print(\"Removed features:\", list(X.columns[~sel.get_support()]))"
   ]
  },
  {
   "cell_type": "code",
   "execution_count": 23,
   "id": "14968dc1",
   "metadata": {},
   "outputs": [],
   "source": [
    "# Transform (remove low variance features)\n",
    "X = pd.DataFrame(sel.transform(X), columns=X.columns[sel.get_support()])"
   ]
  },
  {
   "cell_type": "code",
   "execution_count": 24,
   "id": "7a35c03c",
   "metadata": {
    "scrolled": true
   },
   "outputs": [
    {
     "data": {
      "text/plain": [
       "(307511, 130)"
      ]
     },
     "execution_count": 24,
     "metadata": {},
     "output_type": "execute_result"
    }
   ],
   "source": [
    "# Après transformation il reste 200 colonnes.\n",
    "X.shape"
   ]
  },
  {
   "cell_type": "markdown",
   "id": "34a83448",
   "metadata": {},
   "source": [
    "### Suppression des lignes peu renseignées"
   ]
  },
  {
   "cell_type": "code",
   "execution_count": 25,
   "id": "ade1b208",
   "metadata": {},
   "outputs": [
    {
     "data": {
      "text/plain": [
       "269492    0.530769\n",
       "258474    0.530769\n",
       "53550     0.530769\n",
       "133770    0.530769\n",
       "215458    0.530769\n",
       "            ...   \n",
       "177301    0.000000\n",
       "177296    0.000000\n",
       "177291    0.000000\n",
       "177286    0.000000\n",
       "307510    0.000000\n",
       "Length: 307511, dtype: float64"
      ]
     },
     "execution_count": 25,
     "metadata": {},
     "output_type": "execute_result"
    }
   ],
   "source": [
    "# Analyse du taux de remplissage des lignes\n",
    "pct_missing_per_line = (X.isnull().sum(axis=1)/len(X.columns)).sort_values(ascending=False)\n",
    "pct_missing_per_line"
   ]
  },
  {
   "cell_type": "markdown",
   "id": "3a741a64",
   "metadata": {},
   "source": [
    "Les lignes les moins bien renseignées ont 60% de valeurs manquantes."
   ]
  },
  {
   "cell_type": "code",
   "execution_count": 26,
   "id": "85a4d621",
   "metadata": {},
   "outputs": [
    {
     "data": {
      "text/plain": [
       "array([0.53076923, 0.52307692, 0.51538462, 0.50769231, 0.5       ,\n",
       "       0.49230769, 0.48461538, 0.47692308, 0.46923077, 0.46153846,\n",
       "       0.45384615, 0.44615385, 0.43846154, 0.43076923, 0.42307692,\n",
       "       0.41538462, 0.40769231, 0.4       , 0.39230769, 0.38461538,\n",
       "       0.37692308, 0.36923077, 0.36153846, 0.35384615, 0.34615385,\n",
       "       0.33846154, 0.33076923, 0.32307692, 0.31538462, 0.30769231,\n",
       "       0.3       , 0.29230769, 0.28461538, 0.27692308, 0.26923077,\n",
       "       0.26153846, 0.25384615, 0.24615385, 0.23846154, 0.23076923,\n",
       "       0.22307692, 0.21538462, 0.20769231, 0.2       , 0.19230769,\n",
       "       0.18461538, 0.17692308, 0.16923077, 0.16153846, 0.15384615,\n",
       "       0.14615385, 0.13846154, 0.13076923, 0.12307692, 0.11538462,\n",
       "       0.10769231, 0.1       , 0.09230769, 0.08461538, 0.07692308,\n",
       "       0.06923077, 0.06153846, 0.05384615, 0.04615385, 0.03846154,\n",
       "       0.03076923, 0.02307692, 0.01538462, 0.00769231, 0.        ])"
      ]
     },
     "execution_count": 26,
     "metadata": {},
     "output_type": "execute_result"
    }
   ],
   "source": [
    "pct_missing_per_line.unique()"
   ]
  },
  {
   "cell_type": "code",
   "execution_count": 27,
   "id": "4711e3be",
   "metadata": {},
   "outputs": [
    {
     "data": {
      "text/plain": [
       "Int64Index([269492, 258474,  53550, 133770, 215458, 233257, 116937,  54457,\n",
       "            138913,  12087,\n",
       "            ...\n",
       "            196186,  15339,  18079,  61055, 174862,  82015, 287161, 151286,\n",
       "             47573,  11385],\n",
       "           dtype='int64', length=15449)"
      ]
     },
     "execution_count": 27,
     "metadata": {},
     "output_type": "execute_result"
    }
   ],
   "source": [
    "# Si on retient un seuil max de 30% de valeurs manquantes\n",
    "# On élimine 16097 lignes sur 307511, soit environ 5%\n",
    "pct_missing_per_line[pct_missing_per_line>=0.3].index"
   ]
  },
  {
   "cell_type": "code",
   "execution_count": 28,
   "id": "2bc8d9a5",
   "metadata": {},
   "outputs": [],
   "source": [
    "# Stockage de l'index des lignes peu renseignées\n",
    "index_to_del = pct_missing_per_line[pct_missing_per_line>=0.3].index"
   ]
  },
  {
   "cell_type": "code",
   "execution_count": 29,
   "id": "d229f2c2",
   "metadata": {},
   "outputs": [
    {
     "data": {
      "text/plain": [
       "269492    0.0\n",
       "258474    0.0\n",
       "53550     0.0\n",
       "133770    0.0\n",
       "215458    0.0\n",
       "         ... \n",
       "82015     0.0\n",
       "287161    0.0\n",
       "151286    0.0\n",
       "47573     0.0\n",
       "11385     0.0\n",
       "Name: TARGET, Length: 15449, dtype: float64"
      ]
     },
     "execution_count": 29,
     "metadata": {},
     "output_type": "execute_result"
    }
   ],
   "source": [
    "# Target associée aux lignes peu renseignées\n",
    "y[index_to_del]"
   ]
  },
  {
   "cell_type": "code",
   "execution_count": 30,
   "id": "6cb75cb5",
   "metadata": {},
   "outputs": [
    {
     "data": {
      "text/plain": [
       "902.0"
      ]
     },
     "execution_count": 30,
     "metadata": {},
     "output_type": "execute_result"
    }
   ],
   "source": [
    "# Nombre de lignes pour lesquelles y=1 parmis les lignes à supprimer\n",
    "y[index_to_del].sum()"
   ]
  },
  {
   "cell_type": "code",
   "execution_count": 31,
   "id": "04fd11b0",
   "metadata": {},
   "outputs": [
    {
     "data": {
      "text/plain": [
       "16.997888067581837"
      ]
     },
     "execution_count": 31,
     "metadata": {},
     "output_type": "execute_result"
    }
   ],
   "source": [
    "# On supprime plus de lignes de la classe majoritaire (y=0)\n",
    "16097/947"
   ]
  },
  {
   "cell_type": "code",
   "execution_count": 32,
   "id": "9318ee72",
   "metadata": {},
   "outputs": [],
   "source": [
    "# Suppression des lignes dans matrice X\n",
    "X.drop(index_to_del, inplace=True)"
   ]
  },
  {
   "cell_type": "code",
   "execution_count": 33,
   "id": "a996375a",
   "metadata": {},
   "outputs": [
    {
     "data": {
      "text/plain": [
       "(292062, 130)"
      ]
     },
     "execution_count": 33,
     "metadata": {},
     "output_type": "execute_result"
    }
   ],
   "source": [
    "X.shape"
   ]
  },
  {
   "cell_type": "code",
   "execution_count": 34,
   "id": "34cfb950",
   "metadata": {},
   "outputs": [],
   "source": [
    "# Suppression des lignes dans matrice y\n",
    "y.drop(index_to_del, inplace=True)"
   ]
  },
  {
   "cell_type": "code",
   "execution_count": 35,
   "id": "481c058d",
   "metadata": {},
   "outputs": [
    {
     "data": {
      "text/plain": [
       "(292062,)"
      ]
     },
     "execution_count": 35,
     "metadata": {},
     "output_type": "execute_result"
    }
   ],
   "source": [
    "y.shape"
   ]
  },
  {
   "cell_type": "code",
   "execution_count": 36,
   "id": "8193e952",
   "metadata": {
    "scrolled": true
   },
   "outputs": [
    {
     "data": {
      "text/plain": [
       "Counter({1.0: 23923, 0.0: 268139})"
      ]
     },
     "execution_count": 36,
     "metadata": {},
     "output_type": "execute_result"
    }
   ],
   "source": [
    "# Comptage de la répartition après suppression\n",
    "Counter(y)"
   ]
  },
  {
   "cell_type": "code",
   "execution_count": 37,
   "id": "19348cad",
   "metadata": {},
   "outputs": [
    {
     "data": {
      "text/plain": [
       "11"
      ]
     },
     "execution_count": 37,
     "metadata": {},
     "output_type": "execute_result"
    }
   ],
   "source": [
    "weight = int(Counter(y)[0]/Counter(y)[1])\n",
    "weight"
   ]
  },
  {
   "cell_type": "markdown",
   "id": "0ddcd5a6",
   "metadata": {},
   "source": [
    "Le rapport entre les classes 0 et 1 n'est pas modifié."
   ]
  },
  {
   "cell_type": "markdown",
   "id": "7d61d27b",
   "metadata": {},
   "source": [
    "## Création des jeux de test et d'entrainement post cleaning"
   ]
  },
  {
   "cell_type": "code",
   "execution_count": 38,
   "id": "a8ec2d0e",
   "metadata": {},
   "outputs": [],
   "source": [
    "# split into train and test sets\n",
    "X_train, X_test, y_train, y_test = train_test_split(X, y, test_size=0.33, random_state=1, stratify=y)"
   ]
  },
  {
   "cell_type": "code",
   "execution_count": 39,
   "id": "469ca87b",
   "metadata": {},
   "outputs": [
    {
     "data": {
      "text/plain": [
       "(195681, 130)"
      ]
     },
     "execution_count": 39,
     "metadata": {},
     "output_type": "execute_result"
    }
   ],
   "source": [
    "X_train.shape"
   ]
  },
  {
   "cell_type": "code",
   "execution_count": 40,
   "id": "97fe9325",
   "metadata": {},
   "outputs": [
    {
     "data": {
      "text/html": [
       "<div>\n",
       "<style scoped>\n",
       "    .dataframe tbody tr th:only-of-type {\n",
       "        vertical-align: middle;\n",
       "    }\n",
       "\n",
       "    .dataframe tbody tr th {\n",
       "        vertical-align: top;\n",
       "    }\n",
       "\n",
       "    .dataframe thead th {\n",
       "        text-align: right;\n",
       "    }\n",
       "</style>\n",
       "<table border=\"1\" class=\"dataframe\">\n",
       "  <thead>\n",
       "    <tr style=\"text-align: right;\">\n",
       "      <th></th>\n",
       "      <th>SK_ID_CURR</th>\n",
       "      <th>CODE_GENDER</th>\n",
       "      <th>FLAG_OWN_CAR</th>\n",
       "      <th>FLAG_OWN_REALTY</th>\n",
       "      <th>CNT_CHILDREN</th>\n",
       "      <th>AMT_INCOME_TOTAL</th>\n",
       "      <th>AMT_CREDIT</th>\n",
       "      <th>DAYS_BIRTH</th>\n",
       "      <th>DAYS_EMPLOYED</th>\n",
       "      <th>DAYS_REGISTRATION</th>\n",
       "      <th>...</th>\n",
       "      <th>PREV_NAME_YIELD_GROUP_low_normal_MEAN</th>\n",
       "      <th>PREV_NAME_YIELD_GROUP_middle_MEAN</th>\n",
       "      <th>POS_SK_DPD_MAX</th>\n",
       "      <th>POS_SK_DPD_DEF_MAX</th>\n",
       "      <th>INSTAL_NUM_INSTALMENT_VERSION_NUNIQUE</th>\n",
       "      <th>INSTAL_DPD_MAX</th>\n",
       "      <th>INSTAL_DBD_MAX</th>\n",
       "      <th>INSTAL_PAYMENT_PERC_MAX</th>\n",
       "      <th>INSTAL_PAYMENT_DIFF_MAX</th>\n",
       "      <th>INSTAL_PAYMENT_DIFF_MEAN</th>\n",
       "    </tr>\n",
       "  </thead>\n",
       "  <tbody>\n",
       "    <tr>\n",
       "      <th>215169</th>\n",
       "      <td>349328.0</td>\n",
       "      <td>1.0</td>\n",
       "      <td>0.0</td>\n",
       "      <td>1.0</td>\n",
       "      <td>0.0</td>\n",
       "      <td>99000.0</td>\n",
       "      <td>508495.5</td>\n",
       "      <td>-20255.0</td>\n",
       "      <td>-335.0</td>\n",
       "      <td>-8392.0</td>\n",
       "      <td>...</td>\n",
       "      <td>0.000000</td>\n",
       "      <td>0.500000</td>\n",
       "      <td>0.0</td>\n",
       "      <td>0.0</td>\n",
       "      <td>2.0</td>\n",
       "      <td>0.0</td>\n",
       "      <td>16.0</td>\n",
       "      <td>1.0</td>\n",
       "      <td>0.00</td>\n",
       "      <td>0.000000</td>\n",
       "    </tr>\n",
       "    <tr>\n",
       "      <th>275171</th>\n",
       "      <td>418907.0</td>\n",
       "      <td>1.0</td>\n",
       "      <td>0.0</td>\n",
       "      <td>1.0</td>\n",
       "      <td>0.0</td>\n",
       "      <td>184500.0</td>\n",
       "      <td>728460.0</td>\n",
       "      <td>-21989.0</td>\n",
       "      <td>-5862.0</td>\n",
       "      <td>-11270.0</td>\n",
       "      <td>...</td>\n",
       "      <td>0.142857</td>\n",
       "      <td>0.142857</td>\n",
       "      <td>0.0</td>\n",
       "      <td>0.0</td>\n",
       "      <td>2.0</td>\n",
       "      <td>0.0</td>\n",
       "      <td>56.0</td>\n",
       "      <td>1.0</td>\n",
       "      <td>0.00</td>\n",
       "      <td>0.000000</td>\n",
       "    </tr>\n",
       "    <tr>\n",
       "      <th>139526</th>\n",
       "      <td>261775.0</td>\n",
       "      <td>1.0</td>\n",
       "      <td>0.0</td>\n",
       "      <td>0.0</td>\n",
       "      <td>0.0</td>\n",
       "      <td>112500.0</td>\n",
       "      <td>239850.0</td>\n",
       "      <td>-25054.0</td>\n",
       "      <td>NaN</td>\n",
       "      <td>-2306.0</td>\n",
       "      <td>...</td>\n",
       "      <td>0.111111</td>\n",
       "      <td>0.333333</td>\n",
       "      <td>0.0</td>\n",
       "      <td>0.0</td>\n",
       "      <td>3.0</td>\n",
       "      <td>0.0</td>\n",
       "      <td>44.0</td>\n",
       "      <td>1.0</td>\n",
       "      <td>0.00</td>\n",
       "      <td>0.000000</td>\n",
       "    </tr>\n",
       "    <tr>\n",
       "      <th>283387</th>\n",
       "      <td>428191.0</td>\n",
       "      <td>0.0</td>\n",
       "      <td>0.0</td>\n",
       "      <td>0.0</td>\n",
       "      <td>1.0</td>\n",
       "      <td>360000.0</td>\n",
       "      <td>450000.0</td>\n",
       "      <td>-18862.0</td>\n",
       "      <td>-7093.0</td>\n",
       "      <td>-4303.0</td>\n",
       "      <td>...</td>\n",
       "      <td>0.285714</td>\n",
       "      <td>0.357143</td>\n",
       "      <td>0.0</td>\n",
       "      <td>0.0</td>\n",
       "      <td>3.0</td>\n",
       "      <td>22.0</td>\n",
       "      <td>44.0</td>\n",
       "      <td>1.0</td>\n",
       "      <td>28395.09</td>\n",
       "      <td>315.810000</td>\n",
       "    </tr>\n",
       "    <tr>\n",
       "      <th>14341</th>\n",
       "      <td>116728.0</td>\n",
       "      <td>1.0</td>\n",
       "      <td>1.0</td>\n",
       "      <td>0.0</td>\n",
       "      <td>0.0</td>\n",
       "      <td>112500.0</td>\n",
       "      <td>1350000.0</td>\n",
       "      <td>-21817.0</td>\n",
       "      <td>NaN</td>\n",
       "      <td>-1363.0</td>\n",
       "      <td>...</td>\n",
       "      <td>0.250000</td>\n",
       "      <td>0.250000</td>\n",
       "      <td>0.0</td>\n",
       "      <td>0.0</td>\n",
       "      <td>3.0</td>\n",
       "      <td>27.0</td>\n",
       "      <td>25.0</td>\n",
       "      <td>1.0</td>\n",
       "      <td>4342.50</td>\n",
       "      <td>34.615385</td>\n",
       "    </tr>\n",
       "  </tbody>\n",
       "</table>\n",
       "<p>5 rows × 130 columns</p>\n",
       "</div>"
      ],
      "text/plain": [
       "        SK_ID_CURR  CODE_GENDER  FLAG_OWN_CAR  FLAG_OWN_REALTY  CNT_CHILDREN  \\\n",
       "215169    349328.0          1.0           0.0              1.0           0.0   \n",
       "275171    418907.0          1.0           0.0              1.0           0.0   \n",
       "139526    261775.0          1.0           0.0              0.0           0.0   \n",
       "283387    428191.0          0.0           0.0              0.0           1.0   \n",
       "14341     116728.0          1.0           1.0              0.0           0.0   \n",
       "\n",
       "        AMT_INCOME_TOTAL  AMT_CREDIT  DAYS_BIRTH  DAYS_EMPLOYED  \\\n",
       "215169           99000.0    508495.5    -20255.0         -335.0   \n",
       "275171          184500.0    728460.0    -21989.0        -5862.0   \n",
       "139526          112500.0    239850.0    -25054.0            NaN   \n",
       "283387          360000.0    450000.0    -18862.0        -7093.0   \n",
       "14341           112500.0   1350000.0    -21817.0            NaN   \n",
       "\n",
       "        DAYS_REGISTRATION  ...  PREV_NAME_YIELD_GROUP_low_normal_MEAN  \\\n",
       "215169            -8392.0  ...                               0.000000   \n",
       "275171           -11270.0  ...                               0.142857   \n",
       "139526            -2306.0  ...                               0.111111   \n",
       "283387            -4303.0  ...                               0.285714   \n",
       "14341             -1363.0  ...                               0.250000   \n",
       "\n",
       "        PREV_NAME_YIELD_GROUP_middle_MEAN  POS_SK_DPD_MAX  POS_SK_DPD_DEF_MAX  \\\n",
       "215169                           0.500000             0.0                 0.0   \n",
       "275171                           0.142857             0.0                 0.0   \n",
       "139526                           0.333333             0.0                 0.0   \n",
       "283387                           0.357143             0.0                 0.0   \n",
       "14341                            0.250000             0.0                 0.0   \n",
       "\n",
       "        INSTAL_NUM_INSTALMENT_VERSION_NUNIQUE  INSTAL_DPD_MAX  INSTAL_DBD_MAX  \\\n",
       "215169                                    2.0             0.0            16.0   \n",
       "275171                                    2.0             0.0            56.0   \n",
       "139526                                    3.0             0.0            44.0   \n",
       "283387                                    3.0            22.0            44.0   \n",
       "14341                                     3.0            27.0            25.0   \n",
       "\n",
       "        INSTAL_PAYMENT_PERC_MAX  INSTAL_PAYMENT_DIFF_MAX  \\\n",
       "215169                      1.0                     0.00   \n",
       "275171                      1.0                     0.00   \n",
       "139526                      1.0                     0.00   \n",
       "283387                      1.0                 28395.09   \n",
       "14341                       1.0                  4342.50   \n",
       "\n",
       "        INSTAL_PAYMENT_DIFF_MEAN  \n",
       "215169                  0.000000  \n",
       "275171                  0.000000  \n",
       "139526                  0.000000  \n",
       "283387                315.810000  \n",
       "14341                  34.615385  \n",
       "\n",
       "[5 rows x 130 columns]"
      ]
     },
     "execution_count": 40,
     "metadata": {},
     "output_type": "execute_result"
    }
   ],
   "source": [
    "X_train.head()"
   ]
  },
  {
   "cell_type": "code",
   "execution_count": 41,
   "id": "9937b49b",
   "metadata": {},
   "outputs": [
    {
     "data": {
      "text/html": [
       "<div>\n",
       "<style scoped>\n",
       "    .dataframe tbody tr th:only-of-type {\n",
       "        vertical-align: middle;\n",
       "    }\n",
       "\n",
       "    .dataframe tbody tr th {\n",
       "        vertical-align: top;\n",
       "    }\n",
       "\n",
       "    .dataframe thead th {\n",
       "        text-align: right;\n",
       "    }\n",
       "</style>\n",
       "<table border=\"1\" class=\"dataframe\">\n",
       "  <thead>\n",
       "    <tr style=\"text-align: right;\">\n",
       "      <th></th>\n",
       "      <th>SK_ID_CURR</th>\n",
       "      <th>CODE_GENDER</th>\n",
       "      <th>FLAG_OWN_CAR</th>\n",
       "      <th>FLAG_OWN_REALTY</th>\n",
       "      <th>CNT_CHILDREN</th>\n",
       "      <th>AMT_INCOME_TOTAL</th>\n",
       "      <th>AMT_CREDIT</th>\n",
       "      <th>DAYS_BIRTH</th>\n",
       "      <th>DAYS_EMPLOYED</th>\n",
       "      <th>DAYS_REGISTRATION</th>\n",
       "      <th>...</th>\n",
       "      <th>PREV_NAME_YIELD_GROUP_low_normal_MEAN</th>\n",
       "      <th>PREV_NAME_YIELD_GROUP_middle_MEAN</th>\n",
       "      <th>POS_SK_DPD_MAX</th>\n",
       "      <th>POS_SK_DPD_DEF_MAX</th>\n",
       "      <th>INSTAL_NUM_INSTALMENT_VERSION_NUNIQUE</th>\n",
       "      <th>INSTAL_DPD_MAX</th>\n",
       "      <th>INSTAL_DBD_MAX</th>\n",
       "      <th>INSTAL_PAYMENT_PERC_MAX</th>\n",
       "      <th>INSTAL_PAYMENT_DIFF_MAX</th>\n",
       "      <th>INSTAL_PAYMENT_DIFF_MEAN</th>\n",
       "    </tr>\n",
       "  </thead>\n",
       "  <tbody>\n",
       "    <tr>\n",
       "      <th>215169</th>\n",
       "      <td>349328.0</td>\n",
       "      <td>1.0</td>\n",
       "      <td>0.0</td>\n",
       "      <td>1.0</td>\n",
       "      <td>0.0</td>\n",
       "      <td>99000.0</td>\n",
       "      <td>508495.5</td>\n",
       "      <td>-20255.0</td>\n",
       "      <td>-335.0</td>\n",
       "      <td>-8392.0</td>\n",
       "      <td>...</td>\n",
       "      <td>0.000000</td>\n",
       "      <td>0.500000</td>\n",
       "      <td>0.0</td>\n",
       "      <td>0.0</td>\n",
       "      <td>2.0</td>\n",
       "      <td>0.0</td>\n",
       "      <td>16.0</td>\n",
       "      <td>1.0</td>\n",
       "      <td>0.00</td>\n",
       "      <td>0.000000</td>\n",
       "    </tr>\n",
       "    <tr>\n",
       "      <th>275171</th>\n",
       "      <td>418907.0</td>\n",
       "      <td>1.0</td>\n",
       "      <td>0.0</td>\n",
       "      <td>1.0</td>\n",
       "      <td>0.0</td>\n",
       "      <td>184500.0</td>\n",
       "      <td>728460.0</td>\n",
       "      <td>-21989.0</td>\n",
       "      <td>-5862.0</td>\n",
       "      <td>-11270.0</td>\n",
       "      <td>...</td>\n",
       "      <td>0.142857</td>\n",
       "      <td>0.142857</td>\n",
       "      <td>0.0</td>\n",
       "      <td>0.0</td>\n",
       "      <td>2.0</td>\n",
       "      <td>0.0</td>\n",
       "      <td>56.0</td>\n",
       "      <td>1.0</td>\n",
       "      <td>0.00</td>\n",
       "      <td>0.000000</td>\n",
       "    </tr>\n",
       "    <tr>\n",
       "      <th>139526</th>\n",
       "      <td>261775.0</td>\n",
       "      <td>1.0</td>\n",
       "      <td>0.0</td>\n",
       "      <td>0.0</td>\n",
       "      <td>0.0</td>\n",
       "      <td>112500.0</td>\n",
       "      <td>239850.0</td>\n",
       "      <td>-25054.0</td>\n",
       "      <td>NaN</td>\n",
       "      <td>-2306.0</td>\n",
       "      <td>...</td>\n",
       "      <td>0.111111</td>\n",
       "      <td>0.333333</td>\n",
       "      <td>0.0</td>\n",
       "      <td>0.0</td>\n",
       "      <td>3.0</td>\n",
       "      <td>0.0</td>\n",
       "      <td>44.0</td>\n",
       "      <td>1.0</td>\n",
       "      <td>0.00</td>\n",
       "      <td>0.000000</td>\n",
       "    </tr>\n",
       "    <tr>\n",
       "      <th>283387</th>\n",
       "      <td>428191.0</td>\n",
       "      <td>0.0</td>\n",
       "      <td>0.0</td>\n",
       "      <td>0.0</td>\n",
       "      <td>1.0</td>\n",
       "      <td>360000.0</td>\n",
       "      <td>450000.0</td>\n",
       "      <td>-18862.0</td>\n",
       "      <td>-7093.0</td>\n",
       "      <td>-4303.0</td>\n",
       "      <td>...</td>\n",
       "      <td>0.285714</td>\n",
       "      <td>0.357143</td>\n",
       "      <td>0.0</td>\n",
       "      <td>0.0</td>\n",
       "      <td>3.0</td>\n",
       "      <td>22.0</td>\n",
       "      <td>44.0</td>\n",
       "      <td>1.0</td>\n",
       "      <td>28395.09</td>\n",
       "      <td>315.810000</td>\n",
       "    </tr>\n",
       "    <tr>\n",
       "      <th>14341</th>\n",
       "      <td>116728.0</td>\n",
       "      <td>1.0</td>\n",
       "      <td>1.0</td>\n",
       "      <td>0.0</td>\n",
       "      <td>0.0</td>\n",
       "      <td>112500.0</td>\n",
       "      <td>1350000.0</td>\n",
       "      <td>-21817.0</td>\n",
       "      <td>NaN</td>\n",
       "      <td>-1363.0</td>\n",
       "      <td>...</td>\n",
       "      <td>0.250000</td>\n",
       "      <td>0.250000</td>\n",
       "      <td>0.0</td>\n",
       "      <td>0.0</td>\n",
       "      <td>3.0</td>\n",
       "      <td>27.0</td>\n",
       "      <td>25.0</td>\n",
       "      <td>1.0</td>\n",
       "      <td>4342.50</td>\n",
       "      <td>34.615385</td>\n",
       "    </tr>\n",
       "  </tbody>\n",
       "</table>\n",
       "<p>5 rows × 130 columns</p>\n",
       "</div>"
      ],
      "text/plain": [
       "        SK_ID_CURR  CODE_GENDER  FLAG_OWN_CAR  FLAG_OWN_REALTY  CNT_CHILDREN  \\\n",
       "215169    349328.0          1.0           0.0              1.0           0.0   \n",
       "275171    418907.0          1.0           0.0              1.0           0.0   \n",
       "139526    261775.0          1.0           0.0              0.0           0.0   \n",
       "283387    428191.0          0.0           0.0              0.0           1.0   \n",
       "14341     116728.0          1.0           1.0              0.0           0.0   \n",
       "\n",
       "        AMT_INCOME_TOTAL  AMT_CREDIT  DAYS_BIRTH  DAYS_EMPLOYED  \\\n",
       "215169           99000.0    508495.5    -20255.0         -335.0   \n",
       "275171          184500.0    728460.0    -21989.0        -5862.0   \n",
       "139526          112500.0    239850.0    -25054.0            NaN   \n",
       "283387          360000.0    450000.0    -18862.0        -7093.0   \n",
       "14341           112500.0   1350000.0    -21817.0            NaN   \n",
       "\n",
       "        DAYS_REGISTRATION  ...  PREV_NAME_YIELD_GROUP_low_normal_MEAN  \\\n",
       "215169            -8392.0  ...                               0.000000   \n",
       "275171           -11270.0  ...                               0.142857   \n",
       "139526            -2306.0  ...                               0.111111   \n",
       "283387            -4303.0  ...                               0.285714   \n",
       "14341             -1363.0  ...                               0.250000   \n",
       "\n",
       "        PREV_NAME_YIELD_GROUP_middle_MEAN  POS_SK_DPD_MAX  POS_SK_DPD_DEF_MAX  \\\n",
       "215169                           0.500000             0.0                 0.0   \n",
       "275171                           0.142857             0.0                 0.0   \n",
       "139526                           0.333333             0.0                 0.0   \n",
       "283387                           0.357143             0.0                 0.0   \n",
       "14341                            0.250000             0.0                 0.0   \n",
       "\n",
       "        INSTAL_NUM_INSTALMENT_VERSION_NUNIQUE  INSTAL_DPD_MAX  INSTAL_DBD_MAX  \\\n",
       "215169                                    2.0             0.0            16.0   \n",
       "275171                                    2.0             0.0            56.0   \n",
       "139526                                    3.0             0.0            44.0   \n",
       "283387                                    3.0            22.0            44.0   \n",
       "14341                                     3.0            27.0            25.0   \n",
       "\n",
       "        INSTAL_PAYMENT_PERC_MAX  INSTAL_PAYMENT_DIFF_MAX  \\\n",
       "215169                      1.0                     0.00   \n",
       "275171                      1.0                     0.00   \n",
       "139526                      1.0                     0.00   \n",
       "283387                      1.0                 28395.09   \n",
       "14341                       1.0                  4342.50   \n",
       "\n",
       "        INSTAL_PAYMENT_DIFF_MEAN  \n",
       "215169                  0.000000  \n",
       "275171                  0.000000  \n",
       "139526                  0.000000  \n",
       "283387                315.810000  \n",
       "14341                  34.615385  \n",
       "\n",
       "[5 rows x 130 columns]"
      ]
     },
     "execution_count": 41,
     "metadata": {},
     "output_type": "execute_result"
    }
   ],
   "source": [
    "X_train.head()"
   ]
  },
  {
   "cell_type": "markdown",
   "id": "e49a36f1",
   "metadata": {},
   "source": [
    "## Sauvegarde des tables pour la prochaine étape (voir Notebook 5)"
   ]
  },
  {
   "cell_type": "code",
   "execution_count": 42,
   "id": "1a49910e",
   "metadata": {},
   "outputs": [],
   "source": [
    "X_train.to_csv('../data_models/X_train_post_preprocess.csv')"
   ]
  },
  {
   "cell_type": "code",
   "execution_count": 43,
   "id": "271e7fa4",
   "metadata": {},
   "outputs": [],
   "source": [
    "X_test.to_csv('../data_models/X_test_post_preprocess.csv')"
   ]
  },
  {
   "cell_type": "code",
   "execution_count": 44,
   "id": "14c04051",
   "metadata": {},
   "outputs": [],
   "source": [
    "y_train.to_csv('../data_models/y_train_post_preprocess.csv')\n",
    "y_test.to_csv('../data_models/y_test_post_preprocess.csv')"
   ]
  },
  {
   "cell_type": "code",
   "execution_count": null,
   "id": "f7992113",
   "metadata": {},
   "outputs": [],
   "source": []
  }
 ],
 "metadata": {
  "kernelspec": {
   "display_name": "Python 3 (ipykernel)",
   "language": "python",
   "name": "python3"
  },
  "language_info": {
   "codemirror_mode": {
    "name": "ipython",
    "version": 3
   },
   "file_extension": ".py",
   "mimetype": "text/x-python",
   "name": "python",
   "nbconvert_exporter": "python",
   "pygments_lexer": "ipython3",
   "version": "3.9.12"
  }
 },
 "nbformat": 4,
 "nbformat_minor": 5
}
