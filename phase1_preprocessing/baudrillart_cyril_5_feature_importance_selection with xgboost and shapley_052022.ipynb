{
 "cells": [
  {
   "cell_type": "markdown",
   "id": "55f92077",
   "metadata": {},
   "source": [
    "# Recherche des features importantes"
   ]
  },
  {
   "cell_type": "markdown",
   "id": "f74e64cf",
   "metadata": {},
   "source": [
    "## Chargement des librairies"
   ]
  },
  {
   "cell_type": "raw",
   "id": "87c070ea",
   "metadata": {},
   "source": [
    "# Doc concernant pb importation de modules créés par l'utilisateur sous Linux\n",
    "# Add user module to sys.path\n",
    "# https://askubuntu.com/questions/470982/how-to-add-a-python-module-to-syspath\n",
    "import sys\n",
    "# if module 'custom_functions is missing, add it to path'\n",
    "sys.path.insert(0, \"/home/cyril/openclassrooms/projets/P7/P7_baudrillart_cyril_V2/custom_functions\")\n",
    "print(sys.path)\n",
    "# dans l'environnement miniconda, ajouter\n",
    "# https://towardsdatascience.com/how-to-fix-modulenotfounderror-and-importerror-248ce5b69b1c\n",
    "export PYTHONPATH=\"$:/home/cyril/openclassrooms/projets/P7/P7_baudrillart_cyril_V2/custom_functions/\""
   ]
  },
  {
   "cell_type": "code",
   "execution_count": 1,
   "id": "d4d49382",
   "metadata": {},
   "outputs": [],
   "source": [
    "# import custom module\n",
    "import sys\n",
    "sys.path.insert(0, \"../custom_functions\")\n",
    "from model_analysis import plot_confusion_matrix"
   ]
  },
  {
   "cell_type": "code",
   "execution_count": 2,
   "id": "f2fc2bac",
   "metadata": {},
   "outputs": [],
   "source": [
    "# import standard ML librairies\n",
    "import pandas as pd\n",
    "import numpy as np\n",
    "from collections import Counter\n",
    "import  matplotlib.pyplot as plt\n",
    "import seaborn as sns\n",
    "import gc\n",
    "\n",
    "# import scikit-learn\n",
    "from sklearn.metrics import f1_score, recall_score, roc_auc_score, precision_score\n",
    "from sklearn.metrics import classification_report\n",
    "from sklearn.model_selection import KFold, StratifiedKFold, train_test_split\n",
    "from sklearn.impute import SimpleImputer\n",
    "from sklearn.feature_selection import SelectFromModel, VarianceThreshold\n",
    "from sklearn.model_selection import cross_val_score, RepeatedStratifiedKFold\n",
    "from sklearn.pipeline import Pipeline as skpipe\n",
    "from sklearn.preprocessing import StandardScaler\n",
    "from sklearn.metrics import confusion_matrix\n",
    "\n",
    "# import specialized ML librairies\n",
    "from imblearn.under_sampling import RandomUnderSampler\n",
    "from imblearn.pipeline import Pipeline\n",
    "from xgboost import XGBClassifier\n",
    "import shap"
   ]
  },
  {
   "cell_type": "markdown",
   "id": "70c8840d",
   "metadata": {},
   "source": [
    "## Chargement des données retraitées"
   ]
  },
  {
   "cell_type": "code",
   "execution_count": 3,
   "id": "05b7b5a9",
   "metadata": {},
   "outputs": [],
   "source": [
    "# Load train set after preprocessing (see notebook 4)\n",
    "X_train = pd.read_csv('../data_models/X_train_post_preprocess.csv', index_col=0)\n",
    "# ... and target of train set\n",
    "y_train = pd.read_csv('../data_models/y_train_post_preprocess.csv', index_col=0)\n",
    "# Load test set after preprocessing\n",
    "X_test = pd.read_csv('../data_models/X_test_post_preprocess.csv', index_col=0)\n",
    "# ... and target of test set\n",
    "y_test = pd.read_csv('../data_models/y_test_post_preprocess.csv', index_col=0)"
   ]
  },
  {
   "cell_type": "markdown",
   "id": "8e850f30",
   "metadata": {},
   "source": [
    "## Analyse XGBoost"
   ]
  },
  {
   "cell_type": "markdown",
   "id": "75e1bedf",
   "metadata": {},
   "source": [
    "Méthode retenue pour la sélection des variables. L'avantage du XGBoost est qu'il n'est pas nécessaire d'imputer les valeurs manquantes. Celà permet de ne pas modifier les relations entre features et target."
   ]
  },
  {
   "cell_type": "markdown",
   "id": "12e4e3c6",
   "metadata": {},
   "source": [
    "https://openclassrooms.com/fr/courses/6401081-improve-the-performance-of-a-machine-learning-model/6519011-evaluate-the-performance-of-a-classification-model"
   ]
  },
  {
   "cell_type": "markdown",
   "id": "58b05fd2",
   "metadata": {},
   "source": [
    "https://datascience.stackexchange.com/questions/72958/what-does-the-classification-report-interpret-class-1-indicates-abnormal-data"
   ]
  },
  {
   "cell_type": "markdown",
   "id": "540c54bd",
   "metadata": {},
   "source": [
    "On cherche dans le projet à minimimiser les faux négatifs (crédit accepté alors qu'il n'est pas remboursé).  \n",
    "Celà revient à maximiser le Recall = True Positives / (True Positive + False Negatives)"
   ]
  },
  {
   "cell_type": "markdown",
   "id": "d92e9a05",
   "metadata": {},
   "source": [
    "### Recall & AUC sur données non retraitées"
   ]
  },
  {
   "cell_type": "code",
   "execution_count": 4,
   "id": "47667b05",
   "metadata": {},
   "outputs": [
    {
     "data": {
      "image/png": "[encoded data removed]",
      "text/plain": [
       "<Figure size 432x288 with 2 Axes>"
      ]
     },
     "metadata": {
      "needs_background": "light"
     },
     "output_type": "display_data"
    },
    {
     "name": "stdout",
     "output_type": "stream",
     "text": [
      "              precision    recall  f1-score   support\n",
      "\n",
      "         0.0       0.92      1.00      0.96     88486\n",
      "         1.0       0.45      0.04      0.07      7895\n",
      "\n",
      "    accuracy                           0.92     96381\n",
      "   macro avg       0.69      0.52      0.52     96381\n",
      "weighted avg       0.88      0.92      0.88     96381\n",
      "\n",
      "ROC AUC Score: 0.52\n"
     ]
    }
   ],
   "source": [
    "# Création d'un modèle XGBoost avec hyperparamètres standards\n",
    "model = XGBClassifier()\n",
    "# Entrainement du modèle\n",
    "model.fit(X_train, y_train)\n",
    "# make predictions for test data and evaluate\n",
    "y_pred = model.predict(X_test)\n",
    "\n",
    "# Plot the confusion matrix\n",
    "plot_confusion_matrix(y_test, y_pred)"
   ]
  },
  {
   "cell_type": "markdown",
   "id": "338d6ea6",
   "metadata": {},
   "source": [
    "Pour la classe 1 (crédit refusé), le recall est très mauvais. Recall = 318/(318+7577) = 0.04. C'est dû au déséquilibre entre les classes."
   ]
  },
  {
   "cell_type": "markdown",
   "id": "5f2834d8",
   "metadata": {},
   "source": [
    "https://machinelearningmastery.com/xgboost-for-imbalanced-classification/"
   ]
  },
  {
   "cell_type": "markdown",
   "id": "d57d8756",
   "metadata": {},
   "source": [
    "### Recall & AUC sur données rééquilibrées"
   ]
  },
  {
   "cell_type": "markdown",
   "id": "907903b2",
   "metadata": {},
   "source": [
    "Il faut augmenter le poids de la classe positive pour améliorer la performance du modèle. Le XGBoost permet de gérer les classes inégales avec le paramètre scale_pos_weight."
   ]
  },
  {
   "cell_type": "code",
   "execution_count": 5,
   "id": "edb2ba45",
   "metadata": {},
   "outputs": [
    {
     "data": {
      "image/png": "[encoded data removed]",
      "text/plain": [
       "<Figure size 432x288 with 2 Axes>"
      ]
     },
     "metadata": {
      "needs_background": "light"
     },
     "output_type": "display_data"
    },
    {
     "name": "stdout",
     "output_type": "stream",
     "text": [
      "              precision    recall  f1-score   support\n",
      "\n",
      "         0.0       0.95      0.77      0.85     88486\n",
      "         1.0       0.18      0.57      0.28      7895\n",
      "\n",
      "    accuracy                           0.76     96381\n",
      "   macro avg       0.57      0.67      0.57     96381\n",
      "weighted avg       0.89      0.76      0.81     96381\n",
      "\n",
      "ROC AUC Score: 0.67\n"
     ]
    }
   ],
   "source": [
    "# rééquilibrage des classes\n",
    "model = XGBClassifier(scale_pos_weight=11)\n",
    "model.fit(X_train, y_train)\n",
    "# make predictions for test data and evaluate\n",
    "y_pred = model.predict(X_test)\n",
    "\n",
    "# Plot the confusion matrix\n",
    "plot_confusion_matrix(y_test, y_pred)"
   ]
  },
  {
   "cell_type": "markdown",
   "id": "4e013788",
   "metadata": {},
   "source": [
    "L'équilibrage des classes permet d'améliorer nettement le recall de la classe 1, ainsi que le score ROC AUC."
   ]
  },
  {
   "cell_type": "raw",
   "id": "772d1d85",
   "metadata": {},
   "source": [
    "# possible d'utiliser des folds mais exécution longue pour peu de valeur ajoutée à ce stade\n",
    "\n",
    "model = XGBClassifier(scale_pos_weight=11)\n",
    "# define evaluation procedure\n",
    "cv = RepeatedStratifiedKFold(n_splits=10, n_repeats=3, random_state=1)\n",
    "# evaluate model\n",
    "scores = cross_val_score(model, X_test, y_test, scoring='recall', cv=cv, n_jobs=-1)\n",
    "# summarize performance\n",
    "print('Mean ROC AUC: %.5f' % scores.mean())"
   ]
  },
  {
   "cell_type": "markdown",
   "id": "7ca7c4e5",
   "metadata": {},
   "source": [
    "On peut donc utiliser le paramètre feature_importance du modèle"
   ]
  },
  {
   "cell_type": "markdown",
   "id": "8f1ae8e2",
   "metadata": {},
   "source": [
    "### Equilibrage des classes avec la librairie imblearn"
   ]
  },
  {
   "cell_type": "markdown",
   "id": "41501540",
   "metadata": {},
   "source": [
    "Essayons maintennt d'améliorer la performance du modèle en réalisant un équilibrage des classes avec imblearn (problème traité plus en détail dans la phase 2 du projet)"
   ]
  },
  {
   "cell_type": "code",
   "execution_count": 6,
   "id": "76b9620c",
   "metadata": {},
   "outputs": [],
   "source": [
    "# Imputation des données manquantes et xgboost\n",
    "# Création d'un pipeline imblearn (et non sckikit-learn)\n",
    "steps = [('oversample', RandomUnderSampler(random_state=42)),\n",
    "         ('impute', SimpleImputer(strategy='median')),\n",
    "         ('model', XGBClassifier())]\n",
    "\n",
    "pipeline = Pipeline(steps=steps)"
   ]
  },
  {
   "cell_type": "code",
   "execution_count": 7,
   "id": "59f31bb0",
   "metadata": {},
   "outputs": [
    {
     "data": {
      "image/png": "[encoded data removed]",
      "text/plain": [
       "<Figure size 432x288 with 2 Axes>"
      ]
     },
     "metadata": {
      "needs_background": "light"
     },
     "output_type": "display_data"
    },
    {
     "name": "stdout",
     "output_type": "stream",
     "text": [
      "              precision    recall  f1-score   support\n",
      "\n",
      "         0.0       0.96      0.67      0.79     88486\n",
      "         1.0       0.16      0.68      0.26      7895\n",
      "\n",
      "    accuracy                           0.67     96381\n",
      "   macro avg       0.56      0.68      0.52     96381\n",
      "weighted avg       0.89      0.67      0.75     96381\n",
      "\n",
      "ROC AUC Score: 0.68\n",
      "CPU times: user 58.2 s, sys: 292 ms, total: 58.5 s\n",
      "Wall time: 4.66 s\n"
     ]
    }
   ],
   "source": [
    "%%time\n",
    "pipeline.fit(X_train, y_train)\n",
    "\n",
    "y_pred = pipeline.predict(X_test)\n",
    "# Plot the confusion matrix\n",
    "plot_confusion_matrix(y_test, y_pred)"
   ]
  },
  {
   "cell_type": "markdown",
   "id": "faef5638",
   "metadata": {},
   "source": [
    "Nette amélioration du recall qui est désormais égal pour les classes 0 et 1."
   ]
  },
  {
   "cell_type": "markdown",
   "id": "be04d457",
   "metadata": {},
   "source": [
    "### Tri des features du modèle XGBoost retenu"
   ]
  },
  {
   "cell_type": "markdown",
   "id": "6a837f6b",
   "metadata": {},
   "source": [
    "https://stackoverflow.com/questions/26984414/efficiently-sorting-a-numpy-array-in-descending-order"
   ]
  },
  {
   "cell_type": "markdown",
   "id": "ee9f2151",
   "metadata": {},
   "source": [
    "Le modèle retenu est le dernier entraîné avec un pipeline imblearn."
   ]
  },
  {
   "cell_type": "code",
   "execution_count": 8,
   "id": "b9596da4",
   "metadata": {},
   "outputs": [],
   "source": [
    "# Tri de l'importance des features par ordre décroissant\n",
    "thresholds = -np.sort(-pipeline['model'].feature_importances_)"
   ]
  },
  {
   "cell_type": "markdown",
   "id": "8b37b7fb",
   "metadata": {},
   "source": [
    "https://stackoverflow.com/questions/41900387/mapping-column-names-to-random-forest-feature-importances"
   ]
  },
  {
   "cell_type": "code",
   "execution_count": 9,
   "id": "0794dfef",
   "metadata": {},
   "outputs": [],
   "source": [
    "# recherche des noms de features dans le X_train\n",
    "feats = {} # a dict to hold feature_name: feature_importance\n",
    "for feature, importance in zip(X_train.columns, pipeline['model'].feature_importances_):\n",
    "    feats[feature] = importance #add the name/value pair "
   ]
  },
  {
   "cell_type": "code",
   "execution_count": 10,
   "id": "d769bc7c",
   "metadata": {},
   "outputs": [
    {
     "data": {
      "text/html": [
       "<div>\n",
       "<style scoped>\n",
       "    .dataframe tbody tr th:only-of-type {\n",
       "        vertical-align: middle;\n",
       "    }\n",
       "\n",
       "    .dataframe tbody tr th {\n",
       "        vertical-align: top;\n",
       "    }\n",
       "\n",
       "    .dataframe thead th {\n",
       "        text-align: right;\n",
       "    }\n",
       "</style>\n",
       "<table border=\"1\" class=\"dataframe\">\n",
       "  <thead>\n",
       "    <tr style=\"text-align: right;\">\n",
       "      <th></th>\n",
       "      <th>feature_importance</th>\n",
       "    </tr>\n",
       "  </thead>\n",
       "  <tbody>\n",
       "    <tr>\n",
       "      <th>EXT_SOURCE_3</th>\n",
       "      <td>0.043696</td>\n",
       "    </tr>\n",
       "    <tr>\n",
       "      <th>EXT_SOURCE_2</th>\n",
       "      <td>0.034378</td>\n",
       "    </tr>\n",
       "    <tr>\n",
       "      <th>CODE_GENDER</th>\n",
       "      <td>0.027603</td>\n",
       "    </tr>\n",
       "    <tr>\n",
       "      <th>NAME_EDUCATION_TYPE_Higher_education</th>\n",
       "      <td>0.024350</td>\n",
       "    </tr>\n",
       "    <tr>\n",
       "      <th>NAME_CONTRACT_TYPE_Cash_loans</th>\n",
       "      <td>0.017443</td>\n",
       "    </tr>\n",
       "    <tr>\n",
       "      <th>NAME_INCOME_TYPE_State_servant</th>\n",
       "      <td>0.015136</td>\n",
       "    </tr>\n",
       "    <tr>\n",
       "      <th>PREV_NAME_GOODS_CATEGORY_Furniture_MEAN</th>\n",
       "      <td>0.014797</td>\n",
       "    </tr>\n",
       "    <tr>\n",
       "      <th>FLAG_OWN_CAR</th>\n",
       "      <td>0.014019</td>\n",
       "    </tr>\n",
       "    <tr>\n",
       "      <th>POS_SK_DPD_DEF_MAX</th>\n",
       "      <td>0.012409</td>\n",
       "    </tr>\n",
       "    <tr>\n",
       "      <th>INSTAL_PAYMENT_DIFF_MEAN</th>\n",
       "      <td>0.011773</td>\n",
       "    </tr>\n",
       "  </tbody>\n",
       "</table>\n",
       "</div>"
      ],
      "text/plain": [
       "                                         feature_importance\n",
       "EXT_SOURCE_3                                       0.043696\n",
       "EXT_SOURCE_2                                       0.034378\n",
       "CODE_GENDER                                        0.027603\n",
       "NAME_EDUCATION_TYPE_Higher_education               0.024350\n",
       "NAME_CONTRACT_TYPE_Cash_loans                      0.017443\n",
       "NAME_INCOME_TYPE_State_servant                     0.015136\n",
       "PREV_NAME_GOODS_CATEGORY_Furniture_MEAN            0.014797\n",
       "FLAG_OWN_CAR                                       0.014019\n",
       "POS_SK_DPD_DEF_MAX                                 0.012409\n",
       "INSTAL_PAYMENT_DIFF_MEAN                           0.011773"
      ]
     },
     "execution_count": 10,
     "metadata": {},
     "output_type": "execute_result"
    }
   ],
   "source": [
    "# création d'un dataframe stockant l'importance des features par ordre décroissant\n",
    "main_features = pd.DataFrame.from_dict(feats, orient='index').sort_values(by=0, ascending=False)\n",
    "main_features = main_features.rename(columns={0:\"feature_importance\"})\n",
    "# Affichage des 10 features les plus importantes\n",
    "main_features.head(10)"
   ]
  },
  {
   "cell_type": "code",
   "execution_count": 11,
   "id": "16eb29cb",
   "metadata": {
    "scrolled": true
   },
   "outputs": [
    {
     "data": {
      "text/plain": [
       "Text(0.5, 1.0, 'Xgboost Feature Importance by descending order (first 20 features)')"
      ]
     },
     "execution_count": 11,
     "metadata": {},
     "output_type": "execute_result"
    },
    {
     "data": {
      "image/png": "[encoded data removed]",
      "text/plain": [
       "<Figure size 1008x1008 with 1 Axes>"
      ]
     },
     "metadata": {
      "needs_background": "light"
     },
     "output_type": "display_data"
    }
   ],
   "source": [
    "# Graphique des 20 principales variables\n",
    "plt.rcParams[\"figure.figsize\"] = (14, 14)\n",
    "sorted_idx = main_features.values.flatten().argsort()\n",
    "sorted_idx = sorted_idx[-20:]\n",
    "plt.barh(main_features.index[sorted_idx],\n",
    "         main_features.values.flatten()[sorted_idx])\n",
    "plt.xlabel(\"Xgboost Feature Importance\")\n",
    "plt.title(\"Xgboost Feature Importance by descending order (first 20 features)\")"
   ]
  },
  {
   "cell_type": "markdown",
   "id": "a9d1cc4b",
   "metadata": {},
   "source": [
    "On peut tester la performance du modèle en fonction du nombre de features. On commence les tests en choissant les features par ordre décroissant d'importance. Le processus utilisant la fonction scikit-learn 'SelectFromModel' est décrit dans cet article:"
   ]
  },
  {
   "cell_type": "markdown",
   "id": "2aad848a",
   "metadata": {},
   "source": [
    "https://machinelearningmastery.com/feature-importance-and-feature-selection-with-xgboost-in-python/"
   ]
  },
  {
   "cell_type": "markdown",
   "id": "0c2a2cc6",
   "metadata": {},
   "source": [
    "Des tests de cette fonction ont été effectués ci-dessous mais ils ne sont pas très utiles car l'importance des variables dépend du modèle choisi et des paramètres sélectionés. "
   ]
  },
  {
   "cell_type": "code",
   "execution_count": 12,
   "id": "183cfe17",
   "metadata": {},
   "outputs": [
    {
     "name": "stdout",
     "output_type": "stream",
     "text": [
      "Thresh=0.034, n=1, recall: 66.57%, roc_auc: 61.44%\n",
      "Thresh=0.028, n=3, recall: 62.39%, roc_auc: 64.84%\n"
     ]
    }
   ],
   "source": [
    "# select list of thresholds to use\n",
    "thresholds2 = thresholds[1:3]\n",
    "# Store results in a dataframe\n",
    "column_names = [\"threshold\", \"n\", \"recall\"]\n",
    "df_recall=pd.DataFrame(columns=column_names)\n",
    "\n",
    "for thresh in thresholds2:\n",
    "    # select features using threshold\n",
    "    selection = SelectFromModel(model, threshold=thresh, prefit=True)\n",
    "    # Reduce number of columns in X_train\n",
    "    # keep column only if feature importance is above threshold\n",
    "    select_X_train = selection.transform(X_train.values)\n",
    "    # train new model using reduced features number\n",
    "    selection_model = XGBClassifier(scale_pos_weight=11)\n",
    "    selection_model.fit(select_X_train, y_train)\n",
    "    # eval model\n",
    "    # Use same columns than in select_X_train\n",
    "    select_X_test = selection.transform(X_test.values)\n",
    "    # predict y_test with model\n",
    "    y_pred = selection_model.predict(select_X_test)\n",
    "    # Calculate recall score (metric we want to maximise)\n",
    "    recall = recall_score(y_test, y_pred)\n",
    "    auc_roc = roc_auc_score(y_test, y_pred)\n",
    "    # Add new row to dataframe\n",
    "    new_row = [thresh, select_X_train.shape[1], recall*100.0]\n",
    "    new_line = pd.DataFrame([new_row], columns=column_names)\n",
    "    df_recall = pd.concat([df_recall, new_line])\n",
    "    # print new results\n",
    "    print(\"Thresh=%.3f, n=%d, recall: %.2f%%, roc_auc: %.2f%%\" % (thresh,\n",
    "                                                                    select_X_train.shape[1],\n",
    "                                                                    recall*100,\n",
    "                                                                    auc_roc*100))"
   ]
  },
  {
   "cell_type": "markdown",
   "id": "6b0f7e98",
   "metadata": {},
   "source": [
    "https://towardsdatascience.com/precision-vs-recall-evaluating-model-performance-in-credit-card-fraud-detection-bb24958b2723"
   ]
  },
  {
   "cell_type": "markdown",
   "id": "793cd005",
   "metadata": {},
   "source": [
    "https://stackoverflow.com/questions/37877542/how-to-label-the-feature-importance-with-forests-of-trees"
   ]
  },
  {
   "cell_type": "markdown",
   "id": "477d9196",
   "metadata": {},
   "source": [
    "## Influence globale des variables avec Shapley"
   ]
  },
  {
   "cell_type": "markdown",
   "id": "aba695d4",
   "metadata": {},
   "source": [
    "Afin d'affiner l'importanced de chaque variable au sein du modèle, on peut compléter l'analyse en étudiant les valeurs de Shapley. Voir notebook \"9_interpretability\" pour plus de précisions."
   ]
  },
  {
   "cell_type": "code",
   "execution_count": 13,
   "id": "285585c7",
   "metadata": {},
   "outputs": [],
   "source": [
    "X = pd.concat([X_train, X_test])\n",
    "y = pd.concat([y_train, y_test])"
   ]
  },
  {
   "cell_type": "code",
   "execution_count": 14,
   "id": "da388a5d",
   "metadata": {},
   "outputs": [],
   "source": [
    "# Chargement des 50 features les plus importantes selon la modèle XGBoost retenu\n",
    "X_top50 = X[main_features.head(50).index]"
   ]
  },
  {
   "cell_type": "markdown",
   "id": "c5578fc1",
   "metadata": {},
   "source": [
    "En choisissant 50 variables, nous avons une vision assez large des relations entre variables et target."
   ]
  },
  {
   "cell_type": "markdown",
   "id": "8c8d66ff",
   "metadata": {},
   "source": [
    "### Calcul des valeurs de Shapley"
   ]
  },
  {
   "cell_type": "code",
   "execution_count": 15,
   "id": "df31b0c3",
   "metadata": {},
   "outputs": [
    {
     "name": "stdout",
     "output_type": "stream",
     "text": [
      "original dataset shape: Counter({0.0: 268139, 1.0: 23923})\n",
      "Resample dataset shape Counter({0.0: 23923, 1.0: 23923})\n"
     ]
    }
   ],
   "source": [
    "# 1- Echantillonnage des données avec RandomUnderSampler (voir phase_2 pour plus d'explications)\n",
    "rus = RandomUnderSampler(random_state=42, replacement=True)\n",
    "# rebalancement des classes\n",
    "x_rus, y_rus = rus.fit_resample(X_top50, y)\n",
    "print('original dataset shape:', Counter(y.TARGET))\n",
    "print('Resample dataset shape', Counter(y_rus.TARGET))"
   ]
  },
  {
   "cell_type": "code",
   "execution_count": 16,
   "id": "cd2c7e23",
   "metadata": {},
   "outputs": [
    {
     "data": {
      "text/plain": [
       "14747"
      ]
     },
     "execution_count": 16,
     "metadata": {},
     "output_type": "execute_result"
    }
   ],
   "source": [
    "del X_top50\n",
    "gc.collect()"
   ]
  },
  {
   "cell_type": "code",
   "execution_count": 17,
   "id": "7d407d98",
   "metadata": {},
   "outputs": [],
   "source": [
    "# Création d'un train & test set à partir des données sous-échantillonnées\n",
    "X_rus_train, X_rus_test, y_rus_train, y_rus_test = train_test_split(x_rus, y_rus,\n",
    "                                                                    test_size=0.3,\n",
    "                                                                    random_state=2)"
   ]
  },
  {
   "cell_type": "code",
   "execution_count": 18,
   "id": "10f8e3d6",
   "metadata": {},
   "outputs": [
    {
     "data": {
      "text/plain": [
       "0"
      ]
     },
     "execution_count": 18,
     "metadata": {},
     "output_type": "execute_result"
    }
   ],
   "source": [
    "del x_rus\n",
    "del y_rus\n",
    "gc.collect()"
   ]
  },
  {
   "cell_type": "code",
   "execution_count": 19,
   "id": "adc06461",
   "metadata": {},
   "outputs": [
    {
     "data": {
      "text/html": [
       "<div>\n",
       "<style scoped>\n",
       "    .dataframe tbody tr th:only-of-type {\n",
       "        vertical-align: middle;\n",
       "    }\n",
       "\n",
       "    .dataframe tbody tr th {\n",
       "        vertical-align: top;\n",
       "    }\n",
       "\n",
       "    .dataframe thead th {\n",
       "        text-align: right;\n",
       "    }\n",
       "</style>\n",
       "<table border=\"1\" class=\"dataframe\">\n",
       "  <thead>\n",
       "    <tr style=\"text-align: right;\">\n",
       "      <th></th>\n",
       "      <th>EXT_SOURCE_3</th>\n",
       "      <th>EXT_SOURCE_2</th>\n",
       "      <th>CODE_GENDER</th>\n",
       "      <th>NAME_EDUCATION_TYPE_Higher_education</th>\n",
       "      <th>NAME_CONTRACT_TYPE_Cash_loans</th>\n",
       "      <th>NAME_INCOME_TYPE_State_servant</th>\n",
       "      <th>PREV_NAME_GOODS_CATEGORY_Furniture_MEAN</th>\n",
       "      <th>FLAG_OWN_CAR</th>\n",
       "      <th>POS_SK_DPD_DEF_MAX</th>\n",
       "      <th>INSTAL_PAYMENT_DIFF_MEAN</th>\n",
       "      <th>...</th>\n",
       "      <th>BURO_DAYS_CREDIT_ENDDATE_MAX</th>\n",
       "      <th>DAYS_LAST_PHONE_CHANGE</th>\n",
       "      <th>NAME_HOUSING_TYPE_House_/_apartment</th>\n",
       "      <th>ORGANIZATION_TYPE_Trade:_type_7</th>\n",
       "      <th>PREV_NAME_SELLER_INDUSTRY_Consumer_electronics_MEAN</th>\n",
       "      <th>BURO_AMT_CREDIT_SUM_LIMIT_MEAN</th>\n",
       "      <th>ORGANIZATION_TYPE_Government</th>\n",
       "      <th>WEEKDAY_APPR_PROCESS_START_THURSDAY</th>\n",
       "      <th>DAYS_ID_PUBLISH</th>\n",
       "      <th>NAME_FAMILY_STATUS_Separated</th>\n",
       "    </tr>\n",
       "  </thead>\n",
       "  <tbody>\n",
       "    <tr>\n",
       "      <th>26449</th>\n",
       "      <td>0.105473</td>\n",
       "      <td>0.063543</td>\n",
       "      <td>1.0</td>\n",
       "      <td>0.0</td>\n",
       "      <td>1.0</td>\n",
       "      <td>0.0</td>\n",
       "      <td>0.000</td>\n",
       "      <td>0.0</td>\n",
       "      <td>0.0</td>\n",
       "      <td>0.000000</td>\n",
       "      <td>...</td>\n",
       "      <td>132.0</td>\n",
       "      <td>-249.0</td>\n",
       "      <td>1.0</td>\n",
       "      <td>0.0</td>\n",
       "      <td>1.000000</td>\n",
       "      <td>0.0</td>\n",
       "      <td>0.0</td>\n",
       "      <td>0.0</td>\n",
       "      <td>-699.0</td>\n",
       "      <td>0.0</td>\n",
       "    </tr>\n",
       "    <tr>\n",
       "      <th>28590</th>\n",
       "      <td>0.472253</td>\n",
       "      <td>0.212280</td>\n",
       "      <td>0.0</td>\n",
       "      <td>0.0</td>\n",
       "      <td>1.0</td>\n",
       "      <td>0.0</td>\n",
       "      <td>0.000</td>\n",
       "      <td>1.0</td>\n",
       "      <td>15.0</td>\n",
       "      <td>5515.486875</td>\n",
       "      <td>...</td>\n",
       "      <td>941.0</td>\n",
       "      <td>-859.0</td>\n",
       "      <td>1.0</td>\n",
       "      <td>0.0</td>\n",
       "      <td>0.333333</td>\n",
       "      <td>0.0</td>\n",
       "      <td>0.0</td>\n",
       "      <td>1.0</td>\n",
       "      <td>-3111.0</td>\n",
       "      <td>0.0</td>\n",
       "    </tr>\n",
       "    <tr>\n",
       "      <th>16542</th>\n",
       "      <td>0.547810</td>\n",
       "      <td>0.464989</td>\n",
       "      <td>1.0</td>\n",
       "      <td>0.0</td>\n",
       "      <td>1.0</td>\n",
       "      <td>0.0</td>\n",
       "      <td>0.000</td>\n",
       "      <td>0.0</td>\n",
       "      <td>2.0</td>\n",
       "      <td>0.000000</td>\n",
       "      <td>...</td>\n",
       "      <td>1029.0</td>\n",
       "      <td>0.0</td>\n",
       "      <td>1.0</td>\n",
       "      <td>0.0</td>\n",
       "      <td>0.000000</td>\n",
       "      <td>0.0</td>\n",
       "      <td>0.0</td>\n",
       "      <td>0.0</td>\n",
       "      <td>-398.0</td>\n",
       "      <td>0.0</td>\n",
       "    </tr>\n",
       "    <tr>\n",
       "      <th>994</th>\n",
       "      <td>0.684828</td>\n",
       "      <td>0.284672</td>\n",
       "      <td>0.0</td>\n",
       "      <td>1.0</td>\n",
       "      <td>1.0</td>\n",
       "      <td>0.0</td>\n",
       "      <td>0.000</td>\n",
       "      <td>1.0</td>\n",
       "      <td>0.0</td>\n",
       "      <td>0.000000</td>\n",
       "      <td>...</td>\n",
       "      <td>1520.0</td>\n",
       "      <td>-617.0</td>\n",
       "      <td>1.0</td>\n",
       "      <td>0.0</td>\n",
       "      <td>0.000000</td>\n",
       "      <td>0.0</td>\n",
       "      <td>0.0</td>\n",
       "      <td>0.0</td>\n",
       "      <td>-2557.0</td>\n",
       "      <td>0.0</td>\n",
       "    </tr>\n",
       "    <tr>\n",
       "      <th>31557</th>\n",
       "      <td>NaN</td>\n",
       "      <td>0.587407</td>\n",
       "      <td>0.0</td>\n",
       "      <td>0.0</td>\n",
       "      <td>1.0</td>\n",
       "      <td>0.0</td>\n",
       "      <td>0.625</td>\n",
       "      <td>0.0</td>\n",
       "      <td>0.0</td>\n",
       "      <td>0.000000</td>\n",
       "      <td>...</td>\n",
       "      <td>-294.0</td>\n",
       "      <td>0.0</td>\n",
       "      <td>1.0</td>\n",
       "      <td>0.0</td>\n",
       "      <td>0.250000</td>\n",
       "      <td>0.0</td>\n",
       "      <td>0.0</td>\n",
       "      <td>0.0</td>\n",
       "      <td>-4787.0</td>\n",
       "      <td>0.0</td>\n",
       "    </tr>\n",
       "  </tbody>\n",
       "</table>\n",
       "<p>5 rows × 50 columns</p>\n",
       "</div>"
      ],
      "text/plain": [
       "       EXT_SOURCE_3  EXT_SOURCE_2  CODE_GENDER  \\\n",
       "26449      0.105473      0.063543          1.0   \n",
       "28590      0.472253      0.212280          0.0   \n",
       "16542      0.547810      0.464989          1.0   \n",
       "994        0.684828      0.284672          0.0   \n",
       "31557           NaN      0.587407          0.0   \n",
       "\n",
       "       NAME_EDUCATION_TYPE_Higher_education  NAME_CONTRACT_TYPE_Cash_loans  \\\n",
       "26449                                   0.0                            1.0   \n",
       "28590                                   0.0                            1.0   \n",
       "16542                                   0.0                            1.0   \n",
       "994                                     1.0                            1.0   \n",
       "31557                                   0.0                            1.0   \n",
       "\n",
       "       NAME_INCOME_TYPE_State_servant  \\\n",
       "26449                             0.0   \n",
       "28590                             0.0   \n",
       "16542                             0.0   \n",
       "994                               0.0   \n",
       "31557                             0.0   \n",
       "\n",
       "       PREV_NAME_GOODS_CATEGORY_Furniture_MEAN  FLAG_OWN_CAR  \\\n",
       "26449                                    0.000           0.0   \n",
       "28590                                    0.000           1.0   \n",
       "16542                                    0.000           0.0   \n",
       "994                                      0.000           1.0   \n",
       "31557                                    0.625           0.0   \n",
       "\n",
       "       POS_SK_DPD_DEF_MAX  INSTAL_PAYMENT_DIFF_MEAN  ...  \\\n",
       "26449                 0.0                  0.000000  ...   \n",
       "28590                15.0               5515.486875  ...   \n",
       "16542                 2.0                  0.000000  ...   \n",
       "994                   0.0                  0.000000  ...   \n",
       "31557                 0.0                  0.000000  ...   \n",
       "\n",
       "       BURO_DAYS_CREDIT_ENDDATE_MAX  DAYS_LAST_PHONE_CHANGE  \\\n",
       "26449                         132.0                  -249.0   \n",
       "28590                         941.0                  -859.0   \n",
       "16542                        1029.0                     0.0   \n",
       "994                          1520.0                  -617.0   \n",
       "31557                        -294.0                     0.0   \n",
       "\n",
       "       NAME_HOUSING_TYPE_House_/_apartment  ORGANIZATION_TYPE_Trade:_type_7  \\\n",
       "26449                                  1.0                              0.0   \n",
       "28590                                  1.0                              0.0   \n",
       "16542                                  1.0                              0.0   \n",
       "994                                    1.0                              0.0   \n",
       "31557                                  1.0                              0.0   \n",
       "\n",
       "       PREV_NAME_SELLER_INDUSTRY_Consumer_electronics_MEAN  \\\n",
       "26449                                           1.000000     \n",
       "28590                                           0.333333     \n",
       "16542                                           0.000000     \n",
       "994                                             0.000000     \n",
       "31557                                           0.250000     \n",
       "\n",
       "       BURO_AMT_CREDIT_SUM_LIMIT_MEAN  ORGANIZATION_TYPE_Government  \\\n",
       "26449                             0.0                           0.0   \n",
       "28590                             0.0                           0.0   \n",
       "16542                             0.0                           0.0   \n",
       "994                               0.0                           0.0   \n",
       "31557                             0.0                           0.0   \n",
       "\n",
       "       WEEKDAY_APPR_PROCESS_START_THURSDAY  DAYS_ID_PUBLISH  \\\n",
       "26449                                  0.0           -699.0   \n",
       "28590                                  1.0          -3111.0   \n",
       "16542                                  0.0           -398.0   \n",
       "994                                    0.0          -2557.0   \n",
       "31557                                  0.0          -4787.0   \n",
       "\n",
       "       NAME_FAMILY_STATUS_Separated  \n",
       "26449                           0.0  \n",
       "28590                           0.0  \n",
       "16542                           0.0  \n",
       "994                             0.0  \n",
       "31557                           0.0  \n",
       "\n",
       "[5 rows x 50 columns]"
      ]
     },
     "execution_count": 19,
     "metadata": {},
     "output_type": "execute_result"
    }
   ],
   "source": [
    "X_rus_train.head()"
   ]
  },
  {
   "cell_type": "code",
   "execution_count": 20,
   "id": "cf04943d",
   "metadata": {},
   "outputs": [],
   "source": [
    "# Création d'un pipeline scikit-learn\n",
    "# Ne pas utiliser un pipeline imblearn, incompatible avec shap\n",
    "steps = [('imputer', SimpleImputer(missing_values=np.nan, strategy='mean')),\n",
    "         ('scaler', StandardScaler()),\n",
    "        ('model', XGBClassifier())]"
   ]
  },
  {
   "cell_type": "code",
   "execution_count": 21,
   "id": "ffa1fa1d",
   "metadata": {},
   "outputs": [],
   "source": [
    "pipe50 = skpipe(steps=steps)"
   ]
  },
  {
   "cell_type": "code",
   "execution_count": 22,
   "id": "bd6eb6d0",
   "metadata": {},
   "outputs": [
    {
     "data": {
      "text/html": [
       "<style>#sk-container-id-1 {color: black;background-color: white;}#sk-container-id-1 pre{padding: 0;}#sk-container-id-1 div.sk-toggleable {background-color: white;}#sk-container-id-1 label.sk-toggleable__label {cursor: pointer;display: block;width: 100%;margin-bottom: 0;padding: 0.3em;box-sizing: border-box;text-align: center;}#sk-container-id-1 label.sk-toggleable__label-arrow:before {content: \"▸\";float: left;margin-right: 0.25em;color: #696969;}#sk-container-id-1 label.sk-toggleable__label-arrow:hover:before {color: black;}#sk-container-id-1 div.sk-estimator:hover label.sk-toggleable__label-arrow:before {color: black;}#sk-container-id-1 div.sk-toggleable__content {max-height: 0;max-width: 0;overflow: hidden;text-align: left;background-color: #f0f8ff;}#sk-container-id-1 div.sk-toggleable__content pre {margin: 0.2em;color: black;border-radius: 0.25em;background-color: #f0f8ff;}#sk-container-id-1 input.sk-toggleable__control:checked~div.sk-toggleable__content {max-height: 200px;max-width: 100%;overflow: auto;}#sk-container-id-1 input.sk-toggleable__control:checked~label.sk-toggleable__label-arrow:before {content: \"▾\";}#sk-container-id-1 div.sk-estimator input.sk-toggleable__control:checked~label.sk-toggleable__label {background-color: #d4ebff;}#sk-container-id-1 div.sk-label input.sk-toggleable__control:checked~label.sk-toggleable__label {background-color: #d4ebff;}#sk-container-id-1 input.sk-hidden--visually {border: 0;clip: rect(1px 1px 1px 1px);clip: rect(1px, 1px, 1px, 1px);height: 1px;margin: -1px;overflow: hidden;padding: 0;position: absolute;width: 1px;}#sk-container-id-1 div.sk-estimator {font-family: monospace;background-color: #f0f8ff;border: 1px dotted black;border-radius: 0.25em;box-sizing: border-box;margin-bottom: 0.5em;}#sk-container-id-1 div.sk-estimator:hover {background-color: #d4ebff;}#sk-container-id-1 div.sk-parallel-item::after {content: \"\";width: 100%;border-bottom: 1px solid gray;flex-grow: 1;}#sk-container-id-1 div.sk-label:hover label.sk-toggleable__label {background-color: #d4ebff;}#sk-container-id-1 div.sk-serial::before {content: \"\";position: absolute;border-left: 1px solid gray;box-sizing: border-box;top: 0;bottom: 0;left: 50%;z-index: 0;}#sk-container-id-1 div.sk-serial {display: flex;flex-direction: column;align-items: center;background-color: white;padding-right: 0.2em;padding-left: 0.2em;position: relative;}#sk-container-id-1 div.sk-item {position: relative;z-index: 1;}#sk-container-id-1 div.sk-parallel {display: flex;align-items: stretch;justify-content: center;background-color: white;position: relative;}#sk-container-id-1 div.sk-item::before, #sk-container-id-1 div.sk-parallel-item::before {content: \"\";position: absolute;border-left: 1px solid gray;box-sizing: border-box;top: 0;bottom: 0;left: 50%;z-index: -1;}#sk-container-id-1 div.sk-parallel-item {display: flex;flex-direction: column;z-index: 1;position: relative;background-color: white;}#sk-container-id-1 div.sk-parallel-item:first-child::after {align-self: flex-end;width: 50%;}#sk-container-id-1 div.sk-parallel-item:last-child::after {align-self: flex-start;width: 50%;}#sk-container-id-1 div.sk-parallel-item:only-child::after {width: 0;}#sk-container-id-1 div.sk-dashed-wrapped {border: 1px dashed gray;margin: 0 0.4em 0.5em 0.4em;box-sizing: border-box;padding-bottom: 0.4em;background-color: white;}#sk-container-id-1 div.sk-label label {font-family: monospace;font-weight: bold;display: inline-block;line-height: 1.2em;}#sk-container-id-1 div.sk-label-container {text-align: center;}#sk-container-id-1 div.sk-container {/* jupyter's `normalize.less` sets `[hidden] { display: none; }` but bootstrap.min.css set `[hidden] { display: none !important; }` so we also need the `!important` here to be able to override the default hidden behavior on the sphinx rendered scikit-learn.org. See: https://github.com/scikit-learn/scikit-learn/issues/21755 */display: inline-block !important;position: relative;}#sk-container-id-1 div.sk-text-repr-fallback {display: none;}</style><div id=\"sk-container-id-1\" class=\"sk-top-container\"><div class=\"sk-text-repr-fallback\"><pre>Pipeline(steps=[(&#x27;imputer&#x27;, SimpleImputer()), (&#x27;scaler&#x27;, StandardScaler()),\n",
       "                (&#x27;model&#x27;,\n",
       "                 XGBClassifier(base_score=0.5, booster=&#x27;gbtree&#x27;, callbacks=None,\n",
       "                               colsample_bylevel=1, colsample_bynode=1,\n",
       "                               colsample_bytree=1, early_stopping_rounds=None,\n",
       "                               enable_categorical=False, eval_metric=None,\n",
       "                               gamma=0, gpu_id=-1, grow_policy=&#x27;depthwise&#x27;,\n",
       "                               importance_type=None, interaction_constraints=&#x27;&#x27;,\n",
       "                               learning_rate=0.300000012, max_bin=256,\n",
       "                               max_cat_to_onehot=4, max_delta_step=0,\n",
       "                               max_depth=6, max_leaves=0, min_child_weight=1,\n",
       "                               missing=nan, monotone_constraints=&#x27;()&#x27;,\n",
       "                               n_estimators=100, n_jobs=0, num_parallel_tree=1,\n",
       "                               predictor=&#x27;auto&#x27;, random_state=0, reg_alpha=0,\n",
       "                               reg_lambda=1, ...))])</pre><b>In a Jupyter environment, please rerun this cell to show the HTML representation or trust the notebook. <br />On GitHub, the HTML representation is unable to render, please try loading this page with nbviewer.org.</b></div><div class=\"sk-container\" hidden><div class=\"sk-item sk-dashed-wrapped\"><div class=\"sk-label-container\"><div class=\"sk-label sk-toggleable\"><input class=\"sk-toggleable__control sk-hidden--visually\" id=\"sk-estimator-id-1\" type=\"checkbox\" ><label for=\"sk-estimator-id-1\" class=\"sk-toggleable__label sk-toggleable__label-arrow\">Pipeline</label><div class=\"sk-toggleable__content\"><pre>Pipeline(steps=[(&#x27;imputer&#x27;, SimpleImputer()), (&#x27;scaler&#x27;, StandardScaler()),\n",
       "                (&#x27;model&#x27;,\n",
       "                 XGBClassifier(base_score=0.5, booster=&#x27;gbtree&#x27;, callbacks=None,\n",
       "                               colsample_bylevel=1, colsample_bynode=1,\n",
       "                               colsample_bytree=1, early_stopping_rounds=None,\n",
       "                               enable_categorical=False, eval_metric=None,\n",
       "                               gamma=0, gpu_id=-1, grow_policy=&#x27;depthwise&#x27;,\n",
       "                               importance_type=None, interaction_constraints=&#x27;&#x27;,\n",
       "                               learning_rate=0.300000012, max_bin=256,\n",
       "                               max_cat_to_onehot=4, max_delta_step=0,\n",
       "                               max_depth=6, max_leaves=0, min_child_weight=1,\n",
       "                               missing=nan, monotone_constraints=&#x27;()&#x27;,\n",
       "                               n_estimators=100, n_jobs=0, num_parallel_tree=1,\n",
       "                               predictor=&#x27;auto&#x27;, random_state=0, reg_alpha=0,\n",
       "                               reg_lambda=1, ...))])</pre></div></div></div><div class=\"sk-serial\"><div class=\"sk-item\"><div class=\"sk-estimator sk-toggleable\"><input class=\"sk-toggleable__control sk-hidden--visually\" id=\"sk-estimator-id-2\" type=\"checkbox\" ><label for=\"sk-estimator-id-2\" class=\"sk-toggleable__label sk-toggleable__label-arrow\">SimpleImputer</label><div class=\"sk-toggleable__content\"><pre>SimpleImputer()</pre></div></div></div><div class=\"sk-item\"><div class=\"sk-estimator sk-toggleable\"><input class=\"sk-toggleable__control sk-hidden--visually\" id=\"sk-estimator-id-3\" type=\"checkbox\" ><label for=\"sk-estimator-id-3\" class=\"sk-toggleable__label sk-toggleable__label-arrow\">StandardScaler</label><div class=\"sk-toggleable__content\"><pre>StandardScaler()</pre></div></div></div><div class=\"sk-item\"><div class=\"sk-estimator sk-toggleable\"><input class=\"sk-toggleable__control sk-hidden--visually\" id=\"sk-estimator-id-4\" type=\"checkbox\" ><label for=\"sk-estimator-id-4\" class=\"sk-toggleable__label sk-toggleable__label-arrow\">XGBClassifier</label><div class=\"sk-toggleable__content\"><pre>XGBClassifier(base_score=0.5, booster=&#x27;gbtree&#x27;, callbacks=None,\n",
       "              colsample_bylevel=1, colsample_bynode=1, colsample_bytree=1,\n",
       "              early_stopping_rounds=None, enable_categorical=False,\n",
       "              eval_metric=None, gamma=0, gpu_id=-1, grow_policy=&#x27;depthwise&#x27;,\n",
       "              importance_type=None, interaction_constraints=&#x27;&#x27;,\n",
       "              learning_rate=0.300000012, max_bin=256, max_cat_to_onehot=4,\n",
       "              max_delta_step=0, max_depth=6, max_leaves=0, min_child_weight=1,\n",
       "              missing=nan, monotone_constraints=&#x27;()&#x27;, n_estimators=100,\n",
       "              n_jobs=0, num_parallel_tree=1, predictor=&#x27;auto&#x27;, random_state=0,\n",
       "              reg_alpha=0, reg_lambda=1, ...)</pre></div></div></div></div></div></div></div>"
      ],
      "text/plain": [
       "Pipeline(steps=[('imputer', SimpleImputer()), ('scaler', StandardScaler()),\n",
       "                ('model',\n",
       "                 XGBClassifier(base_score=0.5, booster='gbtree', callbacks=None,\n",
       "                               colsample_bylevel=1, colsample_bynode=1,\n",
       "                               colsample_bytree=1, early_stopping_rounds=None,\n",
       "                               enable_categorical=False, eval_metric=None,\n",
       "                               gamma=0, gpu_id=-1, grow_policy='depthwise',\n",
       "                               importance_type=None, interaction_constraints='',\n",
       "                               learning_rate=0.300000012, max_bin=256,\n",
       "                               max_cat_to_onehot=4, max_delta_step=0,\n",
       "                               max_depth=6, max_leaves=0, min_child_weight=1,\n",
       "                               missing=nan, monotone_constraints='()',\n",
       "                               n_estimators=100, n_jobs=0, num_parallel_tree=1,\n",
       "                               predictor='auto', random_state=0, reg_alpha=0,\n",
       "                               reg_lambda=1, ...))])"
      ]
     },
     "execution_count": 22,
     "metadata": {},
     "output_type": "execute_result"
    }
   ],
   "source": [
    "pipe50.fit(X_rus_train, y_rus_train)"
   ]
  },
  {
   "cell_type": "code",
   "execution_count": 23,
   "id": "97bba0ae",
   "metadata": {},
   "outputs": [
    {
     "data": {
      "text/html": [
       "<style>#sk-container-id-2 {color: black;background-color: white;}#sk-container-id-2 pre{padding: 0;}#sk-container-id-2 div.sk-toggleable {background-color: white;}#sk-container-id-2 label.sk-toggleable__label {cursor: pointer;display: block;width: 100%;margin-bottom: 0;padding: 0.3em;box-sizing: border-box;text-align: center;}#sk-container-id-2 label.sk-toggleable__label-arrow:before {content: \"▸\";float: left;margin-right: 0.25em;color: #696969;}#sk-container-id-2 label.sk-toggleable__label-arrow:hover:before {color: black;}#sk-container-id-2 div.sk-estimator:hover label.sk-toggleable__label-arrow:before {color: black;}#sk-container-id-2 div.sk-toggleable__content {max-height: 0;max-width: 0;overflow: hidden;text-align: left;background-color: #f0f8ff;}#sk-container-id-2 div.sk-toggleable__content pre {margin: 0.2em;color: black;border-radius: 0.25em;background-color: #f0f8ff;}#sk-container-id-2 input.sk-toggleable__control:checked~div.sk-toggleable__content {max-height: 200px;max-width: 100%;overflow: auto;}#sk-container-id-2 input.sk-toggleable__control:checked~label.sk-toggleable__label-arrow:before {content: \"▾\";}#sk-container-id-2 div.sk-estimator input.sk-toggleable__control:checked~label.sk-toggleable__label {background-color: #d4ebff;}#sk-container-id-2 div.sk-label input.sk-toggleable__control:checked~label.sk-toggleable__label {background-color: #d4ebff;}#sk-container-id-2 input.sk-hidden--visually {border: 0;clip: rect(1px 1px 1px 1px);clip: rect(1px, 1px, 1px, 1px);height: 1px;margin: -1px;overflow: hidden;padding: 0;position: absolute;width: 1px;}#sk-container-id-2 div.sk-estimator {font-family: monospace;background-color: #f0f8ff;border: 1px dotted black;border-radius: 0.25em;box-sizing: border-box;margin-bottom: 0.5em;}#sk-container-id-2 div.sk-estimator:hover {background-color: #d4ebff;}#sk-container-id-2 div.sk-parallel-item::after {content: \"\";width: 100%;border-bottom: 1px solid gray;flex-grow: 1;}#sk-container-id-2 div.sk-label:hover label.sk-toggleable__label {background-color: #d4ebff;}#sk-container-id-2 div.sk-serial::before {content: \"\";position: absolute;border-left: 1px solid gray;box-sizing: border-box;top: 0;bottom: 0;left: 50%;z-index: 0;}#sk-container-id-2 div.sk-serial {display: flex;flex-direction: column;align-items: center;background-color: white;padding-right: 0.2em;padding-left: 0.2em;position: relative;}#sk-container-id-2 div.sk-item {position: relative;z-index: 1;}#sk-container-id-2 div.sk-parallel {display: flex;align-items: stretch;justify-content: center;background-color: white;position: relative;}#sk-container-id-2 div.sk-item::before, #sk-container-id-2 div.sk-parallel-item::before {content: \"\";position: absolute;border-left: 1px solid gray;box-sizing: border-box;top: 0;bottom: 0;left: 50%;z-index: -1;}#sk-container-id-2 div.sk-parallel-item {display: flex;flex-direction: column;z-index: 1;position: relative;background-color: white;}#sk-container-id-2 div.sk-parallel-item:first-child::after {align-self: flex-end;width: 50%;}#sk-container-id-2 div.sk-parallel-item:last-child::after {align-self: flex-start;width: 50%;}#sk-container-id-2 div.sk-parallel-item:only-child::after {width: 0;}#sk-container-id-2 div.sk-dashed-wrapped {border: 1px dashed gray;margin: 0 0.4em 0.5em 0.4em;box-sizing: border-box;padding-bottom: 0.4em;background-color: white;}#sk-container-id-2 div.sk-label label {font-family: monospace;font-weight: bold;display: inline-block;line-height: 1.2em;}#sk-container-id-2 div.sk-label-container {text-align: center;}#sk-container-id-2 div.sk-container {/* jupyter's `normalize.less` sets `[hidden] { display: none; }` but bootstrap.min.css set `[hidden] { display: none !important; }` so we also need the `!important` here to be able to override the default hidden behavior on the sphinx rendered scikit-learn.org. See: https://github.com/scikit-learn/scikit-learn/issues/21755 */display: inline-block !important;position: relative;}#sk-container-id-2 div.sk-text-repr-fallback {display: none;}</style><div id=\"sk-container-id-2\" class=\"sk-top-container\"><div class=\"sk-text-repr-fallback\"><pre>XGBClassifier(base_score=0.5, booster=&#x27;gbtree&#x27;, callbacks=None,\n",
       "              colsample_bylevel=1, colsample_bynode=1, colsample_bytree=1,\n",
       "              early_stopping_rounds=None, enable_categorical=False,\n",
       "              eval_metric=None, gamma=0, gpu_id=-1, grow_policy=&#x27;depthwise&#x27;,\n",
       "              importance_type=None, interaction_constraints=&#x27;&#x27;,\n",
       "              learning_rate=0.300000012, max_bin=256, max_cat_to_onehot=4,\n",
       "              max_delta_step=0, max_depth=6, max_leaves=0, min_child_weight=1,\n",
       "              missing=nan, monotone_constraints=&#x27;()&#x27;, n_estimators=100,\n",
       "              n_jobs=0, num_parallel_tree=1, predictor=&#x27;auto&#x27;, random_state=0,\n",
       "              reg_alpha=0, reg_lambda=1, ...)</pre><b>In a Jupyter environment, please rerun this cell to show the HTML representation or trust the notebook. <br />On GitHub, the HTML representation is unable to render, please try loading this page with nbviewer.org.</b></div><div class=\"sk-container\" hidden><div class=\"sk-item\"><div class=\"sk-estimator sk-toggleable\"><input class=\"sk-toggleable__control sk-hidden--visually\" id=\"sk-estimator-id-5\" type=\"checkbox\" checked><label for=\"sk-estimator-id-5\" class=\"sk-toggleable__label sk-toggleable__label-arrow\">XGBClassifier</label><div class=\"sk-toggleable__content\"><pre>XGBClassifier(base_score=0.5, booster=&#x27;gbtree&#x27;, callbacks=None,\n",
       "              colsample_bylevel=1, colsample_bynode=1, colsample_bytree=1,\n",
       "              early_stopping_rounds=None, enable_categorical=False,\n",
       "              eval_metric=None, gamma=0, gpu_id=-1, grow_policy=&#x27;depthwise&#x27;,\n",
       "              importance_type=None, interaction_constraints=&#x27;&#x27;,\n",
       "              learning_rate=0.300000012, max_bin=256, max_cat_to_onehot=4,\n",
       "              max_delta_step=0, max_depth=6, max_leaves=0, min_child_weight=1,\n",
       "              missing=nan, monotone_constraints=&#x27;()&#x27;, n_estimators=100,\n",
       "              n_jobs=0, num_parallel_tree=1, predictor=&#x27;auto&#x27;, random_state=0,\n",
       "              reg_alpha=0, reg_lambda=1, ...)</pre></div></div></div></div></div>"
      ],
      "text/plain": [
       "XGBClassifier(base_score=0.5, booster='gbtree', callbacks=None,\n",
       "              colsample_bylevel=1, colsample_bynode=1, colsample_bytree=1,\n",
       "              early_stopping_rounds=None, enable_categorical=False,\n",
       "              eval_metric=None, gamma=0, gpu_id=-1, grow_policy='depthwise',\n",
       "              importance_type=None, interaction_constraints='',\n",
       "              learning_rate=0.300000012, max_bin=256, max_cat_to_onehot=4,\n",
       "              max_delta_step=0, max_depth=6, max_leaves=0, min_child_weight=1,\n",
       "              missing=nan, monotone_constraints='()', n_estimators=100,\n",
       "              n_jobs=0, num_parallel_tree=1, predictor='auto', random_state=0,\n",
       "              reg_alpha=0, reg_lambda=1, ...)"
      ]
     },
     "execution_count": 23,
     "metadata": {},
     "output_type": "execute_result"
    }
   ],
   "source": [
    "# On issole la partie modèle\n",
    "pipe50[\"model\"]"
   ]
  },
  {
   "cell_type": "code",
   "execution_count": 24,
   "id": "921202b2",
   "metadata": {},
   "outputs": [
    {
     "data": {
      "text/html": [
       "<style>#sk-container-id-3 {color: black;background-color: white;}#sk-container-id-3 pre{padding: 0;}#sk-container-id-3 div.sk-toggleable {background-color: white;}#sk-container-id-3 label.sk-toggleable__label {cursor: pointer;display: block;width: 100%;margin-bottom: 0;padding: 0.3em;box-sizing: border-box;text-align: center;}#sk-container-id-3 label.sk-toggleable__label-arrow:before {content: \"▸\";float: left;margin-right: 0.25em;color: #696969;}#sk-container-id-3 label.sk-toggleable__label-arrow:hover:before {color: black;}#sk-container-id-3 div.sk-estimator:hover label.sk-toggleable__label-arrow:before {color: black;}#sk-container-id-3 div.sk-toggleable__content {max-height: 0;max-width: 0;overflow: hidden;text-align: left;background-color: #f0f8ff;}#sk-container-id-3 div.sk-toggleable__content pre {margin: 0.2em;color: black;border-radius: 0.25em;background-color: #f0f8ff;}#sk-container-id-3 input.sk-toggleable__control:checked~div.sk-toggleable__content {max-height: 200px;max-width: 100%;overflow: auto;}#sk-container-id-3 input.sk-toggleable__control:checked~label.sk-toggleable__label-arrow:before {content: \"▾\";}#sk-container-id-3 div.sk-estimator input.sk-toggleable__control:checked~label.sk-toggleable__label {background-color: #d4ebff;}#sk-container-id-3 div.sk-label input.sk-toggleable__control:checked~label.sk-toggleable__label {background-color: #d4ebff;}#sk-container-id-3 input.sk-hidden--visually {border: 0;clip: rect(1px 1px 1px 1px);clip: rect(1px, 1px, 1px, 1px);height: 1px;margin: -1px;overflow: hidden;padding: 0;position: absolute;width: 1px;}#sk-container-id-3 div.sk-estimator {font-family: monospace;background-color: #f0f8ff;border: 1px dotted black;border-radius: 0.25em;box-sizing: border-box;margin-bottom: 0.5em;}#sk-container-id-3 div.sk-estimator:hover {background-color: #d4ebff;}#sk-container-id-3 div.sk-parallel-item::after {content: \"\";width: 100%;border-bottom: 1px solid gray;flex-grow: 1;}#sk-container-id-3 div.sk-label:hover label.sk-toggleable__label {background-color: #d4ebff;}#sk-container-id-3 div.sk-serial::before {content: \"\";position: absolute;border-left: 1px solid gray;box-sizing: border-box;top: 0;bottom: 0;left: 50%;z-index: 0;}#sk-container-id-3 div.sk-serial {display: flex;flex-direction: column;align-items: center;background-color: white;padding-right: 0.2em;padding-left: 0.2em;position: relative;}#sk-container-id-3 div.sk-item {position: relative;z-index: 1;}#sk-container-id-3 div.sk-parallel {display: flex;align-items: stretch;justify-content: center;background-color: white;position: relative;}#sk-container-id-3 div.sk-item::before, #sk-container-id-3 div.sk-parallel-item::before {content: \"\";position: absolute;border-left: 1px solid gray;box-sizing: border-box;top: 0;bottom: 0;left: 50%;z-index: -1;}#sk-container-id-3 div.sk-parallel-item {display: flex;flex-direction: column;z-index: 1;position: relative;background-color: white;}#sk-container-id-3 div.sk-parallel-item:first-child::after {align-self: flex-end;width: 50%;}#sk-container-id-3 div.sk-parallel-item:last-child::after {align-self: flex-start;width: 50%;}#sk-container-id-3 div.sk-parallel-item:only-child::after {width: 0;}#sk-container-id-3 div.sk-dashed-wrapped {border: 1px dashed gray;margin: 0 0.4em 0.5em 0.4em;box-sizing: border-box;padding-bottom: 0.4em;background-color: white;}#sk-container-id-3 div.sk-label label {font-family: monospace;font-weight: bold;display: inline-block;line-height: 1.2em;}#sk-container-id-3 div.sk-label-container {text-align: center;}#sk-container-id-3 div.sk-container {/* jupyter's `normalize.less` sets `[hidden] { display: none; }` but bootstrap.min.css set `[hidden] { display: none !important; }` so we also need the `!important` here to be able to override the default hidden behavior on the sphinx rendered scikit-learn.org. See: https://github.com/scikit-learn/scikit-learn/issues/21755 */display: inline-block !important;position: relative;}#sk-container-id-3 div.sk-text-repr-fallback {display: none;}</style><div id=\"sk-container-id-3\" class=\"sk-top-container\"><div class=\"sk-text-repr-fallback\"><pre>Pipeline(steps=[(&#x27;imputer&#x27;, SimpleImputer()), (&#x27;scaler&#x27;, StandardScaler())])</pre><b>In a Jupyter environment, please rerun this cell to show the HTML representation or trust the notebook. <br />On GitHub, the HTML representation is unable to render, please try loading this page with nbviewer.org.</b></div><div class=\"sk-container\" hidden><div class=\"sk-item sk-dashed-wrapped\"><div class=\"sk-label-container\"><div class=\"sk-label sk-toggleable\"><input class=\"sk-toggleable__control sk-hidden--visually\" id=\"sk-estimator-id-6\" type=\"checkbox\" ><label for=\"sk-estimator-id-6\" class=\"sk-toggleable__label sk-toggleable__label-arrow\">Pipeline</label><div class=\"sk-toggleable__content\"><pre>Pipeline(steps=[(&#x27;imputer&#x27;, SimpleImputer()), (&#x27;scaler&#x27;, StandardScaler())])</pre></div></div></div><div class=\"sk-serial\"><div class=\"sk-item\"><div class=\"sk-estimator sk-toggleable\"><input class=\"sk-toggleable__control sk-hidden--visually\" id=\"sk-estimator-id-7\" type=\"checkbox\" ><label for=\"sk-estimator-id-7\" class=\"sk-toggleable__label sk-toggleable__label-arrow\">SimpleImputer</label><div class=\"sk-toggleable__content\"><pre>SimpleImputer()</pre></div></div></div><div class=\"sk-item\"><div class=\"sk-estimator sk-toggleable\"><input class=\"sk-toggleable__control sk-hidden--visually\" id=\"sk-estimator-id-8\" type=\"checkbox\" ><label for=\"sk-estimator-id-8\" class=\"sk-toggleable__label sk-toggleable__label-arrow\">StandardScaler</label><div class=\"sk-toggleable__content\"><pre>StandardScaler()</pre></div></div></div></div></div></div></div>"
      ],
      "text/plain": [
       "Pipeline(steps=[('imputer', SimpleImputer()), ('scaler', StandardScaler())])"
      ]
     },
     "execution_count": 24,
     "metadata": {},
     "output_type": "execute_result"
    }
   ],
   "source": [
    "# Etapes 1 & 2 du pipe avant modélisation\n",
    "pipe50[:-1]"
   ]
  },
  {
   "cell_type": "code",
   "execution_count": 25,
   "id": "dc342fbc",
   "metadata": {},
   "outputs": [
    {
     "name": "stderr",
     "output_type": "stream",
     "text": [
      "100%|===================| 14344/14354 [00:23<00:00]        "
     ]
    }
   ],
   "source": [
    "# Calcul des valeurs de Shapley\n",
    "explainer = shap.TreeExplainer(pipe50[\"model\"], pipe50[:-1].fit_transform(X_rus_train))\n",
    "shap_values = explainer.shap_values(pipe50[:-1].transform(X_rus_test))"
   ]
  },
  {
   "cell_type": "markdown",
   "id": "39dd82d9",
   "metadata": {},
   "source": [
    "### Graphe d'importance des features en fonction des valeurs de Shapley"
   ]
  },
  {
   "cell_type": "markdown",
   "id": "17c64c3a",
   "metadata": {},
   "source": [
    "L'objectif est maintenant d'analyser la liste des features importantes telles que déterminées par le modèle XGBoost ainsi que par les valeurs de Shapley."
   ]
  },
  {
   "cell_type": "code",
   "execution_count": 26,
   "id": "9e474173",
   "metadata": {},
   "outputs": [],
   "source": [
    "class_names=['crédit accepté','crédit refusé']"
   ]
  },
  {
   "cell_type": "code",
   "execution_count": 27,
   "id": "2f45b072",
   "metadata": {},
   "outputs": [
    {
     "data": {
      "image/png": "[encoded data removed]",
      "text/plain": [
       "<Figure size 576x684 with 1 Axes>"
      ]
     },
     "metadata": {
      "needs_background": "light"
     },
     "output_type": "display_data"
    }
   ],
   "source": [
    "shap.summary_plot(shap_values, X_rus_test, plot_type=\"bar\", class_names=class_names)"
   ]
  },
  {
   "cell_type": "markdown",
   "id": "ef22c532",
   "metadata": {},
   "source": [
    "## Compréhension et analyse des features principales"
   ]
  },
  {
   "cell_type": "markdown",
   "id": "81c2c7f0",
   "metadata": {},
   "source": [
    "Nous réalisons maintenant une analyse métier des features afin de sélectionner les variables ayant le plus de sens dans ce cadre."
   ]
  },
  {
   "cell_type": "markdown",
   "id": "7cad46a2",
   "metadata": {},
   "source": [
    "### PREV_DAYS_DECISION_MIN"
   ]
  },
  {
   "cell_type": "code",
   "execution_count": 28,
   "id": "dc9f1d0c",
   "metadata": {},
   "outputs": [
    {
     "data": {
      "text/plain": [
       "215169   -1229.0\n",
       "275171   -2688.0\n",
       "139526   -1632.0\n",
       "283387   -2500.0\n",
       "14341    -2608.0\n",
       "Name: PREV_DAYS_DECISION_MIN, dtype: float64"
      ]
     },
     "execution_count": 28,
     "metadata": {},
     "output_type": "execute_result"
    }
   ],
   "source": [
    "X_train[\"PREV_DAYS_DECISION_MIN\"].head()"
   ]
  },
  {
   "cell_type": "code",
   "execution_count": 29,
   "id": "d2d3e2d8",
   "metadata": {},
   "outputs": [],
   "source": [
    "# Relative to current application when was the decision about previous application made\n",
    "# => Nombre de jours séparant la prise de décision actuelle de celle du précédent crédit\n",
    "# https://jovian.ai/archanjd5/eda-final-part-2\n",
    "\n",
    "# transformation des valeurs en nombres positifs\n",
    "X_train[\"PREV_DAYS_DECISION_MIN\"]=X_train[\"PREV_DAYS_DECISION_MIN\"].abs()"
   ]
  },
  {
   "cell_type": "code",
   "execution_count": 30,
   "id": "2fc71d42",
   "metadata": {},
   "outputs": [
    {
     "data": {
      "text/plain": [
       "685"
      ]
     },
     "execution_count": 30,
     "metadata": {},
     "output_type": "execute_result"
    }
   ],
   "source": [
    "X_train[\"PREV_DAYS_DECISION_MIN\"].isnull().sum()"
   ]
  },
  {
   "cell_type": "code",
   "execution_count": 31,
   "id": "b6c755a0",
   "metadata": {},
   "outputs": [
    {
     "data": {
      "text/plain": [
       "215169    1229.0\n",
       "275171    2688.0\n",
       "139526    1632.0\n",
       "283387    2500.0\n",
       "14341     2608.0\n",
       "Name: PREV_DAYS_DECISION_MIN, dtype: float64"
      ]
     },
     "execution_count": 31,
     "metadata": {},
     "output_type": "execute_result"
    }
   ],
   "source": [
    "X_train[\"PREV_DAYS_DECISION_MIN\"].head()"
   ]
  },
  {
   "cell_type": "code",
   "execution_count": 32,
   "id": "9ae6d555",
   "metadata": {},
   "outputs": [
    {
     "data": {
      "text/plain": [
       "685"
      ]
     },
     "execution_count": 32,
     "metadata": {},
     "output_type": "execute_result"
    }
   ],
   "source": [
    "X_train[\"PREV_DAYS_DECISION_MIN\"].isnull().sum()"
   ]
  },
  {
   "cell_type": "markdown",
   "id": "ce4728d4",
   "metadata": {},
   "source": [
    "Valeurs manquantes = pas de crédit précédent ou non renseigné. Imputation standard."
   ]
  },
  {
   "cell_type": "markdown",
   "id": "b2d26bda",
   "metadata": {},
   "source": [
    "### AMT_CREDIT"
   ]
  },
  {
   "cell_type": "markdown",
   "id": "ffda926a",
   "metadata": {},
   "source": [
    "AMT_CREDIT: Final credit amount on the previous application.  \n",
    "montant du crédit précédent perçu  "
   ]
  },
  {
   "cell_type": "code",
   "execution_count": 33,
   "id": "e5ee81be",
   "metadata": {},
   "outputs": [
    {
     "data": {
      "text/plain": [
       "215169     508495.5\n",
       "275171     728460.0\n",
       "139526     239850.0\n",
       "283387     450000.0\n",
       "14341     1350000.0\n",
       "Name: AMT_CREDIT, dtype: float64"
      ]
     },
     "execution_count": 33,
     "metadata": {},
     "output_type": "execute_result"
    }
   ],
   "source": [
    "X_train[\"AMT_CREDIT\"].head()"
   ]
  },
  {
   "cell_type": "markdown",
   "id": "94116704",
   "metadata": {},
   "source": [
    "PREV_APP_CREDIT_PERC_MIN = AMT_APPLICATION/AMT_CREDIT: ratio entre montant initialement demandé et montant final du dernier crédit. On prend le ratio le plus faible si plusieurs crédits contractés dans le passé."
   ]
  },
  {
   "cell_type": "code",
   "execution_count": 34,
   "id": "4dca73b1",
   "metadata": {},
   "outputs": [
    {
     "data": {
      "text/plain": [
       "215169    0.627786\n",
       "275171    0.906651\n",
       "139526    0.938086\n",
       "283387    0.000000\n",
       "14341     0.000000\n",
       "Name: PREV_APP_CREDIT_PERC_MIN, dtype: float64"
      ]
     },
     "execution_count": 34,
     "metadata": {},
     "output_type": "execute_result"
    }
   ],
   "source": [
    "X_train[\"PREV_APP_CREDIT_PERC_MIN\"].head()"
   ]
  },
  {
   "cell_type": "code",
   "execution_count": 35,
   "id": "7576db47",
   "metadata": {},
   "outputs": [
    {
     "data": {
      "text/plain": [
       "839"
      ]
     },
     "execution_count": 35,
     "metadata": {},
     "output_type": "execute_result"
    }
   ],
   "source": [
    "X_train[\"PREV_APP_CREDIT_PERC_MIN\"].isnull().sum()"
   ]
  },
  {
   "cell_type": "markdown",
   "id": "eed18d49",
   "metadata": {},
   "source": [
    "Si NaN => pas de précédent crédit. Dans ce cas, imputation standard."
   ]
  },
  {
   "cell_type": "markdown",
   "id": "77cfd198",
   "metadata": {},
   "source": [
    "### EXT_SOURCE_2 & EXT_SOURCE_3"
   ]
  },
  {
   "cell_type": "code",
   "execution_count": 36,
   "id": "a21c8437",
   "metadata": {},
   "outputs": [
    {
     "data": {
      "text/plain": [
       "215169    0.092250\n",
       "275171    0.779680\n",
       "139526    0.475448\n",
       "283387    0.698863\n",
       "14341     0.658295\n",
       "Name: EXT_SOURCE_2, dtype: float64"
      ]
     },
     "execution_count": 36,
     "metadata": {},
     "output_type": "execute_result"
    }
   ],
   "source": [
    "X_train[\"EXT_SOURCE_2\"].head()"
   ]
  },
  {
   "cell_type": "code",
   "execution_count": 37,
   "id": "0c244e46",
   "metadata": {},
   "outputs": [
    {
     "data": {
      "text/plain": [
       "398"
      ]
     },
     "execution_count": 37,
     "metadata": {},
     "output_type": "execute_result"
    }
   ],
   "source": [
    "X_train[\"EXT_SOURCE_2\"].isnull().sum()"
   ]
  },
  {
   "cell_type": "code",
   "execution_count": 38,
   "id": "eaa30985",
   "metadata": {},
   "outputs": [
    {
     "data": {
      "text/plain": [
       "215169    0.574447\n",
       "275171         NaN\n",
       "139526    0.159520\n",
       "283387    0.456110\n",
       "14341     0.761026\n",
       "Name: EXT_SOURCE_3, dtype: float64"
      ]
     },
     "execution_count": 38,
     "metadata": {},
     "output_type": "execute_result"
    }
   ],
   "source": [
    "X_train[\"EXT_SOURCE_3\"].head()"
   ]
  },
  {
   "cell_type": "code",
   "execution_count": 39,
   "id": "92b4913f",
   "metadata": {},
   "outputs": [
    {
     "data": {
      "text/plain": [
       "38235"
      ]
     },
     "execution_count": 39,
     "metadata": {},
     "output_type": "execute_result"
    }
   ],
   "source": [
    "X_train[\"EXT_SOURCE_3\"].isnull().sum()"
   ]
  },
  {
   "cell_type": "markdown",
   "id": "494f8786",
   "metadata": {},
   "source": [
    "Ces variables ont des distributions différentes en fonction de la target. On imputera les valeurs manquantes par classe."
   ]
  },
  {
   "cell_type": "code",
   "execution_count": 40,
   "id": "b663039e",
   "metadata": {},
   "outputs": [
    {
     "data": {
      "text/plain": [
       "0.10636151592095928"
      ]
     },
     "execution_count": 40,
     "metadata": {},
     "output_type": "execute_result"
    }
   ],
   "source": [
    "# Analyse de la corrélation entre EXT_SOURCE_2 et EXT_SOURCE_3\n",
    "X_train[\"EXT_SOURCE_2\"].corr(X_train[\"EXT_SOURCE_3\"])"
   ]
  },
  {
   "cell_type": "markdown",
   "id": "bcb780dc",
   "metadata": {},
   "source": [
    "Ces 2 variables ne sont pas corrélées."
   ]
  },
  {
   "cell_type": "markdown",
   "id": "930c38b2",
   "metadata": {},
   "source": [
    "### INSTAL_DPD_MAX"
   ]
  },
  {
   "cell_type": "code",
   "execution_count": 41,
   "id": "5c19464a",
   "metadata": {},
   "outputs": [
    {
     "data": {
      "text/plain": [
       "215169     0.0\n",
       "275171     0.0\n",
       "139526     0.0\n",
       "283387    22.0\n",
       "14341     27.0\n",
       "Name: INSTAL_DPD_MAX, dtype: float64"
      ]
     },
     "execution_count": 41,
     "metadata": {},
     "output_type": "execute_result"
    }
   ],
   "source": [
    "# Plus gros retard de paiements observé sur les précédents crédits\n",
    "X_train[\"INSTAL_DPD_MAX\"].head()"
   ]
  },
  {
   "cell_type": "code",
   "execution_count": 42,
   "id": "46e8054b",
   "metadata": {},
   "outputs": [
    {
     "data": {
      "text/plain": [
       "91247"
      ]
     },
     "execution_count": 42,
     "metadata": {},
     "output_type": "execute_result"
    }
   ],
   "source": [
    "# nombre de clients sans retards de paiement\n",
    "len(X_train[\"INSTAL_DPD_MAX\"][X_train[\"INSTAL_DPD_MAX\"]==0])"
   ]
  },
  {
   "cell_type": "code",
   "execution_count": 43,
   "id": "a3c9880c",
   "metadata": {},
   "outputs": [
    {
     "data": {
      "text/plain": [
       "633"
      ]
     },
     "execution_count": 43,
     "metadata": {},
     "output_type": "execute_result"
    }
   ],
   "source": [
    "# nombre de features non renseignées\n",
    "X_train[\"INSTAL_DPD_MAX\"].isnull().sum()"
   ]
  },
  {
   "cell_type": "markdown",
   "id": "b3725b69",
   "metadata": {},
   "source": [
    "Imputation standard"
   ]
  },
  {
   "cell_type": "markdown",
   "id": "12443644",
   "metadata": {},
   "source": [
    "### DAYS_BIRTH"
   ]
  },
  {
   "cell_type": "code",
   "execution_count": 44,
   "id": "f43b5fc8",
   "metadata": {},
   "outputs": [
    {
     "data": {
      "text/plain": [
       "215169   -20255.0\n",
       "275171   -21989.0\n",
       "139526   -25054.0\n",
       "283387   -18862.0\n",
       "14341    -21817.0\n",
       "Name: DAYS_BIRTH, dtype: float64"
      ]
     },
     "execution_count": 44,
     "metadata": {},
     "output_type": "execute_result"
    }
   ],
   "source": [
    "# Age du client en nombre de jours au moment de la signature du crédit\n",
    "X_train['DAYS_BIRTH'].head()"
   ]
  },
  {
   "cell_type": "code",
   "execution_count": 45,
   "id": "69d2adbe",
   "metadata": {},
   "outputs": [],
   "source": [
    "# changement de signe\n",
    "X_train['DAYS_BIRTH'] = X_train['DAYS_BIRTH'].abs()"
   ]
  },
  {
   "cell_type": "code",
   "execution_count": 46,
   "id": "167ff206",
   "metadata": {},
   "outputs": [
    {
     "data": {
      "text/plain": [
       "215169    20255.0\n",
       "275171    21989.0\n",
       "139526    25054.0\n",
       "283387    18862.0\n",
       "14341     21817.0\n",
       "Name: DAYS_BIRTH, dtype: float64"
      ]
     },
     "execution_count": 46,
     "metadata": {},
     "output_type": "execute_result"
    }
   ],
   "source": [
    "# Age du client en nombre de jours au moment de la signature du crédit\n",
    "X_train['DAYS_BIRTH'].head()"
   ]
  },
  {
   "cell_type": "code",
   "execution_count": 47,
   "id": "b5cc993c",
   "metadata": {},
   "outputs": [
    {
     "data": {
      "text/plain": [
       "0"
      ]
     },
     "execution_count": 47,
     "metadata": {},
     "output_type": "execute_result"
    }
   ],
   "source": [
    "X_train['DAYS_BIRTH'].isnull().sum()"
   ]
  },
  {
   "cell_type": "markdown",
   "id": "ce8593f5",
   "metadata": {},
   "source": [
    "### DAYS_EMPLOYED"
   ]
  },
  {
   "cell_type": "code",
   "execution_count": 48,
   "id": "1022ff10",
   "metadata": {},
   "outputs": [
    {
     "data": {
      "text/plain": [
       "215169    -335.0\n",
       "275171   -5862.0\n",
       "139526       NaN\n",
       "283387   -7093.0\n",
       "14341        NaN\n",
       "Name: DAYS_EMPLOYED, dtype: float64"
      ]
     },
     "execution_count": 48,
     "metadata": {},
     "output_type": "execute_result"
    }
   ],
   "source": [
    "# nombre de jours d'ancienneté pour les salariés\n",
    "X_train['DAYS_EMPLOYED'].head()"
   ]
  },
  {
   "cell_type": "code",
   "execution_count": 49,
   "id": "3dbd827c",
   "metadata": {},
   "outputs": [],
   "source": [
    "# changement de signe\n",
    "X_train['DAYS_EMPLOYED'] = X_train['DAYS_EMPLOYED'].abs()"
   ]
  },
  {
   "cell_type": "code",
   "execution_count": 50,
   "id": "ba5c2ab3",
   "metadata": {},
   "outputs": [
    {
     "data": {
      "text/plain": [
       "215169     335.0\n",
       "275171    5862.0\n",
       "139526       NaN\n",
       "283387    7093.0\n",
       "14341        NaN\n",
       "Name: DAYS_EMPLOYED, dtype: float64"
      ]
     },
     "execution_count": 50,
     "metadata": {},
     "output_type": "execute_result"
    }
   ],
   "source": [
    "X_train['DAYS_EMPLOYED'].head()"
   ]
  },
  {
   "cell_type": "code",
   "execution_count": 51,
   "id": "8171697e",
   "metadata": {},
   "outputs": [
    {
     "data": {
      "text/plain": [
       "23691     0.0\n",
       "121625    0.0\n",
       "Name: DAYS_EMPLOYED, dtype: float64"
      ]
     },
     "execution_count": 51,
     "metadata": {},
     "output_type": "execute_result"
    }
   ],
   "source": [
    "X_train['DAYS_EMPLOYED'][X_train['DAYS_EMPLOYED']==0]"
   ]
  },
  {
   "cell_type": "code",
   "execution_count": 52,
   "id": "9dd0ba21",
   "metadata": {},
   "outputs": [
    {
     "data": {
      "text/plain": [
       "35428"
      ]
     },
     "execution_count": 52,
     "metadata": {},
     "output_type": "execute_result"
    }
   ],
   "source": [
    "X_train['DAYS_EMPLOYED'].isnull().sum()"
   ]
  },
  {
   "cell_type": "markdown",
   "id": "ddb22f60",
   "metadata": {},
   "source": [
    "imputation standard"
   ]
  },
  {
   "cell_type": "markdown",
   "id": "f9005007",
   "metadata": {},
   "source": [
    "### FLAG_OWN_CAR"
   ]
  },
  {
   "cell_type": "code",
   "execution_count": 53,
   "id": "c353e91a",
   "metadata": {},
   "outputs": [
    {
     "data": {
      "text/plain": [
       "215169    0.0\n",
       "275171    0.0\n",
       "139526    0.0\n",
       "283387    0.0\n",
       "14341     1.0\n",
       "Name: FLAG_OWN_CAR, dtype: float64"
      ]
     },
     "execution_count": 53,
     "metadata": {},
     "output_type": "execute_result"
    }
   ],
   "source": [
    "# nombre de jours d'ancienneté pour les salariés\n",
    "X_train['FLAG_OWN_CAR'].head()"
   ]
  },
  {
   "cell_type": "code",
   "execution_count": 54,
   "id": "493cbda9",
   "metadata": {},
   "outputs": [
    {
     "data": {
      "text/plain": [
       "0"
      ]
     },
     "execution_count": 54,
     "metadata": {},
     "output_type": "execute_result"
    }
   ],
   "source": [
    "X_train['FLAG_OWN_CAR'].isnull().sum()"
   ]
  },
  {
   "cell_type": "markdown",
   "id": "408e95c2",
   "metadata": {},
   "source": [
    "### NAME_EDUCATION_TYPE_Higher_education"
   ]
  },
  {
   "cell_type": "code",
   "execution_count": 55,
   "id": "08524fac",
   "metadata": {},
   "outputs": [
    {
     "data": {
      "text/plain": [
       "0"
      ]
     },
     "execution_count": 55,
     "metadata": {},
     "output_type": "execute_result"
    }
   ],
   "source": [
    "X_train['NAME_EDUCATION_TYPE_Higher_education'].isnull().sum()"
   ]
  },
  {
   "cell_type": "markdown",
   "id": "e41bd9f0",
   "metadata": {},
   "source": [
    "### NAME_INCOME_TYPE_State_servant"
   ]
  },
  {
   "cell_type": "code",
   "execution_count": 56,
   "id": "92b123a7",
   "metadata": {},
   "outputs": [
    {
     "data": {
      "text/plain": [
       "0"
      ]
     },
     "execution_count": 56,
     "metadata": {},
     "output_type": "execute_result"
    }
   ],
   "source": [
    "X_train['NAME_INCOME_TYPE_State_servant'].isnull().sum()"
   ]
  },
  {
   "cell_type": "markdown",
   "id": "69e79379",
   "metadata": {},
   "source": [
    "## Features sélectionnées"
   ]
  },
  {
   "cell_type": "code",
   "execution_count": 57,
   "id": "96dee999",
   "metadata": {},
   "outputs": [],
   "source": [
    "features_select = ['EXT_SOURCE_3','EXT_SOURCE_2', 'PREV_DAYS_DECISION_MIN', 'CODE_GENDER','DAYS_EMPLOYED', \n",
    "                     'PREV_APP_CREDIT_PERC_MIN', 'INSTAL_DPD_MAX','AMT_CREDIT', 'DAYS_BIRTH',\n",
    "                     'FLAG_OWN_CAR', 'NAME_EDUCATION_TYPE_Higher_education', 'NAME_INCOME_TYPE_State_servant']"
   ]
  },
  {
   "cell_type": "code",
   "execution_count": 58,
   "id": "661b35cf",
   "metadata": {},
   "outputs": [
    {
     "data": {
      "text/html": [
       "<div>\n",
       "<style scoped>\n",
       "    .dataframe tbody tr th:only-of-type {\n",
       "        vertical-align: middle;\n",
       "    }\n",
       "\n",
       "    .dataframe tbody tr th {\n",
       "        vertical-align: top;\n",
       "    }\n",
       "\n",
       "    .dataframe thead th {\n",
       "        text-align: right;\n",
       "    }\n",
       "</style>\n",
       "<table border=\"1\" class=\"dataframe\">\n",
       "  <thead>\n",
       "    <tr style=\"text-align: right;\">\n",
       "      <th></th>\n",
       "      <th>EXT_SOURCE_3</th>\n",
       "      <th>EXT_SOURCE_2</th>\n",
       "      <th>PREV_DAYS_DECISION_MIN</th>\n",
       "      <th>CODE_GENDER</th>\n",
       "      <th>DAYS_EMPLOYED</th>\n",
       "      <th>PREV_APP_CREDIT_PERC_MIN</th>\n",
       "      <th>INSTAL_DPD_MAX</th>\n",
       "      <th>AMT_CREDIT</th>\n",
       "      <th>DAYS_BIRTH</th>\n",
       "      <th>FLAG_OWN_CAR</th>\n",
       "      <th>NAME_EDUCATION_TYPE_Higher_education</th>\n",
       "      <th>NAME_INCOME_TYPE_State_servant</th>\n",
       "    </tr>\n",
       "  </thead>\n",
       "  <tbody>\n",
       "    <tr>\n",
       "      <th>215169</th>\n",
       "      <td>0.574447</td>\n",
       "      <td>0.092250</td>\n",
       "      <td>1229.0</td>\n",
       "      <td>1.0</td>\n",
       "      <td>335.0</td>\n",
       "      <td>0.627786</td>\n",
       "      <td>0.0</td>\n",
       "      <td>508495.5</td>\n",
       "      <td>20255.0</td>\n",
       "      <td>0.0</td>\n",
       "      <td>0.0</td>\n",
       "      <td>0.0</td>\n",
       "    </tr>\n",
       "    <tr>\n",
       "      <th>275171</th>\n",
       "      <td>NaN</td>\n",
       "      <td>0.779680</td>\n",
       "      <td>2688.0</td>\n",
       "      <td>1.0</td>\n",
       "      <td>5862.0</td>\n",
       "      <td>0.906651</td>\n",
       "      <td>0.0</td>\n",
       "      <td>728460.0</td>\n",
       "      <td>21989.0</td>\n",
       "      <td>0.0</td>\n",
       "      <td>0.0</td>\n",
       "      <td>0.0</td>\n",
       "    </tr>\n",
       "    <tr>\n",
       "      <th>139526</th>\n",
       "      <td>0.159520</td>\n",
       "      <td>0.475448</td>\n",
       "      <td>1632.0</td>\n",
       "      <td>1.0</td>\n",
       "      <td>NaN</td>\n",
       "      <td>0.938086</td>\n",
       "      <td>0.0</td>\n",
       "      <td>239850.0</td>\n",
       "      <td>25054.0</td>\n",
       "      <td>0.0</td>\n",
       "      <td>0.0</td>\n",
       "      <td>0.0</td>\n",
       "    </tr>\n",
       "    <tr>\n",
       "      <th>283387</th>\n",
       "      <td>0.456110</td>\n",
       "      <td>0.698863</td>\n",
       "      <td>2500.0</td>\n",
       "      <td>0.0</td>\n",
       "      <td>7093.0</td>\n",
       "      <td>0.000000</td>\n",
       "      <td>22.0</td>\n",
       "      <td>450000.0</td>\n",
       "      <td>18862.0</td>\n",
       "      <td>0.0</td>\n",
       "      <td>1.0</td>\n",
       "      <td>1.0</td>\n",
       "    </tr>\n",
       "    <tr>\n",
       "      <th>14341</th>\n",
       "      <td>0.761026</td>\n",
       "      <td>0.658295</td>\n",
       "      <td>2608.0</td>\n",
       "      <td>1.0</td>\n",
       "      <td>NaN</td>\n",
       "      <td>0.000000</td>\n",
       "      <td>27.0</td>\n",
       "      <td>1350000.0</td>\n",
       "      <td>21817.0</td>\n",
       "      <td>1.0</td>\n",
       "      <td>0.0</td>\n",
       "      <td>0.0</td>\n",
       "    </tr>\n",
       "  </tbody>\n",
       "</table>\n",
       "</div>"
      ],
      "text/plain": [
       "        EXT_SOURCE_3  EXT_SOURCE_2  PREV_DAYS_DECISION_MIN  CODE_GENDER  \\\n",
       "215169      0.574447      0.092250                  1229.0          1.0   \n",
       "275171           NaN      0.779680                  2688.0          1.0   \n",
       "139526      0.159520      0.475448                  1632.0          1.0   \n",
       "283387      0.456110      0.698863                  2500.0          0.0   \n",
       "14341       0.761026      0.658295                  2608.0          1.0   \n",
       "\n",
       "        DAYS_EMPLOYED  PREV_APP_CREDIT_PERC_MIN  INSTAL_DPD_MAX  AMT_CREDIT  \\\n",
       "215169          335.0                  0.627786             0.0    508495.5   \n",
       "275171         5862.0                  0.906651             0.0    728460.0   \n",
       "139526            NaN                  0.938086             0.0    239850.0   \n",
       "283387         7093.0                  0.000000            22.0    450000.0   \n",
       "14341             NaN                  0.000000            27.0   1350000.0   \n",
       "\n",
       "        DAYS_BIRTH  FLAG_OWN_CAR  NAME_EDUCATION_TYPE_Higher_education  \\\n",
       "215169     20255.0           0.0                                   0.0   \n",
       "275171     21989.0           0.0                                   0.0   \n",
       "139526     25054.0           0.0                                   0.0   \n",
       "283387     18862.0           0.0                                   1.0   \n",
       "14341      21817.0           1.0                                   0.0   \n",
       "\n",
       "        NAME_INCOME_TYPE_State_servant  \n",
       "215169                             0.0  \n",
       "275171                             0.0  \n",
       "139526                             0.0  \n",
       "283387                             1.0  \n",
       "14341                              0.0  "
      ]
     },
     "execution_count": 58,
     "metadata": {},
     "output_type": "execute_result"
    }
   ],
   "source": [
    "X_train[features_select].head()"
   ]
  },
  {
   "cell_type": "code",
   "execution_count": 59,
   "id": "e7b8773a",
   "metadata": {},
   "outputs": [
    {
     "data": {
      "text/plain": [
       "5036"
      ]
     },
     "execution_count": 59,
     "metadata": {},
     "output_type": "execute_result"
    }
   ],
   "source": [
    "# Nettoyage de la mémoire\n",
    "del X_train\n",
    "del X_test\n",
    "gc.collect()"
   ]
  },
  {
   "cell_type": "code",
   "execution_count": 60,
   "id": "ef66094b",
   "metadata": {},
   "outputs": [],
   "source": [
    "X_train_select = X_rus_train[features_select]"
   ]
  },
  {
   "cell_type": "code",
   "execution_count": 61,
   "id": "d0c342e5",
   "metadata": {},
   "outputs": [],
   "source": [
    "X_test_select = X_rus_test[features_select]"
   ]
  },
  {
   "cell_type": "code",
   "execution_count": 62,
   "id": "d087cbb9",
   "metadata": {},
   "outputs": [
    {
     "data": {
      "text/html": [
       "<div>\n",
       "<style scoped>\n",
       "    .dataframe tbody tr th:only-of-type {\n",
       "        vertical-align: middle;\n",
       "    }\n",
       "\n",
       "    .dataframe tbody tr th {\n",
       "        vertical-align: top;\n",
       "    }\n",
       "\n",
       "    .dataframe thead th {\n",
       "        text-align: right;\n",
       "    }\n",
       "</style>\n",
       "<table border=\"1\" class=\"dataframe\">\n",
       "  <thead>\n",
       "    <tr style=\"text-align: right;\">\n",
       "      <th></th>\n",
       "      <th>EXT_SOURCE_3</th>\n",
       "      <th>EXT_SOURCE_2</th>\n",
       "      <th>PREV_DAYS_DECISION_MIN</th>\n",
       "      <th>CODE_GENDER</th>\n",
       "      <th>DAYS_EMPLOYED</th>\n",
       "      <th>PREV_APP_CREDIT_PERC_MIN</th>\n",
       "      <th>INSTAL_DPD_MAX</th>\n",
       "      <th>AMT_CREDIT</th>\n",
       "      <th>DAYS_BIRTH</th>\n",
       "      <th>FLAG_OWN_CAR</th>\n",
       "      <th>NAME_EDUCATION_TYPE_Higher_education</th>\n",
       "      <th>NAME_INCOME_TYPE_State_servant</th>\n",
       "    </tr>\n",
       "  </thead>\n",
       "  <tbody>\n",
       "    <tr>\n",
       "      <th>26449</th>\n",
       "      <td>0.105473</td>\n",
       "      <td>0.063543</td>\n",
       "      <td>-249.0</td>\n",
       "      <td>1.0</td>\n",
       "      <td>-1686.0</td>\n",
       "      <td>0.909906</td>\n",
       "      <td>0.0</td>\n",
       "      <td>341280.0</td>\n",
       "      <td>-10167.0</td>\n",
       "      <td>0.0</td>\n",
       "      <td>0.0</td>\n",
       "      <td>0.0</td>\n",
       "    </tr>\n",
       "    <tr>\n",
       "      <th>28590</th>\n",
       "      <td>0.472253</td>\n",
       "      <td>0.212280</td>\n",
       "      <td>-1775.0</td>\n",
       "      <td>0.0</td>\n",
       "      <td>-3314.0</td>\n",
       "      <td>0.798153</td>\n",
       "      <td>183.0</td>\n",
       "      <td>284400.0</td>\n",
       "      <td>-11598.0</td>\n",
       "      <td>1.0</td>\n",
       "      <td>0.0</td>\n",
       "      <td>0.0</td>\n",
       "    </tr>\n",
       "    <tr>\n",
       "      <th>16542</th>\n",
       "      <td>0.547810</td>\n",
       "      <td>0.464989</td>\n",
       "      <td>-2467.0</td>\n",
       "      <td>1.0</td>\n",
       "      <td>-1161.0</td>\n",
       "      <td>1.026477</td>\n",
       "      <td>25.0</td>\n",
       "      <td>700830.0</td>\n",
       "      <td>-15920.0</td>\n",
       "      <td>0.0</td>\n",
       "      <td>0.0</td>\n",
       "      <td>0.0</td>\n",
       "    </tr>\n",
       "    <tr>\n",
       "      <th>994</th>\n",
       "      <td>0.684828</td>\n",
       "      <td>0.284672</td>\n",
       "      <td>-617.0</td>\n",
       "      <td>0.0</td>\n",
       "      <td>-6830.0</td>\n",
       "      <td>1.000000</td>\n",
       "      <td>0.0</td>\n",
       "      <td>1042560.0</td>\n",
       "      <td>-14970.0</td>\n",
       "      <td>1.0</td>\n",
       "      <td>1.0</td>\n",
       "      <td>0.0</td>\n",
       "    </tr>\n",
       "    <tr>\n",
       "      <th>31557</th>\n",
       "      <td>NaN</td>\n",
       "      <td>0.587407</td>\n",
       "      <td>-1070.0</td>\n",
       "      <td>0.0</td>\n",
       "      <td>-349.0</td>\n",
       "      <td>1.000000</td>\n",
       "      <td>2.0</td>\n",
       "      <td>301500.0</td>\n",
       "      <td>-12114.0</td>\n",
       "      <td>0.0</td>\n",
       "      <td>0.0</td>\n",
       "      <td>0.0</td>\n",
       "    </tr>\n",
       "  </tbody>\n",
       "</table>\n",
       "</div>"
      ],
      "text/plain": [
       "       EXT_SOURCE_3  EXT_SOURCE_2  PREV_DAYS_DECISION_MIN  CODE_GENDER  \\\n",
       "26449      0.105473      0.063543                  -249.0          1.0   \n",
       "28590      0.472253      0.212280                 -1775.0          0.0   \n",
       "16542      0.547810      0.464989                 -2467.0          1.0   \n",
       "994        0.684828      0.284672                  -617.0          0.0   \n",
       "31557           NaN      0.587407                 -1070.0          0.0   \n",
       "\n",
       "       DAYS_EMPLOYED  PREV_APP_CREDIT_PERC_MIN  INSTAL_DPD_MAX  AMT_CREDIT  \\\n",
       "26449        -1686.0                  0.909906             0.0    341280.0   \n",
       "28590        -3314.0                  0.798153           183.0    284400.0   \n",
       "16542        -1161.0                  1.026477            25.0    700830.0   \n",
       "994          -6830.0                  1.000000             0.0   1042560.0   \n",
       "31557         -349.0                  1.000000             2.0    301500.0   \n",
       "\n",
       "       DAYS_BIRTH  FLAG_OWN_CAR  NAME_EDUCATION_TYPE_Higher_education  \\\n",
       "26449    -10167.0           0.0                                   0.0   \n",
       "28590    -11598.0           1.0                                   0.0   \n",
       "16542    -15920.0           0.0                                   0.0   \n",
       "994      -14970.0           1.0                                   1.0   \n",
       "31557    -12114.0           0.0                                   0.0   \n",
       "\n",
       "       NAME_INCOME_TYPE_State_servant  \n",
       "26449                             0.0  \n",
       "28590                             0.0  \n",
       "16542                             0.0  \n",
       "994                               0.0  \n",
       "31557                             0.0  "
      ]
     },
     "execution_count": 62,
     "metadata": {},
     "output_type": "execute_result"
    }
   ],
   "source": [
    "X_train_select.head()"
   ]
  },
  {
   "cell_type": "code",
   "execution_count": 63,
   "id": "f4c4a210",
   "metadata": {},
   "outputs": [
    {
     "data": {
      "text/html": [
       "<div>\n",
       "<style scoped>\n",
       "    .dataframe tbody tr th:only-of-type {\n",
       "        vertical-align: middle;\n",
       "    }\n",
       "\n",
       "    .dataframe tbody tr th {\n",
       "        vertical-align: top;\n",
       "    }\n",
       "\n",
       "    .dataframe thead th {\n",
       "        text-align: right;\n",
       "    }\n",
       "</style>\n",
       "<table border=\"1\" class=\"dataframe\">\n",
       "  <thead>\n",
       "    <tr style=\"text-align: right;\">\n",
       "      <th></th>\n",
       "      <th>EXT_SOURCE_3</th>\n",
       "      <th>EXT_SOURCE_2</th>\n",
       "      <th>PREV_DAYS_DECISION_MIN</th>\n",
       "      <th>CODE_GENDER</th>\n",
       "      <th>DAYS_EMPLOYED</th>\n",
       "      <th>PREV_APP_CREDIT_PERC_MIN</th>\n",
       "      <th>INSTAL_DPD_MAX</th>\n",
       "      <th>AMT_CREDIT</th>\n",
       "      <th>DAYS_BIRTH</th>\n",
       "      <th>FLAG_OWN_CAR</th>\n",
       "      <th>NAME_EDUCATION_TYPE_Higher_education</th>\n",
       "      <th>NAME_INCOME_TYPE_State_servant</th>\n",
       "    </tr>\n",
       "  </thead>\n",
       "  <tbody>\n",
       "    <tr>\n",
       "      <th>27082</th>\n",
       "      <td>0.209155</td>\n",
       "      <td>0.631050</td>\n",
       "      <td>-379.0</td>\n",
       "      <td>1.0</td>\n",
       "      <td>-2246.0</td>\n",
       "      <td>0.882863</td>\n",
       "      <td>5.0</td>\n",
       "      <td>90000.0</td>\n",
       "      <td>-10013.0</td>\n",
       "      <td>0.0</td>\n",
       "      <td>1.0</td>\n",
       "      <td>0.0</td>\n",
       "    </tr>\n",
       "    <tr>\n",
       "      <th>34250</th>\n",
       "      <td>0.798137</td>\n",
       "      <td>0.426848</td>\n",
       "      <td>-1499.0</td>\n",
       "      <td>1.0</td>\n",
       "      <td>-4090.0</td>\n",
       "      <td>0.000000</td>\n",
       "      <td>8.0</td>\n",
       "      <td>427500.0</td>\n",
       "      <td>-11866.0</td>\n",
       "      <td>0.0</td>\n",
       "      <td>1.0</td>\n",
       "      <td>0.0</td>\n",
       "    </tr>\n",
       "    <tr>\n",
       "      <th>32557</th>\n",
       "      <td>0.785052</td>\n",
       "      <td>0.335196</td>\n",
       "      <td>-619.0</td>\n",
       "      <td>1.0</td>\n",
       "      <td>-254.0</td>\n",
       "      <td>0.000000</td>\n",
       "      <td>3.0</td>\n",
       "      <td>998838.0</td>\n",
       "      <td>-16486.0</td>\n",
       "      <td>0.0</td>\n",
       "      <td>0.0</td>\n",
       "      <td>0.0</td>\n",
       "    </tr>\n",
       "    <tr>\n",
       "      <th>14726</th>\n",
       "      <td>0.520898</td>\n",
       "      <td>0.681291</td>\n",
       "      <td>-2728.0</td>\n",
       "      <td>1.0</td>\n",
       "      <td>NaN</td>\n",
       "      <td>0.878272</td>\n",
       "      <td>0.0</td>\n",
       "      <td>360000.0</td>\n",
       "      <td>-21438.0</td>\n",
       "      <td>0.0</td>\n",
       "      <td>0.0</td>\n",
       "      <td>0.0</td>\n",
       "    </tr>\n",
       "    <tr>\n",
       "      <th>15748</th>\n",
       "      <td>0.431192</td>\n",
       "      <td>0.397762</td>\n",
       "      <td>-771.0</td>\n",
       "      <td>1.0</td>\n",
       "      <td>-1735.0</td>\n",
       "      <td>0.878272</td>\n",
       "      <td>0.0</td>\n",
       "      <td>654498.0</td>\n",
       "      <td>-14911.0</td>\n",
       "      <td>1.0</td>\n",
       "      <td>0.0</td>\n",
       "      <td>0.0</td>\n",
       "    </tr>\n",
       "  </tbody>\n",
       "</table>\n",
       "</div>"
      ],
      "text/plain": [
       "       EXT_SOURCE_3  EXT_SOURCE_2  PREV_DAYS_DECISION_MIN  CODE_GENDER  \\\n",
       "27082      0.209155      0.631050                  -379.0          1.0   \n",
       "34250      0.798137      0.426848                 -1499.0          1.0   \n",
       "32557      0.785052      0.335196                  -619.0          1.0   \n",
       "14726      0.520898      0.681291                 -2728.0          1.0   \n",
       "15748      0.431192      0.397762                  -771.0          1.0   \n",
       "\n",
       "       DAYS_EMPLOYED  PREV_APP_CREDIT_PERC_MIN  INSTAL_DPD_MAX  AMT_CREDIT  \\\n",
       "27082        -2246.0                  0.882863             5.0     90000.0   \n",
       "34250        -4090.0                  0.000000             8.0    427500.0   \n",
       "32557         -254.0                  0.000000             3.0    998838.0   \n",
       "14726            NaN                  0.878272             0.0    360000.0   \n",
       "15748        -1735.0                  0.878272             0.0    654498.0   \n",
       "\n",
       "       DAYS_BIRTH  FLAG_OWN_CAR  NAME_EDUCATION_TYPE_Higher_education  \\\n",
       "27082    -10013.0           0.0                                   1.0   \n",
       "34250    -11866.0           0.0                                   1.0   \n",
       "32557    -16486.0           0.0                                   0.0   \n",
       "14726    -21438.0           0.0                                   0.0   \n",
       "15748    -14911.0           1.0                                   0.0   \n",
       "\n",
       "       NAME_INCOME_TYPE_State_servant  \n",
       "27082                             0.0  \n",
       "34250                             0.0  \n",
       "32557                             0.0  \n",
       "14726                             0.0  \n",
       "15748                             0.0  "
      ]
     },
     "execution_count": 63,
     "metadata": {},
     "output_type": "execute_result"
    }
   ],
   "source": [
    "X_test_select.head()"
   ]
  },
  {
   "cell_type": "code",
   "execution_count": 64,
   "id": "fbb0c5bd",
   "metadata": {},
   "outputs": [
    {
     "name": "stderr",
     "output_type": "stream",
     "text": [
      "\n",
      "A value is trying to be set on a copy of a slice from a DataFrame.\n",
      "Try using .loc[row_indexer,col_indexer] = value instead\n",
      "\n",
      "See the caveats in the documentation: https://pandas.pydata.org/pandas-docs/stable/user_guide/indexing.html#returning-a-view-versus-a-copy\n",
      "\n",
      "A value is trying to be set on a copy of a slice from a DataFrame.\n",
      "Try using .loc[row_indexer,col_indexer] = value instead\n",
      "\n",
      "See the caveats in the documentation: https://pandas.pydata.org/pandas-docs/stable/user_guide/indexing.html#returning-a-view-versus-a-copy\n"
     ]
    }
   ],
   "source": [
    "negative_cols = ['PREV_DAYS_DECISION_MIN', 'DAYS_EMPLOYED', 'DAYS_BIRTH']\n",
    "for column in negative_cols:\n",
    "    X_train_select[column] = X_train_select[column].abs()\n",
    "    X_test_select[column] = X_test_select[column].abs()"
   ]
  },
  {
   "cell_type": "markdown",
   "id": "a982ec08",
   "metadata": {},
   "source": [
    "## Calcul des valeurs de Shapley sur variables sélectionnées"
   ]
  },
  {
   "cell_type": "markdown",
   "id": "d0da9d03",
   "metadata": {},
   "source": [
    "Il faut commencer par entraîner un nouveau modèe avec les variables sélectionnées"
   ]
  },
  {
   "cell_type": "code",
   "execution_count": 65,
   "id": "805b15f2",
   "metadata": {},
   "outputs": [
    {
     "data": {
      "text/plain": [
       "(33492, 12)"
      ]
     },
     "execution_count": 65,
     "metadata": {},
     "output_type": "execute_result"
    }
   ],
   "source": [
    "X_train_select.shape"
   ]
  },
  {
   "cell_type": "code",
   "execution_count": 66,
   "id": "e6a29b81",
   "metadata": {},
   "outputs": [
    {
     "data": {
      "text/plain": [
       "(14354, 12)"
      ]
     },
     "execution_count": 66,
     "metadata": {},
     "output_type": "execute_result"
    }
   ],
   "source": [
    "X_test_select.shape"
   ]
  },
  {
   "cell_type": "code",
   "execution_count": 67,
   "id": "8dab723d",
   "metadata": {},
   "outputs": [
    {
     "data": {
      "text/plain": [
       "Index(['EXT_SOURCE_3', 'EXT_SOURCE_2', 'PREV_DAYS_DECISION_MIN', 'CODE_GENDER',\n",
       "       'DAYS_EMPLOYED', 'PREV_APP_CREDIT_PERC_MIN', 'INSTAL_DPD_MAX',\n",
       "       'AMT_CREDIT', 'DAYS_BIRTH', 'FLAG_OWN_CAR',\n",
       "       'NAME_EDUCATION_TYPE_Higher_education',\n",
       "       'NAME_INCOME_TYPE_State_servant'],\n",
       "      dtype='object')"
      ]
     },
     "execution_count": 67,
     "metadata": {},
     "output_type": "execute_result"
    }
   ],
   "source": [
    "X_test_select.columns"
   ]
  },
  {
   "cell_type": "code",
   "execution_count": 68,
   "id": "e92fc606",
   "metadata": {},
   "outputs": [
    {
     "data": {
      "text/html": [
       "<style>#sk-container-id-4 {color: black;background-color: white;}#sk-container-id-4 pre{padding: 0;}#sk-container-id-4 div.sk-toggleable {background-color: white;}#sk-container-id-4 label.sk-toggleable__label {cursor: pointer;display: block;width: 100%;margin-bottom: 0;padding: 0.3em;box-sizing: border-box;text-align: center;}#sk-container-id-4 label.sk-toggleable__label-arrow:before {content: \"▸\";float: left;margin-right: 0.25em;color: #696969;}#sk-container-id-4 label.sk-toggleable__label-arrow:hover:before {color: black;}#sk-container-id-4 div.sk-estimator:hover label.sk-toggleable__label-arrow:before {color: black;}#sk-container-id-4 div.sk-toggleable__content {max-height: 0;max-width: 0;overflow: hidden;text-align: left;background-color: #f0f8ff;}#sk-container-id-4 div.sk-toggleable__content pre {margin: 0.2em;color: black;border-radius: 0.25em;background-color: #f0f8ff;}#sk-container-id-4 input.sk-toggleable__control:checked~div.sk-toggleable__content {max-height: 200px;max-width: 100%;overflow: auto;}#sk-container-id-4 input.sk-toggleable__control:checked~label.sk-toggleable__label-arrow:before {content: \"▾\";}#sk-container-id-4 div.sk-estimator input.sk-toggleable__control:checked~label.sk-toggleable__label {background-color: #d4ebff;}#sk-container-id-4 div.sk-label input.sk-toggleable__control:checked~label.sk-toggleable__label {background-color: #d4ebff;}#sk-container-id-4 input.sk-hidden--visually {border: 0;clip: rect(1px 1px 1px 1px);clip: rect(1px, 1px, 1px, 1px);height: 1px;margin: -1px;overflow: hidden;padding: 0;position: absolute;width: 1px;}#sk-container-id-4 div.sk-estimator {font-family: monospace;background-color: #f0f8ff;border: 1px dotted black;border-radius: 0.25em;box-sizing: border-box;margin-bottom: 0.5em;}#sk-container-id-4 div.sk-estimator:hover {background-color: #d4ebff;}#sk-container-id-4 div.sk-parallel-item::after {content: \"\";width: 100%;border-bottom: 1px solid gray;flex-grow: 1;}#sk-container-id-4 div.sk-label:hover label.sk-toggleable__label {background-color: #d4ebff;}#sk-container-id-4 div.sk-serial::before {content: \"\";position: absolute;border-left: 1px solid gray;box-sizing: border-box;top: 0;bottom: 0;left: 50%;z-index: 0;}#sk-container-id-4 div.sk-serial {display: flex;flex-direction: column;align-items: center;background-color: white;padding-right: 0.2em;padding-left: 0.2em;position: relative;}#sk-container-id-4 div.sk-item {position: relative;z-index: 1;}#sk-container-id-4 div.sk-parallel {display: flex;align-items: stretch;justify-content: center;background-color: white;position: relative;}#sk-container-id-4 div.sk-item::before, #sk-container-id-4 div.sk-parallel-item::before {content: \"\";position: absolute;border-left: 1px solid gray;box-sizing: border-box;top: 0;bottom: 0;left: 50%;z-index: -1;}#sk-container-id-4 div.sk-parallel-item {display: flex;flex-direction: column;z-index: 1;position: relative;background-color: white;}#sk-container-id-4 div.sk-parallel-item:first-child::after {align-self: flex-end;width: 50%;}#sk-container-id-4 div.sk-parallel-item:last-child::after {align-self: flex-start;width: 50%;}#sk-container-id-4 div.sk-parallel-item:only-child::after {width: 0;}#sk-container-id-4 div.sk-dashed-wrapped {border: 1px dashed gray;margin: 0 0.4em 0.5em 0.4em;box-sizing: border-box;padding-bottom: 0.4em;background-color: white;}#sk-container-id-4 div.sk-label label {font-family: monospace;font-weight: bold;display: inline-block;line-height: 1.2em;}#sk-container-id-4 div.sk-label-container {text-align: center;}#sk-container-id-4 div.sk-container {/* jupyter's `normalize.less` sets `[hidden] { display: none; }` but bootstrap.min.css set `[hidden] { display: none !important; }` so we also need the `!important` here to be able to override the default hidden behavior on the sphinx rendered scikit-learn.org. See: https://github.com/scikit-learn/scikit-learn/issues/21755 */display: inline-block !important;position: relative;}#sk-container-id-4 div.sk-text-repr-fallback {display: none;}</style><div id=\"sk-container-id-4\" class=\"sk-top-container\"><div class=\"sk-text-repr-fallback\"><pre>Pipeline(steps=[(&#x27;imputer&#x27;, SimpleImputer()), (&#x27;scaler&#x27;, StandardScaler()),\n",
       "                (&#x27;model&#x27;,\n",
       "                 XGBClassifier(base_score=0.5, booster=&#x27;gbtree&#x27;, callbacks=None,\n",
       "                               colsample_bylevel=1, colsample_bynode=1,\n",
       "                               colsample_bytree=1, early_stopping_rounds=None,\n",
       "                               enable_categorical=False, eval_metric=None,\n",
       "                               gamma=0, gpu_id=-1, grow_policy=&#x27;depthwise&#x27;,\n",
       "                               importance_type=None, interaction_constraints=&#x27;&#x27;,\n",
       "                               learning_rate=0.300000012, max_bin=256,\n",
       "                               max_cat_to_onehot=4, max_delta_step=0,\n",
       "                               max_depth=6, max_leaves=0, min_child_weight=1,\n",
       "                               missing=nan, monotone_constraints=&#x27;()&#x27;,\n",
       "                               n_estimators=100, n_jobs=0, num_parallel_tree=1,\n",
       "                               predictor=&#x27;auto&#x27;, random_state=0, reg_alpha=0,\n",
       "                               reg_lambda=1, ...))])</pre><b>In a Jupyter environment, please rerun this cell to show the HTML representation or trust the notebook. <br />On GitHub, the HTML representation is unable to render, please try loading this page with nbviewer.org.</b></div><div class=\"sk-container\" hidden><div class=\"sk-item sk-dashed-wrapped\"><div class=\"sk-label-container\"><div class=\"sk-label sk-toggleable\"><input class=\"sk-toggleable__control sk-hidden--visually\" id=\"sk-estimator-id-9\" type=\"checkbox\" ><label for=\"sk-estimator-id-9\" class=\"sk-toggleable__label sk-toggleable__label-arrow\">Pipeline</label><div class=\"sk-toggleable__content\"><pre>Pipeline(steps=[(&#x27;imputer&#x27;, SimpleImputer()), (&#x27;scaler&#x27;, StandardScaler()),\n",
       "                (&#x27;model&#x27;,\n",
       "                 XGBClassifier(base_score=0.5, booster=&#x27;gbtree&#x27;, callbacks=None,\n",
       "                               colsample_bylevel=1, colsample_bynode=1,\n",
       "                               colsample_bytree=1, early_stopping_rounds=None,\n",
       "                               enable_categorical=False, eval_metric=None,\n",
       "                               gamma=0, gpu_id=-1, grow_policy=&#x27;depthwise&#x27;,\n",
       "                               importance_type=None, interaction_constraints=&#x27;&#x27;,\n",
       "                               learning_rate=0.300000012, max_bin=256,\n",
       "                               max_cat_to_onehot=4, max_delta_step=0,\n",
       "                               max_depth=6, max_leaves=0, min_child_weight=1,\n",
       "                               missing=nan, monotone_constraints=&#x27;()&#x27;,\n",
       "                               n_estimators=100, n_jobs=0, num_parallel_tree=1,\n",
       "                               predictor=&#x27;auto&#x27;, random_state=0, reg_alpha=0,\n",
       "                               reg_lambda=1, ...))])</pre></div></div></div><div class=\"sk-serial\"><div class=\"sk-item\"><div class=\"sk-estimator sk-toggleable\"><input class=\"sk-toggleable__control sk-hidden--visually\" id=\"sk-estimator-id-10\" type=\"checkbox\" ><label for=\"sk-estimator-id-10\" class=\"sk-toggleable__label sk-toggleable__label-arrow\">SimpleImputer</label><div class=\"sk-toggleable__content\"><pre>SimpleImputer()</pre></div></div></div><div class=\"sk-item\"><div class=\"sk-estimator sk-toggleable\"><input class=\"sk-toggleable__control sk-hidden--visually\" id=\"sk-estimator-id-11\" type=\"checkbox\" ><label for=\"sk-estimator-id-11\" class=\"sk-toggleable__label sk-toggleable__label-arrow\">StandardScaler</label><div class=\"sk-toggleable__content\"><pre>StandardScaler()</pre></div></div></div><div class=\"sk-item\"><div class=\"sk-estimator sk-toggleable\"><input class=\"sk-toggleable__control sk-hidden--visually\" id=\"sk-estimator-id-12\" type=\"checkbox\" ><label for=\"sk-estimator-id-12\" class=\"sk-toggleable__label sk-toggleable__label-arrow\">XGBClassifier</label><div class=\"sk-toggleable__content\"><pre>XGBClassifier(base_score=0.5, booster=&#x27;gbtree&#x27;, callbacks=None,\n",
       "              colsample_bylevel=1, colsample_bynode=1, colsample_bytree=1,\n",
       "              early_stopping_rounds=None, enable_categorical=False,\n",
       "              eval_metric=None, gamma=0, gpu_id=-1, grow_policy=&#x27;depthwise&#x27;,\n",
       "              importance_type=None, interaction_constraints=&#x27;&#x27;,\n",
       "              learning_rate=0.300000012, max_bin=256, max_cat_to_onehot=4,\n",
       "              max_delta_step=0, max_depth=6, max_leaves=0, min_child_weight=1,\n",
       "              missing=nan, monotone_constraints=&#x27;()&#x27;, n_estimators=100,\n",
       "              n_jobs=0, num_parallel_tree=1, predictor=&#x27;auto&#x27;, random_state=0,\n",
       "              reg_alpha=0, reg_lambda=1, ...)</pre></div></div></div></div></div></div></div>"
      ],
      "text/plain": [
       "Pipeline(steps=[('imputer', SimpleImputer()), ('scaler', StandardScaler()),\n",
       "                ('model',\n",
       "                 XGBClassifier(base_score=0.5, booster='gbtree', callbacks=None,\n",
       "                               colsample_bylevel=1, colsample_bynode=1,\n",
       "                               colsample_bytree=1, early_stopping_rounds=None,\n",
       "                               enable_categorical=False, eval_metric=None,\n",
       "                               gamma=0, gpu_id=-1, grow_policy='depthwise',\n",
       "                               importance_type=None, interaction_constraints='',\n",
       "                               learning_rate=0.300000012, max_bin=256,\n",
       "                               max_cat_to_onehot=4, max_delta_step=0,\n",
       "                               max_depth=6, max_leaves=0, min_child_weight=1,\n",
       "                               missing=nan, monotone_constraints='()',\n",
       "                               n_estimators=100, n_jobs=0, num_parallel_tree=1,\n",
       "                               predictor='auto', random_state=0, reg_alpha=0,\n",
       "                               reg_lambda=1, ...))])"
      ]
     },
     "execution_count": 68,
     "metadata": {},
     "output_type": "execute_result"
    }
   ],
   "source": [
    "pipe12 = skpipe(steps=steps)\n",
    "pipe12.fit(X_train_select, y_rus_train)"
   ]
  },
  {
   "cell_type": "code",
   "execution_count": 69,
   "id": "7e6f775f",
   "metadata": {},
   "outputs": [],
   "source": [
    "# Memory error\n",
    "explainer = shap.TreeExplainer(pipe12[\"model\"], pipe12[:-1].fit_transform(X_train_select))"
   ]
  },
  {
   "cell_type": "code",
   "execution_count": 70,
   "id": "497fe447",
   "metadata": {},
   "outputs": [
    {
     "name": "stderr",
     "output_type": "stream",
     "text": [
      " 99%|===================| 14225/14354 [00:19<00:00]        "
     ]
    }
   ],
   "source": [
    "shap_values = explainer.shap_values(pipe12[:-1].transform(X_test_select))"
   ]
  },
  {
   "cell_type": "code",
   "execution_count": 71,
   "id": "0349822d",
   "metadata": {},
   "outputs": [
    {
     "data": {
      "image/png": "[encoded data removed]",
      "text/plain": [
       "<Figure size 576x453.6 with 1 Axes>"
      ]
     },
     "metadata": {
      "needs_background": "light"
     },
     "output_type": "display_data"
    }
   ],
   "source": [
    "shap.summary_plot(shap_values, X_test_select, plot_type=\"bar\", class_names=class_names)"
   ]
  },
  {
   "cell_type": "markdown",
   "id": "50898b59",
   "metadata": {},
   "source": [
    "### Calcul de l'importance des features sélectionnées avec XGBoost"
   ]
  },
  {
   "cell_type": "code",
   "execution_count": 72,
   "id": "955e5fc0",
   "metadata": {},
   "outputs": [
    {
     "data": {
      "text/html": [
       "<div>\n",
       "<style scoped>\n",
       "    .dataframe tbody tr th:only-of-type {\n",
       "        vertical-align: middle;\n",
       "    }\n",
       "\n",
       "    .dataframe tbody tr th {\n",
       "        vertical-align: top;\n",
       "    }\n",
       "\n",
       "    .dataframe thead th {\n",
       "        text-align: right;\n",
       "    }\n",
       "</style>\n",
       "<table border=\"1\" class=\"dataframe\">\n",
       "  <thead>\n",
       "    <tr style=\"text-align: right;\">\n",
       "      <th></th>\n",
       "      <th>EXT_SOURCE_3</th>\n",
       "      <th>EXT_SOURCE_2</th>\n",
       "      <th>PREV_DAYS_DECISION_MIN</th>\n",
       "      <th>CODE_GENDER</th>\n",
       "      <th>DAYS_EMPLOYED</th>\n",
       "      <th>PREV_APP_CREDIT_PERC_MIN</th>\n",
       "      <th>INSTAL_DPD_MAX</th>\n",
       "      <th>AMT_CREDIT</th>\n",
       "      <th>DAYS_BIRTH</th>\n",
       "      <th>FLAG_OWN_CAR</th>\n",
       "      <th>NAME_EDUCATION_TYPE_Higher_education</th>\n",
       "      <th>NAME_INCOME_TYPE_State_servant</th>\n",
       "    </tr>\n",
       "  </thead>\n",
       "  <tbody>\n",
       "    <tr>\n",
       "      <th>26449</th>\n",
       "      <td>0.105473</td>\n",
       "      <td>0.063543</td>\n",
       "      <td>249.0</td>\n",
       "      <td>1.0</td>\n",
       "      <td>1686.0</td>\n",
       "      <td>0.909906</td>\n",
       "      <td>0.0</td>\n",
       "      <td>341280.0</td>\n",
       "      <td>10167.0</td>\n",
       "      <td>0.0</td>\n",
       "      <td>0.0</td>\n",
       "      <td>0.0</td>\n",
       "    </tr>\n",
       "    <tr>\n",
       "      <th>28590</th>\n",
       "      <td>0.472253</td>\n",
       "      <td>0.212280</td>\n",
       "      <td>1775.0</td>\n",
       "      <td>0.0</td>\n",
       "      <td>3314.0</td>\n",
       "      <td>0.798153</td>\n",
       "      <td>183.0</td>\n",
       "      <td>284400.0</td>\n",
       "      <td>11598.0</td>\n",
       "      <td>1.0</td>\n",
       "      <td>0.0</td>\n",
       "      <td>0.0</td>\n",
       "    </tr>\n",
       "    <tr>\n",
       "      <th>16542</th>\n",
       "      <td>0.547810</td>\n",
       "      <td>0.464989</td>\n",
       "      <td>2467.0</td>\n",
       "      <td>1.0</td>\n",
       "      <td>1161.0</td>\n",
       "      <td>1.026477</td>\n",
       "      <td>25.0</td>\n",
       "      <td>700830.0</td>\n",
       "      <td>15920.0</td>\n",
       "      <td>0.0</td>\n",
       "      <td>0.0</td>\n",
       "      <td>0.0</td>\n",
       "    </tr>\n",
       "    <tr>\n",
       "      <th>994</th>\n",
       "      <td>0.684828</td>\n",
       "      <td>0.284672</td>\n",
       "      <td>617.0</td>\n",
       "      <td>0.0</td>\n",
       "      <td>6830.0</td>\n",
       "      <td>1.000000</td>\n",
       "      <td>0.0</td>\n",
       "      <td>1042560.0</td>\n",
       "      <td>14970.0</td>\n",
       "      <td>1.0</td>\n",
       "      <td>1.0</td>\n",
       "      <td>0.0</td>\n",
       "    </tr>\n",
       "    <tr>\n",
       "      <th>31557</th>\n",
       "      <td>NaN</td>\n",
       "      <td>0.587407</td>\n",
       "      <td>1070.0</td>\n",
       "      <td>0.0</td>\n",
       "      <td>349.0</td>\n",
       "      <td>1.000000</td>\n",
       "      <td>2.0</td>\n",
       "      <td>301500.0</td>\n",
       "      <td>12114.0</td>\n",
       "      <td>0.0</td>\n",
       "      <td>0.0</td>\n",
       "      <td>0.0</td>\n",
       "    </tr>\n",
       "  </tbody>\n",
       "</table>\n",
       "</div>"
      ],
      "text/plain": [
       "       EXT_SOURCE_3  EXT_SOURCE_2  PREV_DAYS_DECISION_MIN  CODE_GENDER  \\\n",
       "26449      0.105473      0.063543                   249.0          1.0   \n",
       "28590      0.472253      0.212280                  1775.0          0.0   \n",
       "16542      0.547810      0.464989                  2467.0          1.0   \n",
       "994        0.684828      0.284672                   617.0          0.0   \n",
       "31557           NaN      0.587407                  1070.0          0.0   \n",
       "\n",
       "       DAYS_EMPLOYED  PREV_APP_CREDIT_PERC_MIN  INSTAL_DPD_MAX  AMT_CREDIT  \\\n",
       "26449         1686.0                  0.909906             0.0    341280.0   \n",
       "28590         3314.0                  0.798153           183.0    284400.0   \n",
       "16542         1161.0                  1.026477            25.0    700830.0   \n",
       "994           6830.0                  1.000000             0.0   1042560.0   \n",
       "31557          349.0                  1.000000             2.0    301500.0   \n",
       "\n",
       "       DAYS_BIRTH  FLAG_OWN_CAR  NAME_EDUCATION_TYPE_Higher_education  \\\n",
       "26449     10167.0           0.0                                   0.0   \n",
       "28590     11598.0           1.0                                   0.0   \n",
       "16542     15920.0           0.0                                   0.0   \n",
       "994       14970.0           1.0                                   1.0   \n",
       "31557     12114.0           0.0                                   0.0   \n",
       "\n",
       "       NAME_INCOME_TYPE_State_servant  \n",
       "26449                             0.0  \n",
       "28590                             0.0  \n",
       "16542                             0.0  \n",
       "994                               0.0  \n",
       "31557                             0.0  "
      ]
     },
     "execution_count": 72,
     "metadata": {},
     "output_type": "execute_result"
    }
   ],
   "source": [
    "X_train_select.head()"
   ]
  },
  {
   "cell_type": "code",
   "execution_count": 73,
   "id": "c15d24d5",
   "metadata": {},
   "outputs": [
    {
     "data": {
      "text/plain": [
       "(14354, 12)"
      ]
     },
     "execution_count": 73,
     "metadata": {},
     "output_type": "execute_result"
    }
   ],
   "source": [
    "X_test_select.shape"
   ]
  },
  {
   "cell_type": "code",
   "execution_count": 74,
   "id": "dfab2e8b",
   "metadata": {},
   "outputs": [
    {
     "data": {
      "text/plain": [
       "(14354, 1)"
      ]
     },
     "execution_count": 74,
     "metadata": {},
     "output_type": "execute_result"
    }
   ],
   "source": [
    "y_rus_test.shape"
   ]
  },
  {
   "cell_type": "code",
   "execution_count": 75,
   "id": "c0b7a06f",
   "metadata": {},
   "outputs": [
    {
     "data": {
      "image/png": "[encoded data removed]",
      "text/plain": [
       "<Figure size 1008x1008 with 2 Axes>"
      ]
     },
     "metadata": {
      "needs_background": "light"
     },
     "output_type": "display_data"
    },
    {
     "name": "stdout",
     "output_type": "stream",
     "text": [
      "              precision    recall  f1-score   support\n",
      "\n",
      "         0.0       0.67      0.68      0.68      7131\n",
      "         1.0       0.68      0.67      0.67      7223\n",
      "\n",
      "    accuracy                           0.67     14354\n",
      "   macro avg       0.67      0.67      0.67     14354\n",
      "weighted avg       0.67      0.67      0.67     14354\n",
      "\n",
      "ROC AUC Score: 0.67\n"
     ]
    }
   ],
   "source": [
    "# make predictions for test data and evaluate\n",
    "y_pred = pipe12.predict(X_test_select)\n",
    "\n",
    "# Plot the confusion matrix\n",
    "plot_confusion_matrix(y_rus_test, y_pred)"
   ]
  },
  {
   "cell_type": "markdown",
   "id": "ea0aaacf",
   "metadata": {},
   "source": [
    "On obtient le même niveau de recall avec les 11 features sélectionnées qu'avec l'ensemble des features. "
   ]
  },
  {
   "cell_type": "code",
   "execution_count": 76,
   "id": "90f3c4dd",
   "metadata": {},
   "outputs": [],
   "source": [
    "# recherche des noms de features dans le X_train\n",
    "feats = {} # a dict to hold feature_name: feature_importance\n",
    "for feature, importance in zip(X_train_select.columns, pipe12['model'].feature_importances_):\n",
    "    feats[feature] = importance #add the name/value pair "
   ]
  },
  {
   "cell_type": "code",
   "execution_count": 77,
   "id": "897e6d5b",
   "metadata": {},
   "outputs": [
    {
     "data": {
      "text/html": [
       "<div>\n",
       "<style scoped>\n",
       "    .dataframe tbody tr th:only-of-type {\n",
       "        vertical-align: middle;\n",
       "    }\n",
       "\n",
       "    .dataframe tbody tr th {\n",
       "        vertical-align: top;\n",
       "    }\n",
       "\n",
       "    .dataframe thead th {\n",
       "        text-align: right;\n",
       "    }\n",
       "</style>\n",
       "<table border=\"1\" class=\"dataframe\">\n",
       "  <thead>\n",
       "    <tr style=\"text-align: right;\">\n",
       "      <th></th>\n",
       "      <th>feature_importance</th>\n",
       "    </tr>\n",
       "  </thead>\n",
       "  <tbody>\n",
       "    <tr>\n",
       "      <th>EXT_SOURCE_3</th>\n",
       "      <td>0.159938</td>\n",
       "    </tr>\n",
       "    <tr>\n",
       "      <th>NAME_EDUCATION_TYPE_Higher_education</th>\n",
       "      <td>0.150029</td>\n",
       "    </tr>\n",
       "    <tr>\n",
       "      <th>EXT_SOURCE_2</th>\n",
       "      <td>0.122427</td>\n",
       "    </tr>\n",
       "    <tr>\n",
       "      <th>CODE_GENDER</th>\n",
       "      <td>0.107314</td>\n",
       "    </tr>\n",
       "    <tr>\n",
       "      <th>FLAG_OWN_CAR</th>\n",
       "      <td>0.073349</td>\n",
       "    </tr>\n",
       "    <tr>\n",
       "      <th>INSTAL_DPD_MAX</th>\n",
       "      <td>0.060942</td>\n",
       "    </tr>\n",
       "    <tr>\n",
       "      <th>DAYS_EMPLOYED</th>\n",
       "      <td>0.058607</td>\n",
       "    </tr>\n",
       "    <tr>\n",
       "      <th>PREV_DAYS_DECISION_MIN</th>\n",
       "      <td>0.055112</td>\n",
       "    </tr>\n",
       "    <tr>\n",
       "      <th>NAME_INCOME_TYPE_State_servant</th>\n",
       "      <td>0.055076</td>\n",
       "    </tr>\n",
       "    <tr>\n",
       "      <th>PREV_APP_CREDIT_PERC_MIN</th>\n",
       "      <td>0.054792</td>\n",
       "    </tr>\n",
       "    <tr>\n",
       "      <th>AMT_CREDIT</th>\n",
       "      <td>0.053757</td>\n",
       "    </tr>\n",
       "    <tr>\n",
       "      <th>DAYS_BIRTH</th>\n",
       "      <td>0.048657</td>\n",
       "    </tr>\n",
       "  </tbody>\n",
       "</table>\n",
       "</div>"
      ],
      "text/plain": [
       "                                      feature_importance\n",
       "EXT_SOURCE_3                                    0.159938\n",
       "NAME_EDUCATION_TYPE_Higher_education            0.150029\n",
       "EXT_SOURCE_2                                    0.122427\n",
       "CODE_GENDER                                     0.107314\n",
       "FLAG_OWN_CAR                                    0.073349\n",
       "INSTAL_DPD_MAX                                  0.060942\n",
       "DAYS_EMPLOYED                                   0.058607\n",
       "PREV_DAYS_DECISION_MIN                          0.055112\n",
       "NAME_INCOME_TYPE_State_servant                  0.055076\n",
       "PREV_APP_CREDIT_PERC_MIN                        0.054792\n",
       "AMT_CREDIT                                      0.053757\n",
       "DAYS_BIRTH                                      0.048657"
      ]
     },
     "execution_count": 77,
     "metadata": {},
     "output_type": "execute_result"
    }
   ],
   "source": [
    "# création d'un dataframe stockant l'importance des features\n",
    "main_features = pd.DataFrame.from_dict(feats, orient='index').sort_values(by=0, ascending=False)\n",
    "main_features = main_features.rename(columns={0:\"feature_importance\"})\n",
    "main_features.head(50)"
   ]
  },
  {
   "cell_type": "code",
   "execution_count": 78,
   "id": "5ff9e4ef",
   "metadata": {},
   "outputs": [
    {
     "data": {
      "text/plain": [
       "Text(0.5, 1.0, 'Xgboost Feature Importance by descending order (first 50 features)')"
      ]
     },
     "execution_count": 78,
     "metadata": {},
     "output_type": "execute_result"
    },
    {
     "data": {
      "image/png": "[encoded data removed]",
      "text/plain": [
       "<Figure size 1008x1008 with 1 Axes>"
      ]
     },
     "metadata": {
      "needs_background": "light"
     },
     "output_type": "display_data"
    }
   ],
   "source": [
    "# Grape \n",
    "plt.rcParams[\"figure.figsize\"] = (14, 14)\n",
    "sorted_idx = main_features.values.flatten().argsort()\n",
    "plt.barh(main_features.index[sorted_idx],\n",
    "         main_features.values.flatten()[sorted_idx])\n",
    "plt.xlabel(\"Xgboost Feature Importance\")\n",
    "plt.title(\"Xgboost Feature Importance by descending order (first 50 features)\")"
   ]
  },
  {
   "cell_type": "markdown",
   "id": "26fb691b",
   "metadata": {},
   "source": [
    "## Sélection finale des features"
   ]
  },
  {
   "cell_type": "markdown",
   "id": "1d44472f",
   "metadata": {},
   "source": [
    "Compte tenu de la faible valeur de Shapley de la variable 'NAME_INCOME_TYPE_State_servant', on la supprime."
   ]
  },
  {
   "cell_type": "code",
   "execution_count": 79,
   "id": "dee32ceb",
   "metadata": {},
   "outputs": [],
   "source": [
    "X_train_select = X_train_select.drop(columns=['NAME_INCOME_TYPE_State_servant'])"
   ]
  },
  {
   "cell_type": "code",
   "execution_count": 80,
   "id": "4ca01588",
   "metadata": {},
   "outputs": [],
   "source": [
    "X_test_select = X_test_select.drop(columns=['NAME_INCOME_TYPE_State_servant'])"
   ]
  },
  {
   "cell_type": "code",
   "execution_count": 81,
   "id": "fe8f6fa4",
   "metadata": {},
   "outputs": [
    {
     "data": {
      "text/plain": [
       "(33492, 11)"
      ]
     },
     "execution_count": 81,
     "metadata": {},
     "output_type": "execute_result"
    }
   ],
   "source": [
    "X_train_select.shape"
   ]
  },
  {
   "cell_type": "code",
   "execution_count": 82,
   "id": "74896b78",
   "metadata": {},
   "outputs": [
    {
     "data": {
      "text/html": [
       "<div>\n",
       "<style scoped>\n",
       "    .dataframe tbody tr th:only-of-type {\n",
       "        vertical-align: middle;\n",
       "    }\n",
       "\n",
       "    .dataframe tbody tr th {\n",
       "        vertical-align: top;\n",
       "    }\n",
       "\n",
       "    .dataframe thead th {\n",
       "        text-align: right;\n",
       "    }\n",
       "</style>\n",
       "<table border=\"1\" class=\"dataframe\">\n",
       "  <thead>\n",
       "    <tr style=\"text-align: right;\">\n",
       "      <th></th>\n",
       "      <th>EXT_SOURCE_3</th>\n",
       "      <th>EXT_SOURCE_2</th>\n",
       "      <th>PREV_DAYS_DECISION_MIN</th>\n",
       "      <th>CODE_GENDER</th>\n",
       "      <th>DAYS_EMPLOYED</th>\n",
       "      <th>PREV_APP_CREDIT_PERC_MIN</th>\n",
       "      <th>INSTAL_DPD_MAX</th>\n",
       "      <th>AMT_CREDIT</th>\n",
       "      <th>DAYS_BIRTH</th>\n",
       "      <th>FLAG_OWN_CAR</th>\n",
       "      <th>NAME_EDUCATION_TYPE_Higher_education</th>\n",
       "    </tr>\n",
       "  </thead>\n",
       "  <tbody>\n",
       "    <tr>\n",
       "      <th>26449</th>\n",
       "      <td>0.105473</td>\n",
       "      <td>0.063543</td>\n",
       "      <td>249.0</td>\n",
       "      <td>1.0</td>\n",
       "      <td>1686.0</td>\n",
       "      <td>0.909906</td>\n",
       "      <td>0.0</td>\n",
       "      <td>341280.0</td>\n",
       "      <td>10167.0</td>\n",
       "      <td>0.0</td>\n",
       "      <td>0.0</td>\n",
       "    </tr>\n",
       "    <tr>\n",
       "      <th>28590</th>\n",
       "      <td>0.472253</td>\n",
       "      <td>0.212280</td>\n",
       "      <td>1775.0</td>\n",
       "      <td>0.0</td>\n",
       "      <td>3314.0</td>\n",
       "      <td>0.798153</td>\n",
       "      <td>183.0</td>\n",
       "      <td>284400.0</td>\n",
       "      <td>11598.0</td>\n",
       "      <td>1.0</td>\n",
       "      <td>0.0</td>\n",
       "    </tr>\n",
       "    <tr>\n",
       "      <th>16542</th>\n",
       "      <td>0.547810</td>\n",
       "      <td>0.464989</td>\n",
       "      <td>2467.0</td>\n",
       "      <td>1.0</td>\n",
       "      <td>1161.0</td>\n",
       "      <td>1.026477</td>\n",
       "      <td>25.0</td>\n",
       "      <td>700830.0</td>\n",
       "      <td>15920.0</td>\n",
       "      <td>0.0</td>\n",
       "      <td>0.0</td>\n",
       "    </tr>\n",
       "    <tr>\n",
       "      <th>994</th>\n",
       "      <td>0.684828</td>\n",
       "      <td>0.284672</td>\n",
       "      <td>617.0</td>\n",
       "      <td>0.0</td>\n",
       "      <td>6830.0</td>\n",
       "      <td>1.000000</td>\n",
       "      <td>0.0</td>\n",
       "      <td>1042560.0</td>\n",
       "      <td>14970.0</td>\n",
       "      <td>1.0</td>\n",
       "      <td>1.0</td>\n",
       "    </tr>\n",
       "    <tr>\n",
       "      <th>31557</th>\n",
       "      <td>NaN</td>\n",
       "      <td>0.587407</td>\n",
       "      <td>1070.0</td>\n",
       "      <td>0.0</td>\n",
       "      <td>349.0</td>\n",
       "      <td>1.000000</td>\n",
       "      <td>2.0</td>\n",
       "      <td>301500.0</td>\n",
       "      <td>12114.0</td>\n",
       "      <td>0.0</td>\n",
       "      <td>0.0</td>\n",
       "    </tr>\n",
       "  </tbody>\n",
       "</table>\n",
       "</div>"
      ],
      "text/plain": [
       "       EXT_SOURCE_3  EXT_SOURCE_2  PREV_DAYS_DECISION_MIN  CODE_GENDER  \\\n",
       "26449      0.105473      0.063543                   249.0          1.0   \n",
       "28590      0.472253      0.212280                  1775.0          0.0   \n",
       "16542      0.547810      0.464989                  2467.0          1.0   \n",
       "994        0.684828      0.284672                   617.0          0.0   \n",
       "31557           NaN      0.587407                  1070.0          0.0   \n",
       "\n",
       "       DAYS_EMPLOYED  PREV_APP_CREDIT_PERC_MIN  INSTAL_DPD_MAX  AMT_CREDIT  \\\n",
       "26449         1686.0                  0.909906             0.0    341280.0   \n",
       "28590         3314.0                  0.798153           183.0    284400.0   \n",
       "16542         1161.0                  1.026477            25.0    700830.0   \n",
       "994           6830.0                  1.000000             0.0   1042560.0   \n",
       "31557          349.0                  1.000000             2.0    301500.0   \n",
       "\n",
       "       DAYS_BIRTH  FLAG_OWN_CAR  NAME_EDUCATION_TYPE_Higher_education  \n",
       "26449     10167.0           0.0                                   0.0  \n",
       "28590     11598.0           1.0                                   0.0  \n",
       "16542     15920.0           0.0                                   0.0  \n",
       "994       14970.0           1.0                                   1.0  \n",
       "31557     12114.0           0.0                                   0.0  "
      ]
     },
     "execution_count": 82,
     "metadata": {},
     "output_type": "execute_result"
    }
   ],
   "source": [
    "X_train_select.head()"
   ]
  },
  {
   "cell_type": "code",
   "execution_count": 83,
   "id": "26729b58",
   "metadata": {},
   "outputs": [
    {
     "data": {
      "image/png": "[encoded data removed]",
      "text/plain": [
       "<Figure size 1008x1008 with 2 Axes>"
      ]
     },
     "metadata": {
      "needs_background": "light"
     },
     "output_type": "display_data"
    },
    {
     "name": "stdout",
     "output_type": "stream",
     "text": [
      "              precision    recall  f1-score   support\n",
      "\n",
      "         0.0       0.67      0.69      0.68      7131\n",
      "         1.0       0.68      0.67      0.67      7223\n",
      "\n",
      "    accuracy                           0.68     14354\n",
      "   macro avg       0.68      0.68      0.68     14354\n",
      "weighted avg       0.68      0.68      0.68     14354\n",
      "\n",
      "ROC AUC Score: 0.68\n"
     ]
    }
   ],
   "source": [
    "# Entrainement d'un nouveau modèle XGBoost avec les variables finales\n",
    "pipe11 = skpipe(steps=steps)\n",
    "pipe11.fit(X_train_select, y_rus_train)\n",
    "# make predictions for test data and evaluate\n",
    "y_pred = pipe11.predict(X_test_select)\n",
    "\n",
    "# Plot the confusion matrix\n",
    "plot_confusion_matrix(y_rus_test, y_pred)"
   ]
  },
  {
   "cell_type": "markdown",
   "id": "7a000492",
   "metadata": {},
   "source": [
    "### Sauvegarde des données retraitées avec undersampling (utilisées pour Shapley)"
   ]
  },
  {
   "cell_type": "code",
   "execution_count": 84,
   "id": "6b04f5fb",
   "metadata": {},
   "outputs": [],
   "source": [
    "# réintégration de la target dans matrice des features pour sauvegarde\n",
    "X_train_select['TARGET'] = y_rus_train\n",
    "X_test_select['TARGET'] = y_rus_test"
   ]
  },
  {
   "cell_type": "code",
   "execution_count": 85,
   "id": "f0fb6480",
   "metadata": {},
   "outputs": [],
   "source": [
    "X_train_select.to_csv('../data_models/X_train_final.csv')"
   ]
  },
  {
   "cell_type": "code",
   "execution_count": 86,
   "id": "40af00ba",
   "metadata": {},
   "outputs": [],
   "source": [
    "X_test_select.to_csv('../data_models/X_test_final.csv')"
   ]
  },
  {
   "cell_type": "markdown",
   "id": "3dd66bad",
   "metadata": {},
   "source": [
    "### Sauvegarde des données brutes avant égalisation des classes"
   ]
  },
  {
   "cell_type": "markdown",
   "id": "08a1705b",
   "metadata": {},
   "source": [
    "On aura besoin de ces données brutes pour entrainer les modèles dans la phase 2 et choisir les meilleures méthodes pour égaliser les classes."
   ]
  },
  {
   "cell_type": "code",
   "execution_count": 87,
   "id": "23e0c5f7",
   "metadata": {},
   "outputs": [],
   "source": [
    "final_features = X_train_select.columns.to_list()"
   ]
  },
  {
   "cell_type": "code",
   "execution_count": 88,
   "id": "6e326ada",
   "metadata": {},
   "outputs": [
    {
     "data": {
      "text/plain": [
       "['EXT_SOURCE_3',\n",
       " 'EXT_SOURCE_2',\n",
       " 'PREV_DAYS_DECISION_MIN',\n",
       " 'CODE_GENDER',\n",
       " 'DAYS_EMPLOYED',\n",
       " 'PREV_APP_CREDIT_PERC_MIN',\n",
       " 'INSTAL_DPD_MAX',\n",
       " 'AMT_CREDIT',\n",
       " 'DAYS_BIRTH',\n",
       " 'FLAG_OWN_CAR',\n",
       " 'NAME_EDUCATION_TYPE_Higher_education',\n",
       " 'TARGET']"
      ]
     },
     "execution_count": 88,
     "metadata": {},
     "output_type": "execute_result"
    }
   ],
   "source": [
    "final_features"
   ]
  },
  {
   "cell_type": "code",
   "execution_count": 89,
   "id": "ae1268b8",
   "metadata": {},
   "outputs": [
    {
     "data": {
      "text/plain": [
       "12"
      ]
     },
     "execution_count": 89,
     "metadata": {},
     "output_type": "execute_result"
    }
   ],
   "source": [
    "len(final_features)"
   ]
  },
  {
   "cell_type": "code",
   "execution_count": 90,
   "id": "590da4f0",
   "metadata": {},
   "outputs": [],
   "source": [
    "final_features.remove('TARGET')"
   ]
  },
  {
   "cell_type": "code",
   "execution_count": 91,
   "id": "e94ec2e2",
   "metadata": {},
   "outputs": [],
   "source": [
    "# sélection des 11 features sélections\n",
    "X_top11 = X[final_features]"
   ]
  },
  {
   "cell_type": "code",
   "execution_count": 92,
   "id": "b264a459",
   "metadata": {},
   "outputs": [
    {
     "name": "stderr",
     "output_type": "stream",
     "text": [
      "\n",
      "A value is trying to be set on a copy of a slice from a DataFrame.\n",
      "Try using .loc[row_indexer,col_indexer] = value instead\n",
      "\n",
      "See the caveats in the documentation: https://pandas.pydata.org/pandas-docs/stable/user_guide/indexing.html#returning-a-view-versus-a-copy\n"
     ]
    }
   ],
   "source": [
    "# ajout de la target à la matrice X\n",
    "X_top11['TARGET'] = y"
   ]
  },
  {
   "cell_type": "code",
   "execution_count": 93,
   "id": "cddaf25b",
   "metadata": {},
   "outputs": [
    {
     "data": {
      "text/plain": [
       "(292062, 12)"
      ]
     },
     "execution_count": 93,
     "metadata": {},
     "output_type": "execute_result"
    }
   ],
   "source": [
    "X_top11.shape"
   ]
  },
  {
   "cell_type": "code",
   "execution_count": 94,
   "id": "46e6bfc2",
   "metadata": {},
   "outputs": [
    {
     "data": {
      "text/html": [
       "<div>\n",
       "<style scoped>\n",
       "    .dataframe tbody tr th:only-of-type {\n",
       "        vertical-align: middle;\n",
       "    }\n",
       "\n",
       "    .dataframe tbody tr th {\n",
       "        vertical-align: top;\n",
       "    }\n",
       "\n",
       "    .dataframe thead th {\n",
       "        text-align: right;\n",
       "    }\n",
       "</style>\n",
       "<table border=\"1\" class=\"dataframe\">\n",
       "  <thead>\n",
       "    <tr style=\"text-align: right;\">\n",
       "      <th></th>\n",
       "      <th>EXT_SOURCE_3</th>\n",
       "      <th>EXT_SOURCE_2</th>\n",
       "      <th>PREV_DAYS_DECISION_MIN</th>\n",
       "      <th>CODE_GENDER</th>\n",
       "      <th>DAYS_EMPLOYED</th>\n",
       "      <th>PREV_APP_CREDIT_PERC_MIN</th>\n",
       "      <th>INSTAL_DPD_MAX</th>\n",
       "      <th>AMT_CREDIT</th>\n",
       "      <th>DAYS_BIRTH</th>\n",
       "      <th>FLAG_OWN_CAR</th>\n",
       "      <th>NAME_EDUCATION_TYPE_Higher_education</th>\n",
       "      <th>TARGET</th>\n",
       "    </tr>\n",
       "  </thead>\n",
       "  <tbody>\n",
       "    <tr>\n",
       "      <th>215169</th>\n",
       "      <td>0.574447</td>\n",
       "      <td>0.092250</td>\n",
       "      <td>-1229.0</td>\n",
       "      <td>1.0</td>\n",
       "      <td>-335.0</td>\n",
       "      <td>0.627786</td>\n",
       "      <td>0.0</td>\n",
       "      <td>508495.5</td>\n",
       "      <td>-20255.0</td>\n",
       "      <td>0.0</td>\n",
       "      <td>0.0</td>\n",
       "      <td>0.0</td>\n",
       "    </tr>\n",
       "    <tr>\n",
       "      <th>275171</th>\n",
       "      <td>NaN</td>\n",
       "      <td>0.779680</td>\n",
       "      <td>-2688.0</td>\n",
       "      <td>1.0</td>\n",
       "      <td>-5862.0</td>\n",
       "      <td>0.906651</td>\n",
       "      <td>0.0</td>\n",
       "      <td>728460.0</td>\n",
       "      <td>-21989.0</td>\n",
       "      <td>0.0</td>\n",
       "      <td>0.0</td>\n",
       "      <td>0.0</td>\n",
       "    </tr>\n",
       "    <tr>\n",
       "      <th>139526</th>\n",
       "      <td>0.159520</td>\n",
       "      <td>0.475448</td>\n",
       "      <td>-1632.0</td>\n",
       "      <td>1.0</td>\n",
       "      <td>NaN</td>\n",
       "      <td>0.938086</td>\n",
       "      <td>0.0</td>\n",
       "      <td>239850.0</td>\n",
       "      <td>-25054.0</td>\n",
       "      <td>0.0</td>\n",
       "      <td>0.0</td>\n",
       "      <td>0.0</td>\n",
       "    </tr>\n",
       "    <tr>\n",
       "      <th>283387</th>\n",
       "      <td>0.456110</td>\n",
       "      <td>0.698863</td>\n",
       "      <td>-2500.0</td>\n",
       "      <td>0.0</td>\n",
       "      <td>-7093.0</td>\n",
       "      <td>0.000000</td>\n",
       "      <td>22.0</td>\n",
       "      <td>450000.0</td>\n",
       "      <td>-18862.0</td>\n",
       "      <td>0.0</td>\n",
       "      <td>1.0</td>\n",
       "      <td>0.0</td>\n",
       "    </tr>\n",
       "    <tr>\n",
       "      <th>14341</th>\n",
       "      <td>0.761026</td>\n",
       "      <td>0.658295</td>\n",
       "      <td>-2608.0</td>\n",
       "      <td>1.0</td>\n",
       "      <td>NaN</td>\n",
       "      <td>0.000000</td>\n",
       "      <td>27.0</td>\n",
       "      <td>1350000.0</td>\n",
       "      <td>-21817.0</td>\n",
       "      <td>1.0</td>\n",
       "      <td>0.0</td>\n",
       "      <td>0.0</td>\n",
       "    </tr>\n",
       "  </tbody>\n",
       "</table>\n",
       "</div>"
      ],
      "text/plain": [
       "        EXT_SOURCE_3  EXT_SOURCE_2  PREV_DAYS_DECISION_MIN  CODE_GENDER  \\\n",
       "215169      0.574447      0.092250                 -1229.0          1.0   \n",
       "275171           NaN      0.779680                 -2688.0          1.0   \n",
       "139526      0.159520      0.475448                 -1632.0          1.0   \n",
       "283387      0.456110      0.698863                 -2500.0          0.0   \n",
       "14341       0.761026      0.658295                 -2608.0          1.0   \n",
       "\n",
       "        DAYS_EMPLOYED  PREV_APP_CREDIT_PERC_MIN  INSTAL_DPD_MAX  AMT_CREDIT  \\\n",
       "215169         -335.0                  0.627786             0.0    508495.5   \n",
       "275171        -5862.0                  0.906651             0.0    728460.0   \n",
       "139526            NaN                  0.938086             0.0    239850.0   \n",
       "283387        -7093.0                  0.000000            22.0    450000.0   \n",
       "14341             NaN                  0.000000            27.0   1350000.0   \n",
       "\n",
       "        DAYS_BIRTH  FLAG_OWN_CAR  NAME_EDUCATION_TYPE_Higher_education  TARGET  \n",
       "215169    -20255.0           0.0                                   0.0     0.0  \n",
       "275171    -21989.0           0.0                                   0.0     0.0  \n",
       "139526    -25054.0           0.0                                   0.0     0.0  \n",
       "283387    -18862.0           0.0                                   1.0     0.0  \n",
       "14341     -21817.0           1.0                                   0.0     0.0  "
      ]
     },
     "execution_count": 94,
     "metadata": {},
     "output_type": "execute_result"
    }
   ],
   "source": [
    "X_top11.head()"
   ]
  },
  {
   "cell_type": "code",
   "execution_count": 95,
   "id": "943597f0",
   "metadata": {},
   "outputs": [
    {
     "name": "stderr",
     "output_type": "stream",
     "text": [
      "\n",
      "A value is trying to be set on a copy of a slice from a DataFrame.\n",
      "Try using .loc[row_indexer,col_indexer] = value instead\n",
      "\n",
      "See the caveats in the documentation: https://pandas.pydata.org/pandas-docs/stable/user_guide/indexing.html#returning-a-view-versus-a-copy\n"
     ]
    }
   ],
   "source": [
    "negative_cols = ['PREV_DAYS_DECISION_MIN', 'DAYS_EMPLOYED', 'DAYS_BIRTH']\n",
    "for column in negative_cols:\n",
    "    X_top11[column] = X_top11[column].abs()"
   ]
  },
  {
   "cell_type": "code",
   "execution_count": 96,
   "id": "d0e08adc",
   "metadata": {},
   "outputs": [],
   "source": [
    "X_top11.to_csv(\"../data_models/X_top10.csv\")"
   ]
  },
  {
   "cell_type": "code",
   "execution_count": null,
   "id": "926583bc",
   "metadata": {},
   "outputs": [],
   "source": []
  }
 ],
 "metadata": {
  "kernelspec": {
   "display_name": "Python 3 (ipykernel)",
   "language": "python",
   "name": "python3"
  },
  "language_info": {
   "codemirror_mode": {
    "name": "ipython",
    "version": 3
   },
   "file_extension": ".py",
   "mimetype": "text/x-python",
   "name": "python",
   "nbconvert_exporter": "python",
   "pygments_lexer": "ipython3",
   "version": "3.9.12"
  }
 },
 "nbformat": 4,
 "nbformat_minor": 5
}
