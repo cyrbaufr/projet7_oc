{
 "cells": [
  {
   "cell_type": "markdown",
   "id": "5d9daf92",
   "metadata": {},
   "source": [
    "# Modélisation des autorisations de crédits"
   ]
  },
  {
   "cell_type": "markdown",
   "id": "c0a9da43",
   "metadata": {},
   "source": [
    "## Régression logistique"
   ]
  },
  {
   "cell_type": "markdown",
   "id": "cd4d81a4",
   "metadata": {},
   "source": [
    "### Chargement des librairies"
   ]
  },
  {
   "cell_type": "code",
   "execution_count": 1,
   "id": "2c1af938",
   "metadata": {},
   "outputs": [],
   "source": [
    "import sys\n",
    "sys.path.insert(0, \"/home/cyril/openclassrooms/projets/P7/P7_baudrillart_cyril_V2/custom_functions\")"
   ]
  },
  {
   "cell_type": "code",
   "execution_count": 2,
   "id": "bfed8dc2",
   "metadata": {},
   "outputs": [],
   "source": [
    "# Librairies Data Science\n",
    "import pandas as pd\n",
    "import numpy as np\n",
    "from collections import Counter\n",
    "import time\n",
    "import seaborn as sns\n",
    "import matplotlib.pyplot as plt\n",
    "import pickle\n",
    "from model_analysis import plot_confusion_matrix, plot_roc_curve"
   ]
  },
  {
   "cell_type": "code",
   "execution_count": 3,
   "id": "0605672c",
   "metadata": {},
   "outputs": [],
   "source": [
    "# Scikit-Learn\n",
    "from sklearn.model_selection import (cross_val_score,\n",
    "                                     RepeatedStratifiedKFold,\n",
    "                                     cross_validate,\n",
    "                                     StratifiedKFold)\n",
    "from sklearn.impute import SimpleImputer\n",
    "from sklearn.linear_model import LogisticRegression, RidgeClassifier\n",
    "from sklearn.model_selection import train_test_split, KFold\n",
    "from sklearn.preprocessing import StandardScaler, MinMaxScaler\n",
    "from sklearn.metrics import classification_report, confusion_matrix\n",
    "from sklearn.metrics import (f1_score, recall_score,\n",
    "                             roc_auc_score, precision_score,\n",
    "                             r2_score, accuracy_score,\n",
    "                             roc_curve, auc)\n",
    "from sklearn.naive_bayes import GaussianNB\n",
    "from sklearn.model_selection import GridSearchCV"
   ]
  },
  {
   "cell_type": "code",
   "execution_count": 4,
   "id": "547ef264",
   "metadata": {},
   "outputs": [],
   "source": [
    "# Imbalanced-Learn\n",
    "from imblearn.pipeline import Pipeline, make_pipeline\n",
    "from imblearn.over_sampling import SMOTE, BorderlineSMOTE, SVMSMOTE, ADASYN\n",
    "from imblearn.under_sampling import RandomUnderSampler\n",
    "from imblearn.over_sampling import RandomOverSampler"
   ]
  },
  {
   "cell_type": "markdown",
   "id": "4ca2bc05",
   "metadata": {},
   "source": [
    "### Chargement des données"
   ]
  },
  {
   "cell_type": "code",
   "execution_count": 5,
   "id": "4149289d",
   "metadata": {},
   "outputs": [],
   "source": [
    "# Chargement des données intégrales imputées\n",
    "X = pd.read_csv('../data_models/X_top10_imputed.csv', index_col=0)"
   ]
  },
  {
   "cell_type": "code",
   "execution_count": 6,
   "id": "e02d9b8f",
   "metadata": {},
   "outputs": [
    {
     "data": {
      "text/plain": [
       "(292062, 12)"
      ]
     },
     "execution_count": 6,
     "metadata": {},
     "output_type": "execute_result"
    }
   ],
   "source": [
    "X.shape  #taille du train set "
   ]
  },
  {
   "cell_type": "code",
   "execution_count": 7,
   "id": "97f56e4f",
   "metadata": {},
   "outputs": [
    {
     "data": {
      "text/html": [
       "<div>\n",
       "<style scoped>\n",
       "    .dataframe tbody tr th:only-of-type {\n",
       "        vertical-align: middle;\n",
       "    }\n",
       "\n",
       "    .dataframe tbody tr th {\n",
       "        vertical-align: top;\n",
       "    }\n",
       "\n",
       "    .dataframe thead th {\n",
       "        text-align: right;\n",
       "    }\n",
       "</style>\n",
       "<table border=\"1\" class=\"dataframe\">\n",
       "  <thead>\n",
       "    <tr style=\"text-align: right;\">\n",
       "      <th></th>\n",
       "      <th>EXT_SOURCE_3</th>\n",
       "      <th>EXT_SOURCE_2</th>\n",
       "      <th>PREV_DAYS_DECISION_MIN</th>\n",
       "      <th>CODE_GENDER</th>\n",
       "      <th>DAYS_EMPLOYED</th>\n",
       "      <th>PREV_APP_CREDIT_PERC_MIN</th>\n",
       "      <th>INSTAL_DPD_MAX</th>\n",
       "      <th>AMT_CREDIT</th>\n",
       "      <th>DAYS_BIRTH</th>\n",
       "      <th>FLAG_OWN_CAR</th>\n",
       "      <th>NAME_EDUCATION_TYPE_Higher_education</th>\n",
       "      <th>TARGET</th>\n",
       "    </tr>\n",
       "  </thead>\n",
       "  <tbody>\n",
       "    <tr>\n",
       "      <th>0</th>\n",
       "      <td>0.574447</td>\n",
       "      <td>0.092250</td>\n",
       "      <td>1229.0</td>\n",
       "      <td>1.0</td>\n",
       "      <td>335.0</td>\n",
       "      <td>0.627786</td>\n",
       "      <td>0.0</td>\n",
       "      <td>508495.5</td>\n",
       "      <td>20255.0</td>\n",
       "      <td>0.0</td>\n",
       "      <td>0.0</td>\n",
       "      <td>0.0</td>\n",
       "    </tr>\n",
       "    <tr>\n",
       "      <th>1</th>\n",
       "      <td>0.746300</td>\n",
       "      <td>0.779680</td>\n",
       "      <td>2688.0</td>\n",
       "      <td>1.0</td>\n",
       "      <td>5862.0</td>\n",
       "      <td>0.906651</td>\n",
       "      <td>0.0</td>\n",
       "      <td>728460.0</td>\n",
       "      <td>21989.0</td>\n",
       "      <td>0.0</td>\n",
       "      <td>0.0</td>\n",
       "      <td>0.0</td>\n",
       "    </tr>\n",
       "    <tr>\n",
       "      <th>2</th>\n",
       "      <td>0.159520</td>\n",
       "      <td>0.475448</td>\n",
       "      <td>1632.0</td>\n",
       "      <td>1.0</td>\n",
       "      <td>224.0</td>\n",
       "      <td>0.938086</td>\n",
       "      <td>0.0</td>\n",
       "      <td>239850.0</td>\n",
       "      <td>25054.0</td>\n",
       "      <td>0.0</td>\n",
       "      <td>0.0</td>\n",
       "      <td>0.0</td>\n",
       "    </tr>\n",
       "    <tr>\n",
       "      <th>3</th>\n",
       "      <td>0.456110</td>\n",
       "      <td>0.698863</td>\n",
       "      <td>2500.0</td>\n",
       "      <td>0.0</td>\n",
       "      <td>7093.0</td>\n",
       "      <td>0.000000</td>\n",
       "      <td>22.0</td>\n",
       "      <td>450000.0</td>\n",
       "      <td>18862.0</td>\n",
       "      <td>0.0</td>\n",
       "      <td>1.0</td>\n",
       "      <td>0.0</td>\n",
       "    </tr>\n",
       "    <tr>\n",
       "      <th>4</th>\n",
       "      <td>0.761026</td>\n",
       "      <td>0.658295</td>\n",
       "      <td>2608.0</td>\n",
       "      <td>1.0</td>\n",
       "      <td>224.0</td>\n",
       "      <td>0.000000</td>\n",
       "      <td>27.0</td>\n",
       "      <td>1350000.0</td>\n",
       "      <td>21817.0</td>\n",
       "      <td>1.0</td>\n",
       "      <td>0.0</td>\n",
       "      <td>0.0</td>\n",
       "    </tr>\n",
       "  </tbody>\n",
       "</table>\n",
       "</div>"
      ],
      "text/plain": [
       "   EXT_SOURCE_3  EXT_SOURCE_2  PREV_DAYS_DECISION_MIN  CODE_GENDER  \\\n",
       "0      0.574447      0.092250                  1229.0          1.0   \n",
       "1      0.746300      0.779680                  2688.0          1.0   \n",
       "2      0.159520      0.475448                  1632.0          1.0   \n",
       "3      0.456110      0.698863                  2500.0          0.0   \n",
       "4      0.761026      0.658295                  2608.0          1.0   \n",
       "\n",
       "   DAYS_EMPLOYED  PREV_APP_CREDIT_PERC_MIN  INSTAL_DPD_MAX  AMT_CREDIT  \\\n",
       "0          335.0                  0.627786             0.0    508495.5   \n",
       "1         5862.0                  0.906651             0.0    728460.0   \n",
       "2          224.0                  0.938086             0.0    239850.0   \n",
       "3         7093.0                  0.000000            22.0    450000.0   \n",
       "4          224.0                  0.000000            27.0   1350000.0   \n",
       "\n",
       "   DAYS_BIRTH  FLAG_OWN_CAR  NAME_EDUCATION_TYPE_Higher_education  TARGET  \n",
       "0     20255.0           0.0                                   0.0     0.0  \n",
       "1     21989.0           0.0                                   0.0     0.0  \n",
       "2     25054.0           0.0                                   0.0     0.0  \n",
       "3     18862.0           0.0                                   1.0     0.0  \n",
       "4     21817.0           1.0                                   0.0     0.0  "
      ]
     },
     "execution_count": 7,
     "metadata": {},
     "output_type": "execute_result"
    }
   ],
   "source": [
    "X.head()"
   ]
  },
  {
   "cell_type": "code",
   "execution_count": 8,
   "id": "6dcb57fa",
   "metadata": {},
   "outputs": [
    {
     "data": {
      "text/plain": [
       "EXT_SOURCE_3                            0\n",
       "EXT_SOURCE_2                            0\n",
       "PREV_DAYS_DECISION_MIN                  0\n",
       "CODE_GENDER                             0\n",
       "DAYS_EMPLOYED                           0\n",
       "PREV_APP_CREDIT_PERC_MIN                0\n",
       "INSTAL_DPD_MAX                          0\n",
       "AMT_CREDIT                              0\n",
       "DAYS_BIRTH                              0\n",
       "FLAG_OWN_CAR                            0\n",
       "NAME_EDUCATION_TYPE_Higher_education    0\n",
       "TARGET                                  0\n",
       "dtype: int64"
      ]
     },
     "execution_count": 8,
     "metadata": {},
     "output_type": "execute_result"
    }
   ],
   "source": [
    "X.isnull().sum()"
   ]
  },
  {
   "cell_type": "code",
   "execution_count": 9,
   "id": "1bcae67a",
   "metadata": {},
   "outputs": [
    {
     "data": {
      "text/plain": [
       "Counter({0.0: 268139, 1.0: 23923})"
      ]
     },
     "execution_count": 9,
     "metadata": {},
     "output_type": "execute_result"
    }
   ],
   "source": [
    "# Comptage des classes\n",
    "Counter(X['TARGET'])"
   ]
  },
  {
   "cell_type": "markdown",
   "id": "ec471cb9",
   "metadata": {},
   "source": [
    "La classe 1 (crédit non remboursé) est largement minoritaire"
   ]
  },
  {
   "cell_type": "markdown",
   "id": "458db5fa",
   "metadata": {},
   "source": [
    "### Transformation des données d'entraînement"
   ]
  },
  {
   "cell_type": "code",
   "execution_count": 10,
   "id": "1a8fc255",
   "metadata": {},
   "outputs": [],
   "source": [
    "# Création de la target\n",
    "y = X.TARGET\n",
    "# Suppression la target des features\n",
    "X = X.drop(columns='TARGET')"
   ]
  },
  {
   "cell_type": "code",
   "execution_count": 11,
   "id": "36958b44",
   "metadata": {},
   "outputs": [],
   "source": [
    "# création des train et test sets avec stratification (classes déséquilibrées)\n",
    "X_train, X_test, y_train, y_test = train_test_split(X, y, test_size=0.3, random_state=2, stratify=y)"
   ]
  },
  {
   "cell_type": "markdown",
   "id": "3b116a7a",
   "metadata": {},
   "source": [
    "# Tests régressions logistiques"
   ]
  },
  {
   "cell_type": "markdown",
   "id": "4ae0f5f3",
   "metadata": {},
   "source": [
    "## Régression logistique basique"
   ]
  },
  {
   "cell_type": "markdown",
   "id": "1e13aa63",
   "metadata": {},
   "source": [
    "Entrainement d'une regression logistique simple sans pénalisation ni rebalancing des classes."
   ]
  },
  {
   "cell_type": "code",
   "execution_count": 13,
   "id": "999b3527",
   "metadata": {},
   "outputs": [],
   "source": [
    "# création d'un pipeline avec imblearn pipeline\n",
    "pipeline1 = Pipeline([('scaler', MinMaxScaler()),\n",
    "                      ('model', LogisticRegression(penalty='none',\n",
    "                                                   solver='newton-cg'))])"
   ]
  },
  {
   "cell_type": "markdown",
   "id": "87eab7fb",
   "metadata": {},
   "source": [
    "Problem with default solver (not converging when no penalty) => works with 'newton-cg'.  \n",
    "See https://scikit-learn.org/stable/modules/linear_model.html#logistic-regression"
   ]
  },
  {
   "cell_type": "code",
   "execution_count": 14,
   "id": "2ef9fe9c",
   "metadata": {},
   "outputs": [
    {
     "name": "stdout",
     "output_type": "stream",
     "text": [
      "CPU times: user 8.47 s, sys: 8.95 s, total: 17.4 s\n",
      "Wall time: 1.24 s\n"
     ]
    }
   ],
   "source": [
    "%%time\n",
    "# Entrainement du modèle sur le train set\n",
    "pipeline1.fit(X_train, y_train)\n",
    "# Prévision sur le test set\n",
    "y_pred = pipeline1.predict(X_test)"
   ]
  },
  {
   "cell_type": "code",
   "execution_count": 15,
   "id": "237f100f",
   "metadata": {},
   "outputs": [
    {
     "data": {
      "image/png": "[encoded data removed]",
      "text/plain": [
       "<Figure size 432x288 with 2 Axes>"
      ]
     },
     "metadata": {
      "needs_background": "light"
     },
     "output_type": "display_data"
    },
    {
     "name": "stdout",
     "output_type": "stream",
     "text": [
      "              precision    recall  f1-score   support\n",
      "\n",
      "         0.0       0.93      0.99      0.96     80442\n",
      "         1.0       0.74      0.18      0.28      7177\n",
      "\n",
      "    accuracy                           0.93     87619\n",
      "   macro avg       0.84      0.59      0.62     87619\n",
      "weighted avg       0.92      0.93      0.91     87619\n",
      "\n",
      "ROC AUC Score: 0.59\n"
     ]
    }
   ],
   "source": [
    "# création de la matrice de confusion\n",
    "plot_confusion_matrix(y_test, y_pred)"
   ]
  },
  {
   "cell_type": "markdown",
   "id": "f27927ca",
   "metadata": {},
   "source": [
    "L'objectif du modèle est de minimiser les faux négatifs, c'est à dire le nombre de crédit prédit comme remboursés (prédiction classe 0) alors qu'ils ne le sont pas (classe réelle 1). Celà revient à maximiser le recall = (TP / (TP+FN))."
   ]
  },
  {
   "cell_type": "markdown",
   "id": "63c152fd",
   "metadata": {},
   "source": [
    "Ici le recall est très mauvais (recall=0.17 pour la classe 1). Du fait de la faible présence d'observation de la classe 1, le modèle va en majorité prévoir l'appartenance à la classe 0."
   ]
  },
  {
   "cell_type": "markdown",
   "id": "3bd97148",
   "metadata": {},
   "source": [
    "On voit que la ROC curve est également proche de 0.50 qui est le plus mauvais score."
   ]
  },
  {
   "cell_type": "markdown",
   "id": "a86fce79",
   "metadata": {},
   "source": [
    "## Régression logistique avec rééquilibrage des classes"
   ]
  },
  {
   "cell_type": "markdown",
   "id": "bbb73b14",
   "metadata": {},
   "source": [
    "L'idée est de tester la performance de différentes méthodes de rebalancing en utilisant la librairie imblearn:  \n",
    "- RandomUnderSampler  \n",
    "- RandomOverSampler  \n",
    "- SMOTE  "
   ]
  },
  {
   "cell_type": "markdown",
   "id": "c4c924ea",
   "metadata": {},
   "source": [
    "### Undersampling"
   ]
  },
  {
   "cell_type": "code",
   "execution_count": 16,
   "id": "b2a74e86",
   "metadata": {},
   "outputs": [],
   "source": [
    "# define model\n",
    "# define pipeline steps\n",
    "steps = [('ros', RandomUnderSampler(random_state=42)), \n",
    "         ('scaler', MinMaxScaler()),\n",
    "         ('model', LogisticRegression(penalty='none',\n",
    "                                      solver='newton-cg'))]\n",
    "# imblearn pipeline\n",
    "pipeline2 = Pipeline(steps)"
   ]
  },
  {
   "cell_type": "code",
   "execution_count": 17,
   "id": "c7c741cd",
   "metadata": {},
   "outputs": [
    {
     "name": "stdout",
     "output_type": "stream",
     "text": [
      "CPU times: user 606 ms, sys: 697 ms, total: 1.3 s\n",
      "Wall time: 147 ms\n"
     ]
    }
   ],
   "source": [
    "%%time\n",
    "# Entrainement du modèle sur le train set\n",
    "pipeline2.fit(X_train, y_train)\n",
    "# Prévision sur le test set\n",
    "y_pred = pipeline2.predict(X_test)"
   ]
  },
  {
   "cell_type": "code",
   "execution_count": 18,
   "id": "925d4640",
   "metadata": {},
   "outputs": [
    {
     "data": {
      "image/png": "[encoded data removed]",
      "text/plain": [
       "<Figure size 432x288 with 2 Axes>"
      ]
     },
     "metadata": {
      "needs_background": "light"
     },
     "output_type": "display_data"
    },
    {
     "name": "stdout",
     "output_type": "stream",
     "text": [
      "              precision    recall  f1-score   support\n",
      "\n",
      "         0.0       0.97      0.76      0.85     80442\n",
      "         1.0       0.21      0.71      0.33      7177\n",
      "\n",
      "    accuracy                           0.76     87619\n",
      "   macro avg       0.59      0.74      0.59     87619\n",
      "weighted avg       0.91      0.76      0.81     87619\n",
      "\n",
      "ROC AUC Score: 0.74\n"
     ]
    }
   ],
   "source": [
    "# création de la matrice de confusion\n",
    "plot_confusion_matrix(y_test, y_pred)"
   ]
  },
  {
   "cell_type": "markdown",
   "id": "76b708f6",
   "metadata": {},
   "source": [
    "On voit une nette ammélioration de la performance du modèle pour prévoir la classe 1 (recall, F1). Le score ROC AUC progresse également."
   ]
  },
  {
   "cell_type": "markdown",
   "id": "fa19f44d",
   "metadata": {},
   "source": [
    "### Oversampling"
   ]
  },
  {
   "cell_type": "code",
   "execution_count": 19,
   "id": "c37e7bc4",
   "metadata": {},
   "outputs": [],
   "source": [
    "# define model\n",
    "# define pipeline steps\n",
    "steps = [('ros', RandomOverSampler(random_state=42)), \n",
    "         ('scaler', MinMaxScaler()),\n",
    "         ('model', LogisticRegression(penalty='none',\n",
    "                                      solver='newton-cg'))]\n",
    "# imblearn pipeline\n",
    "pipeline3 = Pipeline(steps)"
   ]
  },
  {
   "cell_type": "code",
   "execution_count": 20,
   "id": "561ef39a",
   "metadata": {},
   "outputs": [
    {
     "name": "stdout",
     "output_type": "stream",
     "text": [
      "CPU times: user 19.7 s, sys: 13.6 s, total: 33.3 s\n",
      "Wall time: 2.49 s\n"
     ]
    }
   ],
   "source": [
    "%%time\n",
    "# Entrainement du modèle sur le train set\n",
    "pipeline3.fit(X_train, y_train)\n",
    "# Prévision sur le test set\n",
    "y_pred = pipeline3.predict(X_test)"
   ]
  },
  {
   "cell_type": "markdown",
   "id": "edf1118e",
   "metadata": {},
   "source": [
    "On voit que l'entrainement avec oversampling prend 10x plus de temps!"
   ]
  },
  {
   "cell_type": "code",
   "execution_count": 21,
   "id": "f33adf44",
   "metadata": {},
   "outputs": [
    {
     "data": {
      "image/png": "[encoded data removed]",
      "text/plain": [
       "<Figure size 432x288 with 2 Axes>"
      ]
     },
     "metadata": {
      "needs_background": "light"
     },
     "output_type": "display_data"
    },
    {
     "name": "stdout",
     "output_type": "stream",
     "text": [
      "              precision    recall  f1-score   support\n",
      "\n",
      "         0.0       0.97      0.76      0.85     80442\n",
      "         1.0       0.21      0.71      0.33      7177\n",
      "\n",
      "    accuracy                           0.76     87619\n",
      "   macro avg       0.59      0.74      0.59     87619\n",
      "weighted avg       0.91      0.76      0.81     87619\n",
      "\n",
      "ROC AUC Score: 0.74\n"
     ]
    }
   ],
   "source": [
    "# création de la matrice de confusion\n",
    "plot_confusion_matrix(y_test, y_pred)"
   ]
  },
  {
   "cell_type": "markdown",
   "id": "eb60e4bb",
   "metadata": {},
   "source": [
    "L'oversampling montre des résultats légèrement supérieurs."
   ]
  },
  {
   "cell_type": "markdown",
   "id": "1ab35660",
   "metadata": {},
   "source": [
    "### SMOTE"
   ]
  },
  {
   "cell_type": "markdown",
   "id": "6b050230",
   "metadata": {},
   "source": [
    "On utilise un retraitement des classes avec la méthodologie SMOTE"
   ]
  },
  {
   "cell_type": "code",
   "execution_count": 22,
   "id": "584003d6",
   "metadata": {},
   "outputs": [],
   "source": [
    "# define model\n",
    "# define pipeline steps\n",
    "steps = [('smote', SMOTE(random_state=42)), \n",
    "         ('scaler', MinMaxScaler()),\n",
    "         ('model', LogisticRegression(penalty='none',\n",
    "                                      solver='newton-cg'))]\n",
    "# imblearn pipeline\n",
    "pipeline4 = Pipeline(steps)"
   ]
  },
  {
   "cell_type": "code",
   "execution_count": 23,
   "id": "a1c960c2",
   "metadata": {},
   "outputs": [
    {
     "name": "stdout",
     "output_type": "stream",
     "text": [
      "CPU times: user 20.9 s, sys: 13.7 s, total: 34.7 s\n",
      "Wall time: 2.62 s\n"
     ]
    }
   ],
   "source": [
    "%%time\n",
    "# Entrainement du modèle sur le train set\n",
    "pipeline4.fit(X_train, y_train)\n",
    "# Prévision sur le test set\n",
    "y_pred = pipeline4.predict(X_test)"
   ]
  },
  {
   "cell_type": "markdown",
   "id": "3bf048ba",
   "metadata": {},
   "source": [
    "Le SMOTE est encore plus long en termes d'exécution."
   ]
  },
  {
   "cell_type": "code",
   "execution_count": 24,
   "id": "35a80612",
   "metadata": {},
   "outputs": [
    {
     "data": {
      "image/png": "[encoded data removed]",
      "text/plain": [
       "<Figure size 432x288 with 2 Axes>"
      ]
     },
     "metadata": {
      "needs_background": "light"
     },
     "output_type": "display_data"
    },
    {
     "name": "stdout",
     "output_type": "stream",
     "text": [
      "              precision    recall  f1-score   support\n",
      "\n",
      "         0.0       0.97      0.77      0.86     80442\n",
      "         1.0       0.21      0.70      0.33      7177\n",
      "\n",
      "    accuracy                           0.77     87619\n",
      "   macro avg       0.59      0.74      0.59     87619\n",
      "weighted avg       0.91      0.77      0.81     87619\n",
      "\n",
      "ROC AUC Score: 0.74\n"
     ]
    }
   ],
   "source": [
    "# création de la matrice de confusion\n",
    "plot_confusion_matrix(y_test, y_pred)"
   ]
  },
  {
   "cell_type": "markdown",
   "id": "0c8ebf94",
   "metadata": {},
   "source": [
    "Les 3 méthodes de rebalancing donnent des performances assez proches. A noter que SMOTE ne permet pas d'améliorer les performances. Au final, il est préférable d'utiliser du undersampling, ce qui permet de travailler sur des échantillons de taille plus restreinte donc d'avoir des temps de calcul plus courts."
   ]
  },
  {
   "cell_type": "markdown",
   "id": "4a46f7d4",
   "metadata": {},
   "source": [
    "## Régression logistique Lasso avec rééquilibrage des classes"
   ]
  },
  {
   "cell_type": "markdown",
   "id": "564f301a",
   "metadata": {},
   "source": [
    "On utilise de l'undersampling pour réduire les temps de calcul avec des performances équivalentes. Ici on ajoute une pénalisation des poids de type L1 (Lasso)."
   ]
  },
  {
   "cell_type": "code",
   "execution_count": 25,
   "id": "a65a5e41",
   "metadata": {},
   "outputs": [],
   "source": [
    "# define model\n",
    "# define pipeline steps\n",
    "steps = [('ros', RandomUnderSampler(random_state=42)), \n",
    "         ('scaler', MinMaxScaler()),\n",
    "         ('model', LogisticRegression(penalty='l1',\n",
    "                                      solver='liblinear',\n",
    "                                      n_jobs=1))]\n",
    "# imblearn pipeline\n",
    "pipeline5 = Pipeline(steps)"
   ]
  },
  {
   "cell_type": "code",
   "execution_count": 26,
   "id": "4eb5fce1",
   "metadata": {},
   "outputs": [
    {
     "name": "stdout",
     "output_type": "stream",
     "text": [
      "CPU times: user 211 ms, sys: 2.95 ms, total: 214 ms\n",
      "Wall time: 208 ms\n"
     ]
    }
   ],
   "source": [
    "%%time\n",
    "# Entrainement du modèle sur le train set\n",
    "pipeline5.fit(X_train, y_train)\n",
    "# Prévision sur le test set\n",
    "y_pred = pipeline5.predict(X_test)"
   ]
  },
  {
   "cell_type": "code",
   "execution_count": 27,
   "id": "10d2c1df",
   "metadata": {},
   "outputs": [
    {
     "data": {
      "image/png": "[encoded data removed]",
      "text/plain": [
       "<Figure size 432x288 with 2 Axes>"
      ]
     },
     "metadata": {
      "needs_background": "light"
     },
     "output_type": "display_data"
    },
    {
     "name": "stdout",
     "output_type": "stream",
     "text": [
      "              precision    recall  f1-score   support\n",
      "\n",
      "         0.0       0.97      0.76      0.85     80442\n",
      "         1.0       0.21      0.71      0.33      7177\n",
      "\n",
      "    accuracy                           0.76     87619\n",
      "   macro avg       0.59      0.74      0.59     87619\n",
      "weighted avg       0.91      0.76      0.81     87619\n",
      "\n",
      "ROC AUC Score: 0.74\n"
     ]
    }
   ],
   "source": [
    "# création de la matrice de confusion\n",
    "plot_confusion_matrix(y_test, y_pred)"
   ]
  },
  {
   "cell_type": "markdown",
   "id": "910d823e",
   "metadata": {},
   "source": [
    "Pas d'amélioration significative de la performance."
   ]
  },
  {
   "cell_type": "markdown",
   "id": "df38c4bd",
   "metadata": {},
   "source": [
    "## Régression logistique Ridge avec rééquilibrage"
   ]
  },
  {
   "cell_type": "markdown",
   "id": "71ab68ea",
   "metadata": {},
   "source": [
    "C'est la régresssion logistique par défaut dans la fonction LogisticRegression de scikit-learn"
   ]
  },
  {
   "cell_type": "code",
   "execution_count": 28,
   "id": "ad1bd0ab",
   "metadata": {},
   "outputs": [],
   "source": [
    "# define model\n",
    "# define pipeline steps\n",
    "steps = [('ros', RandomUnderSampler(random_state=42)), \n",
    "         ('scaler', MinMaxScaler()),\n",
    "         ('model', LogisticRegression(penalty='l2',\n",
    "                                      solver='liblinear',\n",
    "                                      ))]\n",
    "# imblearn pipeline\n",
    "pipeline6 = Pipeline(steps)"
   ]
  },
  {
   "cell_type": "code",
   "execution_count": 29,
   "id": "9cecc02c",
   "metadata": {},
   "outputs": [
    {
     "name": "stdout",
     "output_type": "stream",
     "text": [
      "CPU times: user 152 ms, sys: 3.75 ms, total: 156 ms\n",
      "Wall time: 151 ms\n"
     ]
    }
   ],
   "source": [
    "%%time\n",
    "# Entrainement du modèle sur le train set\n",
    "pipeline6.fit(X_train, y_train)\n",
    "# Prévision sur le test set\n",
    "y_pred = pipeline6.predict(X_test)"
   ]
  },
  {
   "cell_type": "code",
   "execution_count": 30,
   "id": "ffca6674",
   "metadata": {},
   "outputs": [
    {
     "data": {
      "image/png": "[encoded data removed]",
      "text/plain": [
       "<Figure size 432x288 with 2 Axes>"
      ]
     },
     "metadata": {
      "needs_background": "light"
     },
     "output_type": "display_data"
    },
    {
     "name": "stdout",
     "output_type": "stream",
     "text": [
      "              precision    recall  f1-score   support\n",
      "\n",
      "         0.0       0.97      0.76      0.85     80442\n",
      "         1.0       0.21      0.71      0.33      7177\n",
      "\n",
      "    accuracy                           0.76     87619\n",
      "   macro avg       0.59      0.74      0.59     87619\n",
      "weighted avg       0.91      0.76      0.81     87619\n",
      "\n",
      "ROC AUC Score: 0.74\n"
     ]
    }
   ],
   "source": [
    "# création de la matrice de confusion\n",
    "plot_confusion_matrix(y_test, y_pred)"
   ]
  },
  {
   "cell_type": "markdown",
   "id": "5da0590b",
   "metadata": {},
   "source": [
    "### utilisation de l'option class_weight"
   ]
  },
  {
   "cell_type": "code",
   "execution_count": 31,
   "id": "81725b38",
   "metadata": {},
   "outputs": [],
   "source": [
    "# define model\n",
    "# define pipeline steps\n",
    "steps = [('ros', RandomUnderSampler(random_state=42)), \n",
    "         ('scaler', MinMaxScaler()),\n",
    "         ('model', LogisticRegression(solver='liblinear',\n",
    "                                      class_weight='balanced'))]\n",
    "# imblearn pipeline\n",
    "pipeline7 = Pipeline(steps)"
   ]
  },
  {
   "cell_type": "code",
   "execution_count": 32,
   "id": "385b92c0",
   "metadata": {},
   "outputs": [
    {
     "name": "stdout",
     "output_type": "stream",
     "text": [
      "CPU times: user 167 ms, sys: 6.38 ms, total: 174 ms\n",
      "Wall time: 159 ms\n"
     ]
    }
   ],
   "source": [
    "%%time\n",
    "# Entrainement du modèle sur le train set\n",
    "pipeline7.fit(X_train, y_train)\n",
    "# Prévision sur le test set\n",
    "y_pred = pipeline7.predict(X_test)"
   ]
  },
  {
   "cell_type": "code",
   "execution_count": 33,
   "id": "1c852fbc",
   "metadata": {},
   "outputs": [
    {
     "data": {
      "image/png": "[encoded data removed]",
      "text/plain": [
       "<Figure size 432x288 with 2 Axes>"
      ]
     },
     "metadata": {
      "needs_background": "light"
     },
     "output_type": "display_data"
    },
    {
     "name": "stdout",
     "output_type": "stream",
     "text": [
      "              precision    recall  f1-score   support\n",
      "\n",
      "         0.0       0.97      0.76      0.85     80442\n",
      "         1.0       0.21      0.71      0.33      7177\n",
      "\n",
      "    accuracy                           0.76     87619\n",
      "   macro avg       0.59      0.74      0.59     87619\n",
      "weighted avg       0.91      0.76      0.81     87619\n",
      "\n",
      "ROC AUC Score: 0.74\n"
     ]
    }
   ],
   "source": [
    "# création de la matrice de confusion\n",
    "plot_confusion_matrix(y_test, y_pred)"
   ]
  },
  {
   "cell_type": "markdown",
   "id": "b67cee44",
   "metadata": {},
   "source": [
    "### option RidgeClassifier()"
   ]
  },
  {
   "cell_type": "markdown",
   "id": "c224c96a",
   "metadata": {},
   "source": [
    "Fonction alternative de scikit-learn"
   ]
  },
  {
   "cell_type": "code",
   "execution_count": 34,
   "id": "06eb77e6",
   "metadata": {},
   "outputs": [],
   "source": [
    "# define model\n",
    "# define pipeline steps\n",
    "steps = [('ros', RandomUnderSampler(random_state=42)), \n",
    "         ('scaler', MinMaxScaler()),\n",
    "         ('model', RidgeClassifier())]\n",
    "# imblearn pipeline\n",
    "pipeline8 = Pipeline(steps)"
   ]
  },
  {
   "cell_type": "code",
   "execution_count": 35,
   "id": "a15a7998",
   "metadata": {},
   "outputs": [
    {
     "name": "stdout",
     "output_type": "stream",
     "text": [
      "CPU times: user 110 ms, sys: 127 ms, total: 237 ms\n",
      "Wall time: 93.9 ms\n"
     ]
    }
   ],
   "source": [
    "%%time\n",
    "# Entrainement du modèle sur le train set\n",
    "pipeline8.fit(X_train, y_train)\n",
    "# Prévision sur le test set\n",
    "y_pred = pipeline8.predict(X_test)"
   ]
  },
  {
   "cell_type": "code",
   "execution_count": 36,
   "id": "7d906664",
   "metadata": {},
   "outputs": [
    {
     "data": {
      "image/png": "[encoded data removed]",
      "text/plain": [
       "<Figure size 432x288 with 2 Axes>"
      ]
     },
     "metadata": {
      "needs_background": "light"
     },
     "output_type": "display_data"
    },
    {
     "name": "stdout",
     "output_type": "stream",
     "text": [
      "              precision    recall  f1-score   support\n",
      "\n",
      "         0.0       0.97      0.77      0.86     80442\n",
      "         1.0       0.22      0.70      0.33      7177\n",
      "\n",
      "    accuracy                           0.77     87619\n",
      "   macro avg       0.59      0.74      0.60     87619\n",
      "weighted avg       0.91      0.77      0.82     87619\n",
      "\n",
      "ROC AUC Score: 0.74\n"
     ]
    }
   ],
   "source": [
    "# création de la matrice de confusion\n",
    "plot_confusion_matrix(y_test, y_pred)"
   ]
  },
  {
   "cell_type": "markdown",
   "id": "a0b3b38f",
   "metadata": {},
   "source": [
    "## Régression logistique Elasticnet avec rééquilibrage des classes"
   ]
  },
  {
   "cell_type": "code",
   "execution_count": 37,
   "id": "fdde8cfa",
   "metadata": {},
   "outputs": [],
   "source": [
    "# define model\n",
    "# define pipeline steps\n",
    "steps = [('ros', RandomUnderSampler(random_state=42)), \n",
    "         ('scaler', MinMaxScaler()),\n",
    "         ('model', LogisticRegression(penalty='elasticnet',\n",
    "                                      solver='saga',\n",
    "                                      l1_ratio=0.5,\n",
    "                                      n_jobs=-1))]\n",
    "# imblearn pipeline\n",
    "pipeline9 = Pipeline(steps)"
   ]
  },
  {
   "cell_type": "code",
   "execution_count": 38,
   "id": "c758aa83",
   "metadata": {},
   "outputs": [
    {
     "name": "stdout",
     "output_type": "stream",
     "text": [
      "CPU times: user 364 ms, sys: 6.86 ms, total: 370 ms\n",
      "Wall time: 358 ms\n"
     ]
    }
   ],
   "source": [
    "%%time\n",
    "# Entrainement du modèle sur le train set\n",
    "pipeline9.fit(X_train, y_train)\n",
    "# Prévision sur le test set\n",
    "y_pred = pipeline9.predict(X_test)"
   ]
  },
  {
   "cell_type": "code",
   "execution_count": 39,
   "id": "b1a4371d",
   "metadata": {},
   "outputs": [
    {
     "data": {
      "image/png": "[encoded data removed]",
      "text/plain": [
       "<Figure size 432x288 with 2 Axes>"
      ]
     },
     "metadata": {
      "needs_background": "light"
     },
     "output_type": "display_data"
    },
    {
     "name": "stdout",
     "output_type": "stream",
     "text": [
      "              precision    recall  f1-score   support\n",
      "\n",
      "         0.0       0.97      0.76      0.85     80442\n",
      "         1.0       0.21      0.71      0.33      7177\n",
      "\n",
      "    accuracy                           0.76     87619\n",
      "   macro avg       0.59      0.74      0.59     87619\n",
      "weighted avg       0.91      0.76      0.81     87619\n",
      "\n",
      "ROC AUC Score: 0.74\n"
     ]
    }
   ],
   "source": [
    "# création de la matrice de confusion\n",
    "plot_confusion_matrix(y_test, y_pred)"
   ]
  },
  {
   "cell_type": "markdown",
   "id": "668de5de",
   "metadata": {},
   "source": [
    "# Optimisation des paramètres de régression logistique"
   ]
  },
  {
   "cell_type": "markdown",
   "id": "215d90ae",
   "metadata": {},
   "source": [
    "Les différentes variantes testées ci-dessus ont des performances sensiblement égales. On va voir s'il est possible d'améliorer la performance via une optimisation des hyperparamètres avec une recherche sur grille."
   ]
  },
  {
   "cell_type": "code",
   "execution_count": 40,
   "id": "64675e8f",
   "metadata": {},
   "outputs": [],
   "source": [
    "# define model\n",
    "# define pipeline steps\n",
    "steps = [('ros', RandomUnderSampler(random_state=42)), \n",
    "         ('scaler', MinMaxScaler()),\n",
    "         ('model', LogisticRegression())]\n",
    "# imblearn pipeline\n",
    "pipeline10 = Pipeline(steps)"
   ]
  },
  {
   "cell_type": "code",
   "execution_count": 41,
   "id": "49c358ce",
   "metadata": {},
   "outputs": [
    {
     "name": "stdout",
     "output_type": "stream",
     "text": [
      "# Tuning hyper-parameters for ROC AUC\n"
     ]
    }
   ],
   "source": [
    "# utilisation de folds\n",
    "cv = StratifiedKFold(n_splits=3) \n",
    "# paramètres à tester\n",
    "tuned_parameters = [{'scaler':[MinMaxScaler(), StandardScaler()],\n",
    "                     'model__C': [0.001, 0.01, 0.1, 1],\n",
    "                     'model__penalty': ['l2'],\n",
    "                     'model__solver': ['liblinear', 'newton-cg']},\n",
    "                    {'scaler':[MinMaxScaler(), StandardScaler()],\n",
    "                     'model__C': [0.001, 0.01, 0.1, 1],\n",
    "                     'model__penalty': ['l1'],\n",
    "                     'model__solver': ['liblinear']},\n",
    "                    {'scaler':[MinMaxScaler(), StandardScaler()],\n",
    "                     'model__l1_ratio': [0.2, 0.5, 0.8],\n",
    "                     'model__penalty': ['elasticnet'],\n",
    "                     'model__solver': ['saga']}]\n",
    "# optimisation du ROC AUC\n",
    "print(\"# Tuning hyper-parameters for ROC AUC\")\n",
    "clf = GridSearchCV(pipeline10,\n",
    "                   tuned_parameters,\n",
    "                   scoring='roc_auc',\n",
    "                   cv=cv,\n",
    "                   n_jobs=-1)"
   ]
  },
  {
   "cell_type": "code",
   "execution_count": 42,
   "id": "aae3db96",
   "metadata": {},
   "outputs": [
    {
     "name": "stdout",
     "output_type": "stream",
     "text": [
      "CPU times: user 1.68 s, sys: 1.52 s, total: 3.19 s\n",
      "Wall time: 7.28 s\n"
     ]
    },
    {
     "data": {
      "text/html": [
       "<style>#sk-container-id-1 {color: black;background-color: white;}#sk-container-id-1 pre{padding: 0;}#sk-container-id-1 div.sk-toggleable {background-color: white;}#sk-container-id-1 label.sk-toggleable__label {cursor: pointer;display: block;width: 100%;margin-bottom: 0;padding: 0.3em;box-sizing: border-box;text-align: center;}#sk-container-id-1 label.sk-toggleable__label-arrow:before {content: \"▸\";float: left;margin-right: 0.25em;color: #696969;}#sk-container-id-1 label.sk-toggleable__label-arrow:hover:before {color: black;}#sk-container-id-1 div.sk-estimator:hover label.sk-toggleable__label-arrow:before {color: black;}#sk-container-id-1 div.sk-toggleable__content {max-height: 0;max-width: 0;overflow: hidden;text-align: left;background-color: #f0f8ff;}#sk-container-id-1 div.sk-toggleable__content pre {margin: 0.2em;color: black;border-radius: 0.25em;background-color: #f0f8ff;}#sk-container-id-1 input.sk-toggleable__control:checked~div.sk-toggleable__content {max-height: 200px;max-width: 100%;overflow: auto;}#sk-container-id-1 input.sk-toggleable__control:checked~label.sk-toggleable__label-arrow:before {content: \"▾\";}#sk-container-id-1 div.sk-estimator input.sk-toggleable__control:checked~label.sk-toggleable__label {background-color: #d4ebff;}#sk-container-id-1 div.sk-label input.sk-toggleable__control:checked~label.sk-toggleable__label {background-color: #d4ebff;}#sk-container-id-1 input.sk-hidden--visually {border: 0;clip: rect(1px 1px 1px 1px);clip: rect(1px, 1px, 1px, 1px);height: 1px;margin: -1px;overflow: hidden;padding: 0;position: absolute;width: 1px;}#sk-container-id-1 div.sk-estimator {font-family: monospace;background-color: #f0f8ff;border: 1px dotted black;border-radius: 0.25em;box-sizing: border-box;margin-bottom: 0.5em;}#sk-container-id-1 div.sk-estimator:hover {background-color: #d4ebff;}#sk-container-id-1 div.sk-parallel-item::after {content: \"\";width: 100%;border-bottom: 1px solid gray;flex-grow: 1;}#sk-container-id-1 div.sk-label:hover label.sk-toggleable__label {background-color: #d4ebff;}#sk-container-id-1 div.sk-serial::before {content: \"\";position: absolute;border-left: 1px solid gray;box-sizing: border-box;top: 0;bottom: 0;left: 50%;z-index: 0;}#sk-container-id-1 div.sk-serial {display: flex;flex-direction: column;align-items: center;background-color: white;padding-right: 0.2em;padding-left: 0.2em;position: relative;}#sk-container-id-1 div.sk-item {position: relative;z-index: 1;}#sk-container-id-1 div.sk-parallel {display: flex;align-items: stretch;justify-content: center;background-color: white;position: relative;}#sk-container-id-1 div.sk-item::before, #sk-container-id-1 div.sk-parallel-item::before {content: \"\";position: absolute;border-left: 1px solid gray;box-sizing: border-box;top: 0;bottom: 0;left: 50%;z-index: -1;}#sk-container-id-1 div.sk-parallel-item {display: flex;flex-direction: column;z-index: 1;position: relative;background-color: white;}#sk-container-id-1 div.sk-parallel-item:first-child::after {align-self: flex-end;width: 50%;}#sk-container-id-1 div.sk-parallel-item:last-child::after {align-self: flex-start;width: 50%;}#sk-container-id-1 div.sk-parallel-item:only-child::after {width: 0;}#sk-container-id-1 div.sk-dashed-wrapped {border: 1px dashed gray;margin: 0 0.4em 0.5em 0.4em;box-sizing: border-box;padding-bottom: 0.4em;background-color: white;}#sk-container-id-1 div.sk-label label {font-family: monospace;font-weight: bold;display: inline-block;line-height: 1.2em;}#sk-container-id-1 div.sk-label-container {text-align: center;}#sk-container-id-1 div.sk-container {/* jupyter's `normalize.less` sets `[hidden] { display: none; }` but bootstrap.min.css set `[hidden] { display: none !important; }` so we also need the `!important` here to be able to override the default hidden behavior on the sphinx rendered scikit-learn.org. See: https://github.com/scikit-learn/scikit-learn/issues/21755 */display: inline-block !important;position: relative;}#sk-container-id-1 div.sk-text-repr-fallback {display: none;}</style><div id=\"sk-container-id-1\" class=\"sk-top-container\"><div class=\"sk-text-repr-fallback\"><pre>GridSearchCV(cv=StratifiedKFold(n_splits=3, random_state=None, shuffle=False),\n",
       "             estimator=Pipeline(steps=[(&#x27;ros&#x27;,\n",
       "                                        RandomUnderSampler(random_state=42)),\n",
       "                                       (&#x27;scaler&#x27;, MinMaxScaler()),\n",
       "                                       (&#x27;model&#x27;, LogisticRegression())]),\n",
       "             n_jobs=-1,\n",
       "             param_grid=[{&#x27;model__C&#x27;: [0.001, 0.01, 0.1, 1],\n",
       "                          &#x27;model__penalty&#x27;: [&#x27;l2&#x27;],\n",
       "                          &#x27;model__solver&#x27;: [&#x27;liblinear&#x27;, &#x27;newton-cg&#x27;],\n",
       "                          &#x27;scaler&#x27;: [MinMaxScaler(), StandardScaler()]},\n",
       "                         {&#x27;model__C&#x27;: [0.001, 0.01, 0.1, 1],\n",
       "                          &#x27;model__penalty&#x27;: [&#x27;l1&#x27;],\n",
       "                          &#x27;model__solver&#x27;: [&#x27;liblinear&#x27;],\n",
       "                          &#x27;scaler&#x27;: [MinMaxScaler(), StandardScaler()]},\n",
       "                         {&#x27;model__l1_ratio&#x27;: [0.2, 0.5, 0.8],\n",
       "                          &#x27;model__penalty&#x27;: [&#x27;elasticnet&#x27;],\n",
       "                          &#x27;model__solver&#x27;: [&#x27;saga&#x27;],\n",
       "                          &#x27;scaler&#x27;: [MinMaxScaler(), StandardScaler()]}],\n",
       "             scoring=&#x27;roc_auc&#x27;)</pre><b>In a Jupyter environment, please rerun this cell to show the HTML representation or trust the notebook. <br />On GitHub, the HTML representation is unable to render, please try loading this page with nbviewer.org.</b></div><div class=\"sk-container\" hidden><div class=\"sk-item sk-dashed-wrapped\"><div class=\"sk-label-container\"><div class=\"sk-label sk-toggleable\"><input class=\"sk-toggleable__control sk-hidden--visually\" id=\"sk-estimator-id-1\" type=\"checkbox\" ><label for=\"sk-estimator-id-1\" class=\"sk-toggleable__label sk-toggleable__label-arrow\">GridSearchCV</label><div class=\"sk-toggleable__content\"><pre>GridSearchCV(cv=StratifiedKFold(n_splits=3, random_state=None, shuffle=False),\n",
       "             estimator=Pipeline(steps=[(&#x27;ros&#x27;,\n",
       "                                        RandomUnderSampler(random_state=42)),\n",
       "                                       (&#x27;scaler&#x27;, MinMaxScaler()),\n",
       "                                       (&#x27;model&#x27;, LogisticRegression())]),\n",
       "             n_jobs=-1,\n",
       "             param_grid=[{&#x27;model__C&#x27;: [0.001, 0.01, 0.1, 1],\n",
       "                          &#x27;model__penalty&#x27;: [&#x27;l2&#x27;],\n",
       "                          &#x27;model__solver&#x27;: [&#x27;liblinear&#x27;, &#x27;newton-cg&#x27;],\n",
       "                          &#x27;scaler&#x27;: [MinMaxScaler(), StandardScaler()]},\n",
       "                         {&#x27;model__C&#x27;: [0.001, 0.01, 0.1, 1],\n",
       "                          &#x27;model__penalty&#x27;: [&#x27;l1&#x27;],\n",
       "                          &#x27;model__solver&#x27;: [&#x27;liblinear&#x27;],\n",
       "                          &#x27;scaler&#x27;: [MinMaxScaler(), StandardScaler()]},\n",
       "                         {&#x27;model__l1_ratio&#x27;: [0.2, 0.5, 0.8],\n",
       "                          &#x27;model__penalty&#x27;: [&#x27;elasticnet&#x27;],\n",
       "                          &#x27;model__solver&#x27;: [&#x27;saga&#x27;],\n",
       "                          &#x27;scaler&#x27;: [MinMaxScaler(), StandardScaler()]}],\n",
       "             scoring=&#x27;roc_auc&#x27;)</pre></div></div></div><div class=\"sk-parallel\"><div class=\"sk-parallel-item\"><div class=\"sk-item\"><div class=\"sk-label-container\"><div class=\"sk-label sk-toggleable\"><input class=\"sk-toggleable__control sk-hidden--visually\" id=\"sk-estimator-id-2\" type=\"checkbox\" ><label for=\"sk-estimator-id-2\" class=\"sk-toggleable__label sk-toggleable__label-arrow\">estimator: Pipeline</label><div class=\"sk-toggleable__content\"><pre>Pipeline(steps=[(&#x27;ros&#x27;, RandomUnderSampler(random_state=42)),\n",
       "                (&#x27;scaler&#x27;, MinMaxScaler()), (&#x27;model&#x27;, LogisticRegression())])</pre></div></div></div><div class=\"sk-serial\"><div class=\"sk-item\"><div class=\"sk-serial\"><div class=\"sk-item\"><div class=\"sk-estimator sk-toggleable\"><input class=\"sk-toggleable__control sk-hidden--visually\" id=\"sk-estimator-id-3\" type=\"checkbox\" ><label for=\"sk-estimator-id-3\" class=\"sk-toggleable__label sk-toggleable__label-arrow\">RandomUnderSampler</label><div class=\"sk-toggleable__content\"><pre>RandomUnderSampler(random_state=42)</pre></div></div></div><div class=\"sk-item\"><div class=\"sk-estimator sk-toggleable\"><input class=\"sk-toggleable__control sk-hidden--visually\" id=\"sk-estimator-id-4\" type=\"checkbox\" ><label for=\"sk-estimator-id-4\" class=\"sk-toggleable__label sk-toggleable__label-arrow\">MinMaxScaler</label><div class=\"sk-toggleable__content\"><pre>MinMaxScaler()</pre></div></div></div><div class=\"sk-item\"><div class=\"sk-estimator sk-toggleable\"><input class=\"sk-toggleable__control sk-hidden--visually\" id=\"sk-estimator-id-5\" type=\"checkbox\" ><label for=\"sk-estimator-id-5\" class=\"sk-toggleable__label sk-toggleable__label-arrow\">LogisticRegression</label><div class=\"sk-toggleable__content\"><pre>LogisticRegression()</pre></div></div></div></div></div></div></div></div></div></div></div></div>"
      ],
      "text/plain": [
       "GridSearchCV(cv=StratifiedKFold(n_splits=3, random_state=None, shuffle=False),\n",
       "             estimator=Pipeline(steps=[('ros',\n",
       "                                        RandomUnderSampler(random_state=42)),\n",
       "                                       ('scaler', MinMaxScaler()),\n",
       "                                       ('model', LogisticRegression())]),\n",
       "             n_jobs=-1,\n",
       "             param_grid=[{'model__C': [0.001, 0.01, 0.1, 1],\n",
       "                          'model__penalty': ['l2'],\n",
       "                          'model__solver': ['liblinear', 'newton-cg'],\n",
       "                          'scaler': [MinMaxScaler(), StandardScaler()]},\n",
       "                         {'model__C': [0.001, 0.01, 0.1, 1],\n",
       "                          'model__penalty': ['l1'],\n",
       "                          'model__solver': ['liblinear'],\n",
       "                          'scaler': [MinMaxScaler(), StandardScaler()]},\n",
       "                         {'model__l1_ratio': [0.2, 0.5, 0.8],\n",
       "                          'model__penalty': ['elasticnet'],\n",
       "                          'model__solver': ['saga'],\n",
       "                          'scaler': [MinMaxScaler(), StandardScaler()]}],\n",
       "             scoring='roc_auc')"
      ]
     },
     "execution_count": 42,
     "metadata": {},
     "output_type": "execute_result"
    }
   ],
   "source": [
    "%%time\n",
    "clf.fit(X_train, y_train)"
   ]
  },
  {
   "cell_type": "code",
   "execution_count": 43,
   "id": "6f1423fd",
   "metadata": {},
   "outputs": [
    {
     "data": {
      "text/plain": [
       "{'model__C': 0.01,\n",
       " 'model__penalty': 'l2',\n",
       " 'model__solver': 'newton-cg',\n",
       " 'scaler': StandardScaler()}"
      ]
     },
     "execution_count": 43,
     "metadata": {},
     "output_type": "execute_result"
    }
   ],
   "source": [
    "clf.best_params_"
   ]
  },
  {
   "cell_type": "code",
   "execution_count": 44,
   "id": "04a725b6",
   "metadata": {},
   "outputs": [
    {
     "data": {
      "image/png": "[encoded data removed]",
      "text/plain": [
       "<Figure size 432x288 with 2 Axes>"
      ]
     },
     "metadata": {
      "needs_background": "light"
     },
     "output_type": "display_data"
    },
    {
     "name": "stdout",
     "output_type": "stream",
     "text": [
      "              precision    recall  f1-score   support\n",
      "\n",
      "         0.0       0.97      0.76      0.85     80442\n",
      "         1.0       0.21      0.71      0.33      7177\n",
      "\n",
      "    accuracy                           0.76     87619\n",
      "   macro avg       0.59      0.74      0.59     87619\n",
      "weighted avg       0.91      0.76      0.81     87619\n",
      "\n",
      "ROC AUC Score: 0.74\n"
     ]
    }
   ],
   "source": [
    "y_pred2 = clf.predict(X_test)\n",
    "plot_confusion_matrix(y_test, y_pred2)"
   ]
  },
  {
   "cell_type": "code",
   "execution_count": 45,
   "id": "a745934b",
   "metadata": {},
   "outputs": [
    {
     "name": "stdout",
     "output_type": "stream",
     "text": [
      "# Tuning hyper-parameters for recall\n"
     ]
    }
   ],
   "source": [
    "cv = StratifiedKFold(n_splits=3) \n",
    "\n",
    "tuned_parameters = [{'model__C': [0.005, 0.01, 0.05, 0.1],\n",
    "                     'model__penalty': ['l2'],\n",
    "                     'model__solver': ['newton-cg'],\n",
    "                     'scaler': [StandardScaler()]}]\n",
    "\n",
    "print(\"# Tuning hyper-parameters for recall\")\n",
    "clf = GridSearchCV(pipeline10,\n",
    "                   tuned_parameters,\n",
    "                   scoring='recall',\n",
    "                   cv=cv,\n",
    "                   n_jobs=-1)"
   ]
  },
  {
   "cell_type": "code",
   "execution_count": 46,
   "id": "f28b24f7",
   "metadata": {},
   "outputs": [
    {
     "name": "stdout",
     "output_type": "stream",
     "text": [
      "CPU times: user 637 ms, sys: 1.05 s, total: 1.69 s\n",
      "Wall time: 1.33 s\n"
     ]
    },
    {
     "data": {
      "text/html": [
       "<style>#sk-container-id-2 {color: black;background-color: white;}#sk-container-id-2 pre{padding: 0;}#sk-container-id-2 div.sk-toggleable {background-color: white;}#sk-container-id-2 label.sk-toggleable__label {cursor: pointer;display: block;width: 100%;margin-bottom: 0;padding: 0.3em;box-sizing: border-box;text-align: center;}#sk-container-id-2 label.sk-toggleable__label-arrow:before {content: \"▸\";float: left;margin-right: 0.25em;color: #696969;}#sk-container-id-2 label.sk-toggleable__label-arrow:hover:before {color: black;}#sk-container-id-2 div.sk-estimator:hover label.sk-toggleable__label-arrow:before {color: black;}#sk-container-id-2 div.sk-toggleable__content {max-height: 0;max-width: 0;overflow: hidden;text-align: left;background-color: #f0f8ff;}#sk-container-id-2 div.sk-toggleable__content pre {margin: 0.2em;color: black;border-radius: 0.25em;background-color: #f0f8ff;}#sk-container-id-2 input.sk-toggleable__control:checked~div.sk-toggleable__content {max-height: 200px;max-width: 100%;overflow: auto;}#sk-container-id-2 input.sk-toggleable__control:checked~label.sk-toggleable__label-arrow:before {content: \"▾\";}#sk-container-id-2 div.sk-estimator input.sk-toggleable__control:checked~label.sk-toggleable__label {background-color: #d4ebff;}#sk-container-id-2 div.sk-label input.sk-toggleable__control:checked~label.sk-toggleable__label {background-color: #d4ebff;}#sk-container-id-2 input.sk-hidden--visually {border: 0;clip: rect(1px 1px 1px 1px);clip: rect(1px, 1px, 1px, 1px);height: 1px;margin: -1px;overflow: hidden;padding: 0;position: absolute;width: 1px;}#sk-container-id-2 div.sk-estimator {font-family: monospace;background-color: #f0f8ff;border: 1px dotted black;border-radius: 0.25em;box-sizing: border-box;margin-bottom: 0.5em;}#sk-container-id-2 div.sk-estimator:hover {background-color: #d4ebff;}#sk-container-id-2 div.sk-parallel-item::after {content: \"\";width: 100%;border-bottom: 1px solid gray;flex-grow: 1;}#sk-container-id-2 div.sk-label:hover label.sk-toggleable__label {background-color: #d4ebff;}#sk-container-id-2 div.sk-serial::before {content: \"\";position: absolute;border-left: 1px solid gray;box-sizing: border-box;top: 0;bottom: 0;left: 50%;z-index: 0;}#sk-container-id-2 div.sk-serial {display: flex;flex-direction: column;align-items: center;background-color: white;padding-right: 0.2em;padding-left: 0.2em;position: relative;}#sk-container-id-2 div.sk-item {position: relative;z-index: 1;}#sk-container-id-2 div.sk-parallel {display: flex;align-items: stretch;justify-content: center;background-color: white;position: relative;}#sk-container-id-2 div.sk-item::before, #sk-container-id-2 div.sk-parallel-item::before {content: \"\";position: absolute;border-left: 1px solid gray;box-sizing: border-box;top: 0;bottom: 0;left: 50%;z-index: -1;}#sk-container-id-2 div.sk-parallel-item {display: flex;flex-direction: column;z-index: 1;position: relative;background-color: white;}#sk-container-id-2 div.sk-parallel-item:first-child::after {align-self: flex-end;width: 50%;}#sk-container-id-2 div.sk-parallel-item:last-child::after {align-self: flex-start;width: 50%;}#sk-container-id-2 div.sk-parallel-item:only-child::after {width: 0;}#sk-container-id-2 div.sk-dashed-wrapped {border: 1px dashed gray;margin: 0 0.4em 0.5em 0.4em;box-sizing: border-box;padding-bottom: 0.4em;background-color: white;}#sk-container-id-2 div.sk-label label {font-family: monospace;font-weight: bold;display: inline-block;line-height: 1.2em;}#sk-container-id-2 div.sk-label-container {text-align: center;}#sk-container-id-2 div.sk-container {/* jupyter's `normalize.less` sets `[hidden] { display: none; }` but bootstrap.min.css set `[hidden] { display: none !important; }` so we also need the `!important` here to be able to override the default hidden behavior on the sphinx rendered scikit-learn.org. See: https://github.com/scikit-learn/scikit-learn/issues/21755 */display: inline-block !important;position: relative;}#sk-container-id-2 div.sk-text-repr-fallback {display: none;}</style><div id=\"sk-container-id-2\" class=\"sk-top-container\"><div class=\"sk-text-repr-fallback\"><pre>GridSearchCV(cv=StratifiedKFold(n_splits=3, random_state=None, shuffle=False),\n",
       "             estimator=Pipeline(steps=[(&#x27;ros&#x27;,\n",
       "                                        RandomUnderSampler(random_state=42)),\n",
       "                                       (&#x27;scaler&#x27;, MinMaxScaler()),\n",
       "                                       (&#x27;model&#x27;, LogisticRegression())]),\n",
       "             n_jobs=-1,\n",
       "             param_grid=[{&#x27;model__C&#x27;: [0.005, 0.01, 0.05, 0.1],\n",
       "                          &#x27;model__penalty&#x27;: [&#x27;l2&#x27;],\n",
       "                          &#x27;model__solver&#x27;: [&#x27;newton-cg&#x27;],\n",
       "                          &#x27;scaler&#x27;: [StandardScaler()]}],\n",
       "             scoring=&#x27;recall&#x27;)</pre><b>In a Jupyter environment, please rerun this cell to show the HTML representation or trust the notebook. <br />On GitHub, the HTML representation is unable to render, please try loading this page with nbviewer.org.</b></div><div class=\"sk-container\" hidden><div class=\"sk-item sk-dashed-wrapped\"><div class=\"sk-label-container\"><div class=\"sk-label sk-toggleable\"><input class=\"sk-toggleable__control sk-hidden--visually\" id=\"sk-estimator-id-6\" type=\"checkbox\" ><label for=\"sk-estimator-id-6\" class=\"sk-toggleable__label sk-toggleable__label-arrow\">GridSearchCV</label><div class=\"sk-toggleable__content\"><pre>GridSearchCV(cv=StratifiedKFold(n_splits=3, random_state=None, shuffle=False),\n",
       "             estimator=Pipeline(steps=[(&#x27;ros&#x27;,\n",
       "                                        RandomUnderSampler(random_state=42)),\n",
       "                                       (&#x27;scaler&#x27;, MinMaxScaler()),\n",
       "                                       (&#x27;model&#x27;, LogisticRegression())]),\n",
       "             n_jobs=-1,\n",
       "             param_grid=[{&#x27;model__C&#x27;: [0.005, 0.01, 0.05, 0.1],\n",
       "                          &#x27;model__penalty&#x27;: [&#x27;l2&#x27;],\n",
       "                          &#x27;model__solver&#x27;: [&#x27;newton-cg&#x27;],\n",
       "                          &#x27;scaler&#x27;: [StandardScaler()]}],\n",
       "             scoring=&#x27;recall&#x27;)</pre></div></div></div><div class=\"sk-parallel\"><div class=\"sk-parallel-item\"><div class=\"sk-item\"><div class=\"sk-label-container\"><div class=\"sk-label sk-toggleable\"><input class=\"sk-toggleable__control sk-hidden--visually\" id=\"sk-estimator-id-7\" type=\"checkbox\" ><label for=\"sk-estimator-id-7\" class=\"sk-toggleable__label sk-toggleable__label-arrow\">estimator: Pipeline</label><div class=\"sk-toggleable__content\"><pre>Pipeline(steps=[(&#x27;ros&#x27;, RandomUnderSampler(random_state=42)),\n",
       "                (&#x27;scaler&#x27;, MinMaxScaler()), (&#x27;model&#x27;, LogisticRegression())])</pre></div></div></div><div class=\"sk-serial\"><div class=\"sk-item\"><div class=\"sk-serial\"><div class=\"sk-item\"><div class=\"sk-estimator sk-toggleable\"><input class=\"sk-toggleable__control sk-hidden--visually\" id=\"sk-estimator-id-8\" type=\"checkbox\" ><label for=\"sk-estimator-id-8\" class=\"sk-toggleable__label sk-toggleable__label-arrow\">RandomUnderSampler</label><div class=\"sk-toggleable__content\"><pre>RandomUnderSampler(random_state=42)</pre></div></div></div><div class=\"sk-item\"><div class=\"sk-estimator sk-toggleable\"><input class=\"sk-toggleable__control sk-hidden--visually\" id=\"sk-estimator-id-9\" type=\"checkbox\" ><label for=\"sk-estimator-id-9\" class=\"sk-toggleable__label sk-toggleable__label-arrow\">MinMaxScaler</label><div class=\"sk-toggleable__content\"><pre>MinMaxScaler()</pre></div></div></div><div class=\"sk-item\"><div class=\"sk-estimator sk-toggleable\"><input class=\"sk-toggleable__control sk-hidden--visually\" id=\"sk-estimator-id-10\" type=\"checkbox\" ><label for=\"sk-estimator-id-10\" class=\"sk-toggleable__label sk-toggleable__label-arrow\">LogisticRegression</label><div class=\"sk-toggleable__content\"><pre>LogisticRegression()</pre></div></div></div></div></div></div></div></div></div></div></div></div>"
      ],
      "text/plain": [
       "GridSearchCV(cv=StratifiedKFold(n_splits=3, random_state=None, shuffle=False),\n",
       "             estimator=Pipeline(steps=[('ros',\n",
       "                                        RandomUnderSampler(random_state=42)),\n",
       "                                       ('scaler', MinMaxScaler()),\n",
       "                                       ('model', LogisticRegression())]),\n",
       "             n_jobs=-1,\n",
       "             param_grid=[{'model__C': [0.005, 0.01, 0.05, 0.1],\n",
       "                          'model__penalty': ['l2'],\n",
       "                          'model__solver': ['newton-cg'],\n",
       "                          'scaler': [StandardScaler()]}],\n",
       "             scoring='recall')"
      ]
     },
     "execution_count": 46,
     "metadata": {},
     "output_type": "execute_result"
    }
   ],
   "source": [
    "%%time\n",
    "clf.fit(X_train, y_train)"
   ]
  },
  {
   "cell_type": "code",
   "execution_count": 47,
   "id": "3805237e",
   "metadata": {},
   "outputs": [
    {
     "data": {
      "text/plain": [
       "{'model__C': 0.05,\n",
       " 'model__penalty': 'l2',\n",
       " 'model__solver': 'newton-cg',\n",
       " 'scaler': StandardScaler()}"
      ]
     },
     "execution_count": 47,
     "metadata": {},
     "output_type": "execute_result"
    }
   ],
   "source": [
    "clf.best_params_"
   ]
  },
  {
   "cell_type": "code",
   "execution_count": 48,
   "id": "a3648a42",
   "metadata": {},
   "outputs": [
    {
     "data": {
      "image/png": "[encoded data removed]",
      "text/plain": [
       "<Figure size 432x288 with 2 Axes>"
      ]
     },
     "metadata": {
      "needs_background": "light"
     },
     "output_type": "display_data"
    },
    {
     "name": "stdout",
     "output_type": "stream",
     "text": [
      "              precision    recall  f1-score   support\n",
      "\n",
      "         0.0       0.97      0.76      0.85     80442\n",
      "         1.0       0.21      0.71      0.33      7177\n",
      "\n",
      "    accuracy                           0.76     87619\n",
      "   macro avg       0.59      0.74      0.59     87619\n",
      "weighted avg       0.91      0.76      0.81     87619\n",
      "\n",
      "ROC AUC Score: 0.74\n"
     ]
    }
   ],
   "source": [
    "y_pred2 = clf.predict(X_test)\n",
    "plot_confusion_matrix(y_test, y_pred2)"
   ]
  },
  {
   "cell_type": "markdown",
   "id": "e504928a",
   "metadata": {},
   "source": [
    "# Optimisation du threshold sur le modèle final"
   ]
  },
  {
   "cell_type": "code",
   "execution_count": 49,
   "id": "37251631",
   "metadata": {},
   "outputs": [],
   "source": [
    "# define model\n",
    "# define pipeline steps\n",
    "steps = [('ros', RandomUnderSampler(random_state=42)), \n",
    "         ('scaler', StandardScaler()),\n",
    "         ('model', LogisticRegression(C=0.01,\n",
    "                                      penalty='l2',\n",
    "                                      solver='newton-cg'))]\n",
    "# imblearn pipeline\n",
    "best_model = Pipeline(steps)"
   ]
  },
  {
   "cell_type": "code",
   "execution_count": 50,
   "id": "afbfa5aa",
   "metadata": {},
   "outputs": [
    {
     "data": {
      "text/html": [
       "<style>#sk-container-id-3 {color: black;background-color: white;}#sk-container-id-3 pre{padding: 0;}#sk-container-id-3 div.sk-toggleable {background-color: white;}#sk-container-id-3 label.sk-toggleable__label {cursor: pointer;display: block;width: 100%;margin-bottom: 0;padding: 0.3em;box-sizing: border-box;text-align: center;}#sk-container-id-3 label.sk-toggleable__label-arrow:before {content: \"▸\";float: left;margin-right: 0.25em;color: #696969;}#sk-container-id-3 label.sk-toggleable__label-arrow:hover:before {color: black;}#sk-container-id-3 div.sk-estimator:hover label.sk-toggleable__label-arrow:before {color: black;}#sk-container-id-3 div.sk-toggleable__content {max-height: 0;max-width: 0;overflow: hidden;text-align: left;background-color: #f0f8ff;}#sk-container-id-3 div.sk-toggleable__content pre {margin: 0.2em;color: black;border-radius: 0.25em;background-color: #f0f8ff;}#sk-container-id-3 input.sk-toggleable__control:checked~div.sk-toggleable__content {max-height: 200px;max-width: 100%;overflow: auto;}#sk-container-id-3 input.sk-toggleable__control:checked~label.sk-toggleable__label-arrow:before {content: \"▾\";}#sk-container-id-3 div.sk-estimator input.sk-toggleable__control:checked~label.sk-toggleable__label {background-color: #d4ebff;}#sk-container-id-3 div.sk-label input.sk-toggleable__control:checked~label.sk-toggleable__label {background-color: #d4ebff;}#sk-container-id-3 input.sk-hidden--visually {border: 0;clip: rect(1px 1px 1px 1px);clip: rect(1px, 1px, 1px, 1px);height: 1px;margin: -1px;overflow: hidden;padding: 0;position: absolute;width: 1px;}#sk-container-id-3 div.sk-estimator {font-family: monospace;background-color: #f0f8ff;border: 1px dotted black;border-radius: 0.25em;box-sizing: border-box;margin-bottom: 0.5em;}#sk-container-id-3 div.sk-estimator:hover {background-color: #d4ebff;}#sk-container-id-3 div.sk-parallel-item::after {content: \"\";width: 100%;border-bottom: 1px solid gray;flex-grow: 1;}#sk-container-id-3 div.sk-label:hover label.sk-toggleable__label {background-color: #d4ebff;}#sk-container-id-3 div.sk-serial::before {content: \"\";position: absolute;border-left: 1px solid gray;box-sizing: border-box;top: 0;bottom: 0;left: 50%;z-index: 0;}#sk-container-id-3 div.sk-serial {display: flex;flex-direction: column;align-items: center;background-color: white;padding-right: 0.2em;padding-left: 0.2em;position: relative;}#sk-container-id-3 div.sk-item {position: relative;z-index: 1;}#sk-container-id-3 div.sk-parallel {display: flex;align-items: stretch;justify-content: center;background-color: white;position: relative;}#sk-container-id-3 div.sk-item::before, #sk-container-id-3 div.sk-parallel-item::before {content: \"\";position: absolute;border-left: 1px solid gray;box-sizing: border-box;top: 0;bottom: 0;left: 50%;z-index: -1;}#sk-container-id-3 div.sk-parallel-item {display: flex;flex-direction: column;z-index: 1;position: relative;background-color: white;}#sk-container-id-3 div.sk-parallel-item:first-child::after {align-self: flex-end;width: 50%;}#sk-container-id-3 div.sk-parallel-item:last-child::after {align-self: flex-start;width: 50%;}#sk-container-id-3 div.sk-parallel-item:only-child::after {width: 0;}#sk-container-id-3 div.sk-dashed-wrapped {border: 1px dashed gray;margin: 0 0.4em 0.5em 0.4em;box-sizing: border-box;padding-bottom: 0.4em;background-color: white;}#sk-container-id-3 div.sk-label label {font-family: monospace;font-weight: bold;display: inline-block;line-height: 1.2em;}#sk-container-id-3 div.sk-label-container {text-align: center;}#sk-container-id-3 div.sk-container {/* jupyter's `normalize.less` sets `[hidden] { display: none; }` but bootstrap.min.css set `[hidden] { display: none !important; }` so we also need the `!important` here to be able to override the default hidden behavior on the sphinx rendered scikit-learn.org. See: https://github.com/scikit-learn/scikit-learn/issues/21755 */display: inline-block !important;position: relative;}#sk-container-id-3 div.sk-text-repr-fallback {display: none;}</style><div id=\"sk-container-id-3\" class=\"sk-top-container\"><div class=\"sk-text-repr-fallback\"><pre>Pipeline(steps=[(&#x27;ros&#x27;, RandomUnderSampler(random_state=42)),\n",
       "                (&#x27;scaler&#x27;, StandardScaler()),\n",
       "                (&#x27;model&#x27;, LogisticRegression(C=0.01, solver=&#x27;newton-cg&#x27;))])</pre><b>In a Jupyter environment, please rerun this cell to show the HTML representation or trust the notebook. <br />On GitHub, the HTML representation is unable to render, please try loading this page with nbviewer.org.</b></div><div class=\"sk-container\" hidden><div class=\"sk-item sk-dashed-wrapped\"><div class=\"sk-label-container\"><div class=\"sk-label sk-toggleable\"><input class=\"sk-toggleable__control sk-hidden--visually\" id=\"sk-estimator-id-11\" type=\"checkbox\" ><label for=\"sk-estimator-id-11\" class=\"sk-toggleable__label sk-toggleable__label-arrow\">Pipeline</label><div class=\"sk-toggleable__content\"><pre>Pipeline(steps=[(&#x27;ros&#x27;, RandomUnderSampler(random_state=42)),\n",
       "                (&#x27;scaler&#x27;, StandardScaler()),\n",
       "                (&#x27;model&#x27;, LogisticRegression(C=0.01, solver=&#x27;newton-cg&#x27;))])</pre></div></div></div><div class=\"sk-serial\"><div class=\"sk-item\"><div class=\"sk-estimator sk-toggleable\"><input class=\"sk-toggleable__control sk-hidden--visually\" id=\"sk-estimator-id-12\" type=\"checkbox\" ><label for=\"sk-estimator-id-12\" class=\"sk-toggleable__label sk-toggleable__label-arrow\">RandomUnderSampler</label><div class=\"sk-toggleable__content\"><pre>RandomUnderSampler(random_state=42)</pre></div></div></div><div class=\"sk-item\"><div class=\"sk-estimator sk-toggleable\"><input class=\"sk-toggleable__control sk-hidden--visually\" id=\"sk-estimator-id-13\" type=\"checkbox\" ><label for=\"sk-estimator-id-13\" class=\"sk-toggleable__label sk-toggleable__label-arrow\">StandardScaler</label><div class=\"sk-toggleable__content\"><pre>StandardScaler()</pre></div></div></div><div class=\"sk-item\"><div class=\"sk-estimator sk-toggleable\"><input class=\"sk-toggleable__control sk-hidden--visually\" id=\"sk-estimator-id-14\" type=\"checkbox\" ><label for=\"sk-estimator-id-14\" class=\"sk-toggleable__label sk-toggleable__label-arrow\">LogisticRegression</label><div class=\"sk-toggleable__content\"><pre>LogisticRegression(C=0.01, solver=&#x27;newton-cg&#x27;)</pre></div></div></div></div></div></div></div>"
      ],
      "text/plain": [
       "Pipeline(steps=[('ros', RandomUnderSampler(random_state=42)),\n",
       "                ('scaler', StandardScaler()),\n",
       "                ('model', LogisticRegression(C=0.01, solver='newton-cg'))])"
      ]
     },
     "execution_count": 50,
     "metadata": {},
     "output_type": "execute_result"
    }
   ],
   "source": [
    "best_model.fit(X_train, y_train)"
   ]
  },
  {
   "cell_type": "code",
   "execution_count": 51,
   "id": "a35e0cf7",
   "metadata": {},
   "outputs": [
    {
     "data": {
      "image/png": "[encoded data removed]",
      "text/plain": [
       "<Figure size 432x288 with 2 Axes>"
      ]
     },
     "metadata": {
      "needs_background": "light"
     },
     "output_type": "display_data"
    },
    {
     "name": "stdout",
     "output_type": "stream",
     "text": [
      "              precision    recall  f1-score   support\n",
      "\n",
      "         0.0       0.97      0.76      0.85     80442\n",
      "         1.0       0.21      0.71      0.33      7177\n",
      "\n",
      "    accuracy                           0.76     87619\n",
      "   macro avg       0.59      0.74      0.59     87619\n",
      "weighted avg       0.91      0.76      0.81     87619\n",
      "\n",
      "ROC AUC Score: 0.74\n"
     ]
    }
   ],
   "source": [
    "# prévision standard avec seuil à 0.5\n",
    "y_pred = best_model.predict(X_test)\n",
    "plot_confusion_matrix(y_test, y_pred)"
   ]
  },
  {
   "cell_type": "markdown",
   "id": "c5de6e87",
   "metadata": {},
   "source": [
    "On peut changer le seuil afin d'optimiser le modèle. Dans ce cas il faut utiliser la fonction 'predict_proba' et utiliser la probilité calculée sur la classe 1 donc  model.predict_proba(X_test)[:, 1]. Si cette probabilité est supérieure au seuil alors la prédiction est classe 1, autrement classe 0. Par défaut le seuil utilisé est 0.5 mais il est possible de le changer."
   ]
  },
  {
   "cell_type": "code",
   "execution_count": 52,
   "id": "8d944b45",
   "metadata": {},
   "outputs": [
    {
     "data": {
      "image/png": "[encoded data removed]",
      "text/plain": [
       "<Figure size 432x288 with 2 Axes>"
      ]
     },
     "metadata": {
      "needs_background": "light"
     },
     "output_type": "display_data"
    },
    {
     "name": "stdout",
     "output_type": "stream",
     "text": [
      "              precision    recall  f1-score   support\n",
      "\n",
      "         0.0       0.98      0.43      0.60     80442\n",
      "         1.0       0.12      0.91      0.22      7177\n",
      "\n",
      "    accuracy                           0.47     87619\n",
      "   macro avg       0.55      0.67      0.41     87619\n",
      "weighted avg       0.91      0.47      0.57     87619\n",
      "\n",
      "ROC AUC Score: 0.67\n"
     ]
    }
   ],
   "source": [
    "# Utilisation d'un seuil à 0.25 au lieu de 0.5.\n",
    "threshold = 0.25\n",
    "# Si le seuil est supérieur à 0.25, alors on considère que le crédit appartient à la classe 1\n",
    "y_pred2 = (best_model.predict_proba(X_test)[:, 1] > threshold).astype('float')\n",
    "plot_confusion_matrix(y_test, y_pred2)"
   ]
  },
  {
   "cell_type": "markdown",
   "id": "0529f3eb",
   "metadata": {},
   "source": [
    "On voit que baisser la seuil permet d'améliorer le recall. Par contre celà augmente le nombre de crédits refusés alors qu'ils devraient être acceptés. Il convient donc de trouver l'équilibre entre le taux de vrais positifs et de faux positifs. Cela revient à maximiser le AUC ROC."
   ]
  },
  {
   "cell_type": "markdown",
   "id": "b7d6737a",
   "metadata": {},
   "source": [
    "https://machinelearningmastery.com/threshold-moving-for-imbalanced-classification/"
   ]
  },
  {
   "cell_type": "code",
   "execution_count": 53,
   "id": "59f0c4b7",
   "metadata": {},
   "outputs": [],
   "source": [
    "# Calcul des probabilités d'appartenir à la classe 1\n",
    "y_scores = best_model.predict_proba(X_test)[:, 1]"
   ]
  },
  {
   "cell_type": "code",
   "execution_count": 54,
   "id": "09f4daeb",
   "metadata": {},
   "outputs": [
    {
     "name": "stdout",
     "output_type": "stream",
     "text": [
      "0.8154886688693014\n"
     ]
    },
    {
     "data": {
      "image/png": "[encoded data removed]",
      "text/plain": [
       "<Figure size 576x576 with 1 Axes>"
      ]
     },
     "metadata": {
      "needs_background": "light"
     },
     "output_type": "display_data"
    }
   ],
   "source": [
    "# Courbe ROC associée au modèle de régression logistique\n",
    "fpr, tpr, auc_thresholds = roc_curve(y_test, y_scores)\n",
    "print(auc(fpr, tpr)) # AUC of ROC\n",
    "plot_roc_curve(fpr, tpr, 'recall_optimized')"
   ]
  },
  {
   "cell_type": "code",
   "execution_count": 55,
   "id": "5a7197d1",
   "metadata": {},
   "outputs": [
    {
     "name": "stdout",
     "output_type": "stream",
     "text": [
      "Best Threshold=0.484422, G-Mean=0.740\n"
     ]
    }
   ],
   "source": [
    "# calculate the g-mean for each threshold\n",
    "gmeans = np.sqrt(tpr * (1-fpr))\n",
    "# locate the index of the largest g-mean\n",
    "ix = np.argmax(gmeans)\n",
    "print('Best Threshold=%f, G-Mean=%.3f' % (auc_thresholds[ix], gmeans[ix]))"
   ]
  },
  {
   "cell_type": "markdown",
   "id": "f167300b",
   "metadata": {},
   "source": [
    "Le seuil optimal est de 48.744%."
   ]
  },
  {
   "cell_type": "code",
   "execution_count": 59,
   "id": "0692e07c",
   "metadata": {},
   "outputs": [
    {
     "data": {
      "image/png": "[encoded data removed]",
      "text/plain": [
       "<Figure size 432x288 with 2 Axes>"
      ]
     },
     "metadata": {
      "needs_background": "light"
     },
     "output_type": "display_data"
    },
    {
     "name": "stdout",
     "output_type": "stream",
     "text": [
      "              precision    recall  f1-score   support\n",
      "\n",
      "         0.0       0.97      0.75      0.85     80442\n",
      "         1.0       0.21      0.73      0.32      7177\n",
      "\n",
      "    accuracy                           0.75     87619\n",
      "   macro avg       0.59      0.74      0.58     87619\n",
      "weighted avg       0.91      0.75      0.80     87619\n",
      "\n",
      "ROC AUC Score: 0.74\n"
     ]
    }
   ],
   "source": [
    "threshold = 0.484422\n",
    "y_pred2 = (best_model.predict_proba(X_test)[:, 1] > threshold).astype('float')\n",
    "plot_confusion_matrix(y_test, y_pred2)"
   ]
  },
  {
   "cell_type": "code",
   "execution_count": 57,
   "id": "f2e3d929",
   "metadata": {},
   "outputs": [
    {
     "data": {
      "image/png": "[encoded data removed]",
      "text/plain": [
       "<Figure size 576x576 with 1 Axes>"
      ]
     },
     "metadata": {
      "needs_background": "light"
     },
     "output_type": "display_data"
    }
   ],
   "source": [
    "# plot the roc curve for the model\n",
    "plt.figure(figsize=(8,8))\n",
    "plt.plot([0,1], [0,1], linestyle='--', label='No Skill')\n",
    "plt.plot(fpr, tpr, marker='.', label='Logistic')\n",
    "plt.scatter(fpr[ix], tpr[ix], marker='^', color='blue', label='Best', s=100)\n",
    "# axis labels\n",
    "plt.xlabel('False Positive Rate')\n",
    "plt.ylabel('True Positive Rate')\n",
    "plt.legend()\n",
    "# show the plot\n",
    "plt.show()"
   ]
  },
  {
   "cell_type": "code",
   "execution_count": 58,
   "id": "f1a8a407",
   "metadata": {},
   "outputs": [],
   "source": [
    "### Create a Pickle file using serialization \n",
    "pickle_out = open(\"classifier_lr_final.pkl\", \"wb\")\n",
    "pickle.dump(best_model, pickle_out)\n",
    "pickle_out.close()"
   ]
  },
  {
   "cell_type": "code",
   "execution_count": null,
   "id": "c91be160",
   "metadata": {},
   "outputs": [],
   "source": []
  }
 ],
 "metadata": {
  "kernelspec": {
   "display_name": "Python 3 (ipykernel)",
   "language": "python",
   "name": "python3"
  },
  "language_info": {
   "codemirror_mode": {
    "name": "ipython",
    "version": 3
   },
   "file_extension": ".py",
   "mimetype": "text/x-python",
   "name": "python",
   "nbconvert_exporter": "python",
   "pygments_lexer": "ipython3",
   "version": "3.9.12"
  }
 },
 "nbformat": 4,
 "nbformat_minor": 5
}
