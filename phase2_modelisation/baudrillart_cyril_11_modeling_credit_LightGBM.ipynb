{
 "cells": [
  {
   "cell_type": "markdown",
   "id": "5e8c0e89",
   "metadata": {},
   "source": [
    "# Modélisation des demandes de crédits avec LightGBM"
   ]
  },
  {
   "cell_type": "markdown",
   "id": "6ff50384",
   "metadata": {},
   "source": [
    "## Chargement des données d'entraînement et de test"
   ]
  },
  {
   "cell_type": "code",
   "execution_count": 1,
   "id": "e395c370",
   "metadata": {},
   "outputs": [],
   "source": [
    "import sys\n",
    "sys.path.insert(0, \"/home/cyril/openclassrooms/projets/P7/P7_baudrillart_cyril_V2/custom_functions\")"
   ]
  },
  {
   "cell_type": "code",
   "execution_count": 2,
   "id": "1551f2e2",
   "metadata": {},
   "outputs": [],
   "source": [
    "import pandas as pd\n",
    "import numpy as np\n",
    "from collections import Counter\n",
    "import time\n",
    "import matplotlib.pyplot as plt\n",
    "from model_analysis import plot_confusion_matrix, plot_roc_curve"
   ]
  },
  {
   "cell_type": "code",
   "execution_count": 3,
   "id": "922a4d96",
   "metadata": {},
   "outputs": [],
   "source": [
    "from sklearn.model_selection import cross_val_score, RepeatedStratifiedKFold, cross_validate, StratifiedKFold\n",
    "from sklearn.impute import SimpleImputer\n",
    "from sklearn.tree import DecisionTreeClassifier\n",
    "from sklearn.linear_model import LogisticRegression, RidgeClassifier, Lasso, LassoCV\n",
    "from sklearn.model_selection import train_test_split, KFold\n",
    "from imblearn.pipeline import Pipeline, make_pipeline\n",
    "from sklearn.preprocessing import StandardScaler, MinMaxScaler\n",
    "from imblearn.over_sampling import SMOTE, BorderlineSMOTE, SVMSMOTE, ADASYN\n",
    "from imblearn.under_sampling import RandomUnderSampler\n",
    "from imblearn.over_sampling import RandomOverSampler\n",
    "from sklearn.metrics import classification_report, confusion_matrix\n",
    "from sklearn.metrics import f1_score, recall_score, roc_auc_score, precision_score, r2_score, accuracy_score\n",
    "from sklearn.model_selection import GridSearchCV, RandomizedSearchCV\n",
    "from sklearn.metrics import confusion_matrix, ConfusionMatrixDisplay\n",
    "import seaborn as sns\n",
    "import lightgbm as lgb\n",
    "from lightgbm import LGBMClassifier"
   ]
  },
  {
   "cell_type": "code",
   "execution_count": 4,
   "id": "865a89f6",
   "metadata": {},
   "outputs": [],
   "source": [
    "# Chargement des données intégrales imputées\n",
    "X = pd.read_csv('../data_models/X_top10_imputed.csv', index_col=0)"
   ]
  },
  {
   "cell_type": "code",
   "execution_count": 5,
   "id": "20df635e",
   "metadata": {},
   "outputs": [
    {
     "data": {
      "text/plain": [
       "(292062, 12)"
      ]
     },
     "execution_count": 5,
     "metadata": {},
     "output_type": "execute_result"
    }
   ],
   "source": [
    "X.shape"
   ]
  },
  {
   "cell_type": "code",
   "execution_count": 6,
   "id": "25c1960e",
   "metadata": {},
   "outputs": [
    {
     "data": {
      "text/plain": [
       "0         0.0\n",
       "1         0.0\n",
       "2         0.0\n",
       "3         0.0\n",
       "4         0.0\n",
       "         ... \n",
       "292057    1.0\n",
       "292058    1.0\n",
       "292059    1.0\n",
       "292060    1.0\n",
       "292061    1.0\n",
       "Name: TARGET, Length: 292062, dtype: float64"
      ]
     },
     "execution_count": 6,
     "metadata": {},
     "output_type": "execute_result"
    }
   ],
   "source": [
    "# Création de la target\n",
    "y = X.TARGET\n",
    "y"
   ]
  },
  {
   "cell_type": "code",
   "execution_count": 7,
   "id": "6e56daae",
   "metadata": {},
   "outputs": [],
   "source": [
    "# Supprimer la target des features\n",
    "X = X.drop(columns='TARGET')"
   ]
  },
  {
   "cell_type": "code",
   "execution_count": 8,
   "id": "8d2ef234",
   "metadata": {},
   "outputs": [
    {
     "data": {
      "text/plain": [
       "Counter({0.0: 268139, 1.0: 23923})"
      ]
     },
     "execution_count": 8,
     "metadata": {},
     "output_type": "execute_result"
    }
   ],
   "source": [
    "# Comptage des classes\n",
    "Counter(y)"
   ]
  },
  {
   "cell_type": "markdown",
   "id": "6fa08329",
   "metadata": {},
   "source": [
    "La classe 1 est minoritaire."
   ]
  },
  {
   "cell_type": "code",
   "execution_count": 9,
   "id": "80b9231d",
   "metadata": {},
   "outputs": [],
   "source": [
    "# train-test split with stratification on the class we are trying to predict\n",
    "X_train, X_test, y_train, y_test = train_test_split(X, y, test_size=0.3, random_state=2, stratify=y)"
   ]
  },
  {
   "cell_type": "code",
   "execution_count": 10,
   "id": "938b86f2",
   "metadata": {},
   "outputs": [
    {
     "data": {
      "text/plain": [
       "Counter({0.0: 80442, 1.0: 7177})"
      ]
     },
     "execution_count": 10,
     "metadata": {},
     "output_type": "execute_result"
    }
   ],
   "source": [
    "Counter(y_test)"
   ]
  },
  {
   "cell_type": "code",
   "execution_count": 11,
   "id": "4734c8aa",
   "metadata": {},
   "outputs": [
    {
     "data": {
      "text/plain": [
       "11.208304305420093"
      ]
     },
     "execution_count": 11,
     "metadata": {},
     "output_type": "execute_result"
    }
   ],
   "source": [
    "Counter(y_test)[0]/Counter(y_test)[1]"
   ]
  },
  {
   "cell_type": "code",
   "execution_count": 12,
   "id": "59bc1b8c",
   "metadata": {},
   "outputs": [
    {
     "data": {
      "text/plain": [
       "11.208467693777619"
      ]
     },
     "execution_count": 12,
     "metadata": {},
     "output_type": "execute_result"
    }
   ],
   "source": [
    "Counter(y_train)[0]/Counter(y_train)[1]"
   ]
  },
  {
   "cell_type": "markdown",
   "id": "c7319ada",
   "metadata": {},
   "source": [
    "## LightGBM"
   ]
  },
  {
   "cell_type": "code",
   "execution_count": 13,
   "id": "0627492d",
   "metadata": {},
   "outputs": [],
   "source": [
    "d_train = lgb.Dataset(X_train, label=y_train)"
   ]
  },
  {
   "cell_type": "code",
   "execution_count": 14,
   "id": "e63b9407",
   "metadata": {},
   "outputs": [],
   "source": [
    "# Imputation des données manquantes et randomforest\n",
    "steps = [('impute', SimpleImputer(strategy='median')),\n",
    "         ('model', LGBMClassifier())]\n",
    "\n",
    "pipeline = Pipeline(steps=steps)"
   ]
  },
  {
   "cell_type": "code",
   "execution_count": 15,
   "id": "ac61f963",
   "metadata": {},
   "outputs": [
    {
     "data": {
      "text/html": [
       "<style>#sk-container-id-1 {color: black;background-color: white;}#sk-container-id-1 pre{padding: 0;}#sk-container-id-1 div.sk-toggleable {background-color: white;}#sk-container-id-1 label.sk-toggleable__label {cursor: pointer;display: block;width: 100%;margin-bottom: 0;padding: 0.3em;box-sizing: border-box;text-align: center;}#sk-container-id-1 label.sk-toggleable__label-arrow:before {content: \"▸\";float: left;margin-right: 0.25em;color: #696969;}#sk-container-id-1 label.sk-toggleable__label-arrow:hover:before {color: black;}#sk-container-id-1 div.sk-estimator:hover label.sk-toggleable__label-arrow:before {color: black;}#sk-container-id-1 div.sk-toggleable__content {max-height: 0;max-width: 0;overflow: hidden;text-align: left;background-color: #f0f8ff;}#sk-container-id-1 div.sk-toggleable__content pre {margin: 0.2em;color: black;border-radius: 0.25em;background-color: #f0f8ff;}#sk-container-id-1 input.sk-toggleable__control:checked~div.sk-toggleable__content {max-height: 200px;max-width: 100%;overflow: auto;}#sk-container-id-1 input.sk-toggleable__control:checked~label.sk-toggleable__label-arrow:before {content: \"▾\";}#sk-container-id-1 div.sk-estimator input.sk-toggleable__control:checked~label.sk-toggleable__label {background-color: #d4ebff;}#sk-container-id-1 div.sk-label input.sk-toggleable__control:checked~label.sk-toggleable__label {background-color: #d4ebff;}#sk-container-id-1 input.sk-hidden--visually {border: 0;clip: rect(1px 1px 1px 1px);clip: rect(1px, 1px, 1px, 1px);height: 1px;margin: -1px;overflow: hidden;padding: 0;position: absolute;width: 1px;}#sk-container-id-1 div.sk-estimator {font-family: monospace;background-color: #f0f8ff;border: 1px dotted black;border-radius: 0.25em;box-sizing: border-box;margin-bottom: 0.5em;}#sk-container-id-1 div.sk-estimator:hover {background-color: #d4ebff;}#sk-container-id-1 div.sk-parallel-item::after {content: \"\";width: 100%;border-bottom: 1px solid gray;flex-grow: 1;}#sk-container-id-1 div.sk-label:hover label.sk-toggleable__label {background-color: #d4ebff;}#sk-container-id-1 div.sk-serial::before {content: \"\";position: absolute;border-left: 1px solid gray;box-sizing: border-box;top: 0;bottom: 0;left: 50%;z-index: 0;}#sk-container-id-1 div.sk-serial {display: flex;flex-direction: column;align-items: center;background-color: white;padding-right: 0.2em;padding-left: 0.2em;position: relative;}#sk-container-id-1 div.sk-item {position: relative;z-index: 1;}#sk-container-id-1 div.sk-parallel {display: flex;align-items: stretch;justify-content: center;background-color: white;position: relative;}#sk-container-id-1 div.sk-item::before, #sk-container-id-1 div.sk-parallel-item::before {content: \"\";position: absolute;border-left: 1px solid gray;box-sizing: border-box;top: 0;bottom: 0;left: 50%;z-index: -1;}#sk-container-id-1 div.sk-parallel-item {display: flex;flex-direction: column;z-index: 1;position: relative;background-color: white;}#sk-container-id-1 div.sk-parallel-item:first-child::after {align-self: flex-end;width: 50%;}#sk-container-id-1 div.sk-parallel-item:last-child::after {align-self: flex-start;width: 50%;}#sk-container-id-1 div.sk-parallel-item:only-child::after {width: 0;}#sk-container-id-1 div.sk-dashed-wrapped {border: 1px dashed gray;margin: 0 0.4em 0.5em 0.4em;box-sizing: border-box;padding-bottom: 0.4em;background-color: white;}#sk-container-id-1 div.sk-label label {font-family: monospace;font-weight: bold;display: inline-block;line-height: 1.2em;}#sk-container-id-1 div.sk-label-container {text-align: center;}#sk-container-id-1 div.sk-container {/* jupyter's `normalize.less` sets `[hidden] { display: none; }` but bootstrap.min.css set `[hidden] { display: none !important; }` so we also need the `!important` here to be able to override the default hidden behavior on the sphinx rendered scikit-learn.org. See: https://github.com/scikit-learn/scikit-learn/issues/21755 */display: inline-block !important;position: relative;}#sk-container-id-1 div.sk-text-repr-fallback {display: none;}</style><div id=\"sk-container-id-1\" class=\"sk-top-container\"><div class=\"sk-text-repr-fallback\"><pre>Pipeline(steps=[(&#x27;impute&#x27;, SimpleImputer(strategy=&#x27;median&#x27;)),\n",
       "                (&#x27;model&#x27;, LGBMClassifier())])</pre><b>In a Jupyter environment, please rerun this cell to show the HTML representation or trust the notebook. <br />On GitHub, the HTML representation is unable to render, please try loading this page with nbviewer.org.</b></div><div class=\"sk-container\" hidden><div class=\"sk-item sk-dashed-wrapped\"><div class=\"sk-label-container\"><div class=\"sk-label sk-toggleable\"><input class=\"sk-toggleable__control sk-hidden--visually\" id=\"sk-estimator-id-1\" type=\"checkbox\" ><label for=\"sk-estimator-id-1\" class=\"sk-toggleable__label sk-toggleable__label-arrow\">Pipeline</label><div class=\"sk-toggleable__content\"><pre>Pipeline(steps=[(&#x27;impute&#x27;, SimpleImputer(strategy=&#x27;median&#x27;)),\n",
       "                (&#x27;model&#x27;, LGBMClassifier())])</pre></div></div></div><div class=\"sk-serial\"><div class=\"sk-item\"><div class=\"sk-estimator sk-toggleable\"><input class=\"sk-toggleable__control sk-hidden--visually\" id=\"sk-estimator-id-2\" type=\"checkbox\" ><label for=\"sk-estimator-id-2\" class=\"sk-toggleable__label sk-toggleable__label-arrow\">SimpleImputer</label><div class=\"sk-toggleable__content\"><pre>SimpleImputer(strategy=&#x27;median&#x27;)</pre></div></div></div><div class=\"sk-item\"><div class=\"sk-estimator sk-toggleable\"><input class=\"sk-toggleable__control sk-hidden--visually\" id=\"sk-estimator-id-3\" type=\"checkbox\" ><label for=\"sk-estimator-id-3\" class=\"sk-toggleable__label sk-toggleable__label-arrow\">LGBMClassifier</label><div class=\"sk-toggleable__content\"><pre>LGBMClassifier()</pre></div></div></div></div></div></div></div>"
      ],
      "text/plain": [
       "Pipeline(steps=[('impute', SimpleImputer(strategy='median')),\n",
       "                ('model', LGBMClassifier())])"
      ]
     },
     "execution_count": 15,
     "metadata": {},
     "output_type": "execute_result"
    }
   ],
   "source": [
    "pipeline"
   ]
  },
  {
   "cell_type": "code",
   "execution_count": 16,
   "id": "d8a7a3a9",
   "metadata": {},
   "outputs": [
    {
     "data": {
      "image/png": "[encoded data removed]",
      "text/plain": [
       "<Figure size 432x288 with 2 Axes>"
      ]
     },
     "metadata": {
      "needs_background": "light"
     },
     "output_type": "display_data"
    },
    {
     "name": "stdout",
     "output_type": "stream",
     "text": [
      "              precision    recall  f1-score   support\n",
      "\n",
      "         0.0       0.94      1.00      0.97     80442\n",
      "         1.0       0.90      0.34      0.49      7177\n",
      "\n",
      "    accuracy                           0.94     87619\n",
      "   macro avg       0.92      0.67      0.73     87619\n",
      "weighted avg       0.94      0.94      0.93     87619\n",
      "\n",
      "ROC AUC Score: 0.67\n",
      "CPU times: user 7.03 s, sys: 235 ms, total: 7.26 s\n",
      "Wall time: 1.19 s\n"
     ]
    }
   ],
   "source": [
    "%%time\n",
    "pipeline.fit(X_train, y_train)\n",
    "y_pred = pipeline.predict(X_test)\n",
    "# Plot the confusion matrix\n",
    "plot_confusion_matrix(y_test, y_pred)"
   ]
  },
  {
   "cell_type": "code",
   "execution_count": 17,
   "id": "7dfbf63e",
   "metadata": {},
   "outputs": [
    {
     "data": {
      "image/png": "[encoded data removed]",
      "text/plain": [
       "<Figure size 432x288 with 2 Axes>"
      ]
     },
     "metadata": {
      "needs_background": "light"
     },
     "output_type": "display_data"
    },
    {
     "name": "stdout",
     "output_type": "stream",
     "text": [
      "              precision    recall  f1-score   support\n",
      "\n",
      "         0.0       0.98      0.80      0.88     80442\n",
      "         1.0       0.26      0.78      0.39      7177\n",
      "\n",
      "    accuracy                           0.80     87619\n",
      "   macro avg       0.62      0.79      0.63     87619\n",
      "weighted avg       0.92      0.80      0.84     87619\n",
      "\n",
      "ROC AUC Score: 0.79\n"
     ]
    }
   ],
   "source": [
    "# Imputation des données manquantes et randomforest\n",
    "steps = [('oversample', RandomOverSampler(random_state=42)),\n",
    "         ('impute', SimpleImputer(strategy='median')),\n",
    "         ('model', LGBMClassifier())]\n",
    "\n",
    "pipeline = Pipeline(steps=steps)\n",
    "pipeline.fit(X_train, y_train)\n",
    "y_pred = pipeline.predict(X_test)\n",
    "# Plot the confusion matrix\n",
    "plot_confusion_matrix(y_test, y_pred)"
   ]
  },
  {
   "cell_type": "code",
   "execution_count": 18,
   "id": "4cec2aac",
   "metadata": {},
   "outputs": [
    {
     "data": {
      "image/png": "[encoded data removed]",
      "text/plain": [
       "<Figure size 432x288 with 2 Axes>"
      ]
     },
     "metadata": {
      "needs_background": "light"
     },
     "output_type": "display_data"
    },
    {
     "name": "stdout",
     "output_type": "stream",
     "text": [
      "              precision    recall  f1-score   support\n",
      "\n",
      "         0.0       0.95      0.98      0.96     80442\n",
      "         1.0       0.63      0.41      0.50      7177\n",
      "\n",
      "    accuracy                           0.93     87619\n",
      "   macro avg       0.79      0.70      0.73     87619\n",
      "weighted avg       0.92      0.93      0.93     87619\n",
      "\n",
      "ROC AUC Score: 0.70\n"
     ]
    }
   ],
   "source": [
    "# Imputation des données manquantes et randomforest\n",
    "oversample_model = SMOTE(sampling_strategy='auto', k_neighbors=5)\n",
    "\n",
    "steps = [('impute', SimpleImputer(strategy='median')),\n",
    "         ('sampling', oversample_model),\n",
    "         ('model', LGBMClassifier())]\n",
    "\n",
    "pipeline = Pipeline(steps=steps)\n",
    "pipeline.fit(X_train, y_train)\n",
    "y_pred = pipeline.predict(X_test)\n",
    "# Plot the confusion matrix\n",
    "plot_confusion_matrix(y_test, y_pred)"
   ]
  },
  {
   "cell_type": "code",
   "execution_count": 19,
   "id": "9e15ca7a",
   "metadata": {},
   "outputs": [
    {
     "data": {
      "image/png": "[encoded data removed]",
      "text/plain": [
       "<Figure size 432x288 with 2 Axes>"
      ]
     },
     "metadata": {
      "needs_background": "light"
     },
     "output_type": "display_data"
    },
    {
     "name": "stdout",
     "output_type": "stream",
     "text": [
      "              precision    recall  f1-score   support\n",
      "\n",
      "         0.0       0.98      0.80      0.88     80442\n",
      "         1.0       0.26      0.78      0.38      7177\n",
      "\n",
      "    accuracy                           0.80     87619\n",
      "   macro avg       0.62      0.79      0.63     87619\n",
      "weighted avg       0.92      0.80      0.84     87619\n",
      "\n",
      "ROC AUC Score: 0.79\n"
     ]
    }
   ],
   "source": [
    "# Imputation des données manquantes et randomforest\n",
    "steps = [('impute', SimpleImputer(strategy='median')),\n",
    "         ('model', LGBMClassifier(scale_pos_weight=11))]\n",
    "\n",
    "pipeline = Pipeline(steps=steps)\n",
    "pipeline.fit(X_train, y_train)\n",
    "y_pred = pipeline.predict(X_test)\n",
    "# Plot the confusion matrix\n",
    "plot_confusion_matrix(y_test, y_pred)"
   ]
  },
  {
   "cell_type": "markdown",
   "id": "da8778a0",
   "metadata": {},
   "source": [
    "On effectue les premiers tests avec des arbres de décision qui ne nécéssitent par de standardisation des données. Afin d'obtenir des probabilités d'appartenance à chaque classe, il faut préciser la profondeur max de l'arbre (max_depth=5), autrement l'algorithme s'arrêtera quand les probabilités seront égales à 0 ou 1."
   ]
  },
  {
   "cell_type": "markdown",
   "id": "e1bd823b",
   "metadata": {},
   "source": [
    "## Gridsearch LightGBM"
   ]
  },
  {
   "cell_type": "code",
   "execution_count": 24,
   "id": "b651fd32",
   "metadata": {},
   "outputs": [],
   "source": [
    "# Utilisation des paramètres optimaux recommandé sur Kaggle\n",
    "# https://www.kaggle.com/code/jsaguiar/lightgbm-with-simple-features/script\n",
    "lgbm = LGBMClassifier(\n",
    "                    n_estimators=10000,\n",
    "                    learning_rate=0.02,\n",
    "                    num_leaves=34,\n",
    "                    colsample_bytree=0.9497036,\n",
    "                    subsample=0.8715623,\n",
    "                    max_depth=8,\n",
    "                    reg_alpha=0.041545473,\n",
    "                    reg_lambda=0.0735294,\n",
    "                    min_split_gain=0.0222415,\n",
    "                    verbose=-1,\n",
    "                    n_jobs=-1)"
   ]
  },
  {
   "cell_type": "code",
   "execution_count": 25,
   "id": "362f1f05",
   "metadata": {},
   "outputs": [
    {
     "data": {
      "image/png": "[encoded data removed]",
      "text/plain": [
       "<Figure size 432x288 with 2 Axes>"
      ]
     },
     "metadata": {
      "needs_background": "light"
     },
     "output_type": "display_data"
    },
    {
     "name": "stdout",
     "output_type": "stream",
     "text": [
      "              precision    recall  f1-score   support\n",
      "\n",
      "         0.0       0.97      0.77      0.86     80442\n",
      "         1.0       0.23      0.78      0.36      7177\n",
      "\n",
      "    accuracy                           0.77     87619\n",
      "   macro avg       0.60      0.77      0.61     87619\n",
      "weighted avg       0.91      0.77      0.82     87619\n",
      "\n",
      "ROC AUC Score: 0.77\n"
     ]
    }
   ],
   "source": [
    "# Imputation des données manquantes et randomforest\n",
    "steps = [('sampling', RandomUnderSampler(random_state=42)),\n",
    "         ('model', lgbm)]\n",
    "\n",
    "lgbmclassifier = Pipeline(steps=steps)\n",
    "lgbmclassifier.fit(X_train, y_train)\n",
    "y_pred = lgbmclassifier.predict(X_test)\n",
    "# Plot the confusion matrix\n",
    "plot_confusion_matrix(y_test, y_pred)"
   ]
  },
  {
   "cell_type": "markdown",
   "id": "a909f96d",
   "metadata": {},
   "source": [
    "Les performances obtenues sont très proches de celles obtenues avec un XGboots optimisé (voir notebook 9) "
   ]
  },
  {
   "cell_type": "code",
   "execution_count": null,
   "id": "8753067b",
   "metadata": {},
   "outputs": [],
   "source": []
  }
 ],
 "metadata": {
  "kernelspec": {
   "display_name": "Python 3 (ipykernel)",
   "language": "python",
   "name": "python3"
  },
  "language_info": {
   "codemirror_mode": {
    "name": "ipython",
    "version": 3
   },
   "file_extension": ".py",
   "mimetype": "text/x-python",
   "name": "python",
   "nbconvert_exporter": "python",
   "pygments_lexer": "ipython3",
   "version": "3.9.12"
  }
 },
 "nbformat": 4,
 "nbformat_minor": 5
}
