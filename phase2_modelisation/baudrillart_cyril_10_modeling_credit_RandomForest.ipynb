{
 "cells": [
  {
   "cell_type": "markdown",
   "id": "5e8c0e89",
   "metadata": {},
   "source": [
    "# Modélisation des demandes de crédits avec Random Forest"
   ]
  },
  {
   "cell_type": "markdown",
   "id": "6ff50384",
   "metadata": {},
   "source": [
    "## Chargement des données d'entraînement et de test"
   ]
  },
  {
   "cell_type": "code",
   "execution_count": 1,
   "id": "705f4a00",
   "metadata": {},
   "outputs": [],
   "source": [
    "import sys\n",
    "sys.path.insert(0, \"/home/cyril/openclassrooms/projets/P7/P7_baudrillart_cyril_V2/custom_functions\")"
   ]
  },
  {
   "cell_type": "code",
   "execution_count": 2,
   "id": "1551f2e2",
   "metadata": {},
   "outputs": [],
   "source": [
    "import pandas as pd\n",
    "import numpy as np\n",
    "from collections import Counter\n",
    "import time\n",
    "import matplotlib.pyplot as plt\n",
    "from model_analysis import plot_confusion_matrix, plot_roc_curve"
   ]
  },
  {
   "cell_type": "code",
   "execution_count": 3,
   "id": "922a4d96",
   "metadata": {},
   "outputs": [],
   "source": [
    "from sklearn.model_selection import cross_val_score, RepeatedStratifiedKFold, cross_validate\n",
    "from sklearn.impute import SimpleImputer\n",
    "from sklearn.tree import DecisionTreeClassifier\n",
    "from sklearn.linear_model import LogisticRegression, RidgeClassifier, Lasso, LassoCV\n",
    "from sklearn.model_selection import train_test_split, KFold\n",
    "from imblearn.pipeline import Pipeline, make_pipeline\n",
    "from sklearn.preprocessing import StandardScaler, MinMaxScaler\n",
    "from imblearn.over_sampling import SMOTE, BorderlineSMOTE, SVMSMOTE, ADASYN\n",
    "from imblearn.under_sampling import RandomUnderSampler\n",
    "from imblearn.over_sampling import RandomOverSampler\n",
    "from sklearn.metrics import classification_report, confusion_matrix, precision_recall_curve\n",
    "from sklearn.metrics import (f1_score, recall_score, roc_auc_score, precision_score, r2_score,\n",
    "                            accuracy_score, roc_curve, auc)\n",
    "from sklearn.naive_bayes import GaussianNB\n",
    "from xgboost import XGBClassifier\n",
    "from sklearn.ensemble import RandomForestClassifier\n",
    "from sklearn.svm import SVC\n",
    "from sklearn.model_selection import GridSearchCV, RandomizedSearchCV\n",
    "from sklearn.metrics import confusion_matrix, ConfusionMatrixDisplay\n",
    "import seaborn as sns\n",
    "from sklearn.model_selection import cross_val_score, RepeatedStratifiedKFold, cross_validate, StratifiedKFold\n",
    "from sklearn.model_selection import RandomizedSearchCV"
   ]
  },
  {
   "cell_type": "code",
   "execution_count": 4,
   "id": "27c25938",
   "metadata": {},
   "outputs": [],
   "source": [
    "# Chargement des données intégrales imputées\n",
    "X = pd.read_csv('../data_models/X_top10_imputed.csv', index_col=0)"
   ]
  },
  {
   "cell_type": "code",
   "execution_count": 5,
   "id": "20df635e",
   "metadata": {},
   "outputs": [
    {
     "data": {
      "text/plain": [
       "(292062, 12)"
      ]
     },
     "execution_count": 5,
     "metadata": {},
     "output_type": "execute_result"
    }
   ],
   "source": [
    "X.shape"
   ]
  },
  {
   "cell_type": "code",
   "execution_count": 6,
   "id": "c04233a3",
   "metadata": {},
   "outputs": [
    {
     "data": {
      "text/html": [
       "<div>\n",
       "<style scoped>\n",
       "    .dataframe tbody tr th:only-of-type {\n",
       "        vertical-align: middle;\n",
       "    }\n",
       "\n",
       "    .dataframe tbody tr th {\n",
       "        vertical-align: top;\n",
       "    }\n",
       "\n",
       "    .dataframe thead th {\n",
       "        text-align: right;\n",
       "    }\n",
       "</style>\n",
       "<table border=\"1\" class=\"dataframe\">\n",
       "  <thead>\n",
       "    <tr style=\"text-align: right;\">\n",
       "      <th></th>\n",
       "      <th>EXT_SOURCE_3</th>\n",
       "      <th>EXT_SOURCE_2</th>\n",
       "      <th>PREV_DAYS_DECISION_MIN</th>\n",
       "      <th>CODE_GENDER</th>\n",
       "      <th>DAYS_EMPLOYED</th>\n",
       "      <th>PREV_APP_CREDIT_PERC_MIN</th>\n",
       "      <th>INSTAL_DPD_MAX</th>\n",
       "      <th>AMT_CREDIT</th>\n",
       "      <th>DAYS_BIRTH</th>\n",
       "      <th>FLAG_OWN_CAR</th>\n",
       "      <th>NAME_EDUCATION_TYPE_Higher_education</th>\n",
       "      <th>TARGET</th>\n",
       "    </tr>\n",
       "  </thead>\n",
       "  <tbody>\n",
       "    <tr>\n",
       "      <th>0</th>\n",
       "      <td>0.574447</td>\n",
       "      <td>0.092250</td>\n",
       "      <td>1229.0</td>\n",
       "      <td>1.0</td>\n",
       "      <td>335.0</td>\n",
       "      <td>0.627786</td>\n",
       "      <td>0.0</td>\n",
       "      <td>508495.5</td>\n",
       "      <td>20255.0</td>\n",
       "      <td>0.0</td>\n",
       "      <td>0.0</td>\n",
       "      <td>0.0</td>\n",
       "    </tr>\n",
       "    <tr>\n",
       "      <th>1</th>\n",
       "      <td>0.746300</td>\n",
       "      <td>0.779680</td>\n",
       "      <td>2688.0</td>\n",
       "      <td>1.0</td>\n",
       "      <td>5862.0</td>\n",
       "      <td>0.906651</td>\n",
       "      <td>0.0</td>\n",
       "      <td>728460.0</td>\n",
       "      <td>21989.0</td>\n",
       "      <td>0.0</td>\n",
       "      <td>0.0</td>\n",
       "      <td>0.0</td>\n",
       "    </tr>\n",
       "    <tr>\n",
       "      <th>2</th>\n",
       "      <td>0.159520</td>\n",
       "      <td>0.475448</td>\n",
       "      <td>1632.0</td>\n",
       "      <td>1.0</td>\n",
       "      <td>224.0</td>\n",
       "      <td>0.938086</td>\n",
       "      <td>0.0</td>\n",
       "      <td>239850.0</td>\n",
       "      <td>25054.0</td>\n",
       "      <td>0.0</td>\n",
       "      <td>0.0</td>\n",
       "      <td>0.0</td>\n",
       "    </tr>\n",
       "    <tr>\n",
       "      <th>3</th>\n",
       "      <td>0.456110</td>\n",
       "      <td>0.698863</td>\n",
       "      <td>2500.0</td>\n",
       "      <td>0.0</td>\n",
       "      <td>7093.0</td>\n",
       "      <td>0.000000</td>\n",
       "      <td>22.0</td>\n",
       "      <td>450000.0</td>\n",
       "      <td>18862.0</td>\n",
       "      <td>0.0</td>\n",
       "      <td>1.0</td>\n",
       "      <td>0.0</td>\n",
       "    </tr>\n",
       "    <tr>\n",
       "      <th>4</th>\n",
       "      <td>0.761026</td>\n",
       "      <td>0.658295</td>\n",
       "      <td>2608.0</td>\n",
       "      <td>1.0</td>\n",
       "      <td>224.0</td>\n",
       "      <td>0.000000</td>\n",
       "      <td>27.0</td>\n",
       "      <td>1350000.0</td>\n",
       "      <td>21817.0</td>\n",
       "      <td>1.0</td>\n",
       "      <td>0.0</td>\n",
       "      <td>0.0</td>\n",
       "    </tr>\n",
       "  </tbody>\n",
       "</table>\n",
       "</div>"
      ],
      "text/plain": [
       "   EXT_SOURCE_3  EXT_SOURCE_2  PREV_DAYS_DECISION_MIN  CODE_GENDER  \\\n",
       "0      0.574447      0.092250                  1229.0          1.0   \n",
       "1      0.746300      0.779680                  2688.0          1.0   \n",
       "2      0.159520      0.475448                  1632.0          1.0   \n",
       "3      0.456110      0.698863                  2500.0          0.0   \n",
       "4      0.761026      0.658295                  2608.0          1.0   \n",
       "\n",
       "   DAYS_EMPLOYED  PREV_APP_CREDIT_PERC_MIN  INSTAL_DPD_MAX  AMT_CREDIT  \\\n",
       "0          335.0                  0.627786             0.0    508495.5   \n",
       "1         5862.0                  0.906651             0.0    728460.0   \n",
       "2          224.0                  0.938086             0.0    239850.0   \n",
       "3         7093.0                  0.000000            22.0    450000.0   \n",
       "4          224.0                  0.000000            27.0   1350000.0   \n",
       "\n",
       "   DAYS_BIRTH  FLAG_OWN_CAR  NAME_EDUCATION_TYPE_Higher_education  TARGET  \n",
       "0     20255.0           0.0                                   0.0     0.0  \n",
       "1     21989.0           0.0                                   0.0     0.0  \n",
       "2     25054.0           0.0                                   0.0     0.0  \n",
       "3     18862.0           0.0                                   1.0     0.0  \n",
       "4     21817.0           1.0                                   0.0     0.0  "
      ]
     },
     "execution_count": 6,
     "metadata": {},
     "output_type": "execute_result"
    }
   ],
   "source": [
    "X.head()"
   ]
  },
  {
   "cell_type": "code",
   "execution_count": 7,
   "id": "25c1960e",
   "metadata": {},
   "outputs": [],
   "source": [
    "# Création de la target\n",
    "y = X.TARGET"
   ]
  },
  {
   "cell_type": "code",
   "execution_count": 8,
   "id": "6e56daae",
   "metadata": {},
   "outputs": [],
   "source": [
    "# Supprimer la target des features\n",
    "X = X.drop(columns='TARGET')"
   ]
  },
  {
   "cell_type": "code",
   "execution_count": 9,
   "id": "8d2ef234",
   "metadata": {},
   "outputs": [
    {
     "data": {
      "text/plain": [
       "Counter({0.0: 268139, 1.0: 23923})"
      ]
     },
     "execution_count": 9,
     "metadata": {},
     "output_type": "execute_result"
    }
   ],
   "source": [
    "# Comptage des classes\n",
    "Counter(y)"
   ]
  },
  {
   "cell_type": "markdown",
   "id": "6fa08329",
   "metadata": {},
   "source": [
    "La classe 1 est minoritaire."
   ]
  },
  {
   "cell_type": "code",
   "execution_count": 10,
   "id": "80b9231d",
   "metadata": {},
   "outputs": [],
   "source": [
    "# train-test split with stratification on the class we are trying to predict\n",
    "X_train, X_test, y_train, y_test = train_test_split(X, y, test_size=0.3, random_state=2, stratify=y)"
   ]
  },
  {
   "cell_type": "code",
   "execution_count": 11,
   "id": "938b86f2",
   "metadata": {},
   "outputs": [
    {
     "data": {
      "text/plain": [
       "Counter({0.0: 80442, 1.0: 7177})"
      ]
     },
     "execution_count": 11,
     "metadata": {},
     "output_type": "execute_result"
    }
   ],
   "source": [
    "Counter(y_test)"
   ]
  },
  {
   "cell_type": "code",
   "execution_count": 12,
   "id": "4734c8aa",
   "metadata": {},
   "outputs": [
    {
     "data": {
      "text/plain": [
       "11.208304305420093"
      ]
     },
     "execution_count": 12,
     "metadata": {},
     "output_type": "execute_result"
    }
   ],
   "source": [
    "Counter(y_test)[0]/Counter(y_test)[1]"
   ]
  },
  {
   "cell_type": "code",
   "execution_count": 13,
   "id": "59bc1b8c",
   "metadata": {},
   "outputs": [
    {
     "data": {
      "text/plain": [
       "11.208467693777619"
      ]
     },
     "execution_count": 13,
     "metadata": {},
     "output_type": "execute_result"
    }
   ],
   "source": [
    "Counter(y_train)[0]/Counter(y_train)[1]"
   ]
  },
  {
   "cell_type": "markdown",
   "id": "c36b566b",
   "metadata": {},
   "source": [
    "## RandomForest"
   ]
  },
  {
   "cell_type": "markdown",
   "id": "1165ba83",
   "metadata": {},
   "source": [
    "### Undersampling"
   ]
  },
  {
   "cell_type": "code",
   "execution_count": 35,
   "id": "bfd90937",
   "metadata": {},
   "outputs": [
    {
     "data": {
      "image/png": "[encoded data removed]",
      "text/plain": [
       "<Figure size 432x288 with 2 Axes>"
      ]
     },
     "metadata": {
      "needs_background": "light"
     },
     "output_type": "display_data"
    },
    {
     "name": "stdout",
     "output_type": "stream",
     "text": [
      "              precision    recall  f1-score   support\n",
      "\n",
      "         0.0       0.98      0.78      0.87     80442\n",
      "         1.0       0.24      0.78      0.37      7177\n",
      "\n",
      "    accuracy                           0.78     87619\n",
      "   macro avg       0.61      0.78      0.62     87619\n",
      "weighted avg       0.92      0.78      0.83     87619\n",
      "\n",
      "ROC AUC Score: 0.78\n"
     ]
    }
   ],
   "source": [
    "# Imputation des données manquantes et randomforest\n",
    "steps = [('oversample', RandomUnderSampler(random_state=42)),\n",
    "         ('model', RandomForestClassifier())]\n",
    "\n",
    "pipeline = Pipeline(steps=steps)\n",
    "pipeline.fit(X_train, y_train)\n",
    "y_pred = pipeline.predict(X_test)\n",
    "# Plot the confusion matrix\n",
    "plot_confusion_matrix(y_test, y_pred)"
   ]
  },
  {
   "cell_type": "markdown",
   "id": "44016f59",
   "metadata": {},
   "source": [
    "### Oversampling"
   ]
  },
  {
   "cell_type": "code",
   "execution_count": 19,
   "id": "8dd129a0",
   "metadata": {},
   "outputs": [
    {
     "data": {
      "image/png": "[encoded data removed]",
      "text/plain": [
       "<Figure size 432x288 with 2 Axes>"
      ]
     },
     "metadata": {
      "needs_background": "light"
     },
     "output_type": "display_data"
    },
    {
     "name": "stdout",
     "output_type": "stream",
     "text": [
      "              precision    recall  f1-score   support\n",
      "\n",
      "         0.0       0.95      0.99      0.97     80442\n",
      "         1.0       0.83      0.36      0.50      7177\n",
      "\n",
      "    accuracy                           0.94     87619\n",
      "   macro avg       0.89      0.67      0.73     87619\n",
      "weighted avg       0.94      0.94      0.93     87619\n",
      "\n",
      "ROC AUC Score: 0.67\n"
     ]
    }
   ],
   "source": [
    "# Imputation des données manquantes et randomforest\n",
    "steps = [('oversample', RandomOverSampler(random_state=42)),\n",
    "         ('model', RandomForestClassifier())]\n",
    "\n",
    "pipeline = Pipeline(steps=steps)\n",
    "pipeline.fit(X_train, y_train)\n",
    "y_pred = pipeline.predict(X_test)\n",
    "# Plot the confusion matrix\n",
    "plot_confusion_matrix(y_test, y_pred)"
   ]
  },
  {
   "cell_type": "markdown",
   "id": "f511249c",
   "metadata": {},
   "source": [
    "### SMOTE"
   ]
  },
  {
   "cell_type": "code",
   "execution_count": 20,
   "id": "3ba8dccf",
   "metadata": {},
   "outputs": [
    {
     "data": {
      "image/png": "[encoded data removed]",
      "text/plain": [
       "<Figure size 432x288 with 2 Axes>"
      ]
     },
     "metadata": {
      "needs_background": "light"
     },
     "output_type": "display_data"
    },
    {
     "name": "stdout",
     "output_type": "stream",
     "text": [
      "              precision    recall  f1-score   support\n",
      "\n",
      "         0.0       0.95      0.97      0.96     80442\n",
      "         1.0       0.57      0.42      0.49      7177\n",
      "\n",
      "    accuracy                           0.93     87619\n",
      "   macro avg       0.76      0.70      0.72     87619\n",
      "weighted avg       0.92      0.93      0.92     87619\n",
      "\n",
      "ROC AUC Score: 0.70\n"
     ]
    }
   ],
   "source": [
    "# Imputation des données manquantes avec SMOTE et xgboost\n",
    "oversample_model = SMOTE(sampling_strategy='auto', k_neighbors=5)\n",
    "\n",
    "steps = [('sampling', oversample_model),\n",
    "         ('model', RandomForestClassifier())]\n",
    "\n",
    "pipeline = Pipeline(steps=steps)\n",
    "pipeline.fit(X_train, y_train)\n",
    "y_pred = pipeline.predict(X_test)\n",
    "# Plot the confusion matrix\n",
    "plot_confusion_matrix(y_test, y_pred)"
   ]
  },
  {
   "cell_type": "markdown",
   "id": "4203e5ba",
   "metadata": {},
   "source": [
    "### Utilisation du paramètre 'class_weight'"
   ]
  },
  {
   "cell_type": "code",
   "execution_count": 21,
   "id": "672a134a",
   "metadata": {},
   "outputs": [
    {
     "data": {
      "image/png": "[encoded data removed]",
      "text/plain": [
       "<Figure size 432x288 with 2 Axes>"
      ]
     },
     "metadata": {
      "needs_background": "light"
     },
     "output_type": "display_data"
    },
    {
     "name": "stdout",
     "output_type": "stream",
     "text": [
      "              precision    recall  f1-score   support\n",
      "\n",
      "         0.0       0.94      1.00      0.97     80442\n",
      "         1.0       0.91      0.33      0.49      7177\n",
      "\n",
      "    accuracy                           0.94     87619\n",
      "   macro avg       0.93      0.66      0.73     87619\n",
      "weighted avg       0.94      0.94      0.93     87619\n",
      "\n",
      "ROC AUC Score: 0.66\n"
     ]
    }
   ],
   "source": [
    "# Imputation des données manquantes et randomforest\n",
    "steps = [('model', RandomForestClassifier(class_weight='balanced'))]\n",
    "\n",
    "pipeline = Pipeline(steps=steps)\n",
    "pipeline.fit(X_train, y_train)\n",
    "y_pred = pipeline.predict(X_test)\n",
    "# Plot the confusion matrix\n",
    "plot_confusion_matrix(y_test, y_pred)"
   ]
  },
  {
   "cell_type": "markdown",
   "id": "6e3c87de",
   "metadata": {},
   "source": [
    "## Optimisation des hyperparamètres Random Forest"
   ]
  },
  {
   "cell_type": "markdown",
   "id": "a36d22ba",
   "metadata": {},
   "source": [
    "### Recherche sur grille"
   ]
  },
  {
   "cell_type": "code",
   "execution_count": 22,
   "id": "49ae22c6",
   "metadata": {
    "scrolled": true
   },
   "outputs": [
    {
     "data": {
      "text/html": [
       "<style>#sk-container-id-1 {color: black;background-color: white;}#sk-container-id-1 pre{padding: 0;}#sk-container-id-1 div.sk-toggleable {background-color: white;}#sk-container-id-1 label.sk-toggleable__label {cursor: pointer;display: block;width: 100%;margin-bottom: 0;padding: 0.3em;box-sizing: border-box;text-align: center;}#sk-container-id-1 label.sk-toggleable__label-arrow:before {content: \"▸\";float: left;margin-right: 0.25em;color: #696969;}#sk-container-id-1 label.sk-toggleable__label-arrow:hover:before {color: black;}#sk-container-id-1 div.sk-estimator:hover label.sk-toggleable__label-arrow:before {color: black;}#sk-container-id-1 div.sk-toggleable__content {max-height: 0;max-width: 0;overflow: hidden;text-align: left;background-color: #f0f8ff;}#sk-container-id-1 div.sk-toggleable__content pre {margin: 0.2em;color: black;border-radius: 0.25em;background-color: #f0f8ff;}#sk-container-id-1 input.sk-toggleable__control:checked~div.sk-toggleable__content {max-height: 200px;max-width: 100%;overflow: auto;}#sk-container-id-1 input.sk-toggleable__control:checked~label.sk-toggleable__label-arrow:before {content: \"▾\";}#sk-container-id-1 div.sk-estimator input.sk-toggleable__control:checked~label.sk-toggleable__label {background-color: #d4ebff;}#sk-container-id-1 div.sk-label input.sk-toggleable__control:checked~label.sk-toggleable__label {background-color: #d4ebff;}#sk-container-id-1 input.sk-hidden--visually {border: 0;clip: rect(1px 1px 1px 1px);clip: rect(1px, 1px, 1px, 1px);height: 1px;margin: -1px;overflow: hidden;padding: 0;position: absolute;width: 1px;}#sk-container-id-1 div.sk-estimator {font-family: monospace;background-color: #f0f8ff;border: 1px dotted black;border-radius: 0.25em;box-sizing: border-box;margin-bottom: 0.5em;}#sk-container-id-1 div.sk-estimator:hover {background-color: #d4ebff;}#sk-container-id-1 div.sk-parallel-item::after {content: \"\";width: 100%;border-bottom: 1px solid gray;flex-grow: 1;}#sk-container-id-1 div.sk-label:hover label.sk-toggleable__label {background-color: #d4ebff;}#sk-container-id-1 div.sk-serial::before {content: \"\";position: absolute;border-left: 1px solid gray;box-sizing: border-box;top: 0;bottom: 0;left: 50%;z-index: 0;}#sk-container-id-1 div.sk-serial {display: flex;flex-direction: column;align-items: center;background-color: white;padding-right: 0.2em;padding-left: 0.2em;position: relative;}#sk-container-id-1 div.sk-item {position: relative;z-index: 1;}#sk-container-id-1 div.sk-parallel {display: flex;align-items: stretch;justify-content: center;background-color: white;position: relative;}#sk-container-id-1 div.sk-item::before, #sk-container-id-1 div.sk-parallel-item::before {content: \"\";position: absolute;border-left: 1px solid gray;box-sizing: border-box;top: 0;bottom: 0;left: 50%;z-index: -1;}#sk-container-id-1 div.sk-parallel-item {display: flex;flex-direction: column;z-index: 1;position: relative;background-color: white;}#sk-container-id-1 div.sk-parallel-item:first-child::after {align-self: flex-end;width: 50%;}#sk-container-id-1 div.sk-parallel-item:last-child::after {align-self: flex-start;width: 50%;}#sk-container-id-1 div.sk-parallel-item:only-child::after {width: 0;}#sk-container-id-1 div.sk-dashed-wrapped {border: 1px dashed gray;margin: 0 0.4em 0.5em 0.4em;box-sizing: border-box;padding-bottom: 0.4em;background-color: white;}#sk-container-id-1 div.sk-label label {font-family: monospace;font-weight: bold;display: inline-block;line-height: 1.2em;}#sk-container-id-1 div.sk-label-container {text-align: center;}#sk-container-id-1 div.sk-container {/* jupyter's `normalize.less` sets `[hidden] { display: none; }` but bootstrap.min.css set `[hidden] { display: none !important; }` so we also need the `!important` here to be able to override the default hidden behavior on the sphinx rendered scikit-learn.org. See: https://github.com/scikit-learn/scikit-learn/issues/21755 */display: inline-block !important;position: relative;}#sk-container-id-1 div.sk-text-repr-fallback {display: none;}</style><div id=\"sk-container-id-1\" class=\"sk-top-container\"><div class=\"sk-text-repr-fallback\"><pre>Pipeline(steps=[(&#x27;model&#x27;, RandomForestClassifier(class_weight=&#x27;balanced&#x27;))])</pre><b>In a Jupyter environment, please rerun this cell to show the HTML representation or trust the notebook. <br />On GitHub, the HTML representation is unable to render, please try loading this page with nbviewer.org.</b></div><div class=\"sk-container\" hidden><div class=\"sk-item sk-dashed-wrapped\"><div class=\"sk-label-container\"><div class=\"sk-label sk-toggleable\"><input class=\"sk-toggleable__control sk-hidden--visually\" id=\"sk-estimator-id-1\" type=\"checkbox\" ><label for=\"sk-estimator-id-1\" class=\"sk-toggleable__label sk-toggleable__label-arrow\">Pipeline</label><div class=\"sk-toggleable__content\"><pre>Pipeline(steps=[(&#x27;model&#x27;, RandomForestClassifier(class_weight=&#x27;balanced&#x27;))])</pre></div></div></div><div class=\"sk-serial\"><div class=\"sk-item\"><div class=\"sk-estimator sk-toggleable\"><input class=\"sk-toggleable__control sk-hidden--visually\" id=\"sk-estimator-id-2\" type=\"checkbox\" ><label for=\"sk-estimator-id-2\" class=\"sk-toggleable__label sk-toggleable__label-arrow\">RandomForestClassifier</label><div class=\"sk-toggleable__content\"><pre>RandomForestClassifier(class_weight=&#x27;balanced&#x27;)</pre></div></div></div></div></div></div></div>"
      ],
      "text/plain": [
       "Pipeline(steps=[('model', RandomForestClassifier(class_weight='balanced'))])"
      ]
     },
     "execution_count": 22,
     "metadata": {},
     "output_type": "execute_result"
    }
   ],
   "source": [
    "pipeline"
   ]
  },
  {
   "cell_type": "code",
   "execution_count": 23,
   "id": "b7515327",
   "metadata": {},
   "outputs": [
    {
     "data": {
      "text/plain": [
       "{'bootstrap': True,\n",
       " 'ccp_alpha': 0.0,\n",
       " 'class_weight': 'balanced',\n",
       " 'criterion': 'gini',\n",
       " 'max_depth': None,\n",
       " 'max_features': 'sqrt',\n",
       " 'max_leaf_nodes': None,\n",
       " 'max_samples': None,\n",
       " 'min_impurity_decrease': 0.0,\n",
       " 'min_samples_leaf': 1,\n",
       " 'min_samples_split': 2,\n",
       " 'min_weight_fraction_leaf': 0.0,\n",
       " 'n_estimators': 100,\n",
       " 'n_jobs': None,\n",
       " 'oob_score': False,\n",
       " 'random_state': None,\n",
       " 'verbose': 0,\n",
       " 'warm_start': False}"
      ]
     },
     "execution_count": 23,
     "metadata": {},
     "output_type": "execute_result"
    }
   ],
   "source": [
    "# Paramètre utilisés\n",
    "pipeline['model'].get_params()"
   ]
  },
  {
   "cell_type": "markdown",
   "id": "6936562a",
   "metadata": {},
   "source": [
    "Les paramètres les plus importants sont  \n",
    "- n_estimator: nombre d'arbres de la forêt  \n",
    "- max_features: nombre max de features considérées pour séparer un noeud  \n",
    "- max_depth: nombre max de niveaux pour chaque arbre  \n",
    "- min_samples_split: nombre max d'échantillons par noeud avant split  \n",
    "- min_samples_leaf: nombre max d'échantillons par feuille  \n",
    "- bootstrap: méthode utilisées pour l'échantillonnage (avec ou sans remise)"
   ]
  },
  {
   "cell_type": "markdown",
   "id": "88c5112f",
   "metadata": {},
   "source": [
    "Afin de réduire les temps de calcul, il est recommandé d'utiliser RandomizedSearchCV qui ne va pas tester toutes les combinaisons comme GridSearchCV"
   ]
  },
  {
   "cell_type": "raw",
   "id": "1a439083",
   "metadata": {},
   "source": [
    "# Number of trees in random forest\n",
    "n_estimators = [int(x) for x in np.linspace(start = 200, stop = 2000, num = 5)]\n",
    "# Maximum number of levels in tree\n",
    "max_depth = [int(x) for x in np.linspace(10, 110, num = 5)]\n",
    "max_depth.append(None)\n",
    "# Minimum number of samples required to split a node\n",
    "min_samples_split = [2, 5, 10]\n",
    "# Minimum number of samples required at each leaf node\n",
    "min_samples_leaf = [1, 2, 4]\n",
    "# Method of selecting samples for training each tree\n",
    "bootstrap = [True, False]# Create the random grid\n",
    "random_grid = {'model__n_estimators': n_estimators,\n",
    "               'model__max_depth': max_depth,\n",
    "               'model__min_samples_split': min_samples_split,\n",
    "               'model__min_samples_leaf': min_samples_leaf,\n",
    "               'model__bootstrap': bootstrap}\n",
    "print(random_grid)"
   ]
  },
  {
   "cell_type": "code",
   "execution_count": null,
   "id": "b0e1acd2",
   "metadata": {},
   "outputs": [],
   "source": [
    "# Number of trees in random forest\n",
    "n_estimators = [int(x) for x in np.linspace(start = 200, stop = 2000, num = 5)]\n",
    "# Maximum number of levels in tree\n",
    "max_depth = [int(x) for x in np.linspace(2, 20, num = 5)]\n",
    "max_depth.append(None)\n",
    "# Minimum number of samples required to split a node\n",
    "min_samples_split = [2, 5, 10]\n",
    "# Minimum number of samples required at each leaf node\n",
    "min_samples_leaf = [1, 2, 4]\n",
    "# Method of selecting samples for training each tree\n",
    "bootstrap = [True, False]# Create the random grid\n",
    "random_grid = {'model__n_estimators': n_estimators,\n",
    "               'model__max_depth': max_depth,\n",
    "               'model__min_samples_split': min_samples_split,\n",
    "               'model__min_samples_leaf': min_samples_leaf,\n",
    "               'model__bootstrap': bootstrap}\n",
    "print(random_grid)"
   ]
  },
  {
   "cell_type": "code",
   "execution_count": 51,
   "id": "c1d1c8e7",
   "metadata": {},
   "outputs": [],
   "source": [
    "import time\n",
    "\n",
    "# On commence par optimiser la ROC AUC\n",
    "\n",
    "# Use the random grid to search for best hyperparameters\n",
    "# First create the base model to tune\n",
    "\n",
    "# Random search of parameters, using 3 fold cross validation, \n",
    "# search across 100 different combinations, and use all available cores\n",
    "# utilisation de la cross validation\n",
    "cv = StratifiedKFold(n_splits=3)\n",
    "rf_random = RandomizedSearchCV(estimator = pipeline,\n",
    "                               param_distributions = random_grid,\n",
    "                               cv = cv,\n",
    "                               scoring='roc_auc',\n",
    "                               verbose=2,\n",
    "                               random_state=42,\n",
    "                               n_jobs = -1)# Fit the random search model"
   ]
  },
  {
   "cell_type": "code",
   "execution_count": 52,
   "id": "1fda7a61",
   "metadata": {},
   "outputs": [
    {
     "name": "stdout",
     "output_type": "stream",
     "text": [
      "Fitting 3 folds for each of 10 candidates, totalling 30 fits\n"
     ]
    },
    {
     "ename": "TerminatedWorkerError",
     "evalue": "A worker process managed by the executor was unexpectedly terminated. This could be caused by a segmentation fault while calling the function or by an excessive memory usage causing the Operating System to kill the worker.\n\nThe exit codes of the workers are {SIGKILL(-9)}",
     "output_type": "error",
     "traceback": [
      "\u001b[0;31m---------------------------------------------------------------------------\u001b[0m",
      "\u001b[0;31mTerminatedWorkerError\u001b[0m                     Traceback (most recent call last)",
      "File \u001b[0;32m<timed eval>:1\u001b[0m, in \u001b[0;36m<module>\u001b[0;34m\u001b[0m\n",
      "File \u001b[0;32m~/miniconda3/envs/streamlite_freecodecamp/lib/python3.9/site-packages/sklearn/model_selection/_search.py:875\u001b[0m, in \u001b[0;36mBaseSearchCV.fit\u001b[0;34m(self, X, y, groups, **fit_params)\u001b[0m\n\u001b[1;32m    869\u001b[0m     results \u001b[38;5;241m=\u001b[39m \u001b[38;5;28mself\u001b[39m\u001b[38;5;241m.\u001b[39m_format_results(\n\u001b[1;32m    870\u001b[0m         all_candidate_params, n_splits, all_out, all_more_results\n\u001b[1;32m    871\u001b[0m     )\n\u001b[1;32m    873\u001b[0m     \u001b[38;5;28;01mreturn\u001b[39;00m results\n\u001b[0;32m--> 875\u001b[0m \u001b[38;5;28;43mself\u001b[39;49m\u001b[38;5;241;43m.\u001b[39;49m\u001b[43m_run_search\u001b[49m\u001b[43m(\u001b[49m\u001b[43mevaluate_candidates\u001b[49m\u001b[43m)\u001b[49m\n\u001b[1;32m    877\u001b[0m \u001b[38;5;66;03m# multimetric is determined here because in the case of a callable\u001b[39;00m\n\u001b[1;32m    878\u001b[0m \u001b[38;5;66;03m# self.scoring the return type is only known after calling\u001b[39;00m\n\u001b[1;32m    879\u001b[0m first_test_score \u001b[38;5;241m=\u001b[39m all_out[\u001b[38;5;241m0\u001b[39m][\u001b[38;5;124m\"\u001b[39m\u001b[38;5;124mtest_scores\u001b[39m\u001b[38;5;124m\"\u001b[39m]\n",
      "File \u001b[0;32m~/miniconda3/envs/streamlite_freecodecamp/lib/python3.9/site-packages/sklearn/model_selection/_search.py:1749\u001b[0m, in \u001b[0;36mRandomizedSearchCV._run_search\u001b[0;34m(self, evaluate_candidates)\u001b[0m\n\u001b[1;32m   1747\u001b[0m \u001b[38;5;28;01mdef\u001b[39;00m \u001b[38;5;21m_run_search\u001b[39m(\u001b[38;5;28mself\u001b[39m, evaluate_candidates):\n\u001b[1;32m   1748\u001b[0m     \u001b[38;5;124;03m\"\"\"Search n_iter candidates from param_distributions\"\"\"\u001b[39;00m\n\u001b[0;32m-> 1749\u001b[0m     \u001b[43mevaluate_candidates\u001b[49m\u001b[43m(\u001b[49m\n\u001b[1;32m   1750\u001b[0m \u001b[43m        \u001b[49m\u001b[43mParameterSampler\u001b[49m\u001b[43m(\u001b[49m\n\u001b[1;32m   1751\u001b[0m \u001b[43m            \u001b[49m\u001b[38;5;28;43mself\u001b[39;49m\u001b[38;5;241;43m.\u001b[39;49m\u001b[43mparam_distributions\u001b[49m\u001b[43m,\u001b[49m\u001b[43m \u001b[49m\u001b[38;5;28;43mself\u001b[39;49m\u001b[38;5;241;43m.\u001b[39;49m\u001b[43mn_iter\u001b[49m\u001b[43m,\u001b[49m\u001b[43m \u001b[49m\u001b[43mrandom_state\u001b[49m\u001b[38;5;241;43m=\u001b[39;49m\u001b[38;5;28;43mself\u001b[39;49m\u001b[38;5;241;43m.\u001b[39;49m\u001b[43mrandom_state\u001b[49m\n\u001b[1;32m   1752\u001b[0m \u001b[43m        \u001b[49m\u001b[43m)\u001b[49m\n\u001b[1;32m   1753\u001b[0m \u001b[43m    \u001b[49m\u001b[43m)\u001b[49m\n",
      "File \u001b[0;32m~/miniconda3/envs/streamlite_freecodecamp/lib/python3.9/site-packages/sklearn/model_selection/_search.py:822\u001b[0m, in \u001b[0;36mBaseSearchCV.fit.<locals>.evaluate_candidates\u001b[0;34m(candidate_params, cv, more_results)\u001b[0m\n\u001b[1;32m    814\u001b[0m \u001b[38;5;28;01mif\u001b[39;00m \u001b[38;5;28mself\u001b[39m\u001b[38;5;241m.\u001b[39mverbose \u001b[38;5;241m>\u001b[39m \u001b[38;5;241m0\u001b[39m:\n\u001b[1;32m    815\u001b[0m     \u001b[38;5;28mprint\u001b[39m(\n\u001b[1;32m    816\u001b[0m         \u001b[38;5;124m\"\u001b[39m\u001b[38;5;124mFitting \u001b[39m\u001b[38;5;132;01m{0}\u001b[39;00m\u001b[38;5;124m folds for each of \u001b[39m\u001b[38;5;132;01m{1}\u001b[39;00m\u001b[38;5;124m candidates,\u001b[39m\u001b[38;5;124m\"\u001b[39m\n\u001b[1;32m    817\u001b[0m         \u001b[38;5;124m\"\u001b[39m\u001b[38;5;124m totalling \u001b[39m\u001b[38;5;132;01m{2}\u001b[39;00m\u001b[38;5;124m fits\u001b[39m\u001b[38;5;124m\"\u001b[39m\u001b[38;5;241m.\u001b[39mformat(\n\u001b[1;32m    818\u001b[0m             n_splits, n_candidates, n_candidates \u001b[38;5;241m*\u001b[39m n_splits\n\u001b[1;32m    819\u001b[0m         )\n\u001b[1;32m    820\u001b[0m     )\n\u001b[0;32m--> 822\u001b[0m out \u001b[38;5;241m=\u001b[39m \u001b[43mparallel\u001b[49m\u001b[43m(\u001b[49m\n\u001b[1;32m    823\u001b[0m \u001b[43m    \u001b[49m\u001b[43mdelayed\u001b[49m\u001b[43m(\u001b[49m\u001b[43m_fit_and_score\u001b[49m\u001b[43m)\u001b[49m\u001b[43m(\u001b[49m\n\u001b[1;32m    824\u001b[0m \u001b[43m        \u001b[49m\u001b[43mclone\u001b[49m\u001b[43m(\u001b[49m\u001b[43mbase_estimator\u001b[49m\u001b[43m)\u001b[49m\u001b[43m,\u001b[49m\n\u001b[1;32m    825\u001b[0m \u001b[43m        \u001b[49m\u001b[43mX\u001b[49m\u001b[43m,\u001b[49m\n\u001b[1;32m    826\u001b[0m \u001b[43m        \u001b[49m\u001b[43my\u001b[49m\u001b[43m,\u001b[49m\n\u001b[1;32m    827\u001b[0m \u001b[43m        \u001b[49m\u001b[43mtrain\u001b[49m\u001b[38;5;241;43m=\u001b[39;49m\u001b[43mtrain\u001b[49m\u001b[43m,\u001b[49m\n\u001b[1;32m    828\u001b[0m \u001b[43m        \u001b[49m\u001b[43mtest\u001b[49m\u001b[38;5;241;43m=\u001b[39;49m\u001b[43mtest\u001b[49m\u001b[43m,\u001b[49m\n\u001b[1;32m    829\u001b[0m \u001b[43m        \u001b[49m\u001b[43mparameters\u001b[49m\u001b[38;5;241;43m=\u001b[39;49m\u001b[43mparameters\u001b[49m\u001b[43m,\u001b[49m\n\u001b[1;32m    830\u001b[0m \u001b[43m        \u001b[49m\u001b[43msplit_progress\u001b[49m\u001b[38;5;241;43m=\u001b[39;49m\u001b[43m(\u001b[49m\u001b[43msplit_idx\u001b[49m\u001b[43m,\u001b[49m\u001b[43m \u001b[49m\u001b[43mn_splits\u001b[49m\u001b[43m)\u001b[49m\u001b[43m,\u001b[49m\n\u001b[1;32m    831\u001b[0m \u001b[43m        \u001b[49m\u001b[43mcandidate_progress\u001b[49m\u001b[38;5;241;43m=\u001b[39;49m\u001b[43m(\u001b[49m\u001b[43mcand_idx\u001b[49m\u001b[43m,\u001b[49m\u001b[43m \u001b[49m\u001b[43mn_candidates\u001b[49m\u001b[43m)\u001b[49m\u001b[43m,\u001b[49m\n\u001b[1;32m    832\u001b[0m \u001b[43m        \u001b[49m\u001b[38;5;241;43m*\u001b[39;49m\u001b[38;5;241;43m*\u001b[39;49m\u001b[43mfit_and_score_kwargs\u001b[49m\u001b[43m,\u001b[49m\n\u001b[1;32m    833\u001b[0m \u001b[43m    \u001b[49m\u001b[43m)\u001b[49m\n\u001b[1;32m    834\u001b[0m \u001b[43m    \u001b[49m\u001b[38;5;28;43;01mfor\u001b[39;49;00m\u001b[43m \u001b[49m\u001b[43m(\u001b[49m\u001b[43mcand_idx\u001b[49m\u001b[43m,\u001b[49m\u001b[43m \u001b[49m\u001b[43mparameters\u001b[49m\u001b[43m)\u001b[49m\u001b[43m,\u001b[49m\u001b[43m \u001b[49m\u001b[43m(\u001b[49m\u001b[43msplit_idx\u001b[49m\u001b[43m,\u001b[49m\u001b[43m \u001b[49m\u001b[43m(\u001b[49m\u001b[43mtrain\u001b[49m\u001b[43m,\u001b[49m\u001b[43m \u001b[49m\u001b[43mtest\u001b[49m\u001b[43m)\u001b[49m\u001b[43m)\u001b[49m\u001b[43m \u001b[49m\u001b[38;5;129;43;01min\u001b[39;49;00m\u001b[43m \u001b[49m\u001b[43mproduct\u001b[49m\u001b[43m(\u001b[49m\n\u001b[1;32m    835\u001b[0m \u001b[43m        \u001b[49m\u001b[38;5;28;43menumerate\u001b[39;49m\u001b[43m(\u001b[49m\u001b[43mcandidate_params\u001b[49m\u001b[43m)\u001b[49m\u001b[43m,\u001b[49m\u001b[43m \u001b[49m\u001b[38;5;28;43menumerate\u001b[39;49m\u001b[43m(\u001b[49m\u001b[43mcv\u001b[49m\u001b[38;5;241;43m.\u001b[39;49m\u001b[43msplit\u001b[49m\u001b[43m(\u001b[49m\u001b[43mX\u001b[49m\u001b[43m,\u001b[49m\u001b[43m \u001b[49m\u001b[43my\u001b[49m\u001b[43m,\u001b[49m\u001b[43m \u001b[49m\u001b[43mgroups\u001b[49m\u001b[43m)\u001b[49m\u001b[43m)\u001b[49m\n\u001b[1;32m    836\u001b[0m \u001b[43m    \u001b[49m\u001b[43m)\u001b[49m\n\u001b[1;32m    837\u001b[0m \u001b[43m\u001b[49m\u001b[43m)\u001b[49m\n\u001b[1;32m    839\u001b[0m \u001b[38;5;28;01mif\u001b[39;00m \u001b[38;5;28mlen\u001b[39m(out) \u001b[38;5;241m<\u001b[39m \u001b[38;5;241m1\u001b[39m:\n\u001b[1;32m    840\u001b[0m     \u001b[38;5;28;01mraise\u001b[39;00m \u001b[38;5;167;01mValueError\u001b[39;00m(\n\u001b[1;32m    841\u001b[0m         \u001b[38;5;124m\"\u001b[39m\u001b[38;5;124mNo fits were performed. \u001b[39m\u001b[38;5;124m\"\u001b[39m\n\u001b[1;32m    842\u001b[0m         \u001b[38;5;124m\"\u001b[39m\u001b[38;5;124mWas the CV iterator empty? \u001b[39m\u001b[38;5;124m\"\u001b[39m\n\u001b[1;32m    843\u001b[0m         \u001b[38;5;124m\"\u001b[39m\u001b[38;5;124mWere there no candidates?\u001b[39m\u001b[38;5;124m\"\u001b[39m\n\u001b[1;32m    844\u001b[0m     )\n",
      "File \u001b[0;32m~/miniconda3/envs/streamlite_freecodecamp/lib/python3.9/site-packages/joblib/parallel.py:1056\u001b[0m, in \u001b[0;36mParallel.__call__\u001b[0;34m(self, iterable)\u001b[0m\n\u001b[1;32m   1053\u001b[0m     \u001b[38;5;28mself\u001b[39m\u001b[38;5;241m.\u001b[39m_iterating \u001b[38;5;241m=\u001b[39m \u001b[38;5;28;01mFalse\u001b[39;00m\n\u001b[1;32m   1055\u001b[0m \u001b[38;5;28;01mwith\u001b[39;00m \u001b[38;5;28mself\u001b[39m\u001b[38;5;241m.\u001b[39m_backend\u001b[38;5;241m.\u001b[39mretrieval_context():\n\u001b[0;32m-> 1056\u001b[0m     \u001b[38;5;28;43mself\u001b[39;49m\u001b[38;5;241;43m.\u001b[39;49m\u001b[43mretrieve\u001b[49m\u001b[43m(\u001b[49m\u001b[43m)\u001b[49m\n\u001b[1;32m   1057\u001b[0m \u001b[38;5;66;03m# Make sure that we get a last message telling us we are done\u001b[39;00m\n\u001b[1;32m   1058\u001b[0m elapsed_time \u001b[38;5;241m=\u001b[39m time\u001b[38;5;241m.\u001b[39mtime() \u001b[38;5;241m-\u001b[39m \u001b[38;5;28mself\u001b[39m\u001b[38;5;241m.\u001b[39m_start_time\n",
      "File \u001b[0;32m~/miniconda3/envs/streamlite_freecodecamp/lib/python3.9/site-packages/joblib/parallel.py:935\u001b[0m, in \u001b[0;36mParallel.retrieve\u001b[0;34m(self)\u001b[0m\n\u001b[1;32m    933\u001b[0m \u001b[38;5;28;01mtry\u001b[39;00m:\n\u001b[1;32m    934\u001b[0m     \u001b[38;5;28;01mif\u001b[39;00m \u001b[38;5;28mgetattr\u001b[39m(\u001b[38;5;28mself\u001b[39m\u001b[38;5;241m.\u001b[39m_backend, \u001b[38;5;124m'\u001b[39m\u001b[38;5;124msupports_timeout\u001b[39m\u001b[38;5;124m'\u001b[39m, \u001b[38;5;28;01mFalse\u001b[39;00m):\n\u001b[0;32m--> 935\u001b[0m         \u001b[38;5;28mself\u001b[39m\u001b[38;5;241m.\u001b[39m_output\u001b[38;5;241m.\u001b[39mextend(\u001b[43mjob\u001b[49m\u001b[38;5;241;43m.\u001b[39;49m\u001b[43mget\u001b[49m\u001b[43m(\u001b[49m\u001b[43mtimeout\u001b[49m\u001b[38;5;241;43m=\u001b[39;49m\u001b[38;5;28;43mself\u001b[39;49m\u001b[38;5;241;43m.\u001b[39;49m\u001b[43mtimeout\u001b[49m\u001b[43m)\u001b[49m)\n\u001b[1;32m    936\u001b[0m     \u001b[38;5;28;01melse\u001b[39;00m:\n\u001b[1;32m    937\u001b[0m         \u001b[38;5;28mself\u001b[39m\u001b[38;5;241m.\u001b[39m_output\u001b[38;5;241m.\u001b[39mextend(job\u001b[38;5;241m.\u001b[39mget())\n",
      "File \u001b[0;32m~/miniconda3/envs/streamlite_freecodecamp/lib/python3.9/site-packages/joblib/_parallel_backends.py:542\u001b[0m, in \u001b[0;36mLokyBackend.wrap_future_result\u001b[0;34m(future, timeout)\u001b[0m\n\u001b[1;32m    539\u001b[0m \u001b[38;5;124;03m\"\"\"Wrapper for Future.result to implement the same behaviour as\u001b[39;00m\n\u001b[1;32m    540\u001b[0m \u001b[38;5;124;03mAsyncResults.get from multiprocessing.\"\"\"\u001b[39;00m\n\u001b[1;32m    541\u001b[0m \u001b[38;5;28;01mtry\u001b[39;00m:\n\u001b[0;32m--> 542\u001b[0m     \u001b[38;5;28;01mreturn\u001b[39;00m \u001b[43mfuture\u001b[49m\u001b[38;5;241;43m.\u001b[39;49m\u001b[43mresult\u001b[49m\u001b[43m(\u001b[49m\u001b[43mtimeout\u001b[49m\u001b[38;5;241;43m=\u001b[39;49m\u001b[43mtimeout\u001b[49m\u001b[43m)\u001b[49m\n\u001b[1;32m    543\u001b[0m \u001b[38;5;28;01mexcept\u001b[39;00m CfTimeoutError \u001b[38;5;28;01mas\u001b[39;00m e:\n\u001b[1;32m    544\u001b[0m     \u001b[38;5;28;01mraise\u001b[39;00m \u001b[38;5;167;01mTimeoutError\u001b[39;00m \u001b[38;5;28;01mfrom\u001b[39;00m \u001b[38;5;21;01me\u001b[39;00m\n",
      "File \u001b[0;32m~/miniconda3/envs/streamlite_freecodecamp/lib/python3.9/concurrent/futures/_base.py:446\u001b[0m, in \u001b[0;36mFuture.result\u001b[0;34m(self, timeout)\u001b[0m\n\u001b[1;32m    444\u001b[0m     \u001b[38;5;28;01mraise\u001b[39;00m CancelledError()\n\u001b[1;32m    445\u001b[0m \u001b[38;5;28;01melif\u001b[39;00m \u001b[38;5;28mself\u001b[39m\u001b[38;5;241m.\u001b[39m_state \u001b[38;5;241m==\u001b[39m FINISHED:\n\u001b[0;32m--> 446\u001b[0m     \u001b[38;5;28;01mreturn\u001b[39;00m \u001b[38;5;28;43mself\u001b[39;49m\u001b[38;5;241;43m.\u001b[39;49m\u001b[43m__get_result\u001b[49m\u001b[43m(\u001b[49m\u001b[43m)\u001b[49m\n\u001b[1;32m    447\u001b[0m \u001b[38;5;28;01melse\u001b[39;00m:\n\u001b[1;32m    448\u001b[0m     \u001b[38;5;28;01mraise\u001b[39;00m \u001b[38;5;167;01mTimeoutError\u001b[39;00m()\n",
      "File \u001b[0;32m~/miniconda3/envs/streamlite_freecodecamp/lib/python3.9/concurrent/futures/_base.py:391\u001b[0m, in \u001b[0;36mFuture.__get_result\u001b[0;34m(self)\u001b[0m\n\u001b[1;32m    389\u001b[0m \u001b[38;5;28;01mif\u001b[39;00m \u001b[38;5;28mself\u001b[39m\u001b[38;5;241m.\u001b[39m_exception:\n\u001b[1;32m    390\u001b[0m     \u001b[38;5;28;01mtry\u001b[39;00m:\n\u001b[0;32m--> 391\u001b[0m         \u001b[38;5;28;01mraise\u001b[39;00m \u001b[38;5;28mself\u001b[39m\u001b[38;5;241m.\u001b[39m_exception\n\u001b[1;32m    392\u001b[0m     \u001b[38;5;28;01mfinally\u001b[39;00m:\n\u001b[1;32m    393\u001b[0m         \u001b[38;5;66;03m# Break a reference cycle with the exception in self._exception\u001b[39;00m\n\u001b[1;32m    394\u001b[0m         \u001b[38;5;28mself\u001b[39m \u001b[38;5;241m=\u001b[39m \u001b[38;5;28;01mNone\u001b[39;00m\n",
      "\u001b[0;31mTerminatedWorkerError\u001b[0m: A worker process managed by the executor was unexpectedly terminated. This could be caused by a segmentation fault while calling the function or by an excessive memory usage causing the Operating System to kill the worker.\n\nThe exit codes of the workers are {SIGKILL(-9)}"
     ]
    }
   ],
   "source": [
    "%%time\n",
    "rf_random.fit(X_train, y_train)"
   ]
  },
  {
   "cell_type": "code",
   "execution_count": 53,
   "id": "278814c5",
   "metadata": {
    "scrolled": true
   },
   "outputs": [
    {
     "ename": "AttributeError",
     "evalue": "'RandomizedSearchCV' object has no attribute 'best_params_'",
     "output_type": "error",
     "traceback": [
      "\u001b[0;31m---------------------------------------------------------------------------\u001b[0m",
      "\u001b[0;31mAttributeError\u001b[0m                            Traceback (most recent call last)",
      "Input \u001b[0;32mIn [53]\u001b[0m, in \u001b[0;36m<cell line: 1>\u001b[0;34m()\u001b[0m\n\u001b[0;32m----> 1\u001b[0m \u001b[43mrf_random\u001b[49m\u001b[38;5;241;43m.\u001b[39;49m\u001b[43mbest_params_\u001b[49m\n",
      "\u001b[0;31mAttributeError\u001b[0m: 'RandomizedSearchCV' object has no attribute 'best_params_'"
     ]
    }
   ],
   "source": [
    "rf_random.best_params_"
   ]
  },
  {
   "cell_type": "code",
   "execution_count": 71,
   "id": "927898e5",
   "metadata": {},
   "outputs": [
    {
     "data": {
      "text/plain": [
       "0.7342774445616742"
      ]
     },
     "execution_count": 71,
     "metadata": {},
     "output_type": "execute_result"
    }
   ],
   "source": [
    "\n",
    "rf_random.best_score_"
   ]
  },
  {
   "cell_type": "code",
   "execution_count": null,
   "id": "9ccabc80",
   "metadata": {},
   "outputs": [],
   "source": [
    "Pipeline(steps=[('impute', SimpleImputer(strategy='median')),\n",
    "                ('oversample', RandomUnderSampler(random_state=42)),\n",
    "                ('model', RandomForestClassifier(class_weight='balanced'))])\n",
    "\n"
   ]
  },
  {
   "cell_type": "code",
   "execution_count": 72,
   "id": "e2bc7c95",
   "metadata": {},
   "outputs": [
    {
     "data": {
      "image/png": "[encoded data removed]",
      "text/plain": [
       "<Figure size 432x288 with 2 Axes>"
      ]
     },
     "metadata": {
      "needs_background": "light"
     },
     "output_type": "display_data"
    },
    {
     "name": "stdout",
     "output_type": "stream",
     "text": [
      "              precision    recall  f1-score   support\n",
      "\n",
      "         0.0       0.96      0.68      0.80      1384\n",
      "         1.0       0.15      0.67      0.25       116\n",
      "\n",
      "    accuracy                           0.68      1500\n",
      "   macro avg       0.56      0.68      0.52      1500\n",
      "weighted avg       0.90      0.68      0.76      1500\n",
      "\n",
      "ROC AUC Score: 0.68\n"
     ]
    }
   ],
   "source": [
    "y_pred = rf_random.predict(X_test)\n",
    "# Plot the confusion matrix\n",
    "plot_confusion_matrix(y_test, y_pred)"
   ]
  },
  {
   "cell_type": "code",
   "execution_count": 73,
   "id": "0fbd5988",
   "metadata": {},
   "outputs": [],
   "source": [
    "import time\n",
    "# Use the random grid to search for best hyperparameters\n",
    "# First create the base model to tune\n",
    "\n",
    "# Random search of parameters, using 3 fold cross validation, \n",
    "# search across 100 different combinations, and use all available cores\n",
    "rf_random = RandomizedSearchCV(estimator = pipeline,\n",
    "                               param_distributions = random_grid,\n",
    "                               n_iter = 100,\n",
    "                               cv = 3,\n",
    "                               scoring='recall',\n",
    "                               verbose=2,\n",
    "                               random_state=42,\n",
    "                               n_jobs = -1)# Fit the random search model"
   ]
  },
  {
   "cell_type": "code",
   "execution_count": 74,
   "id": "3e0078bc",
   "metadata": {},
   "outputs": [
    {
     "name": "stdout",
     "output_type": "stream",
     "text": [
      "Fitting 3 folds for each of 100 candidates, totalling 300 fits\n",
      "[CV] END model__bootstrap=False, model__max_depth=10, model__max_features=auto, model__min_samples_leaf=1, model__min_samples_split=5, model__n_estimators=1550; total time=  12.2s\n",
      "[CV] END model__bootstrap=False, model__max_depth=10, model__max_features=auto, model__min_samples_leaf=4, model__min_samples_split=10, model__n_estimators=650; total time=   4.9s\n",
      "[CV] END model__bootstrap=True, model__max_depth=35, model__max_features=sqrt, model__min_samples_leaf=2, model__min_samples_split=5, model__n_estimators=1550; total time=   9.8s\n",
      "[CV] END model__bootstrap=True, model__max_depth=10, model__max_features=sqrt, model__min_samples_leaf=1, model__min_samples_split=10, model__n_estimators=650; total time=   4.1s\n",
      "[CV] END model__bootstrap=True, model__max_depth=10, model__max_features=sqrt, model__min_samples_leaf=2, model__min_samples_split=10, model__n_estimators=200; total time=   1.2s\n",
      "[CV] END model__bootstrap=True, model__max_depth=None, model__max_features=auto, model__min_samples_leaf=4, model__min_samples_split=5, model__n_estimators=200; total time=   1.3s\n",
      "[CV] END model__bootstrap=False, model__max_depth=110, model__max_features=sqrt, model__min_samples_leaf=4, model__min_samples_split=10, model__n_estimators=1100; total time=   9.0s\n",
      "[CV] END model__bootstrap=False, model__max_depth=60, model__max_features=auto, model__min_samples_leaf=4, model__min_samples_split=10, model__n_estimators=200; total time=   1.6s\n",
      "[CV] END model__bootstrap=True, model__max_depth=85, model__max_features=auto, model__min_samples_leaf=1, model__min_samples_split=5, model__n_estimators=1100; total time=   7.2s\n",
      "[CV] END model__bootstrap=True, model__max_depth=10, model__max_features=sqrt, model__min_samples_leaf=4, model__min_samples_split=10, model__n_estimators=650; total time=   3.8s\n",
      "[CV] END model__bootstrap=True, model__max_depth=10, model__max_features=sqrt, model__min_samples_leaf=4, model__min_samples_split=10, model__n_estimators=650; total time=   3.9s\n",
      "[CV] END model__bootstrap=False, model__max_depth=35, model__max_features=sqrt, model__min_samples_leaf=4, model__min_samples_split=2, model__n_estimators=650; total time=   5.4s\n",
      "[CV] END model__bootstrap=False, model__max_depth=None, model__max_features=auto, model__min_samples_leaf=1, model__min_samples_split=2, model__n_estimators=1100; total time=   9.7s\n",
      "[CV] END model__bootstrap=True, model__max_depth=60, model__max_features=auto, model__min_samples_leaf=1, model__min_samples_split=10, model__n_estimators=1100; total time=   7.2s\n",
      "[CV] END model__bootstrap=False, model__max_depth=10, model__max_features=sqrt, model__min_samples_leaf=4, model__min_samples_split=5, model__n_estimators=650; total time=   4.9s\n",
      "[CV] END model__bootstrap=False, model__max_depth=35, model__max_features=auto, model__min_samples_leaf=4, model__min_samples_split=2, model__n_estimators=200; total time=   1.7s\n",
      "[CV] END model__bootstrap=False, model__max_depth=85, model__max_features=sqrt, model__min_samples_leaf=2, model__min_samples_split=10, model__n_estimators=1100; total time=   9.0s\n",
      "[CV] END model__bootstrap=False, model__max_depth=35, model__max_features=sqrt, model__min_samples_leaf=2, model__min_samples_split=2, model__n_estimators=1100; total time=   9.3s\n",
      "[CV] END model__bootstrap=True, model__max_depth=None, model__max_features=sqrt, model__min_samples_leaf=4, model__min_samples_split=5, model__n_estimators=650; total time=   4.0s\n",
      "[CV] END model__bootstrap=False, model__max_depth=None, model__max_features=auto, model__min_samples_leaf=2, model__min_samples_split=5, model__n_estimators=2000; total time=  16.7s\n",
      "[CV] END model__bootstrap=False, model__max_depth=10, model__max_features=sqrt, model__min_samples_leaf=2, model__min_samples_split=10, model__n_estimators=650; total time=   5.0s\n",
      "[CV] END model__bootstrap=False, model__max_depth=60, model__max_features=auto, model__min_samples_leaf=2, model__min_samples_split=10, model__n_estimators=650; total time=   5.4s\n",
      "[CV] END model__bootstrap=False, model__max_depth=110, model__max_features=auto, model__min_samples_leaf=1, model__min_samples_split=2, model__n_estimators=2000; total time=  17.5s\n",
      "[CV] END model__bootstrap=True, model__max_depth=35, model__max_features=auto, model__min_samples_leaf=1, model__min_samples_split=10, model__n_estimators=650; total time=   4.3s\n",
      "[CV] END model__bootstrap=True, model__max_depth=35, model__max_features=sqrt, model__min_samples_leaf=4, model__min_samples_split=10, model__n_estimators=1550; total time=   7.6s\n",
      "[CV] END model__bootstrap=False, model__max_depth=10, model__max_features=sqrt, model__min_samples_leaf=4, model__min_samples_split=2, model__n_estimators=650; total time=   1.9s\n",
      "[CV] END model__bootstrap=False, model__max_depth=None, model__max_features=auto, model__min_samples_leaf=1, model__min_samples_split=2, model__n_estimators=1550; total time=   5.1s\n",
      "[CV] END model__bootstrap=True, model__max_depth=110, model__max_features=auto, model__min_samples_leaf=1, model__min_samples_split=5, model__n_estimators=200; total time=   0.7s\n",
      "[CV] END model__bootstrap=True, model__max_depth=110, model__max_features=sqrt, model__min_samples_leaf=4, model__min_samples_split=10, model__n_estimators=1550; total time=   5.3s\n",
      "[CV] END model__bootstrap=True, model__max_depth=None, model__max_features=auto, model__min_samples_leaf=4, model__min_samples_split=5, model__n_estimators=200; total time=   0.7s\n",
      "[CV] END model__bootstrap=True, model__max_depth=None, model__max_features=sqrt, model__min_samples_leaf=4, model__min_samples_split=2, model__n_estimators=1550; total time=   5.1s\n",
      "[CV] END model__bootstrap=True, model__max_depth=85, model__max_features=auto, model__min_samples_leaf=1, model__min_samples_split=5, model__n_estimators=1100; total time=   3.7s\n",
      "[CV] END model__bootstrap=False, model__max_depth=60, model__max_features=auto, model__min_samples_leaf=4, model__min_samples_split=10, model__n_estimators=650; total time=   1.9s\n",
      "[CV] END model__bootstrap=False, model__max_depth=None, model__max_features=sqrt, model__min_samples_leaf=4, model__min_samples_split=10, model__n_estimators=650; total time=   2.0s\n",
      "[CV] END model__bootstrap=False, model__max_depth=None, model__max_features=auto, model__min_samples_leaf=1, model__min_samples_split=2, model__n_estimators=1100; total time=   3.5s\n",
      "[CV] END model__bootstrap=True, model__max_depth=10, model__max_features=auto, model__min_samples_leaf=4, model__min_samples_split=2, model__n_estimators=650; total time=   2.1s\n",
      "[CV] END model__bootstrap=False, model__max_depth=10, model__max_features=auto, model__min_samples_leaf=1, model__min_samples_split=2, model__n_estimators=1550; total time=   4.7s\n",
      "[CV] END model__bootstrap=False, model__max_depth=110, model__max_features=auto, model__min_samples_leaf=4, model__min_samples_split=2, model__n_estimators=1550; total time=   4.6s\n",
      "[CV] END model__bootstrap=True, model__max_depth=85, model__max_features=auto, model__min_samples_leaf=2, model__min_samples_split=2, model__n_estimators=2000; total time=   6.5s\n",
      "[CV] END model__bootstrap=False, model__max_depth=None, model__max_features=auto, model__min_samples_leaf=2, model__min_samples_split=5, model__n_estimators=2000; total time=   6.2s\n",
      "[CV] END model__bootstrap=True, model__max_depth=60, model__max_features=sqrt, model__min_samples_leaf=4, model__min_samples_split=2, model__n_estimators=650; total time=   2.0s\n",
      "[CV] END model__bootstrap=False, model__max_depth=60, model__max_features=auto, model__min_samples_leaf=2, model__min_samples_split=10, model__n_estimators=650; total time=   2.0s\n",
      "[CV] END model__bootstrap=False, model__max_depth=None, model__max_features=sqrt, model__min_samples_leaf=4, model__min_samples_split=2, model__n_estimators=2000; total time=   6.0s\n",
      "[CV] END model__bootstrap=True, model__max_depth=85, model__max_features=sqrt, model__min_samples_leaf=4, model__min_samples_split=10, model__n_estimators=200; total time=   0.7s\n",
      "[CV] END model__bootstrap=False, model__max_depth=85, model__max_features=sqrt, model__min_samples_leaf=4, model__min_samples_split=2, model__n_estimators=1100; total time=   3.3s\n",
      "[CV] END model__bootstrap=True, model__max_depth=110, model__max_features=sqrt, model__min_samples_leaf=2, model__min_samples_split=2, model__n_estimators=1550; total time=  10.3s\n",
      "[CV] END model__bootstrap=False, model__max_depth=None, model__max_features=sqrt, model__min_samples_leaf=4, model__min_samples_split=5, model__n_estimators=650; total time=   5.3s\n",
      "[CV] END model__bootstrap=False, model__max_depth=35, model__max_features=auto, model__min_samples_leaf=1, model__min_samples_split=2, model__n_estimators=2000; total time=  17.5s\n",
      "[CV] END model__bootstrap=True, model__max_depth=None, model__max_features=sqrt, model__min_samples_leaf=4, model__min_samples_split=2, model__n_estimators=1550; total time=   9.9s\n",
      "[CV] END model__bootstrap=False, model__max_depth=35, model__max_features=auto, model__min_samples_leaf=2, model__min_samples_split=10, model__n_estimators=650; total time=   5.2s\n",
      "[CV] END model__bootstrap=False, model__max_depth=10, model__max_features=sqrt, model__min_samples_leaf=4, model__min_samples_split=2, model__n_estimators=1100; total time=   8.3s\n",
      "[CV] END model__bootstrap=False, model__max_depth=None, model__max_features=sqrt, model__min_samples_leaf=4, model__min_samples_split=10, model__n_estimators=650; total time=   5.5s\n",
      "[CV] END model__bootstrap=False, model__max_depth=None, model__max_features=auto, model__min_samples_leaf=1, model__min_samples_split=2, model__n_estimators=1100; total time=   9.7s\n",
      "[CV] END model__bootstrap=False, model__max_depth=60, model__max_features=sqrt, model__min_samples_leaf=2, model__min_samples_split=5, model__n_estimators=1100; total time=   9.3s\n",
      "[CV] END model__bootstrap=True, model__max_depth=60, model__max_features=auto, model__min_samples_leaf=2, model__min_samples_split=2, model__n_estimators=2000; total time=  12.7s\n",
      "[CV] END model__bootstrap=False, model__max_depth=None, model__max_features=sqrt, model__min_samples_leaf=2, model__min_samples_split=10, model__n_estimators=1100; total time=   8.9s\n",
      "[CV] END model__bootstrap=False, model__max_depth=85, model__max_features=sqrt, model__min_samples_leaf=2, model__min_samples_split=5, model__n_estimators=650; total time=   5.4s\n",
      "[CV] END model__bootstrap=False, model__max_depth=85, model__max_features=auto, model__min_samples_leaf=2, model__min_samples_split=2, model__n_estimators=200; total time=   1.7s\n",
      "[CV] END model__bootstrap=False, model__max_depth=85, model__max_features=auto, model__min_samples_leaf=2, model__min_samples_split=2, model__n_estimators=200; total time=   1.7s\n",
      "[CV] END model__bootstrap=False, model__max_depth=10, model__max_features=sqrt, model__min_samples_leaf=1, model__min_samples_split=10, model__n_estimators=650; total time=   4.9s\n",
      "[CV] END model__bootstrap=False, model__max_depth=10, model__max_features=auto, model__min_samples_leaf=4, model__min_samples_split=5, model__n_estimators=1550; total time=  11.5s\n",
      "[CV] END model__bootstrap=True, model__max_depth=35, model__max_features=auto, model__min_samples_leaf=2, model__min_samples_split=2, model__n_estimators=1100; total time=   7.1s\n",
      "[CV] END model__bootstrap=False, model__max_depth=35, model__max_features=sqrt, model__min_samples_leaf=4, model__min_samples_split=10, model__n_estimators=1550; total time=  12.3s\n",
      "[CV] END model__bootstrap=True, model__max_depth=110, model__max_features=sqrt, model__min_samples_leaf=4, model__min_samples_split=2, model__n_estimators=2000; total time=  12.7s\n",
      "[CV] END model__bootstrap=False, model__max_depth=10, model__max_features=auto, model__min_samples_leaf=1, model__min_samples_split=5, model__n_estimators=1550; total time=   4.3s\n",
      "[CV] END model__bootstrap=False, model__max_depth=None, model__max_features=sqrt, model__min_samples_leaf=1, model__min_samples_split=10, model__n_estimators=1550; total time=   5.0s\n",
      "[CV] END model__bootstrap=True, model__max_depth=None, model__max_features=sqrt, model__min_samples_leaf=1, model__min_samples_split=2, model__n_estimators=200; total time=   0.7s\n",
      "[CV] END model__bootstrap=False, model__max_depth=85, model__max_features=sqrt, model__min_samples_leaf=4, model__min_samples_split=5, model__n_estimators=1550; total time=   5.2s\n",
      "[CV] END model__bootstrap=True, model__max_depth=110, model__max_features=auto, model__min_samples_leaf=1, model__min_samples_split=10, model__n_estimators=650; total time=   2.3s\n",
      "[CV] END model__bootstrap=False, model__max_depth=60, model__max_features=auto, model__min_samples_leaf=4, model__min_samples_split=10, model__n_estimators=200; total time=   0.7s\n",
      "[CV] END model__bootstrap=False, model__max_depth=35, model__max_features=sqrt, model__min_samples_leaf=1, model__min_samples_split=2, model__n_estimators=2000; total time=   6.7s\n",
      "[CV] END model__bootstrap=False, model__max_depth=35, model__max_features=sqrt, model__min_samples_leaf=4, model__min_samples_split=2, model__n_estimators=650; total time=   2.0s\n",
      "[CV] END model__bootstrap=False, model__max_depth=None, model__max_features=auto, model__min_samples_leaf=1, model__min_samples_split=2, model__n_estimators=1100; total time=   3.6s\n",
      "[CV] END model__bootstrap=False, model__max_depth=60, model__max_features=sqrt, model__min_samples_leaf=2, model__min_samples_split=5, model__n_estimators=1100; total time=   3.4s\n",
      "[CV] END model__bootstrap=True, model__max_depth=None, model__max_features=auto, model__min_samples_leaf=4, model__min_samples_split=10, model__n_estimators=1550; total time=   5.0s\n",
      "[CV] END model__bootstrap=True, model__max_depth=110, model__max_features=sqrt, model__min_samples_leaf=4, model__min_samples_split=5, model__n_estimators=200; total time=   0.7s\n",
      "[CV] END model__bootstrap=True, model__max_depth=110, model__max_features=sqrt, model__min_samples_leaf=4, model__min_samples_split=5, model__n_estimators=200; total time=   0.7s\n",
      "[CV] END model__bootstrap=True, model__max_depth=110, model__max_features=sqrt, model__min_samples_leaf=4, model__min_samples_split=5, model__n_estimators=200; total time=   0.7s\n",
      "[CV] END model__bootstrap=False, model__max_depth=None, model__max_features=sqrt, model__min_samples_leaf=2, model__min_samples_split=10, model__n_estimators=1100; total time=   3.5s\n",
      "[CV] END model__bootstrap=False, model__max_depth=85, model__max_features=sqrt, model__min_samples_leaf=2, model__min_samples_split=5, model__n_estimators=650; total time=   2.1s\n",
      "[CV] END model__bootstrap=False, model__max_depth=85, model__max_features=auto, model__min_samples_leaf=2, model__min_samples_split=2, model__n_estimators=200; total time=   0.6s\n",
      "[CV] END model__bootstrap=False, model__max_depth=85, model__max_features=auto, model__min_samples_leaf=2, model__min_samples_split=2, model__n_estimators=200; total time=   0.6s\n",
      "[CV] END model__bootstrap=False, model__max_depth=None, model__max_features=auto, model__min_samples_leaf=2, model__min_samples_split=5, model__n_estimators=2000; total time=   6.2s\n",
      "[CV] END model__bootstrap=False, model__max_depth=10, model__max_features=sqrt, model__min_samples_leaf=2, model__min_samples_split=10, model__n_estimators=650; total time=   2.0s\n",
      "[CV] END model__bootstrap=True, model__max_depth=85, model__max_features=sqrt, model__min_samples_leaf=4, model__min_samples_split=5, model__n_estimators=650; total time=   2.1s\n",
      "[CV] END model__bootstrap=False, model__max_depth=None, model__max_features=sqrt, model__min_samples_leaf=4, model__min_samples_split=2, model__n_estimators=2000; total time=   6.0s\n",
      "[CV] END model__bootstrap=True, model__max_depth=85, model__max_features=sqrt, model__min_samples_leaf=4, model__min_samples_split=10, model__n_estimators=200; total time=   0.6s\n",
      "[CV] END model__bootstrap=True, model__max_depth=None, model__max_features=auto, model__min_samples_leaf=1, model__min_samples_split=10, model__n_estimators=2000; total time=   6.2s\n",
      "[CV] END model__bootstrap=False, model__max_depth=10, model__max_features=sqrt, model__min_samples_leaf=1, model__min_samples_split=2, model__n_estimators=1550; total time=   5.0s\n",
      "[CV] END model__bootstrap=False, model__max_depth=None, model__max_features=sqrt, model__min_samples_leaf=1, model__min_samples_split=10, model__n_estimators=1550; total time=   4.8s\n"
     ]
    },
    {
     "name": "stdout",
     "output_type": "stream",
     "text": [
      "[CV] END model__bootstrap=False, model__max_depth=None, model__max_features=sqrt, model__min_samples_leaf=2, model__min_samples_split=2, model__n_estimators=650; total time=   5.3s\n",
      "[CV] END model__bootstrap=False, model__max_depth=None, model__max_features=auto, model__min_samples_leaf=1, model__min_samples_split=2, model__n_estimators=1550; total time=  13.8s\n",
      "[CV] END model__bootstrap=True, model__max_depth=110, model__max_features=auto, model__min_samples_leaf=1, model__min_samples_split=5, model__n_estimators=200; total time=   1.3s\n",
      "[CV] END model__bootstrap=True, model__max_depth=110, model__max_features=sqrt, model__min_samples_leaf=4, model__min_samples_split=10, model__n_estimators=1550; total time=   9.5s\n",
      "[CV] END model__bootstrap=True, model__max_depth=10, model__max_features=sqrt, model__min_samples_leaf=2, model__min_samples_split=10, model__n_estimators=200; total time=   1.2s\n",
      "[CV] END model__bootstrap=True, model__max_depth=None, model__max_features=auto, model__min_samples_leaf=4, model__min_samples_split=5, model__n_estimators=200; total time=   1.3s\n",
      "[CV] END model__bootstrap=True, model__max_depth=110, model__max_features=auto, model__min_samples_leaf=2, model__min_samples_split=10, model__n_estimators=1550; total time=  10.1s\n",
      "[CV] END model__bootstrap=False, model__max_depth=35, model__max_features=auto, model__min_samples_leaf=2, model__min_samples_split=10, model__n_estimators=650; total time=   5.4s\n",
      "[CV] END model__bootstrap=False, model__max_depth=10, model__max_features=sqrt, model__min_samples_leaf=4, model__min_samples_split=2, model__n_estimators=1100; total time=   8.3s\n",
      "[CV] END model__bootstrap=True, model__max_depth=110, model__max_features=auto, model__min_samples_leaf=2, model__min_samples_split=10, model__n_estimators=2000; total time=  12.8s\n",
      "[CV] END model__bootstrap=True, model__max_depth=10, model__max_features=sqrt, model__min_samples_leaf=4, model__min_samples_split=10, model__n_estimators=1550; total time=   9.3s\n",
      "[CV] END model__bootstrap=True, model__max_depth=110, model__max_features=auto, model__min_samples_leaf=2, model__min_samples_split=5, model__n_estimators=650; total time=   4.4s\n",
      "[CV] END model__bootstrap=False, model__max_depth=10, model__max_features=sqrt, model__min_samples_leaf=4, model__min_samples_split=5, model__n_estimators=650; total time=   4.9s\n",
      "[CV] END model__bootstrap=True, model__max_depth=None, model__max_features=auto, model__min_samples_leaf=1, model__min_samples_split=2, model__n_estimators=1550; total time=  10.0s\n",
      "[CV] END model__bootstrap=False, model__max_depth=85, model__max_features=auto, model__min_samples_leaf=4, model__min_samples_split=10, model__n_estimators=2000; total time=  16.4s\n",
      "[CV] END model__bootstrap=False, model__max_depth=10, model__max_features=auto, model__min_samples_leaf=4, model__min_samples_split=5, model__n_estimators=1550; total time=  11.6s\n",
      "[CV] END model__bootstrap=True, model__max_depth=60, model__max_features=sqrt, model__min_samples_leaf=4, model__min_samples_split=2, model__n_estimators=650; total time=   4.1s\n",
      "[CV] END model__bootstrap=True, model__max_depth=10, model__max_features=sqrt, model__min_samples_leaf=1, model__min_samples_split=10, model__n_estimators=2000; total time=  12.1s\n",
      "[CV] END model__bootstrap=True, model__max_depth=35, model__max_features=sqrt, model__min_samples_leaf=1, model__min_samples_split=5, model__n_estimators=650; total time=   4.2s\n",
      "[CV] END model__bootstrap=True, model__max_depth=None, model__max_features=sqrt, model__min_samples_leaf=1, model__min_samples_split=5, model__n_estimators=650; total time=   4.3s\n",
      "[CV] END model__bootstrap=False, model__max_depth=85, model__max_features=sqrt, model__min_samples_leaf=4, model__min_samples_split=2, model__n_estimators=1100; total time=   9.0s\n",
      "[CV] END model__bootstrap=False, model__max_depth=10, model__max_features=auto, model__min_samples_leaf=1, model__min_samples_split=5, model__n_estimators=1550; total time=   4.5s\n",
      "[CV] END model__bootstrap=False, model__max_depth=10, model__max_features=auto, model__min_samples_leaf=4, model__min_samples_split=10, model__n_estimators=650; total time=   1.9s\n",
      "[CV] END model__bootstrap=True, model__max_depth=35, model__max_features=sqrt, model__min_samples_leaf=2, model__min_samples_split=5, model__n_estimators=1550; total time=   5.6s\n",
      "[CV] END model__bootstrap=True, model__max_depth=10, model__max_features=sqrt, model__min_samples_leaf=1, model__min_samples_split=10, model__n_estimators=650; total time=   2.4s\n",
      "[CV] END model__bootstrap=False, model__max_depth=85, model__max_features=auto, model__min_samples_leaf=2, model__min_samples_split=10, model__n_estimators=1100; total time=   3.7s\n",
      "[CV] END model__bootstrap=False, model__max_depth=35, model__max_features=auto, model__min_samples_leaf=2, model__min_samples_split=10, model__n_estimators=650; total time=   2.2s\n",
      "[CV] END model__bootstrap=False, model__max_depth=10, model__max_features=sqrt, model__min_samples_leaf=4, model__min_samples_split=2, model__n_estimators=1100; total time=   3.3s\n",
      "[CV] END model__bootstrap=True, model__max_depth=85, model__max_features=auto, model__min_samples_leaf=4, model__min_samples_split=5, model__n_estimators=2000; total time=   6.3s\n",
      "[CV] END model__bootstrap=True, model__max_depth=10, model__max_features=auto, model__min_samples_leaf=4, model__min_samples_split=2, model__n_estimators=650; total time=   2.1s\n",
      "[CV] END model__bootstrap=False, model__max_depth=10, model__max_features=auto, model__min_samples_leaf=1, model__min_samples_split=2, model__n_estimators=1550; total time=   4.8s\n",
      "[CV] END model__bootstrap=False, model__max_depth=35, model__max_features=auto, model__min_samples_leaf=4, model__min_samples_split=2, model__n_estimators=200; total time=   0.6s\n",
      "[CV] END model__bootstrap=False, model__max_depth=35, model__max_features=auto, model__min_samples_leaf=4, model__min_samples_split=2, model__n_estimators=200; total time=   0.6s\n",
      "[CV] END model__bootstrap=False, model__max_depth=85, model__max_features=sqrt, model__min_samples_leaf=2, model__min_samples_split=10, model__n_estimators=1100; total time=   3.3s\n",
      "[CV] END model__bootstrap=False, model__max_depth=35, model__max_features=sqrt, model__min_samples_leaf=2, model__min_samples_split=2, model__n_estimators=1100; total time=   3.5s\n",
      "[CV] END model__bootstrap=True, model__max_depth=None, model__max_features=auto, model__min_samples_leaf=2, model__min_samples_split=10, model__n_estimators=1100; total time=   3.8s\n",
      "[CV] END model__bootstrap=True, model__max_depth=35, model__max_features=auto, model__min_samples_leaf=2, model__min_samples_split=5, model__n_estimators=1550; total time=   5.0s\n",
      "[CV] END model__bootstrap=False, model__max_depth=110, model__max_features=sqrt, model__min_samples_leaf=1, model__min_samples_split=2, model__n_estimators=200; total time=   0.7s\n",
      "[CV] END model__bootstrap=False, model__max_depth=10, model__max_features=sqrt, model__min_samples_leaf=2, model__min_samples_split=10, model__n_estimators=650; total time=   2.0s\n",
      "[CV] END model__bootstrap=False, model__max_depth=35, model__max_features=sqrt, model__min_samples_leaf=4, model__min_samples_split=10, model__n_estimators=1550; total time=   4.6s\n",
      "[CV] END model__bootstrap=False, model__max_depth=110, model__max_features=auto, model__min_samples_leaf=1, model__min_samples_split=2, model__n_estimators=2000; total time=   6.4s\n",
      "[CV] END model__bootstrap=True, model__max_depth=35, model__max_features=auto, model__min_samples_leaf=1, model__min_samples_split=10, model__n_estimators=650; total time=   2.3s\n",
      "[CV] END model__bootstrap=False, model__max_depth=10, model__max_features=auto, model__min_samples_leaf=1, model__min_samples_split=5, model__n_estimators=1550; total time=   4.9s\n",
      "[CV] END model__bootstrap=False, model__max_depth=110, model__max_features=auto, model__min_samples_leaf=2, model__min_samples_split=5, model__n_estimators=1550; total time=   4.8s\n",
      "[CV] END model__bootstrap=True, model__max_depth=None, model__max_features=sqrt, model__min_samples_leaf=1, model__min_samples_split=2, model__n_estimators=200; total time=   0.7s\n",
      "[CV] END model__bootstrap=False, model__max_depth=10, model__max_features=sqrt, model__min_samples_leaf=1, model__min_samples_split=2, model__n_estimators=1550; total time=  11.6s\n",
      "[CV] END model__bootstrap=False, model__max_depth=None, model__max_features=sqrt, model__min_samples_leaf=1, model__min_samples_split=10, model__n_estimators=1550; total time=  13.2s\n",
      "[CV] END model__bootstrap=True, model__max_depth=None, model__max_features=sqrt, model__min_samples_leaf=1, model__min_samples_split=2, model__n_estimators=200; total time=   1.3s\n",
      "[CV] END model__bootstrap=False, model__max_depth=85, model__max_features=sqrt, model__min_samples_leaf=4, model__min_samples_split=5, model__n_estimators=1550; total time=  12.7s\n",
      "[CV] END model__bootstrap=True, model__max_depth=110, model__max_features=auto, model__min_samples_leaf=1, model__min_samples_split=10, model__n_estimators=650; total time=   4.2s\n",
      "[CV] END model__bootstrap=False, model__max_depth=35, model__max_features=sqrt, model__min_samples_leaf=1, model__min_samples_split=2, model__n_estimators=2000; total time=  17.4s\n",
      "[CV] END model__bootstrap=False, model__max_depth=35, model__max_features=sqrt, model__min_samples_leaf=1, model__min_samples_split=2, model__n_estimators=1100; total time=   9.3s\n",
      "[CV] END model__bootstrap=True, model__max_depth=10, model__max_features=auto, model__min_samples_leaf=4, model__min_samples_split=2, model__n_estimators=650; total time=   4.0s\n",
      "[CV] END model__bootstrap=False, model__max_depth=10, model__max_features=auto, model__min_samples_leaf=1, model__min_samples_split=2, model__n_estimators=1550; total time=  11.8s\n",
      "[CV] END model__bootstrap=False, model__max_depth=35, model__max_features=auto, model__min_samples_leaf=4, model__min_samples_split=2, model__n_estimators=200; total time=   1.6s\n",
      "[CV] END model__bootstrap=False, model__max_depth=35, model__max_features=auto, model__min_samples_leaf=4, model__min_samples_split=2, model__n_estimators=200; total time=   1.6s\n",
      "[CV] END model__bootstrap=True, model__max_depth=110, model__max_features=sqrt, model__min_samples_leaf=4, model__min_samples_split=5, model__n_estimators=200; total time=   1.2s\n",
      "[CV] END model__bootstrap=True, model__max_depth=110, model__max_features=sqrt, model__min_samples_leaf=4, model__min_samples_split=5, model__n_estimators=200; total time=   1.2s\n",
      "[CV] END model__bootstrap=True, model__max_depth=110, model__max_features=sqrt, model__min_samples_leaf=4, model__min_samples_split=5, model__n_estimators=200; total time=   1.2s\n",
      "[CV] END model__bootstrap=False, model__max_depth=None, model__max_features=sqrt, model__min_samples_leaf=2, model__min_samples_split=10, model__n_estimators=1100; total time=   9.3s\n",
      "[CV] END model__bootstrap=False, model__max_depth=85, model__max_features=sqrt, model__min_samples_leaf=2, model__min_samples_split=5, model__n_estimators=650; total time=   5.6s\n",
      "[CV] END model__bootstrap=True, model__max_depth=None, model__max_features=sqrt, model__min_samples_leaf=4, model__min_samples_split=5, model__n_estimators=650; total time=   4.1s\n",
      "[CV] END model__bootstrap=True, model__max_depth=110, model__max_features=auto, model__min_samples_leaf=2, model__min_samples_split=2, model__n_estimators=1100; total time=   7.2s\n",
      "[CV] END model__bootstrap=False, model__max_depth=85, model__max_features=sqrt, model__min_samples_leaf=2, model__min_samples_split=10, model__n_estimators=650; total time=   5.3s\n",
      "[CV] END model__bootstrap=False, model__max_depth=110, model__max_features=sqrt, model__min_samples_leaf=1, model__min_samples_split=2, model__n_estimators=200; total time=   1.7s\n",
      "[CV] END model__bootstrap=True, model__max_depth=60, model__max_features=sqrt, model__min_samples_leaf=4, model__min_samples_split=2, model__n_estimators=650; total time=   4.0s\n",
      "[CV] END model__bootstrap=True, model__max_depth=10, model__max_features=sqrt, model__min_samples_leaf=1, model__min_samples_split=10, model__n_estimators=2000; total time=  12.1s\n",
      "[CV] END model__bootstrap=False, model__max_depth=110, model__max_features=auto, model__min_samples_leaf=1, model__min_samples_split=2, model__n_estimators=2000; total time=  16.9s\n",
      "[CV] END model__bootstrap=True, model__max_depth=35, model__max_features=sqrt, model__min_samples_leaf=4, model__min_samples_split=10, model__n_estimators=1550; total time=   7.7s\n",
      "[CV] END model__bootstrap=False, model__max_depth=None, model__max_features=sqrt, model__min_samples_leaf=2, model__min_samples_split=2, model__n_estimators=650; total time=   1.8s\n",
      "[CV] END model__bootstrap=False, model__max_depth=None, model__max_features=auto, model__min_samples_leaf=1, model__min_samples_split=2, model__n_estimators=650; total time=   2.1s\n",
      "[CV] END model__bootstrap=False, model__max_depth=None, model__max_features=sqrt, model__min_samples_leaf=4, model__min_samples_split=5, model__n_estimators=650; total time=   1.8s\n",
      "[CV] END model__bootstrap=True, model__max_depth=35, model__max_features=sqrt, model__min_samples_leaf=2, model__min_samples_split=5, model__n_estimators=1550; total time=   5.4s\n",
      "[CV] END model__bootstrap=False, model__max_depth=85, model__max_features=sqrt, model__min_samples_leaf=4, model__min_samples_split=5, model__n_estimators=1550; total time=   5.3s\n",
      "[CV] END model__bootstrap=False, model__max_depth=None, model__max_features=auto, model__min_samples_leaf=4, model__min_samples_split=5, model__n_estimators=2000; total time=   6.2s\n",
      "[CV] END model__bootstrap=True, model__max_depth=10, model__max_features=sqrt, model__min_samples_leaf=4, model__min_samples_split=10, model__n_estimators=650; total time=   2.1s\n",
      "[CV] END model__bootstrap=True, model__max_depth=110, model__max_features=auto, model__min_samples_leaf=2, model__min_samples_split=10, model__n_estimators=2000; total time=   6.3s\n",
      "[CV] END model__bootstrap=False, model__max_depth=60, model__max_features=sqrt, model__min_samples_leaf=2, model__min_samples_split=5, model__n_estimators=1100; total time=   3.4s\n",
      "[CV] END model__bootstrap=True, model__max_depth=110, model__max_features=auto, model__min_samples_leaf=2, model__min_samples_split=5, model__n_estimators=650; total time=   2.1s\n",
      "[CV] END model__bootstrap=False, model__max_depth=110, model__max_features=auto, model__min_samples_leaf=4, model__min_samples_split=2, model__n_estimators=1550; total time=   4.6s\n",
      "[CV] END model__bootstrap=False, model__max_depth=35, model__max_features=sqrt, model__min_samples_leaf=2, model__min_samples_split=2, model__n_estimators=1100; total time=   3.5s\n",
      "[CV] END model__bootstrap=True, model__max_depth=None, model__max_features=auto, model__min_samples_leaf=2, model__min_samples_split=10, model__n_estimators=1100; total time=   3.5s\n",
      "[CV] END model__bootstrap=True, model__max_depth=110, model__max_features=auto, model__min_samples_leaf=2, model__min_samples_split=2, model__n_estimators=1100; total time=   3.6s\n",
      "[CV] END model__bootstrap=False, model__max_depth=110, model__max_features=sqrt, model__min_samples_leaf=1, model__min_samples_split=2, model__n_estimators=2000; total time=   6.4s\n",
      "[CV] END model__bootstrap=False, model__max_depth=None, model__max_features=sqrt, model__min_samples_leaf=4, model__min_samples_split=2, model__n_estimators=2000; total time=   6.1s\n",
      "[CV] END model__bootstrap=False, model__max_depth=None, model__max_features=sqrt, model__min_samples_leaf=1, model__min_samples_split=2, model__n_estimators=2000; total time=   6.6s\n",
      "[CV] END model__bootstrap=False, model__max_depth=60, model__max_features=auto, model__min_samples_leaf=1, model__min_samples_split=10, model__n_estimators=650; total time=   2.1s\n",
      "[CV] END model__bootstrap=False, model__max_depth=10, model__max_features=sqrt, model__min_samples_leaf=4, model__min_samples_split=2, model__n_estimators=650; total time=   1.9s\n",
      "[CV] END model__bootstrap=False, model__max_depth=None, model__max_features=sqrt, model__min_samples_leaf=4, model__min_samples_split=5, model__n_estimators=650; total time=   2.0s\n",
      "[CV] END model__bootstrap=False, model__max_depth=35, model__max_features=auto, model__min_samples_leaf=1, model__min_samples_split=2, model__n_estimators=2000; total time=   6.4s\n"
     ]
    },
    {
     "name": "stdout",
     "output_type": "stream",
     "text": [
      "[CV] END model__bootstrap=False, model__max_depth=10, model__max_features=auto, model__min_samples_leaf=1, model__min_samples_split=5, model__n_estimators=1550; total time=  12.2s\n",
      "[CV] END model__bootstrap=False, model__max_depth=10, model__max_features=auto, model__min_samples_leaf=4, model__min_samples_split=10, model__n_estimators=650; total time=   5.2s\n",
      "[CV] END model__bootstrap=True, model__max_depth=110, model__max_features=auto, model__min_samples_leaf=1, model__min_samples_split=5, model__n_estimators=200; total time=   1.3s\n",
      "[CV] END model__bootstrap=True, model__max_depth=110, model__max_features=auto, model__min_samples_leaf=1, model__min_samples_split=5, model__n_estimators=200; total time=   1.3s\n",
      "[CV] END model__bootstrap=True, model__max_depth=110, model__max_features=sqrt, model__min_samples_leaf=4, model__min_samples_split=10, model__n_estimators=1550; total time=   9.6s\n",
      "[CV] END model__bootstrap=True, model__max_depth=10, model__max_features=sqrt, model__min_samples_leaf=1, model__min_samples_split=10, model__n_estimators=650; total time=   3.9s\n",
      "[CV] END model__bootstrap=True, model__max_depth=None, model__max_features=sqrt, model__min_samples_leaf=4, model__min_samples_split=2, model__n_estimators=1550; total time=   9.6s\n",
      "[CV] END model__bootstrap=False, model__max_depth=35, model__max_features=sqrt, model__min_samples_leaf=1, model__min_samples_split=2, model__n_estimators=2000; total time=  17.1s\n",
      "[CV] END model__bootstrap=False, model__max_depth=35, model__max_features=sqrt, model__min_samples_leaf=1, model__min_samples_split=2, model__n_estimators=1100; total time=   9.6s\n",
      "[CV] END model__bootstrap=True, model__max_depth=10, model__max_features=auto, model__min_samples_leaf=4, model__min_samples_split=2, model__n_estimators=650; total time=   3.8s\n",
      "[CV] END model__bootstrap=False, model__max_depth=10, model__max_features=auto, model__min_samples_leaf=1, model__min_samples_split=2, model__n_estimators=1550; total time=  11.9s\n",
      "[CV] END model__bootstrap=False, model__max_depth=110, model__max_features=auto, model__min_samples_leaf=4, model__min_samples_split=2, model__n_estimators=1550; total time=  12.2s\n",
      "[CV] END model__bootstrap=False, model__max_depth=85, model__max_features=auto, model__min_samples_leaf=4, model__min_samples_split=10, model__n_estimators=2000; total time=  16.3s\n",
      "[CV] END model__bootstrap=True, model__max_depth=35, model__max_features=auto, model__min_samples_leaf=2, model__min_samples_split=5, model__n_estimators=1550; total time=   9.8s\n",
      "[CV] END model__bootstrap=False, model__max_depth=85, model__max_features=sqrt, model__min_samples_leaf=2, model__min_samples_split=10, model__n_estimators=650; total time=   5.2s\n",
      "[CV] END model__bootstrap=True, model__max_depth=10, model__max_features=sqrt, model__min_samples_leaf=1, model__min_samples_split=10, model__n_estimators=2000; total time=  12.0s\n",
      "[CV] END model__bootstrap=False, model__max_depth=110, model__max_features=auto, model__min_samples_leaf=1, model__min_samples_split=2, model__n_estimators=2000; total time=  17.6s\n",
      "[CV] END model__bootstrap=True, model__max_depth=35, model__max_features=sqrt, model__min_samples_leaf=4, model__min_samples_split=10, model__n_estimators=1550; total time=   7.8s\n",
      "[CV] END model__bootstrap=False, model__max_depth=None, model__max_features=sqrt, model__min_samples_leaf=2, model__min_samples_split=2, model__n_estimators=650; total time=   1.9s\n",
      "[CV] END model__bootstrap=False, model__max_depth=None, model__max_features=auto, model__min_samples_leaf=1, model__min_samples_split=2, model__n_estimators=650; total time=   1.9s\n",
      "[CV] END model__bootstrap=False, model__max_depth=None, model__max_features=sqrt, model__min_samples_leaf=4, model__min_samples_split=5, model__n_estimators=650; total time=   1.8s\n",
      "[CV] END model__bootstrap=False, model__max_depth=35, model__max_features=auto, model__min_samples_leaf=1, model__min_samples_split=2, model__n_estimators=2000; total time=   6.5s\n",
      "[CV] END model__bootstrap=True, model__max_depth=10, model__max_features=sqrt, model__min_samples_leaf=1, model__min_samples_split=10, model__n_estimators=650; total time=   2.2s\n",
      "[CV] END model__bootstrap=False, model__max_depth=110, model__max_features=sqrt, model__min_samples_leaf=4, model__min_samples_split=10, model__n_estimators=1100; total time=   3.4s\n",
      "[CV] END model__bootstrap=False, model__max_depth=60, model__max_features=auto, model__min_samples_leaf=4, model__min_samples_split=10, model__n_estimators=200; total time=   0.6s\n",
      "[CV] END model__bootstrap=False, model__max_depth=35, model__max_features=sqrt, model__min_samples_leaf=1, model__min_samples_split=2, model__n_estimators=2000; total time=   6.6s\n",
      "[CV] END model__bootstrap=False, model__max_depth=35, model__max_features=sqrt, model__min_samples_leaf=4, model__min_samples_split=2, model__n_estimators=650; total time=   2.0s\n",
      "[CV] END model__bootstrap=False, model__max_depth=None, model__max_features=auto, model__min_samples_leaf=1, model__min_samples_split=2, model__n_estimators=1100; total time=   3.6s\n",
      "[CV] END model__bootstrap=True, model__max_depth=10, model__max_features=auto, model__min_samples_leaf=4, model__min_samples_split=2, model__n_estimators=650; total time=   2.1s\n",
      "[CV] END model__bootstrap=True, model__max_depth=None, model__max_features=auto, model__min_samples_leaf=4, model__min_samples_split=10, model__n_estimators=1550; total time=   5.0s\n",
      "[CV] END model__bootstrap=True, model__max_depth=None, model__max_features=auto, model__min_samples_leaf=1, model__min_samples_split=2, model__n_estimators=1550; total time=   5.1s\n",
      "[CV] END model__bootstrap=False, model__max_depth=85, model__max_features=auto, model__min_samples_leaf=1, model__min_samples_split=5, model__n_estimators=2000; total time=   6.4s\n",
      "[CV] END model__bootstrap=False, model__max_depth=10, model__max_features=auto, model__min_samples_leaf=4, model__min_samples_split=5, model__n_estimators=1550; total time=   4.7s\n",
      "[CV] END model__bootstrap=True, model__max_depth=60, model__max_features=sqrt, model__min_samples_leaf=4, model__min_samples_split=2, model__n_estimators=650; total time=   2.0s\n",
      "[CV] END model__bootstrap=True, model__max_depth=10, model__max_features=sqrt, model__min_samples_leaf=1, model__min_samples_split=10, model__n_estimators=2000; total time=   6.3s\n",
      "[CV] END model__bootstrap=True, model__max_depth=35, model__max_features=sqrt, model__min_samples_leaf=1, model__min_samples_split=5, model__n_estimators=650; total time=   2.2s\n",
      "[CV] END model__bootstrap=False, model__max_depth=85, model__max_features=sqrt, model__min_samples_leaf=4, model__min_samples_split=2, model__n_estimators=1100; total time=   3.3s\n",
      "[CV] END model__bootstrap=True, model__max_depth=35, model__max_features=sqrt, model__min_samples_leaf=4, model__min_samples_split=10, model__n_estimators=1550; total time=   4.1s\n",
      "[CV] END model__bootstrap=False, model__max_depth=None, model__max_features=sqrt, model__min_samples_leaf=2, model__min_samples_split=2, model__n_estimators=650; total time=   2.1s\n",
      "[CV] END model__bootstrap=False, model__max_depth=None, model__max_features=auto, model__min_samples_leaf=1, model__min_samples_split=2, model__n_estimators=650; total time=   2.0s\n",
      "[CV] END model__bootstrap=False, model__max_depth=None, model__max_features=sqrt, model__min_samples_leaf=4, model__min_samples_split=5, model__n_estimators=650; total time=   2.0s\n",
      "[CV] END model__bootstrap=False, model__max_depth=35, model__max_features=auto, model__min_samples_leaf=1, model__min_samples_split=2, model__n_estimators=2000; total time=   6.4s\n",
      "[CV] END model__bootstrap=True, model__max_depth=10, model__max_features=sqrt, model__min_samples_leaf=2, model__min_samples_split=10, model__n_estimators=200; total time=   0.6s\n",
      "[CV] END model__bootstrap=True, model__max_depth=None, model__max_features=auto, model__min_samples_leaf=4, model__min_samples_split=5, model__n_estimators=200; total time=   0.7s\n",
      "[CV] END model__bootstrap=True, model__max_depth=None, model__max_features=sqrt, model__min_samples_leaf=4, model__min_samples_split=2, model__n_estimators=1550; total time=   4.9s\n",
      "[CV] END model__bootstrap=False, model__max_depth=60, model__max_features=auto, model__min_samples_leaf=1, model__min_samples_split=10, model__n_estimators=650; total time=   5.3s\n",
      "[CV] END model__bootstrap=False, model__max_depth=None, model__max_features=auto, model__min_samples_leaf=1, model__min_samples_split=2, model__n_estimators=650; total time=   6.1s\n",
      "[CV] END model__bootstrap=False, model__max_depth=None, model__max_features=sqrt, model__min_samples_leaf=1, model__min_samples_split=10, model__n_estimators=1550; total time=  13.5s\n",
      "[CV] END model__bootstrap=False, model__max_depth=110, model__max_features=auto, model__min_samples_leaf=1, model__min_samples_split=10, model__n_estimators=1100; total time=   9.3s\n",
      "[CV] END model__bootstrap=False, model__max_depth=85, model__max_features=auto, model__min_samples_leaf=2, model__min_samples_split=10, model__n_estimators=1100; total time=   9.3s\n",
      "[CV] END model__bootstrap=True, model__max_depth=10, model__max_features=sqrt, model__min_samples_leaf=1, model__min_samples_split=5, model__n_estimators=650; total time=   3.9s\n",
      "[CV] END model__bootstrap=False, model__max_depth=10, model__max_features=sqrt, model__min_samples_leaf=4, model__min_samples_split=2, model__n_estimators=1100; total time=   8.2s\n",
      "[CV] END model__bootstrap=True, model__max_depth=85, model__max_features=auto, model__min_samples_leaf=4, model__min_samples_split=5, model__n_estimators=2000; total time=  12.1s\n",
      "[CV] END model__bootstrap=True, model__max_depth=35, model__max_features=auto, model__min_samples_leaf=2, model__min_samples_split=2, model__n_estimators=2000; total time=  12.9s\n",
      "[CV] END model__bootstrap=True, model__max_depth=60, model__max_features=auto, model__min_samples_leaf=2, model__min_samples_split=2, model__n_estimators=2000; total time=  12.9s\n",
      "[CV] END model__bootstrap=False, model__max_depth=35, model__max_features=sqrt, model__min_samples_leaf=2, model__min_samples_split=2, model__n_estimators=1100; total time=   9.3s\n",
      "[CV] END model__bootstrap=True, model__max_depth=None, model__max_features=auto, model__min_samples_leaf=2, model__min_samples_split=10, model__n_estimators=1100; total time=   6.9s\n",
      "[CV] END model__bootstrap=False, model__max_depth=10, model__max_features=auto, model__min_samples_leaf=2, model__min_samples_split=5, model__n_estimators=200; total time=   1.5s\n",
      "[CV] END model__bootstrap=False, model__max_depth=10, model__max_features=sqrt, model__min_samples_leaf=1, model__min_samples_split=10, model__n_estimators=650; total time=   4.9s\n",
      "[CV] END model__bootstrap=False, model__max_depth=None, model__max_features=sqrt, model__min_samples_leaf=4, model__min_samples_split=5, model__n_estimators=2000; total time=  16.3s\n",
      "[CV] END model__bootstrap=True, model__max_depth=85, model__max_features=sqrt, model__min_samples_leaf=4, model__min_samples_split=5, model__n_estimators=650; total time=   4.0s\n",
      "[CV] END model__bootstrap=True, model__max_depth=10, model__max_features=auto, model__min_samples_leaf=2, model__min_samples_split=5, model__n_estimators=1550; total time=   9.4s\n",
      "[CV] END model__bootstrap=True, model__max_depth=None, model__max_features=sqrt, model__min_samples_leaf=1, model__min_samples_split=5, model__n_estimators=650; total time=   4.2s\n",
      "[CV] END model__bootstrap=False, model__max_depth=85, model__max_features=sqrt, model__min_samples_leaf=4, model__min_samples_split=2, model__n_estimators=1100; total time=   9.1s\n",
      "[CV] END model__bootstrap=True, model__max_depth=110, model__max_features=sqrt, model__min_samples_leaf=2, model__min_samples_split=2, model__n_estimators=1550; total time=   4.5s\n",
      "[CV] END model__bootstrap=False, model__max_depth=10, model__max_features=auto, model__min_samples_leaf=4, model__min_samples_split=10, model__n_estimators=650; total time=   2.0s\n",
      "[CV] END model__bootstrap=True, model__max_depth=110, model__max_features=auto, model__min_samples_leaf=1, model__min_samples_split=5, model__n_estimators=200; total time=   0.7s\n",
      "[CV] END model__bootstrap=True, model__max_depth=110, model__max_features=sqrt, model__min_samples_leaf=4, model__min_samples_split=10, model__n_estimators=1550; total time=   5.4s\n",
      "[CV] END model__bootstrap=True, model__max_depth=10, model__max_features=sqrt, model__min_samples_leaf=2, model__min_samples_split=10, model__n_estimators=200; total time=   0.7s\n",
      "[CV] END model__bootstrap=True, model__max_depth=110, model__max_features=auto, model__min_samples_leaf=2, model__min_samples_split=10, model__n_estimators=1550; total time=   5.4s\n",
      "[CV] END model__bootstrap=True, model__max_depth=10, model__max_features=sqrt, model__min_samples_leaf=1, model__min_samples_split=5, model__n_estimators=650; total time=   2.2s\n",
      "[CV] END model__bootstrap=False, model__max_depth=60, model__max_features=auto, model__min_samples_leaf=4, model__min_samples_split=10, model__n_estimators=650; total time=   2.1s\n",
      "[CV] END model__bootstrap=True, model__max_depth=10, model__max_features=sqrt, model__min_samples_leaf=4, model__min_samples_split=10, model__n_estimators=650; total time=   2.2s\n",
      "[CV] END model__bootstrap=False, model__max_depth=35, model__max_features=sqrt, model__min_samples_leaf=1, model__min_samples_split=2, model__n_estimators=1100; total time=   3.5s\n",
      "[CV] END model__bootstrap=True, model__max_depth=35, model__max_features=auto, model__min_samples_leaf=2, model__min_samples_split=2, model__n_estimators=2000; total time=   6.5s\n",
      "[CV] END model__bootstrap=True, model__max_depth=60, model__max_features=auto, model__min_samples_leaf=2, model__min_samples_split=2, model__n_estimators=2000; total time=   6.4s\n",
      "[CV] END model__bootstrap=True, model__max_depth=85, model__max_features=auto, model__min_samples_leaf=2, model__min_samples_split=2, model__n_estimators=2000; total time=   6.6s\n",
      "[CV] END model__bootstrap=False, model__max_depth=10, model__max_features=sqrt, model__min_samples_leaf=1, model__min_samples_split=10, model__n_estimators=650; total time=   2.0s\n",
      "[CV] END model__bootstrap=False, model__max_depth=None, model__max_features=sqrt, model__min_samples_leaf=4, model__min_samples_split=5, model__n_estimators=2000; total time=   5.9s\n",
      "[CV] END model__bootstrap=True, model__max_depth=85, model__max_features=sqrt, model__min_samples_leaf=4, model__min_samples_split=5, model__n_estimators=650; total time=   2.1s\n",
      "[CV] END model__bootstrap=True, model__max_depth=10, model__max_features=auto, model__min_samples_leaf=2, model__min_samples_split=5, model__n_estimators=1550; total time=   4.9s\n",
      "[CV] END model__bootstrap=True, model__max_depth=None, model__max_features=sqrt, model__min_samples_leaf=1, model__min_samples_split=5, model__n_estimators=650; total time=   2.1s\n",
      "[CV] END model__bootstrap=True, model__max_depth=None, model__max_features=auto, model__min_samples_leaf=1, model__min_samples_split=10, model__n_estimators=2000; total time=   6.3s\n",
      "[CV] END model__bootstrap=False, model__max_depth=None, model__max_features=sqrt, model__min_samples_leaf=2, model__min_samples_split=2, model__n_estimators=650; total time=   2.2s\n",
      "[CV] END model__bootstrap=False, model__max_depth=None, model__max_features=auto, model__min_samples_leaf=1, model__min_samples_split=2, model__n_estimators=1550; total time=   5.1s\n",
      "[CV] END model__bootstrap=True, model__max_depth=110, model__max_features=auto, model__min_samples_leaf=1, model__min_samples_split=5, model__n_estimators=200; total time=   0.7s\n",
      "[CV] END model__bootstrap=True, model__max_depth=110, model__max_features=sqrt, model__min_samples_leaf=4, model__min_samples_split=10, model__n_estimators=1550; total time=   5.0s\n",
      "[CV] END model__bootstrap=True, model__max_depth=None, model__max_features=auto, model__min_samples_leaf=4, model__min_samples_split=5, model__n_estimators=200; total time=   0.6s\n",
      "[CV] END model__bootstrap=True, model__max_depth=110, model__max_features=auto, model__min_samples_leaf=2, model__min_samples_split=10, model__n_estimators=1550; total time=   5.0s\n",
      "[CV] END model__bootstrap=True, model__max_depth=85, model__max_features=auto, model__min_samples_leaf=1, model__min_samples_split=5, model__n_estimators=1100; total time=   3.6s\n"
     ]
    },
    {
     "name": "stdout",
     "output_type": "stream",
     "text": [
      "[CV] END model__bootstrap=False, model__max_depth=60, model__max_features=auto, model__min_samples_leaf=1, model__min_samples_split=10, model__n_estimators=650; total time=   5.2s\n",
      "[CV] END model__bootstrap=False, model__max_depth=None, model__max_features=auto, model__min_samples_leaf=1, model__min_samples_split=2, model__n_estimators=650; total time=   5.9s\n",
      "[CV] END model__bootstrap=False, model__max_depth=110, model__max_features=auto, model__min_samples_leaf=2, model__min_samples_split=5, model__n_estimators=1550; total time=  12.9s\n",
      "[CV] END model__bootstrap=True, model__max_depth=85, model__max_features=sqrt, model__min_samples_leaf=2, model__min_samples_split=2, model__n_estimators=1550; total time=   9.8s\n",
      "[CV] END model__bootstrap=False, model__max_depth=85, model__max_features=auto, model__min_samples_leaf=2, model__min_samples_split=10, model__n_estimators=1100; total time=   9.3s\n",
      "[CV] END model__bootstrap=True, model__max_depth=10, model__max_features=sqrt, model__min_samples_leaf=1, model__min_samples_split=5, model__n_estimators=650; total time=   4.0s\n",
      "[CV] END model__bootstrap=True, model__max_depth=35, model__max_features=sqrt, model__min_samples_leaf=4, model__min_samples_split=5, model__n_estimators=2000; total time=  12.2s\n",
      "[CV] END model__bootstrap=False, model__max_depth=35, model__max_features=sqrt, model__min_samples_leaf=4, model__min_samples_split=2, model__n_estimators=650; total time=   5.2s\n",
      "[CV] END model__bootstrap=True, model__max_depth=35, model__max_features=auto, model__min_samples_leaf=2, model__min_samples_split=2, model__n_estimators=2000; total time=  12.9s\n",
      "[CV] END model__bootstrap=True, model__max_depth=60, model__max_features=auto, model__min_samples_leaf=1, model__min_samples_split=10, model__n_estimators=1100; total time=   6.9s\n",
      "[CV] END model__bootstrap=False, model__max_depth=110, model__max_features=auto, model__min_samples_leaf=4, model__min_samples_split=2, model__n_estimators=1550; total time=  12.7s\n",
      "[CV] END model__bootstrap=True, model__max_depth=85, model__max_features=auto, model__min_samples_leaf=2, model__min_samples_split=2, model__n_estimators=2000; total time=  13.0s\n",
      "[CV] END model__bootstrap=False, model__max_depth=10, model__max_features=auto, model__min_samples_leaf=2, model__min_samples_split=5, model__n_estimators=200; total time=   1.5s\n",
      "[CV] END model__bootstrap=True, model__max_depth=110, model__max_features=auto, model__min_samples_leaf=2, model__min_samples_split=2, model__n_estimators=1100; total time=   7.1s\n",
      "[CV] END model__bootstrap=False, model__max_depth=110, model__max_features=sqrt, model__min_samples_leaf=1, model__min_samples_split=2, model__n_estimators=2000; total time=  17.0s\n",
      "[CV] END model__bootstrap=True, model__max_depth=110, model__max_features=auto, model__min_samples_leaf=4, model__min_samples_split=10, model__n_estimators=2000; total time=  12.2s\n",
      "[CV] END model__bootstrap=True, model__max_depth=85, model__max_features=sqrt, model__min_samples_leaf=4, model__min_samples_split=10, model__n_estimators=200; total time=   1.2s\n",
      "[CV] END model__bootstrap=False, model__max_depth=None, model__max_features=sqrt, model__min_samples_leaf=1, model__min_samples_split=2, model__n_estimators=2000; total time=  16.4s\n",
      "[CV] END model__bootstrap=False, model__max_depth=10, model__max_features=sqrt, model__min_samples_leaf=1, model__min_samples_split=2, model__n_estimators=1550; total time=   4.2s\n",
      "[CV] END model__bootstrap=False, model__max_depth=110, model__max_features=auto, model__min_samples_leaf=2, model__min_samples_split=5, model__n_estimators=1550; total time=   5.0s\n",
      "[CV] END model__bootstrap=True, model__max_depth=85, model__max_features=sqrt, model__min_samples_leaf=2, model__min_samples_split=2, model__n_estimators=1550; total time=   5.4s\n",
      "[CV] END model__bootstrap=True, model__max_depth=110, model__max_features=auto, model__min_samples_leaf=1, model__min_samples_split=10, model__n_estimators=650; total time=   2.3s\n",
      "[CV] END model__bootstrap=False, model__max_depth=None, model__max_features=auto, model__min_samples_leaf=4, model__min_samples_split=5, model__n_estimators=2000; total time=   6.4s\n",
      "[CV] END model__bootstrap=True, model__max_depth=85, model__max_features=auto, model__min_samples_leaf=4, model__min_samples_split=5, model__n_estimators=2000; total time=   6.5s\n",
      "[CV] END model__bootstrap=True, model__max_depth=10, model__max_features=sqrt, model__min_samples_leaf=4, model__min_samples_split=10, model__n_estimators=1550; total time=   4.9s\n",
      "[CV] END model__bootstrap=True, model__max_depth=60, model__max_features=auto, model__min_samples_leaf=2, model__min_samples_split=2, model__n_estimators=2000; total time=   6.6s\n",
      "[CV] END model__bootstrap=False, model__max_depth=None, model__max_features=sqrt, model__min_samples_leaf=2, model__min_samples_split=10, model__n_estimators=1100; total time=   3.7s\n",
      "[CV] END model__bootstrap=True, model__max_depth=None, model__max_features=sqrt, model__min_samples_leaf=4, model__min_samples_split=5, model__n_estimators=650; total time=   2.0s\n",
      "[CV] END model__bootstrap=False, model__max_depth=85, model__max_features=auto, model__min_samples_leaf=2, model__min_samples_split=2, model__n_estimators=200; total time=   0.6s\n",
      "[CV] END model__bootstrap=False, model__max_depth=10, model__max_features=auto, model__min_samples_leaf=2, model__min_samples_split=5, model__n_estimators=200; total time=   0.6s\n",
      "[CV] END model__bootstrap=False, model__max_depth=10, model__max_features=sqrt, model__min_samples_leaf=1, model__min_samples_split=10, model__n_estimators=650; total time=   2.0s\n",
      "[CV] END model__bootstrap=False, model__max_depth=None, model__max_features=sqrt, model__min_samples_leaf=4, model__min_samples_split=5, model__n_estimators=2000; total time=   6.0s\n",
      "[CV] END model__bootstrap=True, model__max_depth=85, model__max_features=sqrt, model__min_samples_leaf=4, model__min_samples_split=5, model__n_estimators=650; total time=   2.2s\n",
      "[CV] END model__bootstrap=True, model__max_depth=10, model__max_features=auto, model__min_samples_leaf=2, model__min_samples_split=5, model__n_estimators=1550; total time=   5.0s\n",
      "[CV] END model__bootstrap=True, model__max_depth=None, model__max_features=sqrt, model__min_samples_leaf=1, model__min_samples_split=5, model__n_estimators=650; total time=   2.2s\n",
      "[CV] END model__bootstrap=True, model__max_depth=35, model__max_features=auto, model__min_samples_leaf=1, model__min_samples_split=10, model__n_estimators=650; total time=   2.1s\n",
      "[CV] END model__bootstrap=True, model__max_depth=35, model__max_features=sqrt, model__min_samples_leaf=4, model__min_samples_split=10, model__n_estimators=1550; total time=   3.9s\n",
      "[CV] END model__bootstrap=False, model__max_depth=None, model__max_features=sqrt, model__min_samples_leaf=2, model__min_samples_split=2, model__n_estimators=650; total time=   2.2s\n",
      "[CV] END model__bootstrap=False, model__max_depth=None, model__max_features=auto, model__min_samples_leaf=1, model__min_samples_split=2, model__n_estimators=1550; total time=   5.0s\n",
      "[CV] END model__bootstrap=True, model__max_depth=110, model__max_features=auto, model__min_samples_leaf=1, model__min_samples_split=5, model__n_estimators=200; total time=   0.7s\n",
      "[CV] END model__bootstrap=True, model__max_depth=110, model__max_features=sqrt, model__min_samples_leaf=4, model__min_samples_split=10, model__n_estimators=1550; total time=   5.0s\n",
      "[CV] END model__bootstrap=True, model__max_depth=10, model__max_features=sqrt, model__min_samples_leaf=2, model__min_samples_split=10, model__n_estimators=200; total time=   0.7s\n",
      "[CV] END model__bootstrap=True, model__max_depth=110, model__max_features=auto, model__min_samples_leaf=2, model__min_samples_split=10, model__n_estimators=1550; total time=   5.0s\n",
      "[CV] END model__bootstrap=True, model__max_depth=10, model__max_features=sqrt, model__min_samples_leaf=1, model__min_samples_split=5, model__n_estimators=650; total time=   2.1s\n",
      "[CV] END model__bootstrap=False, model__max_depth=10, model__max_features=sqrt, model__min_samples_leaf=4, model__min_samples_split=2, model__n_estimators=1100; total time=   3.3s\n",
      "[CV] END model__bootstrap=False, model__max_depth=None, model__max_features=sqrt, model__min_samples_leaf=2, model__min_samples_split=2, model__n_estimators=650; total time=   5.5s\n",
      "[CV] END model__bootstrap=False, model__max_depth=None, model__max_features=auto, model__min_samples_leaf=1, model__min_samples_split=2, model__n_estimators=1550; total time=  14.0s\n",
      "[CV] END model__bootstrap=True, model__max_depth=110, model__max_features=sqrt, model__min_samples_leaf=4, model__min_samples_split=10, model__n_estimators=1550; total time=   9.9s\n",
      "[CV] END model__bootstrap=True, model__max_depth=10, model__max_features=sqrt, model__min_samples_leaf=1, model__min_samples_split=10, model__n_estimators=650; total time=   4.0s\n",
      "[CV] END model__bootstrap=False, model__max_depth=110, model__max_features=sqrt, model__min_samples_leaf=4, model__min_samples_split=10, model__n_estimators=1100; total time=   9.2s\n",
      "[CV] END model__bootstrap=False, model__max_depth=35, model__max_features=auto, model__min_samples_leaf=2, model__min_samples_split=10, model__n_estimators=650; total time=   5.5s\n",
      "[CV] END model__bootstrap=False, model__max_depth=60, model__max_features=auto, model__min_samples_leaf=4, model__min_samples_split=10, model__n_estimators=650; total time=   5.4s\n",
      "[CV] END model__bootstrap=True, model__max_depth=10, model__max_features=sqrt, model__min_samples_leaf=4, model__min_samples_split=10, model__n_estimators=650; total time=   4.0s\n",
      "[CV] END model__bootstrap=True, model__max_depth=110, model__max_features=auto, model__min_samples_leaf=2, model__min_samples_split=10, model__n_estimators=2000; total time=  12.5s\n",
      "[CV] END model__bootstrap=False, model__max_depth=60, model__max_features=sqrt, model__min_samples_leaf=2, model__min_samples_split=5, model__n_estimators=1100; total time=   9.5s\n",
      "[CV] END model__bootstrap=True, model__max_depth=110, model__max_features=auto, model__min_samples_leaf=2, model__min_samples_split=5, model__n_estimators=650; total time=   4.2s\n",
      "[CV] END model__bootstrap=False, model__max_depth=85, model__max_features=auto, model__min_samples_leaf=4, model__min_samples_split=2, model__n_estimators=2000; total time=  16.3s\n",
      "[CV] END model__bootstrap=False, model__max_depth=85, model__max_features=sqrt, model__min_samples_leaf=2, model__min_samples_split=5, model__n_estimators=650; total time=   5.4s\n",
      "[CV] END model__bootstrap=True, model__max_depth=None, model__max_features=auto, model__min_samples_leaf=2, model__min_samples_split=10, model__n_estimators=1100; total time=   6.7s\n",
      "[CV] END model__bootstrap=True, model__max_depth=35, model__max_features=auto, model__min_samples_leaf=2, model__min_samples_split=5, model__n_estimators=1550; total time=  10.0s\n",
      "[CV] END model__bootstrap=False, model__max_depth=85, model__max_features=sqrt, model__min_samples_leaf=2, model__min_samples_split=10, model__n_estimators=650; total time=   5.4s\n",
      "[CV] END model__bootstrap=True, model__max_depth=35, model__max_features=auto, model__min_samples_leaf=2, model__min_samples_split=2, model__n_estimators=1100; total time=   7.0s\n",
      "[CV] END model__bootstrap=True, model__max_depth=110, model__max_features=auto, model__min_samples_leaf=4, model__min_samples_split=10, model__n_estimators=2000; total time=  12.7s\n",
      "[CV] END model__bootstrap=True, model__max_depth=85, model__max_features=sqrt, model__min_samples_leaf=4, model__min_samples_split=10, model__n_estimators=200; total time=   1.3s\n",
      "[CV] END model__bootstrap=True, model__max_depth=85, model__max_features=sqrt, model__min_samples_leaf=4, model__min_samples_split=10, model__n_estimators=200; total time=   1.2s\n",
      "[CV] END model__bootstrap=False, model__max_depth=85, model__max_features=sqrt, model__min_samples_leaf=4, model__min_samples_split=2, model__n_estimators=1100; total time=   9.3s\n",
      "[CV] END model__bootstrap=True, model__max_depth=110, model__max_features=sqrt, model__min_samples_leaf=2, model__min_samples_split=2, model__n_estimators=1550; total time=   4.6s\n",
      "[CV] END model__bootstrap=False, model__max_depth=35, model__max_features=auto, model__min_samples_leaf=1, model__min_samples_split=2, model__n_estimators=2000; total time=   6.8s\n",
      "[CV] END model__bootstrap=False, model__max_depth=85, model__max_features=sqrt, model__min_samples_leaf=4, model__min_samples_split=5, model__n_estimators=1550; total time=   5.0s\n",
      "[CV] END model__bootstrap=True, model__max_depth=110, model__max_features=auto, model__min_samples_leaf=1, model__min_samples_split=10, model__n_estimators=650; total time=   2.2s\n",
      "[CV] END model__bootstrap=True, model__max_depth=10, model__max_features=sqrt, model__min_samples_leaf=1, model__min_samples_split=5, model__n_estimators=650; total time=   2.1s\n",
      "[CV] END model__bootstrap=False, model__max_depth=10, model__max_features=sqrt, model__min_samples_leaf=4, model__min_samples_split=2, model__n_estimators=1100; total time=   3.5s\n",
      "[CV] END model__bootstrap=False, model__max_depth=None, model__max_features=sqrt, model__min_samples_leaf=4, model__min_samples_split=10, model__n_estimators=650; total time=   2.0s\n",
      "[CV] END model__bootstrap=False, model__max_depth=110, model__max_features=sqrt, model__min_samples_leaf=1, model__min_samples_split=5, model__n_estimators=2000; total time=   6.5s\n",
      "[CV] END model__bootstrap=True, model__max_depth=60, model__max_features=auto, model__min_samples_leaf=1, model__min_samples_split=10, model__n_estimators=1100; total time=   3.7s\n",
      "[CV] END model__bootstrap=False, model__max_depth=85, model__max_features=auto, model__min_samples_leaf=4, model__min_samples_split=2, model__n_estimators=2000; total time=   6.3s\n",
      "[CV] END model__bootstrap=False, model__max_depth=85, model__max_features=auto, model__min_samples_leaf=1, model__min_samples_split=5, model__n_estimators=2000; total time=   6.5s\n",
      "[CV] END model__bootstrap=False, model__max_depth=10, model__max_features=auto, model__min_samples_leaf=4, model__min_samples_split=5, model__n_estimators=1550; total time=   4.7s\n",
      "[CV] END model__bootstrap=False, model__max_depth=110, model__max_features=sqrt, model__min_samples_leaf=1, model__min_samples_split=2, model__n_estimators=200; total time=   0.7s\n",
      "[CV] END model__bootstrap=True, model__max_depth=35, model__max_features=auto, model__min_samples_leaf=2, model__min_samples_split=2, model__n_estimators=1100; total time=   3.6s\n",
      "[CV] END model__bootstrap=True, model__max_depth=110, model__max_features=auto, model__min_samples_leaf=4, model__min_samples_split=10, model__n_estimators=2000; total time=   6.3s\n",
      "[CV] END model__bootstrap=True, model__max_depth=85, model__max_features=sqrt, model__min_samples_leaf=4, model__min_samples_split=10, model__n_estimators=200; total time=   0.7s\n",
      "[CV] END model__bootstrap=True, model__max_depth=None, model__max_features=auto, model__min_samples_leaf=1, model__min_samples_split=10, model__n_estimators=2000; total time=   6.5s\n",
      "[CV] END model__bootstrap=False, model__max_depth=10, model__max_features=sqrt, model__min_samples_leaf=1, model__min_samples_split=2, model__n_estimators=1550; total time=   4.9s\n",
      "[CV] END model__bootstrap=False, model__max_depth=110, model__max_features=auto, model__min_samples_leaf=2, model__min_samples_split=5, model__n_estimators=1550; total time=   5.0s\n",
      "[CV] END model__bootstrap=False, model__max_depth=110, model__max_features=auto, model__min_samples_leaf=1, model__min_samples_split=10, model__n_estimators=1100; total time=   3.5s\n",
      "[CV] END model__bootstrap=True, model__max_depth=110, model__max_features=auto, model__min_samples_leaf=2, model__min_samples_split=10, model__n_estimators=1550; total time=   5.1s\n",
      "[CV] END model__bootstrap=True, model__max_depth=10, model__max_features=sqrt, model__min_samples_leaf=1, model__min_samples_split=5, model__n_estimators=650; total time=   2.2s\n",
      "[CV] END model__bootstrap=False, model__max_depth=60, model__max_features=auto, model__min_samples_leaf=4, model__min_samples_split=10, model__n_estimators=650; total time=   2.0s\n",
      "[CV] END model__bootstrap=True, model__max_depth=10, model__max_features=sqrt, model__min_samples_leaf=4, model__min_samples_split=10, model__n_estimators=650; total time=   2.1s\n"
     ]
    },
    {
     "name": "stdout",
     "output_type": "stream",
     "text": [
      "[CV] END model__bootstrap=False, model__max_depth=60, model__max_features=auto, model__min_samples_leaf=1, model__min_samples_split=10, model__n_estimators=650; total time=   5.2s\n",
      "[CV] END model__bootstrap=False, model__max_depth=10, model__max_features=sqrt, model__min_samples_leaf=4, model__min_samples_split=2, model__n_estimators=650; total time=   5.3s\n",
      "[CV] END model__bootstrap=False, model__max_depth=110, model__max_features=auto, model__min_samples_leaf=2, model__min_samples_split=5, model__n_estimators=1550; total time=  13.3s\n",
      "[CV] END model__bootstrap=True, model__max_depth=85, model__max_features=sqrt, model__min_samples_leaf=2, model__min_samples_split=2, model__n_estimators=1550; total time=  10.0s\n",
      "[CV] END model__bootstrap=False, model__max_depth=110, model__max_features=sqrt, model__min_samples_leaf=4, model__min_samples_split=10, model__n_estimators=1100; total time=   8.7s\n",
      "[CV] END model__bootstrap=False, model__max_depth=60, model__max_features=auto, model__min_samples_leaf=4, model__min_samples_split=10, model__n_estimators=200; total time=   1.7s\n",
      "[CV] END model__bootstrap=True, model__max_depth=85, model__max_features=auto, model__min_samples_leaf=1, model__min_samples_split=5, model__n_estimators=1100; total time=   7.0s\n",
      "[CV] END model__bootstrap=False, model__max_depth=60, model__max_features=auto, model__min_samples_leaf=4, model__min_samples_split=10, model__n_estimators=650; total time=   5.3s\n",
      "[CV] END model__bootstrap=False, model__max_depth=None, model__max_features=sqrt, model__min_samples_leaf=4, model__min_samples_split=10, model__n_estimators=650; total time=   5.2s\n",
      "[CV] END model__bootstrap=False, model__max_depth=110, model__max_features=sqrt, model__min_samples_leaf=1, model__min_samples_split=5, model__n_estimators=2000; total time=  17.2s\n",
      "[CV] END model__bootstrap=True, model__max_depth=110, model__max_features=auto, model__min_samples_leaf=2, model__min_samples_split=5, model__n_estimators=650; total time=   4.2s\n",
      "[CV] END model__bootstrap=False, model__max_depth=85, model__max_features=auto, model__min_samples_leaf=4, model__min_samples_split=2, model__n_estimators=2000; total time=  16.3s\n",
      "[CV] END model__bootstrap=False, model__max_depth=85, model__max_features=auto, model__min_samples_leaf=1, model__min_samples_split=5, model__n_estimators=2000; total time=  17.1s\n",
      "[CV] END model__bootstrap=False, model__max_depth=None, model__max_features=sqrt, model__min_samples_leaf=4, model__min_samples_split=5, model__n_estimators=2000; total time=  15.7s\n",
      "[CV] END model__bootstrap=True, model__max_depth=85, model__max_features=sqrt, model__min_samples_leaf=4, model__min_samples_split=5, model__n_estimators=650; total time=   4.1s\n",
      "[CV] END model__bootstrap=False, model__max_depth=None, model__max_features=sqrt, model__min_samples_leaf=4, model__min_samples_split=2, model__n_estimators=2000; total time=  16.0s\n",
      "[CV] END model__bootstrap=True, model__max_depth=None, model__max_features=auto, model__min_samples_leaf=1, model__min_samples_split=10, model__n_estimators=2000; total time=  12.3s\n",
      "[CV] END model__bootstrap=False, model__max_depth=10, model__max_features=sqrt, model__min_samples_leaf=1, model__min_samples_split=2, model__n_estimators=1550; total time=   4.2s\n",
      "[CV] END model__bootstrap=False, model__max_depth=None, model__max_features=sqrt, model__min_samples_leaf=1, model__min_samples_split=10, model__n_estimators=1550; total time=   5.0s\n",
      "[CV] END model__bootstrap=True, model__max_depth=None, model__max_features=sqrt, model__min_samples_leaf=1, model__min_samples_split=2, model__n_estimators=200; total time=   0.7s\n",
      "[CV] END model__bootstrap=False, model__max_depth=110, model__max_features=auto, model__min_samples_leaf=1, model__min_samples_split=10, model__n_estimators=1100; total time=   3.7s\n",
      "[CV] END model__bootstrap=True, model__max_depth=110, model__max_features=auto, model__min_samples_leaf=2, model__min_samples_split=10, model__n_estimators=1550; total time=   5.2s\n",
      "[CV] END model__bootstrap=True, model__max_depth=85, model__max_features=auto, model__min_samples_leaf=1, model__min_samples_split=5, model__n_estimators=1100; total time=   3.7s\n",
      "[CV] END model__bootstrap=True, model__max_depth=10, model__max_features=sqrt, model__min_samples_leaf=4, model__min_samples_split=10, model__n_estimators=650; total time=   2.1s\n",
      "[CV] END model__bootstrap=True, model__max_depth=110, model__max_features=auto, model__min_samples_leaf=2, model__min_samples_split=10, model__n_estimators=2000; total time=   6.4s\n",
      "[CV] END model__bootstrap=False, model__max_depth=60, model__max_features=sqrt, model__min_samples_leaf=2, model__min_samples_split=5, model__n_estimators=1100; total time=   3.4s\n",
      "[CV] END model__bootstrap=True, model__max_depth=110, model__max_features=auto, model__min_samples_leaf=2, model__min_samples_split=5, model__n_estimators=650; total time=   2.1s\n",
      "[CV] END model__bootstrap=False, model__max_depth=110, model__max_features=auto, model__min_samples_leaf=4, model__min_samples_split=2, model__n_estimators=1550; total time=   4.6s\n",
      "[CV] END model__bootstrap=False, model__max_depth=None, model__max_features=sqrt, model__min_samples_leaf=2, model__min_samples_split=10, model__n_estimators=1100; total time=   3.3s\n",
      "[CV] END model__bootstrap=False, model__max_depth=85, model__max_features=sqrt, model__min_samples_leaf=2, model__min_samples_split=5, model__n_estimators=650; total time=   2.0s\n",
      "[CV] END model__bootstrap=True, model__max_depth=None, model__max_features=sqrt, model__min_samples_leaf=4, model__min_samples_split=5, model__n_estimators=650; total time=   2.1s\n",
      "[CV] END model__bootstrap=False, model__max_depth=10, model__max_features=auto, model__min_samples_leaf=4, model__min_samples_split=5, model__n_estimators=1550; total time=   4.7s\n",
      "[CV] END model__bootstrap=False, model__max_depth=85, model__max_features=sqrt, model__min_samples_leaf=2, model__min_samples_split=10, model__n_estimators=650; total time=   2.0s\n",
      "[CV] END model__bootstrap=True, model__max_depth=35, model__max_features=auto, model__min_samples_leaf=2, model__min_samples_split=2, model__n_estimators=1100; total time=   3.7s\n",
      "[CV] END model__bootstrap=False, model__max_depth=110, model__max_features=auto, model__min_samples_leaf=1, model__min_samples_split=2, model__n_estimators=2000; total time=   6.5s\n",
      "[CV] END model__bootstrap=True, model__max_depth=35, model__max_features=auto, model__min_samples_leaf=1, model__min_samples_split=10, model__n_estimators=650; total time=   2.1s\n",
      "[CV] END model__bootstrap=True, model__max_depth=35, model__max_features=sqrt, model__min_samples_leaf=4, model__min_samples_split=10, model__n_estimators=1550; total time=   4.3s\n",
      "[CV] END model__bootstrap=False, model__max_depth=10, model__max_features=sqrt, model__min_samples_leaf=4, model__min_samples_split=2, model__n_estimators=650; total time=   2.1s\n",
      "[CV] END model__bootstrap=False, model__max_depth=None, model__max_features=auto, model__min_samples_leaf=1, model__min_samples_split=2, model__n_estimators=650; total time=   2.2s\n",
      "[CV] END model__bootstrap=False, model__max_depth=110, model__max_features=auto, model__min_samples_leaf=2, model__min_samples_split=5, model__n_estimators=1550; total time=   5.0s\n",
      "[CV] END model__bootstrap=True, model__max_depth=85, model__max_features=sqrt, model__min_samples_leaf=2, model__min_samples_split=2, model__n_estimators=1550; total time=   5.2s\n",
      "[CV] END model__bootstrap=False, model__max_depth=85, model__max_features=auto, model__min_samples_leaf=2, model__min_samples_split=10, model__n_estimators=1100; total time=   3.5s\n",
      "[CV] END model__bootstrap=False, model__max_depth=35, model__max_features=sqrt, model__min_samples_leaf=1, model__min_samples_split=2, model__n_estimators=2000; total time=   6.5s\n",
      "[CV] END model__bootstrap=False, model__max_depth=35, model__max_features=sqrt, model__min_samples_leaf=4, model__min_samples_split=2, model__n_estimators=650; total time=   2.1s\n",
      "[CV] END model__bootstrap=False, model__max_depth=None, model__max_features=auto, model__min_samples_leaf=1, model__min_samples_split=2, model__n_estimators=1100; total time=   3.7s\n",
      "[CV] END model__bootstrap=False, model__max_depth=10, model__max_features=sqrt, model__min_samples_leaf=1, model__min_samples_split=2, model__n_estimators=1550; total time=  12.3s\n",
      "[CV] END model__bootstrap=False, model__max_depth=35, model__max_features=auto, model__min_samples_leaf=1, model__min_samples_split=2, model__n_estimators=2000; total time=  17.8s\n",
      "[CV] END model__bootstrap=True, model__max_depth=10, model__max_features=sqrt, model__min_samples_leaf=2, model__min_samples_split=10, model__n_estimators=200; total time=   1.2s\n",
      "[CV] END model__bootstrap=True, model__max_depth=None, model__max_features=auto, model__min_samples_leaf=4, model__min_samples_split=5, model__n_estimators=200; total time=   1.3s\n",
      "[CV] END model__bootstrap=True, model__max_depth=110, model__max_features=auto, model__min_samples_leaf=2, model__min_samples_split=10, model__n_estimators=1550; total time=   9.9s\n",
      "[CV] END model__bootstrap=False, model__max_depth=60, model__max_features=auto, model__min_samples_leaf=4, model__min_samples_split=10, model__n_estimators=200; total time=   1.6s\n",
      "[CV] END model__bootstrap=True, model__max_depth=85, model__max_features=auto, model__min_samples_leaf=1, model__min_samples_split=5, model__n_estimators=1100; total time=   7.2s\n",
      "[CV] END model__bootstrap=False, model__max_depth=60, model__max_features=auto, model__min_samples_leaf=4, model__min_samples_split=10, model__n_estimators=650; total time=   5.1s\n",
      "[CV] END model__bootstrap=False, model__max_depth=None, model__max_features=sqrt, model__min_samples_leaf=4, model__min_samples_split=10, model__n_estimators=650; total time=   5.3s\n",
      "[CV] END model__bootstrap=False, model__max_depth=110, model__max_features=sqrt, model__min_samples_leaf=1, model__min_samples_split=5, model__n_estimators=2000; total time=  16.8s\n",
      "[CV] END model__bootstrap=True, model__max_depth=None, model__max_features=auto, model__min_samples_leaf=4, model__min_samples_split=10, model__n_estimators=1550; total time=   9.5s\n",
      "[CV] END model__bootstrap=False, model__max_depth=85, model__max_features=sqrt, model__min_samples_leaf=2, model__min_samples_split=10, model__n_estimators=1100; total time=   9.0s\n",
      "[CV] END model__bootstrap=False, model__max_depth=35, model__max_features=sqrt, model__min_samples_leaf=2, model__min_samples_split=2, model__n_estimators=1100; total time=   9.1s\n",
      "[CV] END model__bootstrap=True, model__max_depth=None, model__max_features=sqrt, model__min_samples_leaf=4, model__min_samples_split=5, model__n_estimators=650; total time=   4.0s\n",
      "[CV] END model__bootstrap=False, model__max_depth=None, model__max_features=auto, model__min_samples_leaf=2, model__min_samples_split=5, model__n_estimators=2000; total time=  16.7s\n",
      "[CV] END model__bootstrap=True, model__max_depth=60, model__max_features=sqrt, model__min_samples_leaf=4, model__min_samples_split=2, model__n_estimators=650; total time=   3.9s\n",
      "[CV] END model__bootstrap=False, model__max_depth=60, model__max_features=auto, model__min_samples_leaf=2, model__min_samples_split=10, model__n_estimators=650; total time=   5.4s\n",
      "[CV] END model__bootstrap=False, model__max_depth=None, model__max_features=sqrt, model__min_samples_leaf=4, model__min_samples_split=2, model__n_estimators=2000; total time=  16.5s\n",
      "[CV] END model__bootstrap=True, model__max_depth=35, model__max_features=auto, model__min_samples_leaf=1, model__min_samples_split=10, model__n_estimators=650; total time=   4.2s\n",
      "[CV] END model__bootstrap=True, model__max_depth=35, model__max_features=auto, model__min_samples_leaf=1, model__min_samples_split=10, model__n_estimators=650; total time=   4.2s\n",
      "[CV] END model__bootstrap=False, model__max_depth=60, model__max_features=auto, model__min_samples_leaf=1, model__min_samples_split=10, model__n_estimators=650; total time=   1.8s\n",
      "[CV] END model__bootstrap=False, model__max_depth=10, model__max_features=sqrt, model__min_samples_leaf=4, model__min_samples_split=2, model__n_estimators=650; total time=   1.9s\n",
      "[CV] END model__bootstrap=False, model__max_depth=None, model__max_features=sqrt, model__min_samples_leaf=4, model__min_samples_split=5, model__n_estimators=650; total time=   1.9s\n",
      "[CV] END model__bootstrap=False, model__max_depth=35, model__max_features=auto, model__min_samples_leaf=1, model__min_samples_split=2, model__n_estimators=2000; total time=   6.9s\n",
      "[CV] END model__bootstrap=True, model__max_depth=10, model__max_features=sqrt, model__min_samples_leaf=2, model__min_samples_split=10, model__n_estimators=200; total time=   0.7s\n",
      "[CV] END model__bootstrap=True, model__max_depth=None, model__max_features=auto, model__min_samples_leaf=4, model__min_samples_split=5, model__n_estimators=200; total time=   0.8s\n",
      "[CV] END model__bootstrap=False, model__max_depth=110, model__max_features=sqrt, model__min_samples_leaf=4, model__min_samples_split=10, model__n_estimators=1100; total time=   3.6s\n",
      "[CV] END model__bootstrap=False, model__max_depth=60, model__max_features=auto, model__min_samples_leaf=4, model__min_samples_split=10, model__n_estimators=200; total time=   0.6s\n",
      "[CV] END model__bootstrap=False, model__max_depth=35, model__max_features=sqrt, model__min_samples_leaf=1, model__min_samples_split=2, model__n_estimators=2000; total time=   6.8s\n",
      "[CV] END model__bootstrap=False, model__max_depth=35, model__max_features=sqrt, model__min_samples_leaf=4, model__min_samples_split=2, model__n_estimators=650; total time=   2.0s\n",
      "[CV] END model__bootstrap=True, model__max_depth=35, model__max_features=auto, model__min_samples_leaf=2, model__min_samples_split=2, model__n_estimators=2000; total time=   6.5s\n",
      "[CV] END model__bootstrap=True, model__max_depth=None, model__max_features=auto, model__min_samples_leaf=4, model__min_samples_split=10, model__n_estimators=1550; total time=   5.0s\n",
      "[CV] END model__bootstrap=False, model__max_depth=85, model__max_features=sqrt, model__min_samples_leaf=2, model__min_samples_split=10, model__n_estimators=1100; total time=   3.3s\n",
      "[CV] END model__bootstrap=False, model__max_depth=85, model__max_features=auto, model__min_samples_leaf=4, model__min_samples_split=10, model__n_estimators=2000; total time=   6.0s\n",
      "[CV] END model__bootstrap=False, model__max_depth=10, model__max_features=auto, model__min_samples_leaf=2, model__min_samples_split=5, model__n_estimators=200; total time=   0.6s\n",
      "[CV] END model__bootstrap=True, model__max_depth=110, model__max_features=auto, model__min_samples_leaf=2, model__min_samples_split=2, model__n_estimators=1100; total time=   3.6s\n",
      "[CV] END model__bootstrap=False, model__max_depth=110, model__max_features=sqrt, model__min_samples_leaf=1, model__min_samples_split=2, model__n_estimators=2000; total time=   6.4s\n",
      "[CV] END model__bootstrap=True, model__max_depth=10, model__max_features=auto, model__min_samples_leaf=2, model__min_samples_split=5, model__n_estimators=1550; total time=   5.0s\n",
      "[CV] END model__bootstrap=True, model__max_depth=110, model__max_features=sqrt, model__min_samples_leaf=4, model__min_samples_split=2, model__n_estimators=2000; total time=   6.6s\n",
      "[CV] END model__bootstrap=False, model__max_depth=10, model__max_features=auto, model__min_samples_leaf=1, model__min_samples_split=5, model__n_estimators=1550; total time=   4.9s\n",
      "[CV] END model__bootstrap=False, model__max_depth=None, model__max_features=sqrt, model__min_samples_leaf=1, model__min_samples_split=10, model__n_estimators=1550; total time=   4.8s\n",
      "[CV] END model__bootstrap=True, model__max_depth=85, model__max_features=sqrt, model__min_samples_leaf=2, model__min_samples_split=2, model__n_estimators=1550; total time=   5.1s\n",
      "[CV] END model__bootstrap=True, model__max_depth=110, model__max_features=auto, model__min_samples_leaf=1, model__min_samples_split=10, model__n_estimators=650; total time=   2.1s\n",
      "[CV] END model__bootstrap=False, model__max_depth=None, model__max_features=auto, model__min_samples_leaf=4, model__min_samples_split=5, model__n_estimators=2000; total time=   6.0s\n",
      "[CV] END model__bootstrap=True, model__max_depth=85, model__max_features=auto, model__min_samples_leaf=4, model__min_samples_split=5, model__n_estimators=2000; total time=   6.5s\n"
     ]
    },
    {
     "name": "stdout",
     "output_type": "stream",
     "text": [
      "[CV] END model__bootstrap=True, model__max_depth=110, model__max_features=sqrt, model__min_samples_leaf=2, model__min_samples_split=2, model__n_estimators=1550; total time=   9.7s\n",
      "[CV] END model__bootstrap=False, model__max_depth=None, model__max_features=auto, model__min_samples_leaf=1, model__min_samples_split=2, model__n_estimators=1550; total time=  13.3s\n",
      "[CV] END model__bootstrap=True, model__max_depth=85, model__max_features=sqrt, model__min_samples_leaf=2, model__min_samples_split=2, model__n_estimators=1550; total time=  10.1s\n",
      "[CV] END model__bootstrap=True, model__max_depth=None, model__max_features=sqrt, model__min_samples_leaf=4, model__min_samples_split=2, model__n_estimators=1550; total time=   9.9s\n",
      "[CV] END model__bootstrap=False, model__max_depth=35, model__max_features=sqrt, model__min_samples_leaf=1, model__min_samples_split=2, model__n_estimators=2000; total time=  17.9s\n",
      "[CV] END model__bootstrap=False, model__max_depth=110, model__max_features=sqrt, model__min_samples_leaf=1, model__min_samples_split=5, model__n_estimators=2000; total time=  17.2s\n",
      "[CV] END model__bootstrap=True, model__max_depth=None, model__max_features=auto, model__min_samples_leaf=4, model__min_samples_split=10, model__n_estimators=1550; total time=   9.8s\n",
      "[CV] END model__bootstrap=True, model__max_depth=None, model__max_features=auto, model__min_samples_leaf=1, model__min_samples_split=2, model__n_estimators=1550; total time=  10.3s\n",
      "[CV] END model__bootstrap=False, model__max_depth=85, model__max_features=auto, model__min_samples_leaf=4, model__min_samples_split=10, model__n_estimators=2000; total time=  16.0s\n",
      "[CV] END model__bootstrap=True, model__max_depth=35, model__max_features=auto, model__min_samples_leaf=2, model__min_samples_split=5, model__n_estimators=1550; total time=   9.7s\n",
      "[CV] END model__bootstrap=False, model__max_depth=110, model__max_features=sqrt, model__min_samples_leaf=1, model__min_samples_split=2, model__n_estimators=200; total time=   1.8s\n",
      "[CV] END model__bootstrap=False, model__max_depth=110, model__max_features=sqrt, model__min_samples_leaf=1, model__min_samples_split=2, model__n_estimators=200; total time=   1.8s\n",
      "[CV] END model__bootstrap=False, model__max_depth=10, model__max_features=sqrt, model__min_samples_leaf=2, model__min_samples_split=10, model__n_estimators=650; total time=   4.9s\n",
      "[CV] END model__bootstrap=True, model__max_depth=85, model__max_features=sqrt, model__min_samples_leaf=4, model__min_samples_split=5, model__n_estimators=650; total time=   4.1s\n",
      "[CV] END model__bootstrap=True, model__max_depth=10, model__max_features=auto, model__min_samples_leaf=2, model__min_samples_split=5, model__n_estimators=1550; total time=   9.4s\n",
      "[CV] END model__bootstrap=True, model__max_depth=35, model__max_features=sqrt, model__min_samples_leaf=1, model__min_samples_split=5, model__n_estimators=650; total time=   4.3s\n",
      "[CV] END model__bootstrap=False, model__max_depth=None, model__max_features=sqrt, model__min_samples_leaf=1, model__min_samples_split=2, model__n_estimators=2000; total time=  16.2s\n",
      "[CV] END model__bootstrap=False, model__max_depth=None, model__max_features=sqrt, model__min_samples_leaf=2, model__min_samples_split=2, model__n_estimators=650; total time=   2.0s\n",
      "[CV] END model__bootstrap=False, model__max_depth=None, model__max_features=auto, model__min_samples_leaf=1, model__min_samples_split=2, model__n_estimators=1550; total time=   4.8s\n",
      "[CV] END model__bootstrap=True, model__max_depth=110, model__max_features=auto, model__min_samples_leaf=1, model__min_samples_split=5, model__n_estimators=200; total time=   0.7s\n",
      "[CV] END model__bootstrap=True, model__max_depth=110, model__max_features=sqrt, model__min_samples_leaf=4, model__min_samples_split=10, model__n_estimators=1550; total time=   5.6s\n",
      "[CV] END model__bootstrap=True, model__max_depth=None, model__max_features=auto, model__min_samples_leaf=4, model__min_samples_split=5, model__n_estimators=200; total time=   0.7s\n",
      "[CV] END model__bootstrap=True, model__max_depth=None, model__max_features=sqrt, model__min_samples_leaf=4, model__min_samples_split=2, model__n_estimators=1550; total time=   5.1s\n",
      "[CV] END model__bootstrap=True, model__max_depth=85, model__max_features=auto, model__min_samples_leaf=1, model__min_samples_split=5, model__n_estimators=1100; total time=   3.7s\n",
      "[CV] END model__bootstrap=False, model__max_depth=60, model__max_features=auto, model__min_samples_leaf=4, model__min_samples_split=10, model__n_estimators=650; total time=   2.1s\n",
      "[CV] END model__bootstrap=True, model__max_depth=110, model__max_features=auto, model__min_samples_leaf=2, model__min_samples_split=10, model__n_estimators=2000; total time=   6.5s\n",
      "[CV] END model__bootstrap=False, model__max_depth=10, model__max_features=auto, model__min_samples_leaf=1, model__min_samples_split=2, model__n_estimators=1550; total time=   4.8s\n",
      "[CV] END model__bootstrap=False, model__max_depth=10, model__max_features=sqrt, model__min_samples_leaf=4, model__min_samples_split=5, model__n_estimators=650; total time=   2.0s\n",
      "[CV] END model__bootstrap=True, model__max_depth=None, model__max_features=auto, model__min_samples_leaf=1, model__min_samples_split=2, model__n_estimators=1550; total time=   5.2s\n",
      "[CV] END model__bootstrap=False, model__max_depth=85, model__max_features=sqrt, model__min_samples_leaf=2, model__min_samples_split=5, model__n_estimators=650; total time=   2.2s\n",
      "[CV] END model__bootstrap=True, model__max_depth=None, model__max_features=sqrt, model__min_samples_leaf=4, model__min_samples_split=5, model__n_estimators=650; total time=   2.1s\n",
      "[CV] END model__bootstrap=False, model__max_depth=10, model__max_features=auto, model__min_samples_leaf=2, model__min_samples_split=5, model__n_estimators=200; total time=   0.7s\n",
      "[CV] END model__bootstrap=False, model__max_depth=10, model__max_features=sqrt, model__min_samples_leaf=1, model__min_samples_split=10, model__n_estimators=650; total time=   2.1s\n",
      "[CV] END model__bootstrap=False, model__max_depth=110, model__max_features=sqrt, model__min_samples_leaf=1, model__min_samples_split=2, model__n_estimators=2000; total time=   6.6s\n",
      "[CV] END model__bootstrap=False, model__max_depth=35, model__max_features=sqrt, model__min_samples_leaf=4, model__min_samples_split=10, model__n_estimators=1550; total time=   4.8s\n",
      "[CV] END model__bootstrap=False, model__max_depth=110, model__max_features=auto, model__min_samples_leaf=1, model__min_samples_split=2, model__n_estimators=2000; total time=   6.8s\n",
      "[CV] END model__bootstrap=True, model__max_depth=110, model__max_features=sqrt, model__min_samples_leaf=2, model__min_samples_split=2, model__n_estimators=1550; total time=   5.1s\n",
      "[CV] END model__bootstrap=False, model__max_depth=35, model__max_features=auto, model__min_samples_leaf=1, model__min_samples_split=2, model__n_estimators=2000; total time=   6.4s\n",
      "[CV] END model__bootstrap=False, model__max_depth=85, model__max_features=sqrt, model__min_samples_leaf=4, model__min_samples_split=5, model__n_estimators=1550; total time=   4.7s\n",
      "[CV] END model__bootstrap=True, model__max_depth=110, model__max_features=auto, model__min_samples_leaf=1, model__min_samples_split=10, model__n_estimators=650; total time=   2.1s\n",
      "[CV] END model__bootstrap=True, model__max_depth=10, model__max_features=sqrt, model__min_samples_leaf=1, model__min_samples_split=5, model__n_estimators=650; total time=   2.2s\n",
      "[CV] END model__bootstrap=False, model__max_depth=10, model__max_features=sqrt, model__min_samples_leaf=4, model__min_samples_split=2, model__n_estimators=1100; total time=   3.2s\n",
      "[CV] END model__bootstrap=False, model__max_depth=None, model__max_features=sqrt, model__min_samples_leaf=4, model__min_samples_split=10, model__n_estimators=650; total time=   2.0s\n",
      "[CV] END model__bootstrap=False, model__max_depth=35, model__max_features=sqrt, model__min_samples_leaf=1, model__min_samples_split=2, model__n_estimators=1100; total time=   3.6s\n",
      "[CV] END model__bootstrap=True, model__max_depth=10, model__max_features=sqrt, model__min_samples_leaf=4, model__min_samples_split=10, model__n_estimators=1550; total time=   4.9s\n",
      "[CV] END model__bootstrap=False, model__max_depth=None, model__max_features=sqrt, model__min_samples_leaf=2, model__min_samples_split=2, model__n_estimators=650; total time=   5.4s\n",
      "[CV] END model__bootstrap=False, model__max_depth=None, model__max_features=auto, model__min_samples_leaf=1, model__min_samples_split=2, model__n_estimators=650; total time=   5.6s\n",
      "[CV] END model__bootstrap=False, model__max_depth=110, model__max_features=auto, model__min_samples_leaf=2, model__min_samples_split=5, model__n_estimators=1550; total time=  13.4s\n",
      "[CV] END model__bootstrap=True, model__max_depth=None, model__max_features=sqrt, model__min_samples_leaf=1, model__min_samples_split=2, model__n_estimators=200; total time=   1.3s\n",
      "[CV] END model__bootstrap=False, model__max_depth=110, model__max_features=auto, model__min_samples_leaf=1, model__min_samples_split=10, model__n_estimators=1100; total time=   9.3s\n",
      "[CV] END model__bootstrap=True, model__max_depth=110, model__max_features=auto, model__min_samples_leaf=1, model__min_samples_split=10, model__n_estimators=650; total time=   4.1s\n",
      "[CV] END model__bootstrap=False, model__max_depth=None, model__max_features=auto, model__min_samples_leaf=4, model__min_samples_split=5, model__n_estimators=2000; total time=  16.3s\n",
      "[CV] END model__bootstrap=True, model__max_depth=85, model__max_features=auto, model__min_samples_leaf=4, model__min_samples_split=5, model__n_estimators=2000; total time=  12.3s\n",
      "[CV] END model__bootstrap=True, model__max_depth=35, model__max_features=auto, model__min_samples_leaf=2, model__min_samples_split=2, model__n_estimators=2000; total time=  12.8s\n",
      "[CV] END model__bootstrap=True, model__max_depth=60, model__max_features=auto, model__min_samples_leaf=2, model__min_samples_split=2, model__n_estimators=2000; total time=  12.8s\n",
      "[CV] END model__bootstrap=False, model__max_depth=None, model__max_features=sqrt, model__min_samples_leaf=2, model__min_samples_split=10, model__n_estimators=1100; total time=   9.1s\n",
      "[CV] END model__bootstrap=True, model__max_depth=None, model__max_features=auto, model__min_samples_leaf=2, model__min_samples_split=10, model__n_estimators=1100; total time=   6.9s\n",
      "[CV] END model__bootstrap=False, model__max_depth=85, model__max_features=auto, model__min_samples_leaf=2, model__min_samples_split=2, model__n_estimators=200; total time=   1.7s\n",
      "[CV] END model__bootstrap=False, model__max_depth=10, model__max_features=sqrt, model__min_samples_leaf=1, model__min_samples_split=10, model__n_estimators=650; total time=   5.0s\n",
      "[CV] END model__bootstrap=False, model__max_depth=None, model__max_features=sqrt, model__min_samples_leaf=4, model__min_samples_split=5, model__n_estimators=2000; total time=  16.3s\n",
      "[CV] END model__bootstrap=False, model__max_depth=35, model__max_features=sqrt, model__min_samples_leaf=4, model__min_samples_split=10, model__n_estimators=1550; total time=  12.6s\n",
      "[CV] END model__bootstrap=True, model__max_depth=35, model__max_features=sqrt, model__min_samples_leaf=1, model__min_samples_split=5, model__n_estimators=650; total time=   4.2s\n",
      "[CV] END model__bootstrap=False, model__max_depth=None, model__max_features=sqrt, model__min_samples_leaf=1, model__min_samples_split=2, model__n_estimators=2000; total time=  16.0s\n",
      "[CV] END model__bootstrap=False, model__max_depth=10, model__max_features=sqrt, model__min_samples_leaf=1, model__min_samples_split=2, model__n_estimators=1550; total time=   4.3s\n",
      "[CV] END model__bootstrap=False, model__max_depth=None, model__max_features=sqrt, model__min_samples_leaf=1, model__min_samples_split=10, model__n_estimators=1550; total time=   4.8s\n",
      "[CV] END model__bootstrap=True, model__max_depth=None, model__max_features=sqrt, model__min_samples_leaf=1, model__min_samples_split=2, model__n_estimators=200; total time=   0.7s\n",
      "[CV] END model__bootstrap=False, model__max_depth=110, model__max_features=auto, model__min_samples_leaf=1, model__min_samples_split=10, model__n_estimators=1100; total time=   3.5s\n",
      "[CV] END model__bootstrap=True, model__max_depth=110, model__max_features=auto, model__min_samples_leaf=2, model__min_samples_split=10, model__n_estimators=1550; total time=   5.1s\n",
      "[CV] END model__bootstrap=True, model__max_depth=10, model__max_features=sqrt, model__min_samples_leaf=1, model__min_samples_split=5, model__n_estimators=650; total time=   2.1s\n",
      "[CV] END model__bootstrap=False, model__max_depth=10, model__max_features=sqrt, model__min_samples_leaf=4, model__min_samples_split=2, model__n_estimators=1100; total time=   3.3s\n",
      "[CV] END model__bootstrap=False, model__max_depth=None, model__max_features=sqrt, model__min_samples_leaf=4, model__min_samples_split=10, model__n_estimators=650; total time=   2.0s\n",
      "[CV] END model__bootstrap=False, model__max_depth=35, model__max_features=sqrt, model__min_samples_leaf=1, model__min_samples_split=2, model__n_estimators=1100; total time=   3.5s\n",
      "[CV] END model__bootstrap=True, model__max_depth=10, model__max_features=sqrt, model__min_samples_leaf=4, model__min_samples_split=10, model__n_estimators=1550; total time=   4.8s\n",
      "[CV] END model__bootstrap=True, model__max_depth=110, model__max_features=auto, model__min_samples_leaf=2, model__min_samples_split=5, model__n_estimators=650; total time=   2.1s\n",
      "[CV] END model__bootstrap=False, model__max_depth=85, model__max_features=auto, model__min_samples_leaf=4, model__min_samples_split=2, model__n_estimators=2000; total time=   6.0s\n",
      "[CV] END model__bootstrap=False, model__max_depth=85, model__max_features=auto, model__min_samples_leaf=4, model__min_samples_split=10, model__n_estimators=2000; total time=   6.1s\n",
      "[CV] END model__bootstrap=True, model__max_depth=35, model__max_features=auto, model__min_samples_leaf=2, model__min_samples_split=5, model__n_estimators=1550; total time=   5.0s\n",
      "[CV] END model__bootstrap=False, model__max_depth=110, model__max_features=sqrt, model__min_samples_leaf=1, model__min_samples_split=2, model__n_estimators=200; total time=   0.6s\n",
      "[CV] END model__bootstrap=False, model__max_depth=10, model__max_features=sqrt, model__min_samples_leaf=2, model__min_samples_split=10, model__n_estimators=650; total time=   1.9s\n",
      "[CV] END model__bootstrap=False, model__max_depth=60, model__max_features=auto, model__min_samples_leaf=2, model__min_samples_split=10, model__n_estimators=650; total time=   2.0s\n",
      "[CV] END model__bootstrap=True, model__max_depth=110, model__max_features=auto, model__min_samples_leaf=4, model__min_samples_split=10, model__n_estimators=2000; total time=   6.3s\n",
      "[CV] END model__bootstrap=False, model__max_depth=None, model__max_features=sqrt, model__min_samples_leaf=1, model__min_samples_split=2, model__n_estimators=2000; total time=   6.7s\n",
      "[CV] END model__bootstrap=False, model__max_depth=10, model__max_features=sqrt, model__min_samples_leaf=1, model__min_samples_split=2, model__n_estimators=1550; total time=   4.9s\n",
      "[CV] END model__bootstrap=False, model__max_depth=None, model__max_features=sqrt, model__min_samples_leaf=1, model__min_samples_split=10, model__n_estimators=1550; total time=   4.8s\n",
      "[CV] END model__bootstrap=True, model__max_depth=None, model__max_features=sqrt, model__min_samples_leaf=1, model__min_samples_split=2, model__n_estimators=200; total time=   0.7s\n",
      "[CV] END model__bootstrap=False, model__max_depth=110, model__max_features=auto, model__min_samples_leaf=1, model__min_samples_split=10, model__n_estimators=1100; total time=   3.5s\n",
      "[CV] END model__bootstrap=True, model__max_depth=None, model__max_features=sqrt, model__min_samples_leaf=4, model__min_samples_split=2, model__n_estimators=1550; total time=   5.1s\n",
      "[CV] END model__bootstrap=True, model__max_depth=35, model__max_features=sqrt, model__min_samples_leaf=4, model__min_samples_split=5, model__n_estimators=2000; total time=   6.5s\n",
      "[CV] END model__bootstrap=False, model__max_depth=35, model__max_features=sqrt, model__min_samples_leaf=1, model__min_samples_split=2, model__n_estimators=1100; total time=   3.5s\n",
      "[CV] END model__bootstrap=True, model__max_depth=35, model__max_features=auto, model__min_samples_leaf=2, model__min_samples_split=2, model__n_estimators=2000; total time=   6.5s\n"
     ]
    },
    {
     "name": "stdout",
     "output_type": "stream",
     "text": [
      "[CV] END model__bootstrap=False, model__max_depth=10, model__max_features=sqrt, model__min_samples_leaf=4, model__min_samples_split=2, model__n_estimators=650; total time=   4.8s\n",
      "[CV] END model__bootstrap=False, model__max_depth=10, model__max_features=sqrt, model__min_samples_leaf=4, model__min_samples_split=2, model__n_estimators=650; total time=   5.0s\n",
      "[CV] END model__bootstrap=False, model__max_depth=None, model__max_features=sqrt, model__min_samples_leaf=4, model__min_samples_split=5, model__n_estimators=650; total time=   5.6s\n",
      "[CV] END model__bootstrap=False, model__max_depth=35, model__max_features=auto, model__min_samples_leaf=1, model__min_samples_split=2, model__n_estimators=2000; total time=  17.0s\n",
      "[CV] END model__bootstrap=True, model__max_depth=110, model__max_features=auto, model__min_samples_leaf=2, model__min_samples_split=10, model__n_estimators=1550; total time=   9.7s\n",
      "[CV] END model__bootstrap=False, model__max_depth=None, model__max_features=auto, model__min_samples_leaf=4, model__min_samples_split=5, model__n_estimators=2000; total time=  15.9s\n",
      "[CV] END model__bootstrap=False, model__max_depth=35, model__max_features=sqrt, model__min_samples_leaf=4, model__min_samples_split=2, model__n_estimators=650; total time=   5.3s\n",
      "[CV] END model__bootstrap=False, model__max_depth=None, model__max_features=auto, model__min_samples_leaf=1, model__min_samples_split=2, model__n_estimators=1100; total time=   9.6s\n",
      "[CV] END model__bootstrap=False, model__max_depth=60, model__max_features=sqrt, model__min_samples_leaf=2, model__min_samples_split=5, model__n_estimators=1100; total time=   9.1s\n",
      "[CV] END model__bootstrap=False, model__max_depth=10, model__max_features=sqrt, model__min_samples_leaf=4, model__min_samples_split=5, model__n_estimators=650; total time=   4.9s\n",
      "[CV] END model__bootstrap=True, model__max_depth=None, model__max_features=auto, model__min_samples_leaf=1, model__min_samples_split=2, model__n_estimators=1550; total time=  10.3s\n",
      "[CV] END model__bootstrap=True, model__max_depth=85, model__max_features=auto, model__min_samples_leaf=2, model__min_samples_split=2, model__n_estimators=2000; total time=  12.9s\n",
      "[CV] END model__bootstrap=False, model__max_depth=None, model__max_features=auto, model__min_samples_leaf=2, model__min_samples_split=5, model__n_estimators=2000; total time=  16.3s\n",
      "[CV] END model__bootstrap=False, model__max_depth=10, model__max_features=sqrt, model__min_samples_leaf=2, model__min_samples_split=10, model__n_estimators=650; total time=   4.9s\n",
      "[CV] END model__bootstrap=False, model__max_depth=60, model__max_features=auto, model__min_samples_leaf=2, model__min_samples_split=10, model__n_estimators=650; total time=   5.5s\n",
      "[CV] END model__bootstrap=True, model__max_depth=10, model__max_features=auto, model__min_samples_leaf=2, model__min_samples_split=5, model__n_estimators=1550; total time=   9.3s\n",
      "[CV] END model__bootstrap=True, model__max_depth=None, model__max_features=sqrt, model__min_samples_leaf=1, model__min_samples_split=5, model__n_estimators=650; total time=   4.2s\n",
      "[CV] END model__bootstrap=True, model__max_depth=None, model__max_features=auto, model__min_samples_leaf=1, model__min_samples_split=10, model__n_estimators=2000; total time=  12.9s\n",
      "[CV] END model__bootstrap=False, model__max_depth=60, model__max_features=auto, model__min_samples_leaf=1, model__min_samples_split=10, model__n_estimators=650; total time=   1.9s\n",
      "[CV] END model__bootstrap=False, model__max_depth=10, model__max_features=sqrt, model__min_samples_leaf=4, model__min_samples_split=2, model__n_estimators=650; total time=   1.8s\n",
      "[CV] END model__bootstrap=False, model__max_depth=None, model__max_features=auto, model__min_samples_leaf=1, model__min_samples_split=2, model__n_estimators=1550; total time=   5.2s\n",
      "[CV] END model__bootstrap=True, model__max_depth=85, model__max_features=sqrt, model__min_samples_leaf=2, model__min_samples_split=2, model__n_estimators=1550; total time=   5.5s\n",
      "[CV] END model__bootstrap=False, model__max_depth=85, model__max_features=auto, model__min_samples_leaf=2, model__min_samples_split=10, model__n_estimators=1100; total time=   3.6s\n",
      "[CV] END model__bootstrap=False, model__max_depth=35, model__max_features=auto, model__min_samples_leaf=2, model__min_samples_split=10, model__n_estimators=650; total time=   2.0s\n",
      "[CV] END model__bootstrap=True, model__max_depth=35, model__max_features=sqrt, model__min_samples_leaf=4, model__min_samples_split=5, model__n_estimators=2000; total time=   6.3s\n",
      "[CV] END model__bootstrap=False, model__max_depth=110, model__max_features=sqrt, model__min_samples_leaf=1, model__min_samples_split=5, model__n_estimators=2000; total time=   6.4s\n",
      "[CV] END model__bootstrap=True, model__max_depth=60, model__max_features=auto, model__min_samples_leaf=1, model__min_samples_split=10, model__n_estimators=1100; total time=   3.6s\n",
      "[CV] END model__bootstrap=False, model__max_depth=85, model__max_features=auto, model__min_samples_leaf=4, model__min_samples_split=2, model__n_estimators=2000; total time=   6.0s\n",
      "[CV] END model__bootstrap=False, model__max_depth=85, model__max_features=auto, model__min_samples_leaf=4, model__min_samples_split=10, model__n_estimators=2000; total time=   6.3s\n",
      "[CV] END model__bootstrap=True, model__max_depth=35, model__max_features=auto, model__min_samples_leaf=2, model__min_samples_split=5, model__n_estimators=1550; total time=   5.0s\n",
      "[CV] END model__bootstrap=False, model__max_depth=85, model__max_features=sqrt, model__min_samples_leaf=2, model__min_samples_split=10, model__n_estimators=650; total time=   2.0s\n",
      "[CV] END model__bootstrap=True, model__max_depth=10, model__max_features=sqrt, model__min_samples_leaf=1, model__min_samples_split=10, model__n_estimators=2000; total time=   6.4s\n",
      "[CV] END model__bootstrap=True, model__max_depth=35, model__max_features=sqrt, model__min_samples_leaf=1, model__min_samples_split=5, model__n_estimators=650; total time=   2.1s\n",
      "[CV] END model__bootstrap=True, model__max_depth=110, model__max_features=sqrt, model__min_samples_leaf=4, model__min_samples_split=2, model__n_estimators=2000; total time=   6.8s\n",
      "[CV] END model__bootstrap=False, model__max_depth=60, model__max_features=auto, model__min_samples_leaf=1, model__min_samples_split=10, model__n_estimators=650; total time=   2.1s\n",
      "[CV] END model__bootstrap=False, model__max_depth=10, model__max_features=sqrt, model__min_samples_leaf=4, model__min_samples_split=2, model__n_estimators=650; total time=   1.9s\n",
      "[CV] END model__bootstrap=False, model__max_depth=None, model__max_features=auto, model__min_samples_leaf=1, model__min_samples_split=2, model__n_estimators=1550; total time=   4.9s\n",
      "[CV] END model__bootstrap=True, model__max_depth=85, model__max_features=sqrt, model__min_samples_leaf=2, model__min_samples_split=2, model__n_estimators=1550; total time=   5.2s\n",
      "[CV] END model__bootstrap=False, model__max_depth=110, model__max_features=sqrt, model__min_samples_leaf=4, model__min_samples_split=10, model__n_estimators=1100; total time=   3.4s\n",
      "[CV] END model__bootstrap=False, model__max_depth=60, model__max_features=auto, model__min_samples_leaf=4, model__min_samples_split=10, model__n_estimators=200; total time=   0.6s\n",
      "[CV] END model__bootstrap=False, model__max_depth=35, model__max_features=sqrt, model__min_samples_leaf=1, model__min_samples_split=2, model__n_estimators=2000; total time=   6.5s\n",
      "[CV] END model__bootstrap=False, model__max_depth=35, model__max_features=sqrt, model__min_samples_leaf=4, model__min_samples_split=2, model__n_estimators=650; total time=   2.0s\n",
      "[CV] END model__bootstrap=False, model__max_depth=None, model__max_features=auto, model__min_samples_leaf=1, model__min_samples_split=2, model__n_estimators=1100; total time=   3.7s\n",
      "[CV] END model__bootstrap=True, model__max_depth=10, model__max_features=auto, model__min_samples_leaf=4, model__min_samples_split=2, model__n_estimators=650; total time=   2.1s\n",
      "[CV] END model__bootstrap=True, model__max_depth=60, model__max_features=auto, model__min_samples_leaf=1, model__min_samples_split=10, model__n_estimators=1100; total time=   3.6s\n",
      "[CV] END model__bootstrap=True, model__max_depth=110, model__max_features=sqrt, model__min_samples_leaf=2, model__min_samples_split=2, model__n_estimators=1550; total time=  10.3s\n",
      "[CV] END model__bootstrap=False, model__max_depth=None, model__max_features=sqrt, model__min_samples_leaf=4, model__min_samples_split=5, model__n_estimators=650; total time=   5.8s\n",
      "[CV] END model__bootstrap=True, model__max_depth=35, model__max_features=sqrt, model__min_samples_leaf=2, model__min_samples_split=5, model__n_estimators=1550; total time=  10.3s\n",
      "[CV] END model__bootstrap=False, model__max_depth=85, model__max_features=sqrt, model__min_samples_leaf=4, model__min_samples_split=5, model__n_estimators=1550; total time=  12.9s\n",
      "[CV] END model__bootstrap=True, model__max_depth=110, model__max_features=auto, model__min_samples_leaf=1, model__min_samples_split=10, model__n_estimators=650; total time=   4.0s\n",
      "[CV] END model__bootstrap=True, model__max_depth=10, model__max_features=sqrt, model__min_samples_leaf=1, model__min_samples_split=5, model__n_estimators=650; total time=   4.0s\n",
      "[CV] END model__bootstrap=True, model__max_depth=35, model__max_features=sqrt, model__min_samples_leaf=4, model__min_samples_split=5, model__n_estimators=2000; total time=  12.3s\n",
      "[CV] END model__bootstrap=False, model__max_depth=35, model__max_features=sqrt, model__min_samples_leaf=1, model__min_samples_split=2, model__n_estimators=1100; total time=   9.6s\n",
      "[CV] END model__bootstrap=True, model__max_depth=10, model__max_features=sqrt, model__min_samples_leaf=4, model__min_samples_split=10, model__n_estimators=1550; total time=   9.2s\n",
      "[CV] END model__bootstrap=True, model__max_depth=None, model__max_features=auto, model__min_samples_leaf=4, model__min_samples_split=10, model__n_estimators=1550; total time=   9.9s\n",
      "[CV] END model__bootstrap=False, model__max_depth=85, model__max_features=sqrt, model__min_samples_leaf=2, model__min_samples_split=10, model__n_estimators=1100; total time=   9.0s\n",
      "[CV] END model__bootstrap=True, model__max_depth=85, model__max_features=auto, model__min_samples_leaf=2, model__min_samples_split=2, model__n_estimators=2000; total time=  12.8s\n",
      "[CV] END model__bootstrap=False, model__max_depth=10, model__max_features=auto, model__min_samples_leaf=2, model__min_samples_split=5, model__n_estimators=200; total time=   1.5s\n",
      "[CV] END model__bootstrap=True, model__max_depth=110, model__max_features=auto, model__min_samples_leaf=2, model__min_samples_split=2, model__n_estimators=1100; total time=   7.0s\n",
      "[CV] END model__bootstrap=False, model__max_depth=110, model__max_features=sqrt, model__min_samples_leaf=1, model__min_samples_split=2, model__n_estimators=2000; total time=  17.4s\n",
      "[CV] END model__bootstrap=False, model__max_depth=None, model__max_features=sqrt, model__min_samples_leaf=4, model__min_samples_split=2, model__n_estimators=2000; total time=  16.4s\n",
      "[CV] END model__bootstrap=True, model__max_depth=None, model__max_features=auto, model__min_samples_leaf=1, model__min_samples_split=10, model__n_estimators=2000; total time=  11.7s\n",
      "[CV] END model__bootstrap=False, model__max_depth=60, model__max_features=auto, model__min_samples_leaf=1, model__min_samples_split=10, model__n_estimators=650; total time=   1.9s\n",
      "[CV] END model__bootstrap=False, model__max_depth=None, model__max_features=auto, model__min_samples_leaf=1, model__min_samples_split=2, model__n_estimators=650; total time=   2.1s\n",
      "[CV] END model__bootstrap=False, model__max_depth=110, model__max_features=auto, model__min_samples_leaf=2, model__min_samples_split=5, model__n_estimators=1550; total time=   5.1s\n",
      "[CV] END model__bootstrap=True, model__max_depth=85, model__max_features=sqrt, model__min_samples_leaf=2, model__min_samples_split=2, model__n_estimators=1550; total time=   5.4s\n",
      "[CV] END model__bootstrap=False, model__max_depth=85, model__max_features=auto, model__min_samples_leaf=2, model__min_samples_split=10, model__n_estimators=1100; total time=   3.5s\n",
      "[CV] END model__bootstrap=False, model__max_depth=35, model__max_features=auto, model__min_samples_leaf=2, model__min_samples_split=10, model__n_estimators=650; total time=   2.1s\n",
      "[CV] END model__bootstrap=True, model__max_depth=35, model__max_features=sqrt, model__min_samples_leaf=4, model__min_samples_split=5, model__n_estimators=2000; total time=   6.3s\n",
      "[CV] END model__bootstrap=False, model__max_depth=110, model__max_features=sqrt, model__min_samples_leaf=1, model__min_samples_split=5, model__n_estimators=2000; total time=   6.3s\n",
      "[CV] END model__bootstrap=True, model__max_depth=60, model__max_features=auto, model__min_samples_leaf=1, model__min_samples_split=10, model__n_estimators=1100; total time=   3.6s\n",
      "[CV] END model__bootstrap=False, model__max_depth=10, model__max_features=sqrt, model__min_samples_leaf=4, model__min_samples_split=5, model__n_estimators=650; total time=   1.9s\n",
      "[CV] END model__bootstrap=False, model__max_depth=85, model__max_features=sqrt, model__min_samples_leaf=2, model__min_samples_split=10, model__n_estimators=1100; total time=   3.3s\n",
      "[CV] END model__bootstrap=True, model__max_depth=85, model__max_features=auto, model__min_samples_leaf=2, model__min_samples_split=2, model__n_estimators=2000; total time=   6.6s\n",
      "[CV] END model__bootstrap=False, model__max_depth=None, model__max_features=auto, model__min_samples_leaf=2, model__min_samples_split=5, model__n_estimators=2000; total time=   6.2s\n",
      "[CV] END model__bootstrap=True, model__max_depth=35, model__max_features=auto, model__min_samples_leaf=2, model__min_samples_split=2, model__n_estimators=1100; total time=   3.6s\n",
      "[CV] END model__bootstrap=False, model__max_depth=35, model__max_features=sqrt, model__min_samples_leaf=4, model__min_samples_split=10, model__n_estimators=1550; total time=   4.7s\n",
      "[CV] END model__bootstrap=True, model__max_depth=None, model__max_features=sqrt, model__min_samples_leaf=1, model__min_samples_split=5, model__n_estimators=650; total time=   2.2s\n",
      "[CV] END model__bootstrap=False, model__max_depth=85, model__max_features=sqrt, model__min_samples_leaf=4, model__min_samples_split=2, model__n_estimators=1100; total time=   3.3s\n",
      "[CV] END model__bootstrap=True, model__max_depth=110, model__max_features=sqrt, model__min_samples_leaf=2, model__min_samples_split=2, model__n_estimators=1550; total time=   5.1s\n",
      "[CV] END model__bootstrap=False, model__max_depth=10, model__max_features=auto, model__min_samples_leaf=4, model__min_samples_split=10, model__n_estimators=650; total time=   2.0s\n",
      "[CV] END model__bootstrap=True, model__max_depth=35, model__max_features=sqrt, model__min_samples_leaf=2, model__min_samples_split=5, model__n_estimators=1550; total time=   5.0s\n",
      "[CV] END model__bootstrap=True, model__max_depth=10, model__max_features=sqrt, model__min_samples_leaf=1, model__min_samples_split=10, model__n_estimators=650; total time=   2.1s\n",
      "[CV] END model__bootstrap=False, model__max_depth=85, model__max_features=auto, model__min_samples_leaf=2, model__min_samples_split=10, model__n_estimators=1100; total time=   3.5s\n",
      "[CV] END model__bootstrap=False, model__max_depth=35, model__max_features=auto, model__min_samples_leaf=2, model__min_samples_split=10, model__n_estimators=650; total time=   2.0s\n",
      "[CV] END model__bootstrap=True, model__max_depth=35, model__max_features=sqrt, model__min_samples_leaf=4, model__min_samples_split=5, model__n_estimators=2000; total time=   6.6s\n",
      "[CV] END model__bootstrap=False, model__max_depth=110, model__max_features=sqrt, model__min_samples_leaf=1, model__min_samples_split=5, model__n_estimators=2000; total time=   6.5s\n",
      "[CV] END model__bootstrap=True, model__max_depth=None, model__max_features=auto, model__min_samples_leaf=4, model__min_samples_split=10, model__n_estimators=1550; total time=   5.1s\n",
      "[CV] END model__bootstrap=True, model__max_depth=None, model__max_features=auto, model__min_samples_leaf=1, model__min_samples_split=2, model__n_estimators=1550; total time=   5.3s\n",
      "[CV] END model__bootstrap=False, model__max_depth=85, model__max_features=auto, model__min_samples_leaf=1, model__min_samples_split=5, model__n_estimators=2000; total time=   6.6s\n"
     ]
    },
    {
     "name": "stdout",
     "output_type": "stream",
     "text": [
      "[CV] END model__bootstrap=False, model__max_depth=10, model__max_features=auto, model__min_samples_leaf=1, model__min_samples_split=5, model__n_estimators=1550; total time=  11.7s\n",
      "[CV] END model__bootstrap=False, model__max_depth=None, model__max_features=sqrt, model__min_samples_leaf=1, model__min_samples_split=10, model__n_estimators=1550; total time=  13.0s\n",
      "[CV] END model__bootstrap=True, model__max_depth=None, model__max_features=sqrt, model__min_samples_leaf=1, model__min_samples_split=2, model__n_estimators=200; total time=   1.3s\n",
      "[CV] END model__bootstrap=False, model__max_depth=110, model__max_features=auto, model__min_samples_leaf=1, model__min_samples_split=10, model__n_estimators=1100; total time=   9.1s\n",
      "[CV] END model__bootstrap=False, model__max_depth=85, model__max_features=auto, model__min_samples_leaf=2, model__min_samples_split=10, model__n_estimators=1100; total time=   9.2s\n",
      "[CV] END model__bootstrap=True, model__max_depth=35, model__max_features=sqrt, model__min_samples_leaf=4, model__min_samples_split=5, model__n_estimators=2000; total time=  12.8s\n",
      "[CV] END model__bootstrap=True, model__max_depth=110, model__max_features=auto, model__min_samples_leaf=2, model__min_samples_split=10, model__n_estimators=2000; total time=  12.5s\n",
      "[CV] END model__bootstrap=True, model__max_depth=10, model__max_features=auto, model__min_samples_leaf=4, model__min_samples_split=2, model__n_estimators=650; total time=   3.8s\n",
      "[CV] END model__bootstrap=False, model__max_depth=10, model__max_features=auto, model__min_samples_leaf=1, model__min_samples_split=2, model__n_estimators=1550; total time=  11.9s\n",
      "[CV] END model__bootstrap=False, model__max_depth=110, model__max_features=auto, model__min_samples_leaf=4, model__min_samples_split=2, model__n_estimators=1550; total time=  12.8s\n",
      "[CV] END model__bootstrap=False, model__max_depth=85, model__max_features=auto, model__min_samples_leaf=1, model__min_samples_split=5, model__n_estimators=2000; total time=  17.6s\n",
      "[CV] END model__bootstrap=False, model__max_depth=10, model__max_features=auto, model__min_samples_leaf=4, model__min_samples_split=5, model__n_estimators=1550; total time=  11.9s\n",
      "[CV] END model__bootstrap=True, model__max_depth=35, model__max_features=auto, model__min_samples_leaf=2, model__min_samples_split=2, model__n_estimators=1100; total time=   7.2s\n",
      "[CV] END model__bootstrap=True, model__max_depth=110, model__max_features=auto, model__min_samples_leaf=4, model__min_samples_split=10, model__n_estimators=2000; total time=  12.7s\n",
      "[CV] END model__bootstrap=True, model__max_depth=110, model__max_features=sqrt, model__min_samples_leaf=4, model__min_samples_split=2, model__n_estimators=2000; total time=  12.7s\n",
      "[CV] END model__bootstrap=False, model__max_depth=10, model__max_features=auto, model__min_samples_leaf=1, model__min_samples_split=5, model__n_estimators=1550; total time=   4.2s\n",
      "[CV] END model__bootstrap=False, model__max_depth=110, model__max_features=auto, model__min_samples_leaf=2, model__min_samples_split=5, model__n_estimators=1550; total time=   5.1s\n",
      "[CV] END model__bootstrap=False, model__max_depth=110, model__max_features=auto, model__min_samples_leaf=1, model__min_samples_split=10, model__n_estimators=1100; total time=   3.7s\n",
      "[CV] END model__bootstrap=True, model__max_depth=10, model__max_features=sqrt, model__min_samples_leaf=2, model__min_samples_split=10, model__n_estimators=200; total time=   0.8s\n",
      "[CV] END model__bootstrap=True, model__max_depth=None, model__max_features=sqrt, model__min_samples_leaf=4, model__min_samples_split=2, model__n_estimators=1550; total time=   5.2s\n",
      "[CV] END model__bootstrap=True, model__max_depth=35, model__max_features=sqrt, model__min_samples_leaf=4, model__min_samples_split=5, model__n_estimators=2000; total time=   6.4s\n",
      "[CV] END model__bootstrap=False, model__max_depth=35, model__max_features=sqrt, model__min_samples_leaf=1, model__min_samples_split=2, model__n_estimators=1100; total time=   3.5s\n",
      "[CV] END model__bootstrap=True, model__max_depth=35, model__max_features=auto, model__min_samples_leaf=2, model__min_samples_split=2, model__n_estimators=2000; total time=   6.4s\n",
      "[CV] END model__bootstrap=False, model__max_depth=10, model__max_features=sqrt, model__min_samples_leaf=4, model__min_samples_split=5, model__n_estimators=650; total time=   1.9s\n",
      "[CV] END model__bootstrap=False, model__max_depth=35, model__max_features=auto, model__min_samples_leaf=4, model__min_samples_split=2, model__n_estimators=200; total time=   0.6s\n",
      "[CV] END model__bootstrap=True, model__max_depth=None, model__max_features=auto, model__min_samples_leaf=1, model__min_samples_split=2, model__n_estimators=1550; total time=   5.2s\n",
      "[CV] END model__bootstrap=False, model__max_depth=85, model__max_features=auto, model__min_samples_leaf=1, model__min_samples_split=5, model__n_estimators=2000; total time=   6.3s\n",
      "[CV] END model__bootstrap=False, model__max_depth=None, model__max_features=sqrt, model__min_samples_leaf=4, model__min_samples_split=5, model__n_estimators=2000; total time=   6.0s\n",
      "[CV] END model__bootstrap=True, model__max_depth=10, model__max_features=sqrt, model__min_samples_leaf=1, model__min_samples_split=10, model__n_estimators=2000; total time=   6.5s\n",
      "[CV] END model__bootstrap=True, model__max_depth=35, model__max_features=sqrt, model__min_samples_leaf=1, model__min_samples_split=5, model__n_estimators=650; total time=   2.2s\n",
      "[CV] END model__bootstrap=True, model__max_depth=110, model__max_features=sqrt, model__min_samples_leaf=4, model__min_samples_split=2, model__n_estimators=2000; total time=   6.1s\n",
      "[CV] END model__bootstrap=False, model__max_depth=10, model__max_features=auto, model__min_samples_leaf=1, model__min_samples_split=5, model__n_estimators=1550; total time=   5.0s\n",
      "[CV] END model__bootstrap=False, model__max_depth=10, model__max_features=auto, model__min_samples_leaf=4, model__min_samples_split=10, model__n_estimators=650; total time=   2.0s\n",
      "[CV] END model__bootstrap=True, model__max_depth=35, model__max_features=sqrt, model__min_samples_leaf=2, model__min_samples_split=5, model__n_estimators=1550; total time=   5.0s\n",
      "[CV] END model__bootstrap=True, model__max_depth=10, model__max_features=sqrt, model__min_samples_leaf=1, model__min_samples_split=10, model__n_estimators=650; total time=   2.1s\n",
      "[CV] END model__bootstrap=False, model__max_depth=110, model__max_features=sqrt, model__min_samples_leaf=4, model__min_samples_split=10, model__n_estimators=1100; total time=   3.4s\n",
      "[CV] END model__bootstrap=False, model__max_depth=60, model__max_features=auto, model__min_samples_leaf=4, model__min_samples_split=10, model__n_estimators=200; total time=   0.6s\n",
      "[CV] END model__bootstrap=False, model__max_depth=35, model__max_features=auto, model__min_samples_leaf=2, model__min_samples_split=10, model__n_estimators=650; total time=   2.0s\n",
      "[CV] END model__bootstrap=False, model__max_depth=10, model__max_features=sqrt, model__min_samples_leaf=4, model__min_samples_split=2, model__n_estimators=1100; total time=   3.3s\n",
      "[CV] END model__bootstrap=True, model__max_depth=85, model__max_features=auto, model__min_samples_leaf=4, model__min_samples_split=5, model__n_estimators=2000; total time=   6.4s\n",
      "[CV] END model__bootstrap=True, model__max_depth=10, model__max_features=sqrt, model__min_samples_leaf=4, model__min_samples_split=10, model__n_estimators=1550; total time=   4.8s\n",
      "[CV] END model__bootstrap=True, model__max_depth=60, model__max_features=auto, model__min_samples_leaf=2, model__min_samples_split=2, model__n_estimators=2000; total time=   6.7s\n",
      "[CV] END model__bootstrap=False, model__max_depth=None, model__max_features=sqrt, model__min_samples_leaf=2, model__min_samples_split=10, model__n_estimators=1100; total time=   3.8s\n",
      "[CV] END model__bootstrap=True, model__max_depth=None, model__max_features=auto, model__min_samples_leaf=2, model__min_samples_split=10, model__n_estimators=1100; total time=   3.6s\n",
      "[CV] END model__bootstrap=False, model__max_depth=10, model__max_features=sqrt, model__min_samples_leaf=1, model__min_samples_split=10, model__n_estimators=650; total time=   2.2s\n",
      "[CV] END model__bootstrap=False, model__max_depth=10, model__max_features=sqrt, model__min_samples_leaf=1, model__min_samples_split=2, model__n_estimators=1550; total time=  11.7s\n",
      "[CV] END model__bootstrap=False, model__max_depth=10, model__max_features=auto, model__min_samples_leaf=4, model__min_samples_split=10, model__n_estimators=650; total time=   5.1s\n",
      "[CV] END model__bootstrap=True, model__max_depth=35, model__max_features=sqrt, model__min_samples_leaf=2, model__min_samples_split=5, model__n_estimators=1550; total time=  10.0s\n",
      "[CV] END model__bootstrap=False, model__max_depth=85, model__max_features=sqrt, model__min_samples_leaf=4, model__min_samples_split=5, model__n_estimators=1550; total time=  12.6s\n",
      "[CV] END model__bootstrap=False, model__max_depth=None, model__max_features=auto, model__min_samples_leaf=4, model__min_samples_split=5, model__n_estimators=2000; total time=  16.3s\n",
      "[CV] END model__bootstrap=True, model__max_depth=85, model__max_features=auto, model__min_samples_leaf=4, model__min_samples_split=5, model__n_estimators=2000; total time=  12.4s\n",
      "[CV] END model__bootstrap=True, model__max_depth=10, model__max_features=sqrt, model__min_samples_leaf=4, model__min_samples_split=10, model__n_estimators=1550; total time=   9.1s\n",
      "[CV] END model__bootstrap=True, model__max_depth=60, model__max_features=auto, model__min_samples_leaf=1, model__min_samples_split=10, model__n_estimators=1100; total time=   7.0s\n",
      "[CV] END model__bootstrap=False, model__max_depth=85, model__max_features=auto, model__min_samples_leaf=4, model__min_samples_split=2, model__n_estimators=2000; total time=  15.9s\n",
      "[CV] END model__bootstrap=False, model__max_depth=85, model__max_features=auto, model__min_samples_leaf=1, model__min_samples_split=5, model__n_estimators=2000; total time=  16.6s\n",
      "[CV] END model__bootstrap=False, model__max_depth=110, model__max_features=sqrt, model__min_samples_leaf=1, model__min_samples_split=2, model__n_estimators=2000; total time=  17.4s\n",
      "[CV] END model__bootstrap=False, model__max_depth=35, model__max_features=sqrt, model__min_samples_leaf=4, model__min_samples_split=10, model__n_estimators=1550; total time=  12.7s\n",
      "[CV] END model__bootstrap=True, model__max_depth=110, model__max_features=sqrt, model__min_samples_leaf=4, model__min_samples_split=2, model__n_estimators=2000; total time=  12.7s\n",
      "[CV] END model__bootstrap=True, model__max_depth=110, model__max_features=sqrt, model__min_samples_leaf=2, model__min_samples_split=2, model__n_estimators=1550; total time=   4.5s\n",
      "[CV] END model__bootstrap=False, model__max_depth=10, model__max_features=auto, model__min_samples_leaf=4, model__min_samples_split=10, model__n_estimators=650; total time=   1.9s\n",
      "[CV] END model__bootstrap=True, model__max_depth=35, model__max_features=sqrt, model__min_samples_leaf=2, model__min_samples_split=5, model__n_estimators=1550; total time=   5.3s\n",
      "[CV] END model__bootstrap=True, model__max_depth=10, model__max_features=sqrt, model__min_samples_leaf=1, model__min_samples_split=10, model__n_estimators=650; total time=   2.2s\n",
      "[CV] END model__bootstrap=False, model__max_depth=110, model__max_features=sqrt, model__min_samples_leaf=4, model__min_samples_split=10, model__n_estimators=1100; total time=   3.4s\n",
      "[CV] END model__bootstrap=False, model__max_depth=None, model__max_features=auto, model__min_samples_leaf=4, model__min_samples_split=5, model__n_estimators=2000; total time=   6.2s\n",
      "[CV] END model__bootstrap=True, model__max_depth=85, model__max_features=auto, model__min_samples_leaf=4, model__min_samples_split=5, model__n_estimators=2000; total time=   6.5s\n",
      "[CV] END model__bootstrap=True, model__max_depth=10, model__max_features=sqrt, model__min_samples_leaf=4, model__min_samples_split=10, model__n_estimators=1550; total time=   4.9s\n",
      "[CV] END model__bootstrap=True, model__max_depth=60, model__max_features=auto, model__min_samples_leaf=2, model__min_samples_split=2, model__n_estimators=2000; total time=   6.6s\n",
      "[CV] END model__bootstrap=False, model__max_depth=35, model__max_features=sqrt, model__min_samples_leaf=2, model__min_samples_split=2, model__n_estimators=1100; total time=   3.5s\n",
      "[CV] END model__bootstrap=True, model__max_depth=None, model__max_features=auto, model__min_samples_leaf=2, model__min_samples_split=10, model__n_estimators=1100; total time=   3.6s\n",
      "[CV] END model__bootstrap=True, model__max_depth=110, model__max_features=auto, model__min_samples_leaf=2, model__min_samples_split=2, model__n_estimators=1100; total time=   3.7s\n",
      "[CV] END model__bootstrap=False, model__max_depth=85, model__max_features=sqrt, model__min_samples_leaf=2, model__min_samples_split=10, model__n_estimators=650; total time=   2.0s\n",
      "[CV] END model__bootstrap=True, model__max_depth=60, model__max_features=sqrt, model__min_samples_leaf=4, model__min_samples_split=2, model__n_estimators=650; total time=   2.0s\n",
      "[CV] END model__bootstrap=False, model__max_depth=60, model__max_features=auto, model__min_samples_leaf=2, model__min_samples_split=10, model__n_estimators=650; total time=   2.0s\n",
      "[CV] END model__bootstrap=True, model__max_depth=110, model__max_features=auto, model__min_samples_leaf=4, model__min_samples_split=10, model__n_estimators=2000; total time=   6.3s\n",
      "[CV] END model__bootstrap=False, model__max_depth=None, model__max_features=sqrt, model__min_samples_leaf=1, model__min_samples_split=2, model__n_estimators=2000; total time=   6.1s\n",
      "[CV] END model__bootstrap=False, model__max_depth=60, model__max_features=auto, model__min_samples_leaf=1, model__min_samples_split=10, model__n_estimators=650; total time=   2.1s\n",
      "[CV] END model__bootstrap=False, model__max_depth=None, model__max_features=auto, model__min_samples_leaf=1, model__min_samples_split=2, model__n_estimators=650; total time=   2.1s\n",
      "[CV] END model__bootstrap=False, model__max_depth=None, model__max_features=sqrt, model__min_samples_leaf=4, model__min_samples_split=5, model__n_estimators=650; total time=   2.0s\n",
      "[CV] END model__bootstrap=True, model__max_depth=35, model__max_features=sqrt, model__min_samples_leaf=2, model__min_samples_split=5, model__n_estimators=1550; total time=   5.3s\n",
      "[CV] END model__bootstrap=False, model__max_depth=85, model__max_features=sqrt, model__min_samples_leaf=4, model__min_samples_split=5, model__n_estimators=1550; total time=   5.0s\n",
      "[CV] END model__bootstrap=False, model__max_depth=None, model__max_features=auto, model__min_samples_leaf=4, model__min_samples_split=5, model__n_estimators=2000; total time=   6.2s\n",
      "[CV] END model__bootstrap=True, model__max_depth=10, model__max_features=sqrt, model__min_samples_leaf=4, model__min_samples_split=10, model__n_estimators=650; total time=   2.2s\n",
      "[CV] END model__bootstrap=False, model__max_depth=35, model__max_features=sqrt, model__min_samples_leaf=1, model__min_samples_split=2, model__n_estimators=1100; total time=   3.7s\n",
      "[CV] END model__bootstrap=True, model__max_depth=35, model__max_features=auto, model__min_samples_leaf=2, model__min_samples_split=2, model__n_estimators=2000; total time=   6.4s\n",
      "[CV] END model__bootstrap=True, model__max_depth=60, model__max_features=auto, model__min_samples_leaf=2, model__min_samples_split=2, model__n_estimators=2000; total time=   6.7s\n",
      "[CV] END model__bootstrap=True, model__max_depth=85, model__max_features=auto, model__min_samples_leaf=2, model__min_samples_split=2, model__n_estimators=2000; total time=   6.9s\n",
      "[CV] END model__bootstrap=False, model__max_depth=10, model__max_features=sqrt, model__min_samples_leaf=1, model__min_samples_split=10, model__n_estimators=650; total time=   2.1s\n",
      "[CV] END model__bootstrap=False, model__max_depth=None, model__max_features=sqrt, model__min_samples_leaf=4, model__min_samples_split=5, model__n_estimators=2000; total time=   6.3s\n",
      "[CV] END model__bootstrap=False, model__max_depth=60, model__max_features=auto, model__min_samples_leaf=2, model__min_samples_split=10, model__n_estimators=650; total time=   2.2s\n",
      "[CV] END model__bootstrap=False, model__max_depth=None, model__max_features=sqrt, model__min_samples_leaf=4, model__min_samples_split=2, model__n_estimators=2000; total time=   6.3s\n"
     ]
    },
    {
     "name": "stdout",
     "output_type": "stream",
     "text": [
      "CPU times: user 3.63 s, sys: 132 ms, total: 3.76 s\n",
      "Wall time: 1min 16s\n"
     ]
    },
    {
     "data": {
      "text/plain": [
       "RandomizedSearchCV(cv=3,\n",
       "                   estimator=Pipeline(steps=[('impute',\n",
       "                                              SimpleImputer(strategy='median')),\n",
       "                                             ('oversample',\n",
       "                                              RandomUnderSampler(random_state=42)),\n",
       "                                             ('model',\n",
       "                                              RandomForestClassifier(class_weight='balanced'))]),\n",
       "                   n_iter=100, n_jobs=-1,\n",
       "                   param_distributions={'model__bootstrap': [True, False],\n",
       "                                        'model__max_depth': [10, 35, 60, 85,\n",
       "                                                             110, None],\n",
       "                                        'model__max_features': ['auto', 'sqrt'],\n",
       "                                        'model__min_samples_leaf': [1, 2, 4],\n",
       "                                        'model__min_samples_split': [2, 5, 10],\n",
       "                                        'model__n_estimators': [200, 650, 1100,\n",
       "                                                                1550, 2000]},\n",
       "                   random_state=42, scoring='recall', verbose=2)"
      ]
     },
     "execution_count": 74,
     "metadata": {},
     "output_type": "execute_result"
    }
   ],
   "source": [
    "%%time\n",
    "rf_random.fit(X_train, y_train)"
   ]
  },
  {
   "cell_type": "code",
   "execution_count": 77,
   "id": "91bbbf33",
   "metadata": {},
   "outputs": [
    {
     "data": {
      "text/plain": [
       "{'model__n_estimators': 1550,\n",
       " 'model__min_samples_split': 10,\n",
       " 'model__min_samples_leaf': 4,\n",
       " 'model__max_features': 'sqrt',\n",
       " 'model__max_depth': 10,\n",
       " 'model__bootstrap': True}"
      ]
     },
     "execution_count": 77,
     "metadata": {},
     "output_type": "execute_result"
    },
    {
     "name": "stdout",
     "output_type": "stream",
     "text": [
      "[CV] END model__bootstrap=False, model__max_depth=110, model__max_features=sqrt, model__min_samples_leaf=1, model__min_samples_split=2, model__n_estimators=2000; total time=   7.0s\n",
      "[CV] END model__bootstrap=False, model__max_depth=35, model__max_features=sqrt, model__min_samples_leaf=4, model__min_samples_split=10, model__n_estimators=1550; total time=   5.1s\n",
      "[CV] END model__bootstrap=False, model__max_depth=110, model__max_features=auto, model__min_samples_leaf=1, model__min_samples_split=2, model__n_estimators=2000; total time=   6.5s\n",
      "[CV] END model__bootstrap=False, model__max_depth=60, model__max_features=auto, model__min_samples_leaf=4, model__min_samples_split=10, model__n_estimators=650; total time=   2.0s\n",
      "[CV] END model__bootstrap=True, model__max_depth=110, model__max_features=auto, model__min_samples_leaf=2, model__min_samples_split=10, model__n_estimators=2000; total time=   6.4s\n",
      "[CV] END model__bootstrap=False, model__max_depth=60, model__max_features=sqrt, model__min_samples_leaf=2, model__min_samples_split=5, model__n_estimators=1100; total time=   3.4s\n",
      "[CV] END model__bootstrap=True, model__max_depth=110, model__max_features=auto, model__min_samples_leaf=2, model__min_samples_split=5, model__n_estimators=650; total time=   2.2s\n",
      "[CV] END model__bootstrap=False, model__max_depth=85, model__max_features=auto, model__min_samples_leaf=4, model__min_samples_split=2, model__n_estimators=2000; total time=   6.1s\n",
      "[CV] END model__bootstrap=False, model__max_depth=85, model__max_features=auto, model__min_samples_leaf=4, model__min_samples_split=10, model__n_estimators=2000; total time=   6.1s\n",
      "[CV] END model__bootstrap=False, model__max_depth=None, model__max_features=auto, model__min_samples_leaf=2, model__min_samples_split=5, model__n_estimators=2000; total time=   6.4s\n",
      "[CV] END model__bootstrap=True, model__max_depth=60, model__max_features=sqrt, model__min_samples_leaf=4, model__min_samples_split=2, model__n_estimators=650; total time=   2.2s\n",
      "[CV] END model__bootstrap=True, model__max_depth=85, model__max_features=sqrt, model__min_samples_leaf=4, model__min_samples_split=5, model__n_estimators=650; total time=   2.2s\n",
      "[CV] END model__bootstrap=False, model__max_depth=None, model__max_features=sqrt, model__min_samples_leaf=4, model__min_samples_split=2, model__n_estimators=2000; total time=   6.2s\n",
      "[CV] END model__bootstrap=True, model__max_depth=85, model__max_features=sqrt, model__min_samples_leaf=4, model__min_samples_split=10, model__n_estimators=200; total time=   0.7s\n",
      "[CV] END model__bootstrap=False, model__max_depth=85, model__max_features=sqrt, model__min_samples_leaf=4, model__min_samples_split=2, model__n_estimators=1100; total time=   3.4s\n",
      "[CV] END model__bootstrap=False, model__max_depth=10, model__max_features=sqrt, model__min_samples_leaf=4, model__min_samples_split=5, model__n_estimators=650; total time=   2.0s\n",
      "[CV] END model__bootstrap=True, model__max_depth=None, model__max_features=auto, model__min_samples_leaf=1, model__min_samples_split=2, model__n_estimators=1550; total time=   5.3s\n",
      "[CV] END model__bootstrap=False, model__max_depth=85, model__max_features=auto, model__min_samples_leaf=1, model__min_samples_split=5, model__n_estimators=2000; total time=   6.7s\n",
      "[CV] END model__bootstrap=False, model__max_depth=None, model__max_features=sqrt, model__min_samples_leaf=4, model__min_samples_split=5, model__n_estimators=2000; total time=   6.3s\n",
      "[CV] END model__bootstrap=True, model__max_depth=35, model__max_features=auto, model__min_samples_leaf=2, model__min_samples_split=2, model__n_estimators=1100; total time=   3.7s\n",
      "[CV] END model__bootstrap=False, model__max_depth=110, model__max_features=auto, model__min_samples_leaf=1, model__min_samples_split=2, model__n_estimators=2000; total time=   6.5s\n",
      "[CV] END model__bootstrap=False, model__max_depth=85, model__max_features=sqrt, model__min_samples_leaf=4, model__min_samples_split=2, model__n_estimators=1100; total time=   3.4s\n",
      "[CV] END model__bootstrap=False, model__max_depth=10, model__max_features=sqrt, model__min_samples_leaf=4, model__min_samples_split=5, model__n_estimators=650; total time=   2.0s\n",
      "[CV] END model__bootstrap=False, model__max_depth=35, model__max_features=auto, model__min_samples_leaf=4, model__min_samples_split=2, model__n_estimators=200; total time=   0.6s\n",
      "[CV] END model__bootstrap=False, model__max_depth=85, model__max_features=sqrt, model__min_samples_leaf=2, model__min_samples_split=10, model__n_estimators=1100; total time=   3.4s\n",
      "[CV] END model__bootstrap=False, model__max_depth=35, model__max_features=sqrt, model__min_samples_leaf=2, model__min_samples_split=2, model__n_estimators=1100; total time=   3.7s\n",
      "[CV] END model__bootstrap=True, model__max_depth=None, model__max_features=sqrt, model__min_samples_leaf=4, model__min_samples_split=5, model__n_estimators=650; total time=   2.1s\n",
      "[CV] END model__bootstrap=False, model__max_depth=85, model__max_features=auto, model__min_samples_leaf=2, model__min_samples_split=2, model__n_estimators=200; total time=   0.7s\n",
      "[CV] END model__bootstrap=False, model__max_depth=10, model__max_features=auto, model__min_samples_leaf=2, model__min_samples_split=5, model__n_estimators=200; total time=   0.7s\n",
      "[CV] END model__bootstrap=True, model__max_depth=110, model__max_features=auto, model__min_samples_leaf=2, model__min_samples_split=2, model__n_estimators=1100; total time=   3.9s\n",
      "[CV] END model__bootstrap=False, model__max_depth=110, model__max_features=sqrt, model__min_samples_leaf=1, model__min_samples_split=2, model__n_estimators=2000; total time=   6.9s\n",
      "[CV] END model__bootstrap=True, model__max_depth=10, model__max_features=auto, model__min_samples_leaf=2, model__min_samples_split=5, model__n_estimators=1550; total time=   5.1s\n",
      "[CV] END model__bootstrap=True, model__max_depth=None, model__max_features=sqrt, model__min_samples_leaf=1, model__min_samples_split=5, model__n_estimators=650; total time=   2.3s\n",
      "[CV] END model__bootstrap=True, model__max_depth=35, model__max_features=auto, model__min_samples_leaf=1, model__min_samples_split=10, model__n_estimators=650; total time=   2.2s\n",
      "[CV] END model__bootstrap=True, model__max_depth=35, model__max_features=auto, model__min_samples_leaf=1, model__min_samples_split=10, model__n_estimators=650; total time=   2.5s\n",
      "[CV] END model__bootstrap=True, model__max_depth=85, model__max_features=auto, model__min_samples_leaf=1, model__min_samples_split=5, model__n_estimators=1100; total time=   3.6s\n",
      "[CV] END model__bootstrap=False, model__max_depth=60, model__max_features=auto, model__min_samples_leaf=4, model__min_samples_split=10, model__n_estimators=650; total time=   2.0s\n",
      "[CV] END model__bootstrap=False, model__max_depth=None, model__max_features=sqrt, model__min_samples_leaf=4, model__min_samples_split=10, model__n_estimators=650; total time=   2.0s\n",
      "[CV] END model__bootstrap=False, model__max_depth=110, model__max_features=sqrt, model__min_samples_leaf=1, model__min_samples_split=5, model__n_estimators=2000; total time=   6.3s\n",
      "[CV] END model__bootstrap=True, model__max_depth=60, model__max_features=auto, model__min_samples_leaf=1, model__min_samples_split=10, model__n_estimators=1100; total time=   3.6s\n",
      "[CV] END model__bootstrap=False, model__max_depth=85, model__max_features=auto, model__min_samples_leaf=4, model__min_samples_split=2, model__n_estimators=2000; total time=   6.6s\n",
      "[CV] END model__bootstrap=False, model__max_depth=85, model__max_features=auto, model__min_samples_leaf=1, model__min_samples_split=5, model__n_estimators=2000; total time=   7.0s\n",
      "[CV] END model__bootstrap=False, model__max_depth=10, model__max_features=auto, model__min_samples_leaf=4, model__min_samples_split=5, model__n_estimators=1550; total time=   4.7s\n",
      "[CV] END model__bootstrap=False, model__max_depth=110, model__max_features=sqrt, model__min_samples_leaf=1, model__min_samples_split=2, model__n_estimators=200; total time=   0.7s\n",
      "[CV] END model__bootstrap=False, model__max_depth=10, model__max_features=sqrt, model__min_samples_leaf=2, model__min_samples_split=10, model__n_estimators=650; total time=   2.0s\n",
      "[CV] END model__bootstrap=True, model__max_depth=85, model__max_features=sqrt, model__min_samples_leaf=4, model__min_samples_split=5, model__n_estimators=650; total time=   2.3s\n",
      "[CV] END model__bootstrap=True, model__max_depth=10, model__max_features=auto, model__min_samples_leaf=2, model__min_samples_split=5, model__n_estimators=1550; total time=   5.3s\n",
      "[CV] END model__bootstrap=True, model__max_depth=110, model__max_features=sqrt, model__min_samples_leaf=4, model__min_samples_split=2, model__n_estimators=2000; total time=   6.8s\n"
     ]
    },
    {
     "name": "stdout",
     "output_type": "stream",
     "text": [
      "[CV] END model__bootstrap=False, model__max_depth=110, model__max_features=auto, model__min_samples_leaf=1, model__min_samples_split=10, model__n_estimators=1100; total time=   3.5s\n",
      "[CV] END model__bootstrap=True, model__max_depth=None, model__max_features=sqrt, model__min_samples_leaf=4, model__min_samples_split=2, model__n_estimators=1550; total time=   5.1s\n",
      "[CV] END model__bootstrap=True, model__max_depth=85, model__max_features=auto, model__min_samples_leaf=1, model__min_samples_split=5, model__n_estimators=1100; total time=   3.5s\n",
      "[CV] END model__bootstrap=True, model__max_depth=10, model__max_features=sqrt, model__min_samples_leaf=4, model__min_samples_split=10, model__n_estimators=650; total time=   2.1s\n",
      "[CV] END model__bootstrap=True, model__max_depth=110, model__max_features=auto, model__min_samples_leaf=2, model__min_samples_split=10, model__n_estimators=2000; total time=   6.4s\n",
      "[CV] END model__bootstrap=False, model__max_depth=60, model__max_features=sqrt, model__min_samples_leaf=2, model__min_samples_split=5, model__n_estimators=1100; total time=   3.4s\n",
      "[CV] END model__bootstrap=True, model__max_depth=60, model__max_features=auto, model__min_samples_leaf=2, model__min_samples_split=2, model__n_estimators=2000; total time=   6.4s\n",
      "[CV] END model__bootstrap=False, model__max_depth=None, model__max_features=sqrt, model__min_samples_leaf=2, model__min_samples_split=10, model__n_estimators=1100; total time=   3.9s\n",
      "[CV] END model__bootstrap=False, model__max_depth=85, model__max_features=sqrt, model__min_samples_leaf=2, model__min_samples_split=5, model__n_estimators=650; total time=   2.1s\n",
      "[CV] END model__bootstrap=True, model__max_depth=None, model__max_features=sqrt, model__min_samples_leaf=4, model__min_samples_split=5, model__n_estimators=650; total time=   2.4s\n",
      "[CV] END model__bootstrap=False, model__max_depth=10, model__max_features=auto, model__min_samples_leaf=4, model__min_samples_split=5, model__n_estimators=1550; total time=   5.0s\n",
      "[CV] END model__bootstrap=False, model__max_depth=85, model__max_features=sqrt, model__min_samples_leaf=2, model__min_samples_split=10, model__n_estimators=650; total time=   2.2s\n",
      "[CV] END model__bootstrap=True, model__max_depth=10, model__max_features=sqrt, model__min_samples_leaf=1, model__min_samples_split=10, model__n_estimators=2000; total time=   6.7s\n",
      "[CV] END model__bootstrap=True, model__max_depth=35, model__max_features=sqrt, model__min_samples_leaf=1, model__min_samples_split=5, model__n_estimators=650; total time=   2.3s\n",
      "[CV] END model__bootstrap=True, model__max_depth=110, model__max_features=sqrt, model__min_samples_leaf=4, model__min_samples_split=2, model__n_estimators=2000; total time=   6.9s\n",
      "[CV] END model__bootstrap=True, model__max_depth=10, model__max_features=sqrt, model__min_samples_leaf=1, model__min_samples_split=10, model__n_estimators=650; total time=   2.1s\n",
      "[CV] END model__bootstrap=False, model__max_depth=85, model__max_features=auto, model__min_samples_leaf=2, model__min_samples_split=10, model__n_estimators=1100; total time=   3.4s\n",
      "[CV] END model__bootstrap=False, model__max_depth=35, model__max_features=auto, model__min_samples_leaf=2, model__min_samples_split=10, model__n_estimators=650; total time=   2.0s\n",
      "[CV] END model__bootstrap=True, model__max_depth=35, model__max_features=sqrt, model__min_samples_leaf=4, model__min_samples_split=5, model__n_estimators=2000; total time=   6.5s\n",
      "[CV] END model__bootstrap=False, model__max_depth=None, model__max_features=auto, model__min_samples_leaf=1, model__min_samples_split=2, model__n_estimators=1100; total time=   3.6s\n",
      "[CV] END model__bootstrap=True, model__max_depth=10, model__max_features=auto, model__min_samples_leaf=4, model__min_samples_split=2, model__n_estimators=650; total time=   2.1s\n",
      "[CV] END model__bootstrap=False, model__max_depth=10, model__max_features=auto, model__min_samples_leaf=1, model__min_samples_split=2, model__n_estimators=1550; total time=   5.1s\n",
      "[CV] END model__bootstrap=False, model__max_depth=35, model__max_features=auto, model__min_samples_leaf=4, model__min_samples_split=2, model__n_estimators=200; total time=   0.6s\n",
      "[CV] END model__bootstrap=False, model__max_depth=35, model__max_features=auto, model__min_samples_leaf=4, model__min_samples_split=2, model__n_estimators=200; total time=   0.6s\n",
      "[CV] END model__bootstrap=False, model__max_depth=85, model__max_features=sqrt, model__min_samples_leaf=2, model__min_samples_split=10, model__n_estimators=1100; total time=   3.6s\n",
      "[CV] END model__bootstrap=True, model__max_depth=85, model__max_features=auto, model__min_samples_leaf=2, model__min_samples_split=2, model__n_estimators=2000; total time=   6.9s\n",
      "[CV] END model__bootstrap=True, model__max_depth=35, model__max_features=auto, model__min_samples_leaf=2, model__min_samples_split=5, model__n_estimators=1550; total time=   5.2s\n",
      "[CV] END model__bootstrap=False, model__max_depth=85, model__max_features=sqrt, model__min_samples_leaf=2, model__min_samples_split=10, model__n_estimators=650; total time=   2.1s\n",
      "[CV] END model__bootstrap=True, model__max_depth=10, model__max_features=sqrt, model__min_samples_leaf=1, model__min_samples_split=10, model__n_estimators=2000; total time=   6.8s\n",
      "[CV] END model__bootstrap=True, model__max_depth=35, model__max_features=sqrt, model__min_samples_leaf=1, model__min_samples_split=5, model__n_estimators=650; total time=   2.2s\n",
      "[CV] END model__bootstrap=True, model__max_depth=110, model__max_features=sqrt, model__min_samples_leaf=4, model__min_samples_split=2, model__n_estimators=2000; total time=   6.9s\n",
      "[CV] END model__bootstrap=True, model__max_depth=10, model__max_features=sqrt, model__min_samples_leaf=4, model__min_samples_split=10, model__n_estimators=1550; total time=   4.9s\n",
      "[CV] END model__bootstrap=True, model__max_depth=110, model__max_features=auto, model__min_samples_leaf=2, model__min_samples_split=5, model__n_estimators=650; total time=   2.3s\n",
      "[CV] END model__bootstrap=False, model__max_depth=110, model__max_features=auto, model__min_samples_leaf=4, model__min_samples_split=2, model__n_estimators=1550; total time=   4.8s\n",
      "[CV] END model__bootstrap=False, model__max_depth=35, model__max_features=sqrt, model__min_samples_leaf=2, model__min_samples_split=2, model__n_estimators=1100; total time=   3.8s\n",
      "[CV] END model__bootstrap=True, model__max_depth=None, model__max_features=auto, model__min_samples_leaf=2, model__min_samples_split=10, model__n_estimators=1100; total time=   3.7s\n",
      "[CV] END model__bootstrap=True, model__max_depth=110, model__max_features=auto, model__min_samples_leaf=2, model__min_samples_split=2, model__n_estimators=1100; total time=   3.9s\n",
      "[CV] END model__bootstrap=False, model__max_depth=110, model__max_features=sqrt, model__min_samples_leaf=1, model__min_samples_split=2, model__n_estimators=2000; total time=   6.7s\n",
      "[CV] END model__bootstrap=False, model__max_depth=None, model__max_features=sqrt, model__min_samples_leaf=4, model__min_samples_split=2, model__n_estimators=2000; total time=   6.6s\n",
      "[CV] END model__bootstrap=False, model__max_depth=None, model__max_features=sqrt, model__min_samples_leaf=1, model__min_samples_split=2, model__n_estimators=2000; total time=   6.5s\n",
      "[CV] END model__bootstrap=True, model__max_depth=85, model__max_features=sqrt, model__min_samples_leaf=4, model__min_samples_split=10, model__n_estimators=200; total time=   0.7s\n",
      "[CV] END model__bootstrap=True, model__max_depth=None, model__max_features=auto, model__min_samples_leaf=1, model__min_samples_split=10, model__n_estimators=2000; total time=   6.2s\n",
      "[CV] END model__bootstrap=True, model__max_depth=110, model__max_features=sqrt, model__min_samples_leaf=2, model__min_samples_split=2, model__n_estimators=1550; total time=   5.0s\n",
      "[CV] END model__bootstrap=False, model__max_depth=10, model__max_features=auto, model__min_samples_leaf=4, model__min_samples_split=10, model__n_estimators=650; total time=   2.0s\n",
      "[CV] END model__bootstrap=True, model__max_depth=110, model__max_features=auto, model__min_samples_leaf=1, model__min_samples_split=5, model__n_estimators=200; total time=   0.7s\n",
      "[CV] END model__bootstrap=True, model__max_depth=110, model__max_features=sqrt, model__min_samples_leaf=4, model__min_samples_split=10, model__n_estimators=1550; total time=   4.9s\n",
      "[CV] END model__bootstrap=True, model__max_depth=10, model__max_features=sqrt, model__min_samples_leaf=2, model__min_samples_split=10, model__n_estimators=200; total time=   0.6s\n",
      "[CV] END model__bootstrap=True, model__max_depth=None, model__max_features=auto, model__min_samples_leaf=4, model__min_samples_split=5, model__n_estimators=200; total time=   0.7s\n",
      "[CV] END model__bootstrap=False, model__max_depth=110, model__max_features=sqrt, model__min_samples_leaf=4, model__min_samples_split=10, model__n_estimators=1100; total time=   3.3s\n",
      "[CV] END model__bootstrap=False, model__max_depth=None, model__max_features=auto, model__min_samples_leaf=4, model__min_samples_split=5, model__n_estimators=2000; total time=   6.0s\n",
      "[CV] END model__bootstrap=True, model__max_depth=85, model__max_features=auto, model__min_samples_leaf=4, model__min_samples_split=5, model__n_estimators=2000; total time=   6.4s\n",
      "[CV] END model__bootstrap=True, model__max_depth=10, model__max_features=auto, model__min_samples_leaf=4, model__min_samples_split=2, model__n_estimators=650; total time=   2.1s\n",
      "[CV] END model__bootstrap=False, model__max_depth=10, model__max_features=auto, model__min_samples_leaf=1, model__min_samples_split=2, model__n_estimators=1550; total time=   4.8s\n",
      "[CV] END model__bootstrap=False, model__max_depth=110, model__max_features=auto, model__min_samples_leaf=4, model__min_samples_split=2, model__n_estimators=1550; total time=   4.7s\n",
      "[CV] END model__bootstrap=False, model__max_depth=35, model__max_features=sqrt, model__min_samples_leaf=2, model__min_samples_split=2, model__n_estimators=1100; total time=   3.6s\n",
      "[CV] END model__bootstrap=True, model__max_depth=None, model__max_features=auto, model__min_samples_leaf=2, model__min_samples_split=10, model__n_estimators=1100; total time=   3.5s\n",
      "[CV] END model__bootstrap=False, model__max_depth=None, model__max_features=auto, model__min_samples_leaf=2, model__min_samples_split=5, model__n_estimators=2000; total time=   6.9s\n",
      "[CV] END model__bootstrap=True, model__max_depth=35, model__max_features=auto, model__min_samples_leaf=2, model__min_samples_split=2, model__n_estimators=1100; total time=   3.8s\n",
      "[CV] END model__bootstrap=True, model__max_depth=110, model__max_features=auto, model__min_samples_leaf=4, model__min_samples_split=10, model__n_estimators=2000; total time=   6.8s\n",
      "[CV] END model__bootstrap=False, model__max_depth=None, model__max_features=sqrt, model__min_samples_leaf=1, model__min_samples_split=2, model__n_estimators=2000; total time=   6.8s\n",
      "[CV] END model__bootstrap=True, model__max_depth=110, model__max_features=auto, model__min_samples_leaf=2, model__min_samples_split=5, model__n_estimators=650; total time=   2.2s\n",
      "[CV] END model__bootstrap=False, model__max_depth=110, model__max_features=auto, model__min_samples_leaf=4, model__min_samples_split=2, model__n_estimators=1550; total time=   5.3s\n",
      "[CV] END model__bootstrap=True, model__max_depth=85, model__max_features=auto, model__min_samples_leaf=2, model__min_samples_split=2, model__n_estimators=2000; total time=   6.8s\n",
      "[CV] END model__bootstrap=False, model__max_depth=None, model__max_features=auto, model__min_samples_leaf=2, model__min_samples_split=5, model__n_estimators=2000; total time=   6.4s\n",
      "[CV] END model__bootstrap=False, model__max_depth=10, model__max_features=sqrt, model__min_samples_leaf=2, model__min_samples_split=10, model__n_estimators=650; total time=   2.1s\n",
      "[CV] END model__bootstrap=False, model__max_depth=60, model__max_features=auto, model__min_samples_leaf=2, model__min_samples_split=10, model__n_estimators=650; total time=   2.1s\n",
      "[CV] END model__bootstrap=True, model__max_depth=110, model__max_features=auto, model__min_samples_leaf=4, model__min_samples_split=10, model__n_estimators=2000; total time=   6.7s\n",
      "[CV] END model__bootstrap=False, model__max_depth=None, model__max_features=sqrt, model__min_samples_leaf=1, model__min_samples_split=2, model__n_estimators=2000; total time=   6.8s\n"
     ]
    },
    {
     "name": "stdout",
     "output_type": "stream",
     "text": [
      "[CV] END model__bootstrap=True, model__max_depth=None, model__max_features=sqrt, model__min_samples_leaf=1, model__min_samples_split=2, model__n_estimators=200; total time=   0.7s\n",
      "[CV] END model__bootstrap=False, model__max_depth=85, model__max_features=sqrt, model__min_samples_leaf=4, model__min_samples_split=5, model__n_estimators=1550; total time=   4.8s\n",
      "[CV] END model__bootstrap=True, model__max_depth=110, model__max_features=auto, model__min_samples_leaf=1, model__min_samples_split=10, model__n_estimators=650; total time=   2.1s\n",
      "[CV] END model__bootstrap=False, model__max_depth=60, model__max_features=auto, model__min_samples_leaf=4, model__min_samples_split=10, model__n_estimators=200; total time=   0.6s\n",
      "[CV] END model__bootstrap=False, model__max_depth=35, model__max_features=sqrt, model__min_samples_leaf=1, model__min_samples_split=2, model__n_estimators=2000; total time=   6.5s\n",
      "[CV] END model__bootstrap=True, model__max_depth=110, model__max_features=auto, model__min_samples_leaf=2, model__min_samples_split=10, model__n_estimators=2000; total time=   6.5s\n",
      "[CV] END model__bootstrap=False, model__max_depth=10, model__max_features=auto, model__min_samples_leaf=1, model__min_samples_split=2, model__n_estimators=1550; total time=   4.9s\n",
      "[CV] END model__bootstrap=False, model__max_depth=10, model__max_features=sqrt, model__min_samples_leaf=4, model__min_samples_split=5, model__n_estimators=650; total time=   2.0s\n",
      "[CV] END model__bootstrap=True, model__max_depth=None, model__max_features=auto, model__min_samples_leaf=1, model__min_samples_split=2, model__n_estimators=1550; total time=   5.7s\n",
      "[CV] END model__bootstrap=False, model__max_depth=85, model__max_features=sqrt, model__min_samples_leaf=2, model__min_samples_split=5, model__n_estimators=650; total time=   2.1s\n",
      "[CV] END model__bootstrap=True, model__max_depth=None, model__max_features=sqrt, model__min_samples_leaf=4, model__min_samples_split=5, model__n_estimators=650; total time=   2.3s\n",
      "[CV] END model__bootstrap=False, model__max_depth=10, model__max_features=auto, model__min_samples_leaf=2, model__min_samples_split=5, model__n_estimators=200; total time=   0.7s\n",
      "[CV] END model__bootstrap=True, model__max_depth=110, model__max_features=auto, model__min_samples_leaf=2, model__min_samples_split=2, model__n_estimators=1100; total time=   4.0s\n",
      "[CV] END model__bootstrap=False, model__max_depth=85, model__max_features=sqrt, model__min_samples_leaf=2, model__min_samples_split=10, model__n_estimators=650; total time=   2.0s\n",
      "[CV] END model__bootstrap=True, model__max_depth=60, model__max_features=sqrt, model__min_samples_leaf=4, model__min_samples_split=2, model__n_estimators=650; total time=   2.1s\n",
      "[CV] END model__bootstrap=True, model__max_depth=10, model__max_features=sqrt, model__min_samples_leaf=1, model__min_samples_split=10, model__n_estimators=2000; total time=   6.7s\n",
      "[CV] END model__bootstrap=True, model__max_depth=35, model__max_features=sqrt, model__min_samples_leaf=1, model__min_samples_split=5, model__n_estimators=650; total time=   2.2s\n",
      "[CV] END model__bootstrap=True, model__max_depth=85, model__max_features=sqrt, model__min_samples_leaf=4, model__min_samples_split=10, model__n_estimators=200; total time=   0.7s\n",
      "[CV] END model__bootstrap=True, model__max_depth=None, model__max_features=auto, model__min_samples_leaf=1, model__min_samples_split=10, model__n_estimators=2000; total time=   6.6s\n",
      "[CV] END model__bootstrap=False, model__max_depth=10, model__max_features=auto, model__min_samples_leaf=4, model__min_samples_split=5, model__n_estimators=1550; total time=   5.1s\n",
      "[CV] END model__bootstrap=True, model__max_depth=60, model__max_features=sqrt, model__min_samples_leaf=4, model__min_samples_split=2, model__n_estimators=650; total time=   2.1s\n",
      "[CV] END model__bootstrap=False, model__max_depth=60, model__max_features=auto, model__min_samples_leaf=2, model__min_samples_split=10, model__n_estimators=650; total time=   2.0s\n",
      "[CV] END model__bootstrap=False, model__max_depth=35, model__max_features=sqrt, model__min_samples_leaf=4, model__min_samples_split=10, model__n_estimators=1550; total time=   5.1s\n",
      "[CV] END model__bootstrap=True, model__max_depth=None, model__max_features=sqrt, model__min_samples_leaf=1, model__min_samples_split=5, model__n_estimators=650; total time=   2.4s\n",
      "[CV] END model__bootstrap=True, model__max_depth=None, model__max_features=auto, model__min_samples_leaf=1, model__min_samples_split=10, model__n_estimators=2000; total time=   6.8s\n",
      "[CV] END model__bootstrap=False, model__max_depth=35, model__max_features=sqrt, model__min_samples_leaf=4, model__min_samples_split=2, model__n_estimators=650; total time=   2.1s\n",
      "[CV] END model__bootstrap=True, model__max_depth=35, model__max_features=auto, model__min_samples_leaf=2, model__min_samples_split=2, model__n_estimators=2000; total time=   6.8s\n",
      "[CV] END model__bootstrap=True, model__max_depth=None, model__max_features=auto, model__min_samples_leaf=4, model__min_samples_split=10, model__n_estimators=1550; total time=   5.2s\n",
      "[CV] END model__bootstrap=True, model__max_depth=110, model__max_features=sqrt, model__min_samples_leaf=4, model__min_samples_split=5, model__n_estimators=200; total time=   0.7s\n",
      "[CV] END model__bootstrap=True, model__max_depth=110, model__max_features=sqrt, model__min_samples_leaf=4, model__min_samples_split=5, model__n_estimators=200; total time=   0.7s\n",
      "[CV] END model__bootstrap=True, model__max_depth=110, model__max_features=sqrt, model__min_samples_leaf=4, model__min_samples_split=5, model__n_estimators=200; total time=   0.7s\n",
      "[CV] END model__bootstrap=False, model__max_depth=None, model__max_features=sqrt, model__min_samples_leaf=2, model__min_samples_split=10, model__n_estimators=1100; total time=   3.7s\n",
      "[CV] END model__bootstrap=False, model__max_depth=85, model__max_features=sqrt, model__min_samples_leaf=2, model__min_samples_split=5, model__n_estimators=650; total time=   2.1s\n",
      "[CV] END model__bootstrap=False, model__max_depth=85, model__max_features=auto, model__min_samples_leaf=2, model__min_samples_split=2, model__n_estimators=200; total time=   0.7s\n",
      "[CV] END model__bootstrap=False, model__max_depth=85, model__max_features=auto, model__min_samples_leaf=2, model__min_samples_split=2, model__n_estimators=200; total time=   0.7s\n",
      "[CV] END model__bootstrap=False, model__max_depth=10, model__max_features=auto, model__min_samples_leaf=2, model__min_samples_split=5, model__n_estimators=200; total time=   0.8s\n",
      "[CV] END model__bootstrap=True, model__max_depth=35, model__max_features=auto, model__min_samples_leaf=2, model__min_samples_split=5, model__n_estimators=1550; total time=   5.6s\n",
      "[CV] END model__bootstrap=False, model__max_depth=110, model__max_features=sqrt, model__min_samples_leaf=1, model__min_samples_split=2, model__n_estimators=200; total time=   0.7s\n",
      "[CV] END model__bootstrap=True, model__max_depth=35, model__max_features=auto, model__min_samples_leaf=2, model__min_samples_split=2, model__n_estimators=1100; total time=   4.0s\n",
      "[CV] END model__bootstrap=True, model__max_depth=110, model__max_features=auto, model__min_samples_leaf=4, model__min_samples_split=10, model__n_estimators=2000; total time=   6.7s\n",
      "[CV] END model__bootstrap=False, model__max_depth=85, model__max_features=sqrt, model__min_samples_leaf=4, model__min_samples_split=2, model__n_estimators=1100; total time=   3.4s\n",
      "[CV] END model__bootstrap=True, model__max_depth=35, model__max_features=sqrt, model__min_samples_leaf=4, model__min_samples_split=10, model__n_estimators=1550; total time=   3.9s\n",
      "[CV] END model__bootstrap=False, model__max_depth=None, model__max_features=sqrt, model__min_samples_leaf=4, model__min_samples_split=10, model__n_estimators=650; total time=   2.1s\n",
      "[CV] END model__bootstrap=False, model__max_depth=110, model__max_features=sqrt, model__min_samples_leaf=1, model__min_samples_split=5, model__n_estimators=2000; total time=   6.6s\n",
      "[CV] END model__bootstrap=True, model__max_depth=60, model__max_features=auto, model__min_samples_leaf=1, model__min_samples_split=10, model__n_estimators=1100; total time=   3.7s\n",
      "[CV] END model__bootstrap=False, model__max_depth=85, model__max_features=auto, model__min_samples_leaf=4, model__min_samples_split=2, model__n_estimators=2000; total time=   6.3s\n",
      "[CV] END model__bootstrap=False, model__max_depth=85, model__max_features=auto, model__min_samples_leaf=4, model__min_samples_split=10, model__n_estimators=2000; total time=   6.3s\n",
      "[CV] END model__bootstrap=True, model__max_depth=35, model__max_features=auto, model__min_samples_leaf=2, model__min_samples_split=5, model__n_estimators=1550; total time=   5.4s\n",
      "[CV] END model__bootstrap=False, model__max_depth=110, model__max_features=sqrt, model__min_samples_leaf=1, model__min_samples_split=2, model__n_estimators=200; total time=   0.7s\n",
      "[CV] END model__bootstrap=False, model__max_depth=10, model__max_features=sqrt, model__min_samples_leaf=2, model__min_samples_split=10, model__n_estimators=650; total time=   2.2s\n",
      "[CV] END model__bootstrap=True, model__max_depth=85, model__max_features=sqrt, model__min_samples_leaf=4, model__min_samples_split=5, model__n_estimators=650; total time=   2.3s\n",
      "[CV] END model__bootstrap=True, model__max_depth=10, model__max_features=auto, model__min_samples_leaf=2, model__min_samples_split=5, model__n_estimators=1550; total time=   5.2s\n",
      "[CV] END model__bootstrap=True, model__max_depth=None, model__max_features=sqrt, model__min_samples_leaf=1, model__min_samples_split=5, model__n_estimators=650; total time=   2.3s\n",
      "[CV] END model__bootstrap=True, model__max_depth=35, model__max_features=auto, model__min_samples_leaf=1, model__min_samples_split=10, model__n_estimators=650; total time=   2.1s\n",
      "[CV] END model__bootstrap=True, model__max_depth=35, model__max_features=sqrt, model__min_samples_leaf=4, model__min_samples_split=10, model__n_estimators=1550; total time=   4.4s\n"
     ]
    },
    {
     "name": "stdout",
     "output_type": "stream",
     "text": [
      "[CV] END model__bootstrap=False, model__max_depth=60, model__max_features=sqrt, model__min_samples_leaf=2, model__min_samples_split=5, model__n_estimators=1100; total time=   3.4s\n",
      "[CV] END model__bootstrap=True, model__max_depth=None, model__max_features=auto, model__min_samples_leaf=4, model__min_samples_split=10, model__n_estimators=1550; total time=   5.0s\n",
      "[CV] END model__bootstrap=False, model__max_depth=85, model__max_features=sqrt, model__min_samples_leaf=2, model__min_samples_split=10, model__n_estimators=1100; total time=   3.8s\n",
      "[CV] END model__bootstrap=False, model__max_depth=85, model__max_features=auto, model__min_samples_leaf=4, model__min_samples_split=10, model__n_estimators=2000; total time=   6.1s\n",
      "[CV] END model__bootstrap=False, model__max_depth=10, model__max_features=sqrt, model__min_samples_leaf=1, model__min_samples_split=10, model__n_estimators=650; total time=   2.1s\n",
      "[CV] END model__bootstrap=False, model__max_depth=None, model__max_features=sqrt, model__min_samples_leaf=4, model__min_samples_split=5, model__n_estimators=2000; total time=   6.6s\n",
      "[CV] END model__bootstrap=False, model__max_depth=35, model__max_features=sqrt, model__min_samples_leaf=4, model__min_samples_split=10, model__n_estimators=1550; total time=   5.0s\n",
      "[CV] END model__bootstrap=False, model__max_depth=110, model__max_features=auto, model__min_samples_leaf=1, model__min_samples_split=2, model__n_estimators=2000; total time=   6.9s\n",
      "[CV] END model__bootstrap=True, model__max_depth=35, model__max_features=sqrt, model__min_samples_leaf=4, model__min_samples_split=10, model__n_estimators=1550; total time=   4.4s\n"
     ]
    }
   ],
   "source": [
    "rf_random.best_params_"
   ]
  },
  {
   "cell_type": "code",
   "execution_count": 75,
   "id": "7c72015c",
   "metadata": {},
   "outputs": [
    {
     "data": {
      "text/plain": [
       "0.6777777777777777"
      ]
     },
     "execution_count": 75,
     "metadata": {},
     "output_type": "execute_result"
    }
   ],
   "source": [
    "rf_random.best_score_"
   ]
  },
  {
   "cell_type": "code",
   "execution_count": 76,
   "id": "62b63d53",
   "metadata": {},
   "outputs": [
    {
     "data": {
      "image/png": "[encoded data removed]",
      "text/plain": [
       "<Figure size 432x288 with 2 Axes>"
      ]
     },
     "metadata": {
      "needs_background": "light"
     },
     "output_type": "display_data"
    },
    {
     "name": "stdout",
     "output_type": "stream",
     "text": [
      "              precision    recall  f1-score   support\n",
      "\n",
      "         0.0       0.96      0.68      0.79      1384\n",
      "         1.0       0.15      0.67      0.24       116\n",
      "\n",
      "    accuracy                           0.68      1500\n",
      "   macro avg       0.55      0.67      0.52      1500\n",
      "weighted avg       0.90      0.68      0.75      1500\n",
      "\n",
      "ROC AUC Score: 0.67\n"
     ]
    }
   ],
   "source": [
    "y_pred = rf_random.predict(X_test)\n",
    "# Plot the confusion matrix\n",
    "plot_confusion_matrix(y_test, y_pred)"
   ]
  },
  {
   "cell_type": "markdown",
   "id": "8451274f",
   "metadata": {},
   "source": [
    "https://towardsdatascience.com/fine-tuning-a-classifier-in-scikit-learn-66e048c21e65"
   ]
  },
  {
   "cell_type": "markdown",
   "id": "7c945d7e",
   "metadata": {},
   "source": [
    "https://medium.com/@DavidArdagh/a-guided-approach-to-using-machine-learning-for-cricket-wicket-prediction-27bbf938f439"
   ]
  },
  {
   "cell_type": "markdown",
   "id": "6c5e5e31",
   "metadata": {},
   "source": [
    "https://machinelearningmastery.com/threshold-moving-for-imbalanced-classification/"
   ]
  },
  {
   "cell_type": "code",
   "execution_count": 78,
   "id": "9f043cee",
   "metadata": {},
   "outputs": [],
   "source": [
    "# Calcul des probabilités d'appartenir à la classe 1\n",
    "y_scores = rf_random.predict_proba(X_test)[:, 1]"
   ]
  },
  {
   "cell_type": "markdown",
   "id": "a6050403",
   "metadata": {},
   "source": [
    "Training multiple models on train data: https://www.kaggle.com/code/niteshiitr/auc-roc-0-947-using-smote-rf-gridsearchcv/notebook"
   ]
  },
  {
   "cell_type": "code",
   "execution_count": null,
   "id": "6ac3ecf1",
   "metadata": {},
   "outputs": [],
   "source": []
  }
 ],
 "metadata": {
  "kernelspec": {
   "display_name": "Python 3 (ipykernel)",
   "language": "python",
   "name": "python3"
  },
  "language_info": {
   "codemirror_mode": {
    "name": "ipython",
    "version": 3
   },
   "file_extension": ".py",
   "mimetype": "text/x-python",
   "name": "python",
   "nbconvert_exporter": "python",
   "pygments_lexer": "ipython3",
   "version": "3.9.12"
  }
 },
 "nbformat": 4,
 "nbformat_minor": 5
}
