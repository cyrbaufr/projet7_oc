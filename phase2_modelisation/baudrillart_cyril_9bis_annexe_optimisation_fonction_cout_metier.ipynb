{
 "cells": [
  {
   "cell_type": "markdown",
   "id": "6a87642e",
   "metadata": {},
   "source": [
    "# Optimisation de la fonction de coût du modèle XGBoost"
   ]
  },
  {
   "cell_type": "code",
   "execution_count": 1,
   "id": "3e842d28",
   "metadata": {},
   "outputs": [],
   "source": [
    "import sys\n",
    "sys.path.insert(0, \"/home/cyril/openclassrooms/projets/P7/P7_baudrillart_cyril_V2/custom_functions\")\n",
    "from model_analysis import plot_confusion_matrix, plot_roc_curve"
   ]
  },
  {
   "cell_type": "code",
   "execution_count": 2,
   "id": "651b7c3f",
   "metadata": {},
   "outputs": [],
   "source": [
    "# Import basic ML libraries\n",
    "import pandas as pd\n",
    "import numpy as np\n",
    "from collections import Counter\n",
    "import time\n",
    "import matplotlib.pyplot as plt\n",
    "import seaborn as sns\n",
    "import pickle"
   ]
  },
  {
   "cell_type": "code",
   "execution_count": 3,
   "id": "62ca6677",
   "metadata": {},
   "outputs": [],
   "source": [
    "# Scikit-Learn imports\n",
    "from sklearn.model_selection import (RepeatedStratifiedKFold, cross_validate,\n",
    "                                     StratifiedKFold, train_test_split,\n",
    "                                     KFold)\n",
    "from imblearn.over_sampling import SMOTE, BorderlineSMOTE, SVMSMOTE, ADASYN\n",
    "from imblearn.under_sampling import RandomUnderSampler\n",
    "from imblearn.over_sampling import RandomOverSampler\n",
    "from sklearn.metrics import classification_report, confusion_matrix, roc_curve\n",
    "from sklearn.metrics import (f1_score, recall_score, roc_auc_score, \n",
    "                            precision_score, r2_score, accuracy_score, auc)\n",
    "from sklearn.model_selection import GridSearchCV, RandomizedSearchCV\n",
    "from sklearn.metrics import confusion_matrix, ConfusionMatrixDisplay\n",
    "from sklearn.preprocessing import StandardScaler, MaxAbsScaler\n",
    "\n",
    "# other ML libraries\n",
    "from imblearn.pipeline import Pipeline, make_pipeline\n",
    "from xgboost import XGBClassifier"
   ]
  },
  {
   "cell_type": "markdown",
   "id": "3418afa8",
   "metadata": {},
   "source": [
    "# Chargement du jeu de données"
   ]
  },
  {
   "cell_type": "code",
   "execution_count": 4,
   "id": "af1b5de4",
   "metadata": {},
   "outputs": [],
   "source": [
    "# Chargement des données intégrales imputées\n",
    "X = pd.read_csv('../data_models/X_top10_imputed.csv', index_col=0)"
   ]
  },
  {
   "cell_type": "code",
   "execution_count": 5,
   "id": "454dd07a",
   "metadata": {},
   "outputs": [
    {
     "data": {
      "text/plain": [
       "0         0.0\n",
       "1         0.0\n",
       "2         0.0\n",
       "3         0.0\n",
       "4         0.0\n",
       "         ... \n",
       "292057    1.0\n",
       "292058    1.0\n",
       "292059    1.0\n",
       "292060    1.0\n",
       "292061    1.0\n",
       "Name: TARGET, Length: 292062, dtype: float64"
      ]
     },
     "execution_count": 5,
     "metadata": {},
     "output_type": "execute_result"
    }
   ],
   "source": [
    "# Création de la target\n",
    "y = X.TARGET\n",
    "y"
   ]
  },
  {
   "cell_type": "code",
   "execution_count": 6,
   "id": "556fa4cf",
   "metadata": {},
   "outputs": [],
   "source": [
    "# Supprimer la target des features\n",
    "X = X.drop(columns='TARGET')"
   ]
  },
  {
   "cell_type": "code",
   "execution_count": 7,
   "id": "8a804332",
   "metadata": {},
   "outputs": [
    {
     "data": {
      "text/plain": [
       "Counter({0.0: 268139, 1.0: 23923})"
      ]
     },
     "execution_count": 7,
     "metadata": {},
     "output_type": "execute_result"
    }
   ],
   "source": [
    "# Comptage des classes\n",
    "Counter(y)"
   ]
  },
  {
   "cell_type": "code",
   "execution_count": 8,
   "id": "3156bd6f",
   "metadata": {},
   "outputs": [],
   "source": [
    "# train-test split with stratification on the class we are trying to predict\n",
    "X_train, X_test, y_train, y_test = train_test_split(X, y, test_size=0.3, random_state=2, stratify=y)"
   ]
  },
  {
   "cell_type": "code",
   "execution_count": 9,
   "id": "751f495c",
   "metadata": {},
   "outputs": [
    {
     "data": {
      "text/plain": [
       "Counter({0.0: 80442, 1.0: 7177})"
      ]
     },
     "execution_count": 9,
     "metadata": {},
     "output_type": "execute_result"
    }
   ],
   "source": [
    "# Nombre d'observations dans chaque classe du test set\n",
    "Counter(y_test)"
   ]
  },
  {
   "cell_type": "code",
   "execution_count": 10,
   "id": "a947f36a",
   "metadata": {},
   "outputs": [
    {
     "data": {
      "text/plain": [
       "11.208304305420093"
      ]
     },
     "execution_count": 10,
     "metadata": {},
     "output_type": "execute_result"
    }
   ],
   "source": [
    "# Rapport entre les classes\n",
    "Counter(y_test)[0]/Counter(y_test)[1]"
   ]
  },
  {
   "cell_type": "markdown",
   "id": "29e4ced4",
   "metadata": {},
   "source": [
    "# Modèle XGBoost"
   ]
  },
  {
   "cell_type": "code",
   "execution_count": 70,
   "id": "d9311a88",
   "metadata": {},
   "outputs": [],
   "source": [
    "# Rééquilibrage des classes par under sampling et modèle xgboost\n",
    "steps = [('oversample', RandomUnderSampler(random_state=42)),\n",
    "         ('model', XGBClassifier())]\n",
    "# création d'un pipeline imblearn\n",
    "pipeline = Pipeline(steps=steps)"
   ]
  },
  {
   "cell_type": "code",
   "execution_count": 71,
   "id": "972d61e0",
   "metadata": {},
   "outputs": [
    {
     "data": {
      "image/png": "[encoded data removed]",
      "text/plain": [
       "<Figure size 432x288 with 2 Axes>"
      ]
     },
     "metadata": {
      "needs_background": "light"
     },
     "output_type": "display_data"
    },
    {
     "name": "stdout",
     "output_type": "stream",
     "text": [
      "              precision    recall  f1-score   support\n",
      "\n",
      "         0.0       0.98      0.78      0.87     80442\n",
      "         1.0       0.24      0.78      0.37      7177\n",
      "\n",
      "    accuracy                           0.78     87619\n",
      "   macro avg       0.61      0.78      0.62     87619\n",
      "weighted avg       0.91      0.78      0.82     87619\n",
      "\n",
      "ROC AUC Score: 0.78\n",
      "CPU times: user 30.1 s, sys: 233 ms, total: 30.4 s\n",
      "Wall time: 2.4 s\n"
     ]
    }
   ],
   "source": [
    "%%time\n",
    "pipeline.fit(X_train, y_train)\n",
    "y_pred = pipeline.predict(X_test)\n",
    "# Plot the confusion matrix\n",
    "plot_confusion_matrix(y_test, y_pred)"
   ]
  },
  {
   "cell_type": "markdown",
   "id": "ba327105",
   "metadata": {},
   "source": [
    "# Mise en place d'une fonction de coût métier"
   ]
  },
  {
   "cell_type": "markdown",
   "id": "d953c580",
   "metadata": {},
   "source": [
    "La première étape indiquée dans le notebook 9 était de maximiser le recall, c'est à dire de minimiser le taux de faux négatifs. Afin d'améliorer la fonction de coût, il faut également chercher à minimiser le taux de faux positifs. On va créer une fonction de coût qui pénalise plus les faux négatifs (coefficient 11 correspondant au ratio classe majoritaire/ classe minoritaire) que les faux positifs (coefficient 1). Les bonnes prédictions ne sont pas pénalisées. Voir note méthodologique N°2."
   ]
  },
  {
   "cell_type": "markdown",
   "id": "ed9e46ad",
   "metadata": {},
   "source": [
    "Le problème est très bien expliqué ici: https://machinelearningmastery.com/cost-sensitive-learning-for-imbalanced-classification/"
   ]
  },
  {
   "cell_type": "markdown",
   "id": "f91d4fbe",
   "metadata": {},
   "source": [
    "## Score sur mesure pénalisant les faux négatifs"
   ]
  },
  {
   "cell_type": "code",
   "execution_count": 74,
   "id": "6c15a860",
   "metadata": {},
   "outputs": [
    {
     "data": {
      "text/plain": [
       "array([[62598, 17844],\n",
       "       [ 1583,  5594]])"
      ]
     },
     "execution_count": 74,
     "metadata": {},
     "output_type": "execute_result"
    }
   ],
   "source": [
    "# Affichage de la matrice de confusion du modèle précédent\n",
    "cf_matrix = confusion_matrix(y_test, y_pred)\n",
    "cf_matrix"
   ]
  },
  {
   "cell_type": "code",
   "execution_count": 75,
   "id": "5d6a0a85",
   "metadata": {},
   "outputs": [
    {
     "data": {
      "text/plain": [
       "87619"
      ]
     },
     "execution_count": 75,
     "metadata": {},
     "output_type": "execute_result"
    }
   ],
   "source": [
    "# Nombre total d'échantillons\n",
    "cf_matrix.sum()"
   ]
  },
  {
   "cell_type": "code",
   "execution_count": 77,
   "id": "b0d50ed7",
   "metadata": {},
   "outputs": [],
   "source": [
    "def credit_score(y_test, y_pred):\n",
    "    \"\"\"\n",
    "    Calcul score crédit sur mesure\n",
    "    ( 11 x Faux négatifs + Faux positif) / nombre d'observations\n",
    "    \"\"\"\n",
    "    # calcul matric de confusion\n",
    "    cf_matrix = confusion_matrix(y_test, y_pred)\n",
    "    # Nombre de faux positifs \n",
    "    FP = cf_matrix[0][1]\n",
    "    # Nombre de faux négatifs \n",
    "    FN = cf_matrix[1][0]\n",
    "    # Nombre total d'observations\n",
    "    total = cf_matrix.sum()\n",
    "    \n",
    "    # Calcul du score\n",
    "    eval_score = (11*FN + FP) / total\n",
    "    \n",
    "    return eval_score"
   ]
  },
  {
   "cell_type": "code",
   "execution_count": 78,
   "id": "3fac3cb9",
   "metadata": {},
   "outputs": [],
   "source": [
    "# création du score pour le GridSearch (objectif = minimiser ce score)\n",
    "credit_scorer = make_scorer(custom_score, greater_is_better=False)"
   ]
  },
  {
   "cell_type": "code",
   "execution_count": null,
   "id": "dfc08585",
   "metadata": {},
   "outputs": [],
   "source": [
    "# paramètres à optimiser\n",
    "param = {\n",
    "        'model__n_estimators': range(50, 350, 50),\n",
    "        'model__learning_rate': np.linspace(start = 0.1, stop = 0.8, num = 10)\n",
    "}"
   ]
  },
  {
   "cell_type": "code",
   "execution_count": 79,
   "id": "bcdba095",
   "metadata": {},
   "outputs": [],
   "source": [
    "# Paramètrage de l'optimisation GridSearch\n",
    "gsearch = GridSearchCV(estimator = pipeline,\n",
    "                        param_grid = param,\n",
    "                        scoring=credit_scorer,\n",
    "                        n_jobs=-1,\n",
    "                        verbose=3,\n",
    "                        cv=cv)"
   ]
  },
  {
   "cell_type": "code",
   "execution_count": 80,
   "id": "2cc4ffc9",
   "metadata": {},
   "outputs": [
    {
     "name": "stdout",
     "output_type": "stream",
     "text": [
      "Fitting 3 folds for each of 60 candidates, totalling 180 fits\n"
     ]
    },
    {
     "data": {
      "text/html": [
       "<style>#sk-container-id-8 {color: black;background-color: white;}#sk-container-id-8 pre{padding: 0;}#sk-container-id-8 div.sk-toggleable {background-color: white;}#sk-container-id-8 label.sk-toggleable__label {cursor: pointer;display: block;width: 100%;margin-bottom: 0;padding: 0.3em;box-sizing: border-box;text-align: center;}#sk-container-id-8 label.sk-toggleable__label-arrow:before {content: \"▸\";float: left;margin-right: 0.25em;color: #696969;}#sk-container-id-8 label.sk-toggleable__label-arrow:hover:before {color: black;}#sk-container-id-8 div.sk-estimator:hover label.sk-toggleable__label-arrow:before {color: black;}#sk-container-id-8 div.sk-toggleable__content {max-height: 0;max-width: 0;overflow: hidden;text-align: left;background-color: #f0f8ff;}#sk-container-id-8 div.sk-toggleable__content pre {margin: 0.2em;color: black;border-radius: 0.25em;background-color: #f0f8ff;}#sk-container-id-8 input.sk-toggleable__control:checked~div.sk-toggleable__content {max-height: 200px;max-width: 100%;overflow: auto;}#sk-container-id-8 input.sk-toggleable__control:checked~label.sk-toggleable__label-arrow:before {content: \"▾\";}#sk-container-id-8 div.sk-estimator input.sk-toggleable__control:checked~label.sk-toggleable__label {background-color: #d4ebff;}#sk-container-id-8 div.sk-label input.sk-toggleable__control:checked~label.sk-toggleable__label {background-color: #d4ebff;}#sk-container-id-8 input.sk-hidden--visually {border: 0;clip: rect(1px 1px 1px 1px);clip: rect(1px, 1px, 1px, 1px);height: 1px;margin: -1px;overflow: hidden;padding: 0;position: absolute;width: 1px;}#sk-container-id-8 div.sk-estimator {font-family: monospace;background-color: #f0f8ff;border: 1px dotted black;border-radius: 0.25em;box-sizing: border-box;margin-bottom: 0.5em;}#sk-container-id-8 div.sk-estimator:hover {background-color: #d4ebff;}#sk-container-id-8 div.sk-parallel-item::after {content: \"\";width: 100%;border-bottom: 1px solid gray;flex-grow: 1;}#sk-container-id-8 div.sk-label:hover label.sk-toggleable__label {background-color: #d4ebff;}#sk-container-id-8 div.sk-serial::before {content: \"\";position: absolute;border-left: 1px solid gray;box-sizing: border-box;top: 0;bottom: 0;left: 50%;z-index: 0;}#sk-container-id-8 div.sk-serial {display: flex;flex-direction: column;align-items: center;background-color: white;padding-right: 0.2em;padding-left: 0.2em;position: relative;}#sk-container-id-8 div.sk-item {position: relative;z-index: 1;}#sk-container-id-8 div.sk-parallel {display: flex;align-items: stretch;justify-content: center;background-color: white;position: relative;}#sk-container-id-8 div.sk-item::before, #sk-container-id-8 div.sk-parallel-item::before {content: \"\";position: absolute;border-left: 1px solid gray;box-sizing: border-box;top: 0;bottom: 0;left: 50%;z-index: -1;}#sk-container-id-8 div.sk-parallel-item {display: flex;flex-direction: column;z-index: 1;position: relative;background-color: white;}#sk-container-id-8 div.sk-parallel-item:first-child::after {align-self: flex-end;width: 50%;}#sk-container-id-8 div.sk-parallel-item:last-child::after {align-self: flex-start;width: 50%;}#sk-container-id-8 div.sk-parallel-item:only-child::after {width: 0;}#sk-container-id-8 div.sk-dashed-wrapped {border: 1px dashed gray;margin: 0 0.4em 0.5em 0.4em;box-sizing: border-box;padding-bottom: 0.4em;background-color: white;}#sk-container-id-8 div.sk-label label {font-family: monospace;font-weight: bold;display: inline-block;line-height: 1.2em;}#sk-container-id-8 div.sk-label-container {text-align: center;}#sk-container-id-8 div.sk-container {/* jupyter's `normalize.less` sets `[hidden] { display: none; }` but bootstrap.min.css set `[hidden] { display: none !important; }` so we also need the `!important` here to be able to override the default hidden behavior on the sphinx rendered scikit-learn.org. See: https://github.com/scikit-learn/scikit-learn/issues/21755 */display: inline-block !important;position: relative;}#sk-container-id-8 div.sk-text-repr-fallback {display: none;}</style><div id=\"sk-container-id-8\" class=\"sk-top-container\"><div class=\"sk-text-repr-fallback\"><pre>GridSearchCV(cv=StratifiedKFold(n_splits=3, random_state=None, shuffle=False),\n",
       "             estimator=Pipeline(steps=[(&#x27;oversample&#x27;,\n",
       "                                        RandomUnderSampler(random_state=42)),\n",
       "                                       (&#x27;model&#x27;,\n",
       "                                        XGBClassifier(base_score=0.5,\n",
       "                                                      booster=&#x27;gbtree&#x27;,\n",
       "                                                      callbacks=None,\n",
       "                                                      colsample_bylevel=1,\n",
       "                                                      colsample_bynode=1,\n",
       "                                                      colsample_bytree=1,\n",
       "                                                      early_stopping_rounds=None,\n",
       "                                                      enable_categorical=False,\n",
       "                                                      eval_metric=None,...\n",
       "                                                      n_jobs=0,\n",
       "                                                      num_parallel_tree=1,\n",
       "                                                      predictor=&#x27;auto&#x27;,\n",
       "                                                      random_state=0,\n",
       "                                                      reg_alpha=0, reg_lambda=1, ...))]),\n",
       "             n_jobs=-1,\n",
       "             param_grid={&#x27;model__learning_rate&#x27;: array([0.1       , 0.17777778, 0.25555556, 0.33333333, 0.41111111,\n",
       "       0.48888889, 0.56666667, 0.64444444, 0.72222222, 0.8       ]),\n",
       "                         &#x27;model__n_estimators&#x27;: range(50, 350, 50)},\n",
       "             scoring=make_scorer(custom_score, greater_is_better=False),\n",
       "             verbose=3)</pre><b>In a Jupyter environment, please rerun this cell to show the HTML representation or trust the notebook. <br />On GitHub, the HTML representation is unable to render, please try loading this page with nbviewer.org.</b></div><div class=\"sk-container\" hidden><div class=\"sk-item sk-dashed-wrapped\"><div class=\"sk-label-container\"><div class=\"sk-label sk-toggleable\"><input class=\"sk-toggleable__control sk-hidden--visually\" id=\"sk-estimator-id-29\" type=\"checkbox\" ><label for=\"sk-estimator-id-29\" class=\"sk-toggleable__label sk-toggleable__label-arrow\">GridSearchCV</label><div class=\"sk-toggleable__content\"><pre>GridSearchCV(cv=StratifiedKFold(n_splits=3, random_state=None, shuffle=False),\n",
       "             estimator=Pipeline(steps=[(&#x27;oversample&#x27;,\n",
       "                                        RandomUnderSampler(random_state=42)),\n",
       "                                       (&#x27;model&#x27;,\n",
       "                                        XGBClassifier(base_score=0.5,\n",
       "                                                      booster=&#x27;gbtree&#x27;,\n",
       "                                                      callbacks=None,\n",
       "                                                      colsample_bylevel=1,\n",
       "                                                      colsample_bynode=1,\n",
       "                                                      colsample_bytree=1,\n",
       "                                                      early_stopping_rounds=None,\n",
       "                                                      enable_categorical=False,\n",
       "                                                      eval_metric=None,...\n",
       "                                                      n_jobs=0,\n",
       "                                                      num_parallel_tree=1,\n",
       "                                                      predictor=&#x27;auto&#x27;,\n",
       "                                                      random_state=0,\n",
       "                                                      reg_alpha=0, reg_lambda=1, ...))]),\n",
       "             n_jobs=-1,\n",
       "             param_grid={&#x27;model__learning_rate&#x27;: array([0.1       , 0.17777778, 0.25555556, 0.33333333, 0.41111111,\n",
       "       0.48888889, 0.56666667, 0.64444444, 0.72222222, 0.8       ]),\n",
       "                         &#x27;model__n_estimators&#x27;: range(50, 350, 50)},\n",
       "             scoring=make_scorer(custom_score, greater_is_better=False),\n",
       "             verbose=3)</pre></div></div></div><div class=\"sk-parallel\"><div class=\"sk-parallel-item\"><div class=\"sk-item\"><div class=\"sk-label-container\"><div class=\"sk-label sk-toggleable\"><input class=\"sk-toggleable__control sk-hidden--visually\" id=\"sk-estimator-id-30\" type=\"checkbox\" ><label for=\"sk-estimator-id-30\" class=\"sk-toggleable__label sk-toggleable__label-arrow\">estimator: Pipeline</label><div class=\"sk-toggleable__content\"><pre>Pipeline(steps=[(&#x27;oversample&#x27;, RandomUnderSampler(random_state=42)),\n",
       "                (&#x27;model&#x27;,\n",
       "                 XGBClassifier(base_score=0.5, booster=&#x27;gbtree&#x27;, callbacks=None,\n",
       "                               colsample_bylevel=1, colsample_bynode=1,\n",
       "                               colsample_bytree=1, early_stopping_rounds=None,\n",
       "                               enable_categorical=False, eval_metric=None,\n",
       "                               gamma=0, gpu_id=-1, grow_policy=&#x27;depthwise&#x27;,\n",
       "                               importance_type=None, interaction_constraints=&#x27;&#x27;,\n",
       "                               learning_rate=0.300000012, max_bin=256,\n",
       "                               max_cat_to_onehot=4, max_delta_step=0,\n",
       "                               max_depth=6, max_leaves=0, min_child_weight=1,\n",
       "                               missing=nan, monotone_constraints=&#x27;()&#x27;,\n",
       "                               n_estimators=100, n_jobs=0, num_parallel_tree=1,\n",
       "                               predictor=&#x27;auto&#x27;, random_state=0, reg_alpha=0,\n",
       "                               reg_lambda=1, ...))])</pre></div></div></div><div class=\"sk-serial\"><div class=\"sk-item\"><div class=\"sk-serial\"><div class=\"sk-item\"><div class=\"sk-estimator sk-toggleable\"><input class=\"sk-toggleable__control sk-hidden--visually\" id=\"sk-estimator-id-31\" type=\"checkbox\" ><label for=\"sk-estimator-id-31\" class=\"sk-toggleable__label sk-toggleable__label-arrow\">RandomUnderSampler</label><div class=\"sk-toggleable__content\"><pre>RandomUnderSampler(random_state=42)</pre></div></div></div><div class=\"sk-item\"><div class=\"sk-estimator sk-toggleable\"><input class=\"sk-toggleable__control sk-hidden--visually\" id=\"sk-estimator-id-32\" type=\"checkbox\" ><label for=\"sk-estimator-id-32\" class=\"sk-toggleable__label sk-toggleable__label-arrow\">XGBClassifier</label><div class=\"sk-toggleable__content\"><pre>XGBClassifier(base_score=0.5, booster=&#x27;gbtree&#x27;, callbacks=None,\n",
       "              colsample_bylevel=1, colsample_bynode=1, colsample_bytree=1,\n",
       "              early_stopping_rounds=None, enable_categorical=False,\n",
       "              eval_metric=None, gamma=0, gpu_id=-1, grow_policy=&#x27;depthwise&#x27;,\n",
       "              importance_type=None, interaction_constraints=&#x27;&#x27;,\n",
       "              learning_rate=0.300000012, max_bin=256, max_cat_to_onehot=4,\n",
       "              max_delta_step=0, max_depth=6, max_leaves=0, min_child_weight=1,\n",
       "              missing=nan, monotone_constraints=&#x27;()&#x27;, n_estimators=100,\n",
       "              n_jobs=0, num_parallel_tree=1, predictor=&#x27;auto&#x27;, random_state=0,\n",
       "              reg_alpha=0, reg_lambda=1, ...)</pre></div></div></div></div></div></div></div></div></div></div></div></div>"
      ],
      "text/plain": [
       "GridSearchCV(cv=StratifiedKFold(n_splits=3, random_state=None, shuffle=False),\n",
       "             estimator=Pipeline(steps=[('oversample',\n",
       "                                        RandomUnderSampler(random_state=42)),\n",
       "                                       ('model',\n",
       "                                        XGBClassifier(base_score=0.5,\n",
       "                                                      booster='gbtree',\n",
       "                                                      callbacks=None,\n",
       "                                                      colsample_bylevel=1,\n",
       "                                                      colsample_bynode=1,\n",
       "                                                      colsample_bytree=1,\n",
       "                                                      early_stopping_rounds=None,\n",
       "                                                      enable_categorical=False,\n",
       "                                                      eval_metric=None,...\n",
       "                                                      n_jobs=0,\n",
       "                                                      num_parallel_tree=1,\n",
       "                                                      predictor='auto',\n",
       "                                                      random_state=0,\n",
       "                                                      reg_alpha=0, reg_lambda=1, ...))]),\n",
       "             n_jobs=-1,\n",
       "             param_grid={'model__learning_rate': array([0.1       , 0.17777778, 0.25555556, 0.33333333, 0.41111111,\n",
       "       0.48888889, 0.56666667, 0.64444444, 0.72222222, 0.8       ]),\n",
       "                         'model__n_estimators': range(50, 350, 50)},\n",
       "             scoring=make_scorer(custom_score, greater_is_better=False),\n",
       "             verbose=3)"
      ]
     },
     "execution_count": 80,
     "metadata": {},
     "output_type": "execute_result"
    }
   ],
   "source": [
    "gsearch.fit(X_train.values, y_train)"
   ]
  },
  {
   "cell_type": "code",
   "execution_count": 81,
   "id": "788bba42",
   "metadata": {},
   "outputs": [
    {
     "data": {
      "text/plain": [
       "{'model__learning_rate': 0.1, 'model__n_estimators': 100}"
      ]
     },
     "execution_count": 81,
     "metadata": {},
     "output_type": "execute_result"
    }
   ],
   "source": [
    "# paramètres optimaux sélectionnés\n",
    "gsearch.best_params_"
   ]
  },
  {
   "cell_type": "code",
   "execution_count": 82,
   "id": "195cdf5b",
   "metadata": {},
   "outputs": [
    {
     "data": {
      "image/png": "[encoded data removed]",
      "text/plain": [
       "<Figure size 432x288 with 2 Axes>"
      ]
     },
     "metadata": {
      "needs_background": "light"
     },
     "output_type": "display_data"
    },
    {
     "name": "stdout",
     "output_type": "stream",
     "text": [
      "              precision    recall  f1-score   support\n",
      "\n",
      "         0.0       0.98      0.78      0.87     80442\n",
      "         1.0       0.25      0.79      0.38      7177\n",
      "\n",
      "    accuracy                           0.78     87619\n",
      "   macro avg       0.61      0.79      0.62     87619\n",
      "weighted avg       0.92      0.78      0.83     87619\n",
      "\n",
      "ROC AUC Score: 0.79\n",
      "CPU times: user 1.49 s, sys: 1.57 s, total: 3.05 s\n",
      "Wall time: 476 ms\n"
     ]
    }
   ],
   "source": [
    "%%time\n",
    "y_pred = gsearch.predict(X_test)\n",
    "# Plot the confusion matrix\n",
    "plot_confusion_matrix(y_test, y_pred)"
   ]
  },
  {
   "cell_type": "code",
   "execution_count": 83,
   "id": "f17affc3",
   "metadata": {},
   "outputs": [
    {
     "data": {
      "text/plain": [
       "0.38495075269062645"
      ]
     },
     "execution_count": 83,
     "metadata": {},
     "output_type": "execute_result"
    },
    {
     "name": "stdout",
     "output_type": "stream",
     "text": [
      "[CV 1/3] END model__learning_rate=0.1, model__n_estimators=250;, score=-0.398 total time=  20.6s\n",
      "[CV 2/3] END model__learning_rate=0.17777777777777778, model__n_estimators=300;, score=-0.418 total time=  23.6s\n",
      "[CV 2/3] END model__learning_rate=0.33333333333333337, model__n_estimators=150;, score=-0.426 total time=  12.3s\n",
      "[CV 3/3] END model__learning_rate=0.4111111111111111, model__n_estimators=50;, score=-0.411 total time=   4.1s\n",
      "[CV 3/3] END model__learning_rate=0.4111111111111111, model__n_estimators=150;, score=-0.430 total time=  11.7s\n",
      "[CV 3/3] END model__learning_rate=0.48888888888888893, model__n_estimators=50;, score=-0.417 total time=   4.2s\n",
      "[CV 1/3] END model__learning_rate=0.48888888888888893, model__n_estimators=200;, score=-0.435 total time=  16.4s\n",
      "[CV 2/3] END model__learning_rate=0.5666666666666667, model__n_estimators=200;, score=-0.438 total time=  15.8s\n",
      "[CV 1/3] END model__learning_rate=0.6444444444444445, model__n_estimators=250;, score=-0.443 total time=  20.5s\n",
      "[CV 3/3] END model__learning_rate=0.7222222222222222, model__n_estimators=250;, score=-0.453 total time=  19.9s\n",
      "[CV 1/3] END model__learning_rate=0.1, model__n_estimators=200;, score=-0.397 total time=  16.8s\n",
      "[CV 1/3] END model__learning_rate=0.17777777777777778, model__n_estimators=250;, score=-0.410 total time=  19.6s\n",
      "[CV 2/3] END model__learning_rate=0.25555555555555554, model__n_estimators=300;, score=-0.423 total time=  23.4s\n",
      "[CV 1/3] END model__learning_rate=0.4111111111111111, model__n_estimators=150;, score=-0.425 total time=  11.5s\n",
      "[CV 2/3] END model__learning_rate=0.48888888888888893, model__n_estimators=50;, score=-0.423 total time=   4.2s\n",
      "[CV 3/3] END model__learning_rate=0.48888888888888893, model__n_estimators=100;, score=-0.428 total time=   8.3s\n",
      "[CV 1/3] END model__learning_rate=0.48888888888888893, model__n_estimators=300;, score=-0.438 total time=  23.6s\n",
      "[CV 3/3] END model__learning_rate=0.6444444444444445, model__n_estimators=100;, score=-0.439 total time=   8.5s\n",
      "[CV 2/3] END model__learning_rate=0.6444444444444445, model__n_estimators=300;, score=-0.444 total time=  23.7s\n",
      "[CV 2/3] END model__learning_rate=0.8, model__n_estimators=150;, score=-0.448 total time=  11.9s\n",
      "[CV 2/3] END model__learning_rate=0.1, model__n_estimators=150;, score=-0.400 total time=  12.5s\n",
      "[CV 3/3] END model__learning_rate=0.17777777777777778, model__n_estimators=100;, score=-0.395 total time=   8.3s\n",
      "[CV 1/3] END model__learning_rate=0.17777777777777778, model__n_estimators=300;, score=-0.414 total time=  22.8s\n",
      "[CV 2/3] END model__learning_rate=0.33333333333333337, model__n_estimators=100;, score=-0.420 total time=   8.0s\n",
      "[CV 3/3] END model__learning_rate=0.33333333333333337, model__n_estimators=250;, score=-0.421 total time=  19.4s\n",
      "[CV 1/3] END model__learning_rate=0.48888888888888893, model__n_estimators=50;, score=-0.412 total time=   4.4s\n",
      "[CV 2/3] END model__learning_rate=0.48888888888888893, model__n_estimators=100;, score=-0.424 total time=   8.9s\n",
      "[CV 2/3] END model__learning_rate=0.48888888888888893, model__n_estimators=300;, score=-0.436 total time=  24.4s\n",
      "[CV 2/3] END model__learning_rate=0.6444444444444445, model__n_estimators=200;, score=-0.445 total time=  15.6s\n",
      "[CV 2/3] END model__learning_rate=0.7222222222222222, model__n_estimators=150;, score=-0.444 total time=  11.8s\n",
      "[CV 3/3] END model__learning_rate=0.8, model__n_estimators=50;, score=-0.438 total time=   4.1s\n",
      "[CV 3/3] END model__learning_rate=0.8, model__n_estimators=150;, score=-0.457 total time=  11.8s\n",
      "[CV 1/3] END model__learning_rate=0.1, model__n_estimators=150;, score=-0.396 total time=  12.7s\n",
      "[CV 2/3] END model__learning_rate=0.17777777777777778, model__n_estimators=150;, score=-0.408 total time=  12.9s\n",
      "[CV 2/3] END model__learning_rate=0.25555555555555554, model__n_estimators=100;, score=-0.404 total time=   8.1s\n",
      "[CV 3/3] END model__learning_rate=0.25555555555555554, model__n_estimators=250;, score=-0.417 total time=  19.6s\n",
      "[CV 2/3] END model__learning_rate=0.33333333333333337, model__n_estimators=300;, score=-0.431 total time=  23.1s\n",
      "[CV 3/3] END model__learning_rate=0.48888888888888893, model__n_estimators=150;, score=-0.432 total time=  13.2s\n",
      "[CV 1/3] END model__learning_rate=0.5666666666666667, model__n_estimators=100;, score=-0.432 total time=   8.3s\n",
      "[CV 3/3] END model__learning_rate=0.5666666666666667, model__n_estimators=250;, score=-0.434 total time=  20.3s\n",
      "[CV 1/3] END model__learning_rate=0.7222222222222222, model__n_estimators=50;, score=-0.429 total time=   4.3s\n",
      "[CV 1/3] END model__learning_rate=0.7222222222222222, model__n_estimators=150;, score=-0.449 total time=  12.6s\n",
      "[CV 2/3] END model__learning_rate=0.8, model__n_estimators=50;, score=-0.441 total time=   4.3s\n",
      "[CV 1/3] END model__learning_rate=0.8, model__n_estimators=150;, score=-0.454 total time=  12.5s\n",
      "[CV 3/3] END model__learning_rate=0.1, model__n_estimators=250;, score=-0.397 total time=  22.2s\n",
      "[CV 1/3] END model__learning_rate=0.25555555555555554, model__n_estimators=50;, score=-0.399 total time=   4.8s\n",
      "[CV 3/3] END model__learning_rate=0.25555555555555554, model__n_estimators=100;, score=-0.406 total time=   8.0s\n",
      "[CV 1/3] END model__learning_rate=0.25555555555555554, model__n_estimators=300;, score=-0.418 total time=  23.6s\n",
      "[CV 2/3] END model__learning_rate=0.4111111111111111, model__n_estimators=100;, score=-0.416 total time=   7.7s\n",
      "[CV 3/3] END model__learning_rate=0.4111111111111111, model__n_estimators=250;, score=-0.432 total time=  20.3s\n",
      "[CV 1/3] END model__learning_rate=0.5666666666666667, model__n_estimators=50;, score=-0.423 total time=   4.3s\n",
      "[CV 3/3] END model__learning_rate=0.5666666666666667, model__n_estimators=100;, score=-0.430 total time=   7.9s\n",
      "[CV 2/3] END model__learning_rate=0.5666666666666667, model__n_estimators=300;, score=-0.438 total time=  22.8s\n",
      "[CV 2/3] END model__learning_rate=0.7222222222222222, model__n_estimators=100;, score=-0.443 total time=   8.3s\n",
      "[CV 1/3] END model__learning_rate=0.7222222222222222, model__n_estimators=300;, score=-0.448 total time=  22.4s\n",
      "[CV 3/3] END model__learning_rate=0.1, model__n_estimators=100;, score=-0.392 total time=   8.7s\n",
      "[CV 1/3] END model__learning_rate=0.17777777777777778, model__n_estimators=100;, score=-0.398 total time=   9.1s\n",
      "[CV 2/3] END model__learning_rate=0.17777777777777778, model__n_estimators=250;, score=-0.412 total time=  19.5s\n",
      "[CV 3/3] END model__learning_rate=0.25555555555555554, model__n_estimators=300;, score=-0.416 total time=  24.3s\n",
      "[CV 2/3] END model__learning_rate=0.4111111111111111, model__n_estimators=200;, score=-0.427 total time=  15.4s\n",
      "[CV 2/3] END model__learning_rate=0.48888888888888893, model__n_estimators=200;, score=-0.434 total time=  16.0s\n",
      "[CV 3/3] END model__learning_rate=0.5666666666666667, model__n_estimators=150;, score=-0.437 total time=  12.0s\n",
      "[CV 1/3] END model__learning_rate=0.6444444444444445, model__n_estimators=100;, score=-0.436 total time=   7.9s\n",
      "[CV 2/3] END model__learning_rate=0.6444444444444445, model__n_estimators=250;, score=-0.443 total time=  19.4s\n",
      "[CV 3/3] END model__learning_rate=0.7222222222222222, model__n_estimators=300;, score=-0.452 total time=  22.1s\n",
      "[CV 3/3] END model__learning_rate=0.1, model__n_estimators=150;, score=-0.393 total time=  13.1s\n",
      "[CV 3/3] END model__learning_rate=0.17777777777777778, model__n_estimators=150;, score=-0.398 total time=  12.4s\n",
      "[CV 1/3] END model__learning_rate=0.25555555555555554, model__n_estimators=100;, score=-0.405 total time=   8.3s\n",
      "[CV 2/3] END model__learning_rate=0.25555555555555554, model__n_estimators=250;, score=-0.417 total time=  21.2s\n",
      "[CV 1/3] END model__learning_rate=0.4111111111111111, model__n_estimators=50;, score=-0.407 total time=   4.2s\n",
      "[CV 3/3] END model__learning_rate=0.4111111111111111, model__n_estimators=100;, score=-0.421 total time=   7.8s\n",
      "[CV 1/3] END model__learning_rate=0.4111111111111111, model__n_estimators=300;, score=-0.431 total time=  23.4s\n",
      "[CV 2/3] END model__learning_rate=0.5666666666666667, model__n_estimators=100;, score=-0.433 total time=   8.0s\n",
      "[CV 1/3] END model__learning_rate=0.5666666666666667, model__n_estimators=300;, score=-0.436 total time=  24.3s\n",
      "[CV 3/3] END model__learning_rate=0.7222222222222222, model__n_estimators=100;, score=-0.448 total time=   9.0s\n",
      "[CV 2/3] END model__learning_rate=0.7222222222222222, model__n_estimators=300;, score=-0.449 total time=  23.5s\n"
     ]
    },
    {
     "name": "stdout",
     "output_type": "stream",
     "text": [
      "[CV 3/3] END model__learning_rate=0.1, model__n_estimators=50;, score=-0.391 total time=   4.5s\n",
      "[CV 1/3] END model__learning_rate=0.17777777777777778, model__n_estimators=50;, score=-0.394 total time=   4.9s\n",
      "[CV 2/3] END model__learning_rate=0.17777777777777778, model__n_estimators=100;, score=-0.403 total time=   9.7s\n",
      "[CV 3/3] END model__learning_rate=0.17777777777777778, model__n_estimators=250;, score=-0.404 total time=  19.8s\n",
      "[CV 1/3] END model__learning_rate=0.33333333333333337, model__n_estimators=50;, score=-0.405 total time=   4.6s\n",
      "[CV 3/3] END model__learning_rate=0.33333333333333337, model__n_estimators=100;, score=-0.413 total time=   8.6s\n",
      "[CV 1/3] END model__learning_rate=0.33333333333333337, model__n_estimators=300;, score=-0.430 total time=  23.8s\n",
      "[CV 1/3] END model__learning_rate=0.48888888888888893, model__n_estimators=150;, score=-0.436 total time=  12.3s\n",
      "[CV 2/3] END model__learning_rate=0.5666666666666667, model__n_estimators=50;, score=-0.421 total time=   4.2s\n",
      "[CV 1/3] END model__learning_rate=0.5666666666666667, model__n_estimators=150;, score=-0.435 total time=  11.9s\n",
      "[CV 3/3] END model__learning_rate=0.6444444444444445, model__n_estimators=50;, score=-0.434 total time=   4.1s\n",
      "[CV 1/3] END model__learning_rate=0.6444444444444445, model__n_estimators=200;, score=-0.441 total time=  16.2s\n",
      "[CV 2/3] END model__learning_rate=0.7222222222222222, model__n_estimators=200;, score=-0.449 total time=  15.7s\n",
      "[CV 2/3] END model__learning_rate=0.8, model__n_estimators=200;, score=-0.448 total time=  14.9s\n",
      "[CV 1/3] END model__learning_rate=0.1, model__n_estimators=300;, score=-0.401 total time=  24.7s\n",
      "[CV 2/3] END model__learning_rate=0.25555555555555554, model__n_estimators=50;, score=-0.403 total time=   4.3s\n",
      "[CV 2/3] END model__learning_rate=0.25555555555555554, model__n_estimators=150;, score=-0.407 total time=  11.9s\n",
      "[CV 3/3] END model__learning_rate=0.33333333333333337, model__n_estimators=50;, score=-0.402 total time=   4.3s\n",
      "[CV 2/3] END model__learning_rate=0.33333333333333337, model__n_estimators=200;, score=-0.425 total time=  16.0s\n",
      "[CV 3/3] END model__learning_rate=0.4111111111111111, model__n_estimators=200;, score=-0.430 total time=  15.6s\n",
      "[CV 1/3] END model__learning_rate=0.48888888888888893, model__n_estimators=250;, score=-0.439 total time=  19.6s\n",
      "[CV 2/3] END model__learning_rate=0.5666666666666667, model__n_estimators=250;, score=-0.439 total time=  19.7s\n",
      "[CV 3/3] END model__learning_rate=0.6444444444444445, model__n_estimators=300;, score=-0.441 total time=  23.7s\n",
      "[CV 1/3] END model__learning_rate=0.8, model__n_estimators=200;, score=-0.454 total time=  15.2s\n",
      "[CV 2/3] END model__learning_rate=0.1, model__n_estimators=50;, score=-0.394 total time=   4.6s\n",
      "[CV 3/3] END model__learning_rate=0.1, model__n_estimators=300;, score=-0.399 total time=  24.6s\n",
      "[CV 1/3] END model__learning_rate=0.25555555555555554, model__n_estimators=150;, score=-0.409 total time=  11.8s\n",
      "[CV 2/3] END model__learning_rate=0.33333333333333337, model__n_estimators=50;, score=-0.410 total time=   4.2s\n",
      "[CV 3/3] END model__learning_rate=0.33333333333333337, model__n_estimators=150;, score=-0.420 total time=  12.1s\n",
      "[CV 1/3] END model__learning_rate=0.4111111111111111, model__n_estimators=100;, score=-0.416 total time=   8.1s\n",
      "[CV 2/3] END model__learning_rate=0.4111111111111111, model__n_estimators=250;, score=-0.432 total time=  19.5s\n",
      "[CV 3/3] END model__learning_rate=0.48888888888888893, model__n_estimators=300;, score=-0.436 total time=  23.2s\n",
      "[CV 1/3] END model__learning_rate=0.6444444444444445, model__n_estimators=150;, score=-0.440 total time=  12.3s\n",
      "[CV 3/3] END model__learning_rate=0.7222222222222222, model__n_estimators=50;, score=-0.443 total time=   4.4s\n",
      "[CV 3/3] END model__learning_rate=0.7222222222222222, model__n_estimators=200;, score=-0.454 total time=  15.6s\n",
      "[CV 3/3] END model__learning_rate=0.8, model__n_estimators=200;, score=-0.457 total time=  15.4s\n",
      "[CV 2/3] END model__learning_rate=0.1, model__n_estimators=250;, score=-0.403 total time=  20.8s\n",
      "[CV 3/3] END model__learning_rate=0.17777777777777778, model__n_estimators=300;, score=-0.407 total time=  23.3s\n",
      "[CV 1/3] END model__learning_rate=0.33333333333333337, model__n_estimators=150;, score=-0.421 total time=  12.0s\n",
      "[CV 2/3] END model__learning_rate=0.4111111111111111, model__n_estimators=50;, score=-0.406 total time=   4.4s\n",
      "[CV 2/3] END model__learning_rate=0.4111111111111111, model__n_estimators=150;, score=-0.424 total time=  11.9s\n",
      "[CV 1/3] END model__learning_rate=0.48888888888888893, model__n_estimators=100;, score=-0.427 total time=   9.2s\n",
      "[CV 2/3] END model__learning_rate=0.48888888888888893, model__n_estimators=250;, score=-0.433 total time=  19.1s\n",
      "[CV 3/3] END model__learning_rate=0.5666666666666667, model__n_estimators=300;, score=-0.441 total time=  23.7s\n",
      "[CV 1/3] END model__learning_rate=0.7222222222222222, model__n_estimators=200;, score=-0.449 total time=  16.1s\n",
      "[CV 1/3] END model__learning_rate=0.8, model__n_estimators=250;, score=-0.451 total time=  17.5s\n",
      "[CV 2/3] END model__learning_rate=0.1, model__n_estimators=200;, score=-0.402 total time=  16.3s\n",
      "[CV 3/3] END model__learning_rate=0.17777777777777778, model__n_estimators=200;, score=-0.402 total time=  16.4s\n",
      "[CV 3/3] END model__learning_rate=0.25555555555555554, model__n_estimators=200;, score=-0.416 total time=  16.0s\n",
      "[CV 1/3] END model__learning_rate=0.33333333333333337, model__n_estimators=250;, score=-0.427 total time=  20.1s\n",
      "[CV 2/3] END model__learning_rate=0.4111111111111111, model__n_estimators=300;, score=-0.432 total time=  23.8s\n",
      "[CV 2/3] END model__learning_rate=0.5666666666666667, model__n_estimators=150;, score=-0.435 total time=  11.6s\n",
      "[CV 2/3] END model__learning_rate=0.6444444444444445, model__n_estimators=50;, score=-0.430 total time=   4.0s\n",
      "[CV 2/3] END model__learning_rate=0.6444444444444445, model__n_estimators=150;, score=-0.446 total time=  11.8s\n",
      "[CV 2/3] END model__learning_rate=0.7222222222222222, model__n_estimators=50;, score=-0.432 total time=   4.2s\n",
      "[CV 3/3] END model__learning_rate=0.7222222222222222, model__n_estimators=150;, score=-0.452 total time=  11.9s\n",
      "[CV 1/3] END model__learning_rate=0.8, model__n_estimators=100;, score=-0.453 total time=   8.0s\n",
      "[CV 2/3] END model__learning_rate=0.8, model__n_estimators=250;, score=-0.452 total time=  15.9s\n",
      "[CV 1/3] END model__learning_rate=0.1, model__n_estimators=50;, score=-0.398 total time=   4.6s\n",
      "[CV 2/3] END model__learning_rate=0.1, model__n_estimators=300;, score=-0.406 total time=  25.4s\n",
      "[CV 1/3] END model__learning_rate=0.25555555555555554, model__n_estimators=200;, score=-0.412 total time=  15.8s\n",
      "[CV 1/3] END model__learning_rate=0.33333333333333337, model__n_estimators=200;, score=-0.424 total time=  15.6s\n",
      "[CV 1/3] END model__learning_rate=0.4111111111111111, model__n_estimators=200;, score=-0.428 total time=  15.3s\n",
      "[CV 2/3] END model__learning_rate=0.48888888888888893, model__n_estimators=150;, score=-0.432 total time=  12.7s\n",
      "[CV 3/3] END model__learning_rate=0.5666666666666667, model__n_estimators=50;, score=-0.422 total time=   4.1s\n",
      "[CV 3/3] END model__learning_rate=0.5666666666666667, model__n_estimators=200;, score=-0.437 total time=  15.5s\n",
      "[CV 3/3] END model__learning_rate=0.6444444444444445, model__n_estimators=200;, score=-0.440 total time=  16.2s\n",
      "[CV 1/3] END model__learning_rate=0.7222222222222222, model__n_estimators=250;, score=-0.448 total time=  19.3s\n",
      "[CV 3/3] END model__learning_rate=0.8, model__n_estimators=250;, score=-0.455 total time=  15.9s\n",
      "[CV 2/3] END model__learning_rate=0.1, model__n_estimators=100;, score=-0.396 total time=   8.8s\n",
      "[CV 3/3] END model__learning_rate=0.17777777777777778, model__n_estimators=50;, score=-0.393 total time=   5.0s\n",
      "[CV 1/3] END model__learning_rate=0.17777777777777778, model__n_estimators=200;, score=-0.408 total time=  17.0s\n",
      "[CV 2/3] END model__learning_rate=0.25555555555555554, model__n_estimators=200;, score=-0.414 total time=  15.8s\n",
      "[CV 3/3] END model__learning_rate=0.33333333333333337, model__n_estimators=200;, score=-0.421 total time=  15.8s\n",
      "[CV 1/3] END model__learning_rate=0.4111111111111111, model__n_estimators=250;, score=-0.433 total time=  20.0s\n",
      "[CV 3/3] END model__learning_rate=0.48888888888888893, model__n_estimators=250;, score=-0.434 total time=  20.6s\n",
      "[CV 1/3] END model__learning_rate=0.6444444444444445, model__n_estimators=50;, score=-0.428 total time=   4.2s\n",
      "[CV 2/3] END model__learning_rate=0.6444444444444445, model__n_estimators=100;, score=-0.438 total time=   8.3s\n",
      "[CV 1/3] END model__learning_rate=0.6444444444444445, model__n_estimators=300;, score=-0.444 total time=  23.2s\n",
      "[CV 2/3] END model__learning_rate=0.8, model__n_estimators=100;, score=-0.446 total time=   8.1s\n",
      "[CV 1/3] END model__learning_rate=0.8, model__n_estimators=300;, score=-0.445 total time=  16.1s\n"
     ]
    },
    {
     "name": "stdout",
     "output_type": "stream",
     "text": [
      "[CV 1/3] END model__learning_rate=0.1, model__n_estimators=100;, score=-0.394 total time=   8.5s\n",
      "[CV 2/3] END model__learning_rate=0.17777777777777778, model__n_estimators=50;, score=-0.399 total time=   4.6s\n",
      "[CV 1/3] END model__learning_rate=0.17777777777777778, model__n_estimators=150;, score=-0.403 total time=  12.5s\n",
      "[CV 3/3] END model__learning_rate=0.25555555555555554, model__n_estimators=50;, score=-0.394 total time=   4.3s\n",
      "[CV 3/3] END model__learning_rate=0.25555555555555554, model__n_estimators=150;, score=-0.413 total time=  12.0s\n",
      "[CV 1/3] END model__learning_rate=0.33333333333333337, model__n_estimators=100;, score=-0.411 total time=   8.7s\n",
      "[CV 2/3] END model__learning_rate=0.33333333333333337, model__n_estimators=250;, score=-0.431 total time=  20.0s\n",
      "[CV 3/3] END model__learning_rate=0.4111111111111111, model__n_estimators=300;, score=-0.433 total time=  25.0s\n",
      "[CV 1/3] END model__learning_rate=0.5666666666666667, model__n_estimators=250;, score=-0.432 total time=  19.5s\n",
      "[CV 3/3] END model__learning_rate=0.6444444444444445, model__n_estimators=250;, score=-0.439 total time=  20.0s\n",
      "[CV 1/3] END model__learning_rate=0.8, model__n_estimators=50;, score=-0.445 total time=   4.0s\n",
      "[CV 3/3] END model__learning_rate=0.8, model__n_estimators=100;, score=-0.452 total time=   8.1s\n",
      "[CV 2/3] END model__learning_rate=0.8, model__n_estimators=300;, score=-0.447 total time=  16.0s\n",
      "[CV 3/3] END model__learning_rate=0.1, model__n_estimators=200;, score=-0.395 total time=  16.2s\n",
      "[CV 2/3] END model__learning_rate=0.17777777777777778, model__n_estimators=200;, score=-0.414 total time=  17.4s\n",
      "[CV 1/3] END model__learning_rate=0.25555555555555554, model__n_estimators=250;, score=-0.416 total time=  20.8s\n",
      "[CV 3/3] END model__learning_rate=0.33333333333333337, model__n_estimators=300;, score=-0.425 total time=  22.8s\n",
      "[CV 3/3] END model__learning_rate=0.48888888888888893, model__n_estimators=200;, score=-0.432 total time=  16.0s\n",
      "[CV 1/3] END model__learning_rate=0.5666666666666667, model__n_estimators=200;, score=-0.435 total time=  15.3s\n",
      "[CV 3/3] END model__learning_rate=0.6444444444444445, model__n_estimators=150;, score=-0.440 total time=  12.0s\n",
      "[CV 1/3] END model__learning_rate=0.7222222222222222, model__n_estimators=100;, score=-0.445 total time=   8.4s\n",
      "[CV 2/3] END model__learning_rate=0.7222222222222222, model__n_estimators=250;, score=-0.445 total time=  19.2s\n",
      "[CV 3/3] END model__learning_rate=0.8, model__n_estimators=300;, score=-0.455 total time=  15.5s\n"
     ]
    }
   ],
   "source": [
    "# Valeur du score crédit dans le modèle optimisé\n",
    "custom_score(y_test, y_pred)"
   ]
  },
  {
   "cell_type": "markdown",
   "id": "2536314c",
   "metadata": {},
   "source": [
    "## Option: utilisation du F Beta score"
   ]
  },
  {
   "cell_type": "markdown",
   "id": "0719b39c",
   "metadata": {},
   "source": [
    "Pour optimiser le recall et la précision de anière simultanée, on peut aussi utiliser le F Beta score. Il faut définir un paramètre Beta qui est le coefficient d'importance relative du recall par rapport à la précision. On peut le fixer à 10 par défaut, ce qui correpond au ratio entre les classes majoritaires et minoritaires (voir article ci-dessus pour plus de détails). Il faut chercher à maximiser cette mesure."
   ]
  },
  {
   "cell_type": "markdown",
   "id": "cb5656e3",
   "metadata": {},
   "source": [
    "https://scikit-learn.org/stable/modules/generated/sklearn.metrics.make_scorer.html"
   ]
  },
  {
   "cell_type": "markdown",
   "id": "a101e317",
   "metadata": {},
   "source": [
    "Voir doc fonction make_scorer:  \n",
    "https://scikit-learn.org/stable/modules/generated/sklearn.metrics.make_scorer.html"
   ]
  },
  {
   "cell_type": "code",
   "execution_count": 84,
   "id": "8764f3df",
   "metadata": {},
   "outputs": [],
   "source": [
    "from sklearn.metrics import fbeta_score, make_scorer\n",
    "f_beta_scorer = make_scorer(fbeta_score, beta=11)"
   ]
  },
  {
   "cell_type": "code",
   "execution_count": 85,
   "id": "a1fe758f",
   "metadata": {},
   "outputs": [],
   "source": [
    "# On reprned les mêmes paramètres que précédemment\n",
    "param = {\n",
    "        'model__n_estimators': range(50, 350, 50),\n",
    "        'model__learning_rate': np.linspace(start = 0.1, stop = 0.8, num = 10)\n",
    "}"
   ]
  },
  {
   "cell_type": "code",
   "execution_count": 86,
   "id": "2ba6fe98",
   "metadata": {},
   "outputs": [],
   "source": [
    "# utilisation de la cross validation\n",
    "cv = StratifiedKFold(n_splits=3)"
   ]
  },
  {
   "cell_type": "code",
   "execution_count": 87,
   "id": "aeed02b0",
   "metadata": {},
   "outputs": [],
   "source": [
    "gsearch = GridSearchCV(estimator = pipeline,\n",
    "                        param_grid = param,\n",
    "                        scoring=f_beta_scorer,\n",
    "                        n_jobs=-1,\n",
    "                        verbose=3,\n",
    "                        cv=cv)"
   ]
  },
  {
   "cell_type": "code",
   "execution_count": 88,
   "id": "ae42bd41",
   "metadata": {},
   "outputs": [
    {
     "name": "stdout",
     "output_type": "stream",
     "text": [
      "Fitting 3 folds for each of 60 candidates, totalling 180 fits\n"
     ]
    },
    {
     "data": {
      "text/html": [
       "<style>#sk-container-id-9 {color: black;background-color: white;}#sk-container-id-9 pre{padding: 0;}#sk-container-id-9 div.sk-toggleable {background-color: white;}#sk-container-id-9 label.sk-toggleable__label {cursor: pointer;display: block;width: 100%;margin-bottom: 0;padding: 0.3em;box-sizing: border-box;text-align: center;}#sk-container-id-9 label.sk-toggleable__label-arrow:before {content: \"▸\";float: left;margin-right: 0.25em;color: #696969;}#sk-container-id-9 label.sk-toggleable__label-arrow:hover:before {color: black;}#sk-container-id-9 div.sk-estimator:hover label.sk-toggleable__label-arrow:before {color: black;}#sk-container-id-9 div.sk-toggleable__content {max-height: 0;max-width: 0;overflow: hidden;text-align: left;background-color: #f0f8ff;}#sk-container-id-9 div.sk-toggleable__content pre {margin: 0.2em;color: black;border-radius: 0.25em;background-color: #f0f8ff;}#sk-container-id-9 input.sk-toggleable__control:checked~div.sk-toggleable__content {max-height: 200px;max-width: 100%;overflow: auto;}#sk-container-id-9 input.sk-toggleable__control:checked~label.sk-toggleable__label-arrow:before {content: \"▾\";}#sk-container-id-9 div.sk-estimator input.sk-toggleable__control:checked~label.sk-toggleable__label {background-color: #d4ebff;}#sk-container-id-9 div.sk-label input.sk-toggleable__control:checked~label.sk-toggleable__label {background-color: #d4ebff;}#sk-container-id-9 input.sk-hidden--visually {border: 0;clip: rect(1px 1px 1px 1px);clip: rect(1px, 1px, 1px, 1px);height: 1px;margin: -1px;overflow: hidden;padding: 0;position: absolute;width: 1px;}#sk-container-id-9 div.sk-estimator {font-family: monospace;background-color: #f0f8ff;border: 1px dotted black;border-radius: 0.25em;box-sizing: border-box;margin-bottom: 0.5em;}#sk-container-id-9 div.sk-estimator:hover {background-color: #d4ebff;}#sk-container-id-9 div.sk-parallel-item::after {content: \"\";width: 100%;border-bottom: 1px solid gray;flex-grow: 1;}#sk-container-id-9 div.sk-label:hover label.sk-toggleable__label {background-color: #d4ebff;}#sk-container-id-9 div.sk-serial::before {content: \"\";position: absolute;border-left: 1px solid gray;box-sizing: border-box;top: 0;bottom: 0;left: 50%;z-index: 0;}#sk-container-id-9 div.sk-serial {display: flex;flex-direction: column;align-items: center;background-color: white;padding-right: 0.2em;padding-left: 0.2em;position: relative;}#sk-container-id-9 div.sk-item {position: relative;z-index: 1;}#sk-container-id-9 div.sk-parallel {display: flex;align-items: stretch;justify-content: center;background-color: white;position: relative;}#sk-container-id-9 div.sk-item::before, #sk-container-id-9 div.sk-parallel-item::before {content: \"\";position: absolute;border-left: 1px solid gray;box-sizing: border-box;top: 0;bottom: 0;left: 50%;z-index: -1;}#sk-container-id-9 div.sk-parallel-item {display: flex;flex-direction: column;z-index: 1;position: relative;background-color: white;}#sk-container-id-9 div.sk-parallel-item:first-child::after {align-self: flex-end;width: 50%;}#sk-container-id-9 div.sk-parallel-item:last-child::after {align-self: flex-start;width: 50%;}#sk-container-id-9 div.sk-parallel-item:only-child::after {width: 0;}#sk-container-id-9 div.sk-dashed-wrapped {border: 1px dashed gray;margin: 0 0.4em 0.5em 0.4em;box-sizing: border-box;padding-bottom: 0.4em;background-color: white;}#sk-container-id-9 div.sk-label label {font-family: monospace;font-weight: bold;display: inline-block;line-height: 1.2em;}#sk-container-id-9 div.sk-label-container {text-align: center;}#sk-container-id-9 div.sk-container {/* jupyter's `normalize.less` sets `[hidden] { display: none; }` but bootstrap.min.css set `[hidden] { display: none !important; }` so we also need the `!important` here to be able to override the default hidden behavior on the sphinx rendered scikit-learn.org. See: https://github.com/scikit-learn/scikit-learn/issues/21755 */display: inline-block !important;position: relative;}#sk-container-id-9 div.sk-text-repr-fallback {display: none;}</style><div id=\"sk-container-id-9\" class=\"sk-top-container\"><div class=\"sk-text-repr-fallback\"><pre>GridSearchCV(cv=StratifiedKFold(n_splits=3, random_state=None, shuffle=False),\n",
       "             estimator=Pipeline(steps=[(&#x27;oversample&#x27;,\n",
       "                                        RandomUnderSampler(random_state=42)),\n",
       "                                       (&#x27;model&#x27;,\n",
       "                                        XGBClassifier(base_score=0.5,\n",
       "                                                      booster=&#x27;gbtree&#x27;,\n",
       "                                                      callbacks=None,\n",
       "                                                      colsample_bylevel=1,\n",
       "                                                      colsample_bynode=1,\n",
       "                                                      colsample_bytree=1,\n",
       "                                                      early_stopping_rounds=None,\n",
       "                                                      enable_categorical=False,\n",
       "                                                      eval_metric=None,...\n",
       "                                                      n_estimators=100,\n",
       "                                                      n_jobs=0,\n",
       "                                                      num_parallel_tree=1,\n",
       "                                                      predictor=&#x27;auto&#x27;,\n",
       "                                                      random_state=0,\n",
       "                                                      reg_alpha=0, reg_lambda=1, ...))]),\n",
       "             n_jobs=-1,\n",
       "             param_grid={&#x27;model__learning_rate&#x27;: array([0.1       , 0.17777778, 0.25555556, 0.33333333, 0.41111111,\n",
       "       0.48888889, 0.56666667, 0.64444444, 0.72222222, 0.8       ]),\n",
       "                         &#x27;model__n_estimators&#x27;: range(50, 350, 50)},\n",
       "             scoring=make_scorer(fbeta_score, beta=11), verbose=3)</pre><b>In a Jupyter environment, please rerun this cell to show the HTML representation or trust the notebook. <br />On GitHub, the HTML representation is unable to render, please try loading this page with nbviewer.org.</b></div><div class=\"sk-container\" hidden><div class=\"sk-item sk-dashed-wrapped\"><div class=\"sk-label-container\"><div class=\"sk-label sk-toggleable\"><input class=\"sk-toggleable__control sk-hidden--visually\" id=\"sk-estimator-id-33\" type=\"checkbox\" ><label for=\"sk-estimator-id-33\" class=\"sk-toggleable__label sk-toggleable__label-arrow\">GridSearchCV</label><div class=\"sk-toggleable__content\"><pre>GridSearchCV(cv=StratifiedKFold(n_splits=3, random_state=None, shuffle=False),\n",
       "             estimator=Pipeline(steps=[(&#x27;oversample&#x27;,\n",
       "                                        RandomUnderSampler(random_state=42)),\n",
       "                                       (&#x27;model&#x27;,\n",
       "                                        XGBClassifier(base_score=0.5,\n",
       "                                                      booster=&#x27;gbtree&#x27;,\n",
       "                                                      callbacks=None,\n",
       "                                                      colsample_bylevel=1,\n",
       "                                                      colsample_bynode=1,\n",
       "                                                      colsample_bytree=1,\n",
       "                                                      early_stopping_rounds=None,\n",
       "                                                      enable_categorical=False,\n",
       "                                                      eval_metric=None,...\n",
       "                                                      n_estimators=100,\n",
       "                                                      n_jobs=0,\n",
       "                                                      num_parallel_tree=1,\n",
       "                                                      predictor=&#x27;auto&#x27;,\n",
       "                                                      random_state=0,\n",
       "                                                      reg_alpha=0, reg_lambda=1, ...))]),\n",
       "             n_jobs=-1,\n",
       "             param_grid={&#x27;model__learning_rate&#x27;: array([0.1       , 0.17777778, 0.25555556, 0.33333333, 0.41111111,\n",
       "       0.48888889, 0.56666667, 0.64444444, 0.72222222, 0.8       ]),\n",
       "                         &#x27;model__n_estimators&#x27;: range(50, 350, 50)},\n",
       "             scoring=make_scorer(fbeta_score, beta=11), verbose=3)</pre></div></div></div><div class=\"sk-parallel\"><div class=\"sk-parallel-item\"><div class=\"sk-item\"><div class=\"sk-label-container\"><div class=\"sk-label sk-toggleable\"><input class=\"sk-toggleable__control sk-hidden--visually\" id=\"sk-estimator-id-34\" type=\"checkbox\" ><label for=\"sk-estimator-id-34\" class=\"sk-toggleable__label sk-toggleable__label-arrow\">estimator: Pipeline</label><div class=\"sk-toggleable__content\"><pre>Pipeline(steps=[(&#x27;oversample&#x27;, RandomUnderSampler(random_state=42)),\n",
       "                (&#x27;model&#x27;,\n",
       "                 XGBClassifier(base_score=0.5, booster=&#x27;gbtree&#x27;, callbacks=None,\n",
       "                               colsample_bylevel=1, colsample_bynode=1,\n",
       "                               colsample_bytree=1, early_stopping_rounds=None,\n",
       "                               enable_categorical=False, eval_metric=None,\n",
       "                               gamma=0, gpu_id=-1, grow_policy=&#x27;depthwise&#x27;,\n",
       "                               importance_type=None, interaction_constraints=&#x27;&#x27;,\n",
       "                               learning_rate=0.300000012, max_bin=256,\n",
       "                               max_cat_to_onehot=4, max_delta_step=0,\n",
       "                               max_depth=6, max_leaves=0, min_child_weight=1,\n",
       "                               missing=nan, monotone_constraints=&#x27;()&#x27;,\n",
       "                               n_estimators=100, n_jobs=0, num_parallel_tree=1,\n",
       "                               predictor=&#x27;auto&#x27;, random_state=0, reg_alpha=0,\n",
       "                               reg_lambda=1, ...))])</pre></div></div></div><div class=\"sk-serial\"><div class=\"sk-item\"><div class=\"sk-serial\"><div class=\"sk-item\"><div class=\"sk-estimator sk-toggleable\"><input class=\"sk-toggleable__control sk-hidden--visually\" id=\"sk-estimator-id-35\" type=\"checkbox\" ><label for=\"sk-estimator-id-35\" class=\"sk-toggleable__label sk-toggleable__label-arrow\">RandomUnderSampler</label><div class=\"sk-toggleable__content\"><pre>RandomUnderSampler(random_state=42)</pre></div></div></div><div class=\"sk-item\"><div class=\"sk-estimator sk-toggleable\"><input class=\"sk-toggleable__control sk-hidden--visually\" id=\"sk-estimator-id-36\" type=\"checkbox\" ><label for=\"sk-estimator-id-36\" class=\"sk-toggleable__label sk-toggleable__label-arrow\">XGBClassifier</label><div class=\"sk-toggleable__content\"><pre>XGBClassifier(base_score=0.5, booster=&#x27;gbtree&#x27;, callbacks=None,\n",
       "              colsample_bylevel=1, colsample_bynode=1, colsample_bytree=1,\n",
       "              early_stopping_rounds=None, enable_categorical=False,\n",
       "              eval_metric=None, gamma=0, gpu_id=-1, grow_policy=&#x27;depthwise&#x27;,\n",
       "              importance_type=None, interaction_constraints=&#x27;&#x27;,\n",
       "              learning_rate=0.300000012, max_bin=256, max_cat_to_onehot=4,\n",
       "              max_delta_step=0, max_depth=6, max_leaves=0, min_child_weight=1,\n",
       "              missing=nan, monotone_constraints=&#x27;()&#x27;, n_estimators=100,\n",
       "              n_jobs=0, num_parallel_tree=1, predictor=&#x27;auto&#x27;, random_state=0,\n",
       "              reg_alpha=0, reg_lambda=1, ...)</pre></div></div></div></div></div></div></div></div></div></div></div></div>"
      ],
      "text/plain": [
       "GridSearchCV(cv=StratifiedKFold(n_splits=3, random_state=None, shuffle=False),\n",
       "             estimator=Pipeline(steps=[('oversample',\n",
       "                                        RandomUnderSampler(random_state=42)),\n",
       "                                       ('model',\n",
       "                                        XGBClassifier(base_score=0.5,\n",
       "                                                      booster='gbtree',\n",
       "                                                      callbacks=None,\n",
       "                                                      colsample_bylevel=1,\n",
       "                                                      colsample_bynode=1,\n",
       "                                                      colsample_bytree=1,\n",
       "                                                      early_stopping_rounds=None,\n",
       "                                                      enable_categorical=False,\n",
       "                                                      eval_metric=None,...\n",
       "                                                      n_estimators=100,\n",
       "                                                      n_jobs=0,\n",
       "                                                      num_parallel_tree=1,\n",
       "                                                      predictor='auto',\n",
       "                                                      random_state=0,\n",
       "                                                      reg_alpha=0, reg_lambda=1, ...))]),\n",
       "             n_jobs=-1,\n",
       "             param_grid={'model__learning_rate': array([0.1       , 0.17777778, 0.25555556, 0.33333333, 0.41111111,\n",
       "       0.48888889, 0.56666667, 0.64444444, 0.72222222, 0.8       ]),\n",
       "                         'model__n_estimators': range(50, 350, 50)},\n",
       "             scoring=make_scorer(fbeta_score, beta=11), verbose=3)"
      ]
     },
     "execution_count": 88,
     "metadata": {},
     "output_type": "execute_result"
    }
   ],
   "source": [
    "gsearch.fit(X_train.values, y_train)"
   ]
  },
  {
   "cell_type": "code",
   "execution_count": 89,
   "id": "8eb72098",
   "metadata": {},
   "outputs": [
    {
     "data": {
      "text/plain": [
       "{'model__learning_rate': 0.17777777777777778, 'model__n_estimators': 50}"
      ]
     },
     "execution_count": 89,
     "metadata": {},
     "output_type": "execute_result"
    }
   ],
   "source": [
    "gsearch.best_params_"
   ]
  },
  {
   "cell_type": "code",
   "execution_count": 90,
   "id": "6525d821",
   "metadata": {},
   "outputs": [
    {
     "data": {
      "image/png": "[encoded data removed]",
      "text/plain": [
       "<Figure size 432x288 with 2 Axes>"
      ]
     },
     "metadata": {
      "needs_background": "light"
     },
     "output_type": "display_data"
    },
    {
     "name": "stdout",
     "output_type": "stream",
     "text": [
      "              precision    recall  f1-score   support\n",
      "\n",
      "         0.0       0.98      0.78      0.87     80442\n",
      "         1.0       0.25      0.79      0.38      7177\n",
      "\n",
      "    accuracy                           0.79     87619\n",
      "   macro avg       0.61      0.79      0.62     87619\n",
      "weighted avg       0.92      0.79      0.83     87619\n",
      "\n",
      "ROC AUC Score: 0.79\n",
      "CPU times: user 1.33 s, sys: 1.46 s, total: 2.79 s\n",
      "Wall time: 421 ms\n",
      "[CV 1/3] END model__learning_rate=0.1, model__n_estimators=100;, score=0.768 total time=   8.7s\n",
      "[CV 3/3] END model__learning_rate=0.17777777777777778, model__n_estimators=50;, score=0.768 total time=   4.8s\n",
      "[CV 1/3] END model__learning_rate=0.17777777777777778, model__n_estimators=200;, score=0.760 total time=  18.1s\n",
      "[CV 2/3] END model__learning_rate=0.25555555555555554, model__n_estimators=200;, score=0.761 total time=  15.5s\n",
      "[CV 3/3] END model__learning_rate=0.33333333333333337, model__n_estimators=200;, score=0.754 total time=  17.2s\n",
      "[CV 1/3] END model__learning_rate=0.4111111111111111, model__n_estimators=250;, score=0.748 total time=  21.7s\n",
      "[CV 2/3] END model__learning_rate=0.48888888888888893, model__n_estimators=300;, score=0.748 total time=  25.3s\n",
      "[CV 1/3] END model__learning_rate=0.6444444444444445, model__n_estimators=250;, score=0.747 total time=  20.2s\n",
      "[CV 3/3] END model__learning_rate=0.7222222222222222, model__n_estimators=250;, score=0.732 total time=  20.4s\n",
      "[CV 1/3] END model__learning_rate=0.1, model__n_estimators=200;, score=0.767 total time=  16.7s\n",
      "[CV 2/3] END model__learning_rate=0.17777777777777778, model__n_estimators=200;, score=0.759 total time=  17.6s\n",
      "[CV 3/3] END model__learning_rate=0.25555555555555554, model__n_estimators=250;, score=0.757 total time=  19.3s\n",
      "[CV 1/3] END model__learning_rate=0.4111111111111111, model__n_estimators=50;, score=0.763 total time=   4.7s\n",
      "[CV 3/3] END model__learning_rate=0.4111111111111111, model__n_estimators=100;, score=0.755 total time=   8.8s\n",
      "[CV 1/3] END model__learning_rate=0.4111111111111111, model__n_estimators=300;, score=0.751 total time=  24.3s\n",
      "[CV 2/3] END model__learning_rate=0.5666666666666667, model__n_estimators=100;, score=0.753 total time=   8.0s\n",
      "[CV 3/3] END model__learning_rate=0.5666666666666667, model__n_estimators=250;, score=0.749 total time=  20.9s\n",
      "[CV 1/3] END model__learning_rate=0.7222222222222222, model__n_estimators=50;, score=0.752 total time=   4.3s\n",
      "[CV 1/3] END model__learning_rate=0.7222222222222222, model__n_estimators=150;, score=0.738 total time=  11.6s\n",
      "[CV 1/3] END model__learning_rate=0.8, model__n_estimators=50;, score=0.742 total time=   4.3s\n",
      "[CV 1/3] END model__learning_rate=0.8, model__n_estimators=150;, score=0.738 total time=  12.3s\n",
      "[CV 3/3] END model__learning_rate=0.1, model__n_estimators=50;, score=0.764 total time=   5.0s\n",
      "[CV 1/3] END model__learning_rate=0.17777777777777778, model__n_estimators=50;, score=0.770 total time=   4.9s\n",
      "[CV 1/3] END model__learning_rate=0.17777777777777778, model__n_estimators=100;, score=0.767 total time=   9.0s\n",
      "[CV 3/3] END model__learning_rate=0.17777777777777778, model__n_estimators=250;, score=0.763 total time=  20.2s\n",
      "[CV 1/3] END model__learning_rate=0.33333333333333337, model__n_estimators=50;, score=0.765 total time=   4.3s\n",
      "[CV 2/3] END model__learning_rate=0.33333333333333337, model__n_estimators=100;, score=0.753 total time=   8.3s\n",
      "[CV 3/3] END model__learning_rate=0.33333333333333337, model__n_estimators=250;, score=0.755 total time=  20.4s\n",
      "[CV 1/3] END model__learning_rate=0.48888888888888893, model__n_estimators=50;, score=0.760 total time=   4.5s\n",
      "[CV 2/3] END model__learning_rate=0.48888888888888893, model__n_estimators=100;, score=0.756 total time=   8.2s\n",
      "[CV 3/3] END model__learning_rate=0.48888888888888893, model__n_estimators=250;, score=0.751 total time=  19.8s\n",
      "[CV 1/3] END model__learning_rate=0.6444444444444445, model__n_estimators=50;, score=0.753 total time=   4.2s\n",
      "[CV 3/3] END model__learning_rate=0.6444444444444445, model__n_estimators=100;, score=0.743 total time=   8.5s\n",
      "[CV 2/3] END model__learning_rate=0.6444444444444445, model__n_estimators=300;, score=0.745 total time=  23.5s\n",
      "[CV 2/3] END model__learning_rate=0.8, model__n_estimators=150;, score=0.743 total time=  12.6s\n",
      "[CV 1/3] END model__learning_rate=0.1, model__n_estimators=300;, score=0.765 total time=  24.3s\n",
      "[CV 2/3] END model__learning_rate=0.25555555555555554, model__n_estimators=50;, score=0.767 total time=   4.7s\n",
      "[CV 2/3] END model__learning_rate=0.25555555555555554, model__n_estimators=150;, score=0.767 total time=  11.7s\n",
      "[CV 3/3] END model__learning_rate=0.33333333333333337, model__n_estimators=50;, score=0.764 total time=   4.0s\n",
      "[CV 1/3] END model__learning_rate=0.33333333333333337, model__n_estimators=200;, score=0.754 total time=  16.4s\n",
      "[CV 1/3] END model__learning_rate=0.4111111111111111, model__n_estimators=200;, score=0.752 total time=  16.0s\n",
      "[CV 1/3] END model__learning_rate=0.48888888888888893, model__n_estimators=200;, score=0.745 total time=  15.7s\n",
      "[CV 2/3] END model__learning_rate=0.5666666666666667, model__n_estimators=150;, score=0.751 total time=  12.3s\n",
      "[CV 2/3] END model__learning_rate=0.6444444444444445, model__n_estimators=50;, score=0.750 total time=   4.9s\n",
      "[CV 2/3] END model__learning_rate=0.6444444444444445, model__n_estimators=200;, score=0.742 total time=  16.6s\n",
      "[CV 1/3] END model__learning_rate=0.7222222222222222, model__n_estimators=200;, score=0.738 total time=  15.3s\n",
      "[CV 3/3] END model__learning_rate=0.8, model__n_estimators=150;, score=0.729 total time=  12.1s\n",
      "[CV 1/3] END model__learning_rate=0.1, model__n_estimators=250;, score=0.767 total time=  21.1s\n",
      "[CV 2/3] END model__learning_rate=0.17777777777777778, model__n_estimators=300;, score=0.756 total time=  23.6s\n",
      "[CV 2/3] END model__learning_rate=0.33333333333333337, model__n_estimators=150;, score=0.750 total time=  12.5s\n",
      "[CV 1/3] END model__learning_rate=0.4111111111111111, model__n_estimators=100;, score=0.760 total time=   9.5s\n",
      "[CV 3/3] END model__learning_rate=0.4111111111111111, model__n_estimators=250;, score=0.748 total time=  20.9s\n",
      "[CV 1/3] END model__learning_rate=0.5666666666666667, model__n_estimators=50;, score=0.755 total time=   4.3s\n",
      "[CV 3/3] END model__learning_rate=0.5666666666666667, model__n_estimators=100;, score=0.751 total time=   8.1s\n",
      "[CV 2/3] END model__learning_rate=0.5666666666666667, model__n_estimators=300;, score=0.748 total time=  24.0s\n",
      "[CV 2/3] END model__learning_rate=0.7222222222222222, model__n_estimators=100;, score=0.743 total time=   8.2s\n",
      "[CV 1/3] END model__learning_rate=0.7222222222222222, model__n_estimators=300;, score=0.741 total time=  23.6s\n",
      "[CV 2/3] END model__learning_rate=0.1, model__n_estimators=150;, score=0.768 total time=  12.9s\n",
      "[CV 2/3] END model__learning_rate=0.17777777777777778, model__n_estimators=150;, score=0.765 total time=  12.5s\n",
      "[CV 3/3] END model__learning_rate=0.25555555555555554, model__n_estimators=50;, score=0.770 total time=   4.3s\n",
      "[CV 1/3] END model__learning_rate=0.25555555555555554, model__n_estimators=200;, score=0.763 total time=  16.1s\n",
      "[CV 2/3] END model__learning_rate=0.33333333333333337, model__n_estimators=200;, score=0.753 total time=  17.2s\n",
      "[CV 3/3] END model__learning_rate=0.4111111111111111, model__n_estimators=200;, score=0.750 total time=  16.2s\n",
      "[CV 1/3] END model__learning_rate=0.48888888888888893, model__n_estimators=250;, score=0.744 total time=  20.7s\n",
      "[CV 1/3] END model__learning_rate=0.5666666666666667, model__n_estimators=300;, score=0.750 total time=  24.5s\n",
      "[CV 3/3] END model__learning_rate=0.7222222222222222, model__n_estimators=100;, score=0.734 total time=   8.4s\n",
      "[CV 2/3] END model__learning_rate=0.7222222222222222, model__n_estimators=300;, score=0.741 total time=  23.3s\n",
      "[CV 3/3] END model__learning_rate=0.1, model__n_estimators=200;, score=0.767 total time=  17.3s\n",
      "[CV 1/3] END model__learning_rate=0.17777777777777778, model__n_estimators=250;, score=0.761 total time=  19.5s\n",
      "[CV 2/3] END model__learning_rate=0.25555555555555554, model__n_estimators=300;, score=0.755 total time=  23.6s\n",
      "[CV 2/3] END model__learning_rate=0.4111111111111111, model__n_estimators=150;, score=0.756 total time=  12.7s\n",
      "[CV 3/3] END model__learning_rate=0.48888888888888893, model__n_estimators=50;, score=0.757 total time=   4.3s\n",
      "[CV 2/3] END model__learning_rate=0.48888888888888893, model__n_estimators=200;, score=0.750 total time=  16.1s\n",
      "[CV 2/3] END model__learning_rate=0.5666666666666667, model__n_estimators=200;, score=0.748 total time=  15.6s\n",
      "[CV 1/3] END model__learning_rate=0.6444444444444445, model__n_estimators=150;, score=0.749 total time=  12.6s\n",
      "[CV 2/3] END model__learning_rate=0.7222222222222222, model__n_estimators=50;, score=0.750 total time=   4.4s\n",
      "[CV 2/3] END model__learning_rate=0.7222222222222222, model__n_estimators=150;, score=0.743 total time=  11.8s\n",
      "[CV 3/3] END model__learning_rate=0.8, model__n_estimators=50;, score=0.743 total time=   4.3s\n",
      "[CV 1/3] END model__learning_rate=0.8, model__n_estimators=200;, score=0.736 total time=  14.4s\n"
     ]
    },
    {
     "name": "stdout",
     "output_type": "stream",
     "text": [
      "[CV 2/3] END model__learning_rate=0.1, model__n_estimators=250;, score=0.766 total time=  21.2s\n",
      "[CV 1/3] END model__learning_rate=0.25555555555555554, model__n_estimators=50;, score=0.768 total time=   4.7s\n",
      "[CV 3/3] END model__learning_rate=0.25555555555555554, model__n_estimators=100;, score=0.762 total time=   8.5s\n",
      "[CV 1/3] END model__learning_rate=0.25555555555555554, model__n_estimators=300;, score=0.759 total time=  23.2s\n",
      "[CV 2/3] END model__learning_rate=0.4111111111111111, model__n_estimators=100;, score=0.762 total time=   8.6s\n",
      "[CV 2/3] END model__learning_rate=0.4111111111111111, model__n_estimators=250;, score=0.748 total time=  19.7s\n",
      "[CV 3/3] END model__learning_rate=0.48888888888888893, model__n_estimators=300;, score=0.749 total time=  23.9s\n",
      "[CV 1/3] END model__learning_rate=0.6444444444444445, model__n_estimators=200;, score=0.748 total time=  16.9s\n",
      "[CV 3/3] END model__learning_rate=0.7222222222222222, model__n_estimators=200;, score=0.733 total time=  15.4s\n",
      "[CV 2/3] END model__learning_rate=0.8, model__n_estimators=200;, score=0.744 total time=  15.2s\n",
      "[CV 2/3] END model__learning_rate=0.1, model__n_estimators=200;, score=0.768 total time=  16.8s\n",
      "[CV 3/3] END model__learning_rate=0.17777777777777778, model__n_estimators=200;, score=0.764 total time=  16.2s\n",
      "[CV 3/3] END model__learning_rate=0.25555555555555554, model__n_estimators=200;, score=0.755 total time=  16.4s\n",
      "[CV 2/3] END model__learning_rate=0.33333333333333337, model__n_estimators=250;, score=0.748 total time=  20.4s\n",
      "[CV 2/3] END model__learning_rate=0.4111111111111111, model__n_estimators=300;, score=0.747 total time=  23.3s\n",
      "[CV 1/3] END model__learning_rate=0.5666666666666667, model__n_estimators=150;, score=0.750 total time=  12.8s\n",
      "[CV 1/3] END model__learning_rate=0.6444444444444445, model__n_estimators=100;, score=0.750 total time=   8.4s\n",
      "[CV 2/3] END model__learning_rate=0.6444444444444445, model__n_estimators=250;, score=0.745 total time=  20.6s\n",
      "[CV 3/3] END model__learning_rate=0.7222222222222222, model__n_estimators=300;, score=0.731 total time=  22.7s\n",
      "[CV 1/3] END model__learning_rate=0.1, model__n_estimators=150;, score=0.767 total time=  12.5s\n",
      "[CV 3/3] END model__learning_rate=0.17777777777777778, model__n_estimators=100;, score=0.768 total time=   9.0s\n",
      "[CV 3/3] END model__learning_rate=0.17777777777777778, model__n_estimators=300;, score=0.762 total time=  23.0s\n",
      "[CV 1/3] END model__learning_rate=0.33333333333333337, model__n_estimators=150;, score=0.754 total time=  11.6s\n",
      "[CV 2/3] END model__learning_rate=0.4111111111111111, model__n_estimators=50;, score=0.768 total time=   4.6s\n",
      "[CV 1/3] END model__learning_rate=0.4111111111111111, model__n_estimators=150;, score=0.754 total time=  12.1s\n",
      "[CV 2/3] END model__learning_rate=0.48888888888888893, model__n_estimators=50;, score=0.754 total time=   4.6s\n",
      "[CV 2/3] END model__learning_rate=0.48888888888888893, model__n_estimators=150;, score=0.750 total time=  11.8s\n",
      "[CV 2/3] END model__learning_rate=0.5666666666666667, model__n_estimators=50;, score=0.758 total time=   4.2s\n",
      "[CV 3/3] END model__learning_rate=0.5666666666666667, model__n_estimators=150;, score=0.746 total time=  12.4s\n",
      "[CV 3/3] END model__learning_rate=0.6444444444444445, model__n_estimators=50;, score=0.742 total time=   4.3s\n",
      "[CV 3/3] END model__learning_rate=0.6444444444444445, model__n_estimators=150;, score=0.742 total time=  12.4s\n",
      "[CV 3/3] END model__learning_rate=0.7222222222222222, model__n_estimators=50;, score=0.736 total time=   4.6s\n",
      "[CV 2/3] END model__learning_rate=0.7222222222222222, model__n_estimators=200;, score=0.739 total time=  15.8s\n",
      "[CV 3/3] END model__learning_rate=0.8, model__n_estimators=200;, score=0.730 total time=  15.5s\n",
      "[CV 2/3] END model__learning_rate=0.1, model__n_estimators=100;, score=0.770 total time=   8.7s\n",
      "[CV 2/3] END model__learning_rate=0.17777777777777778, model__n_estimators=50;, score=0.770 total time=   4.6s\n",
      "[CV 3/3] END model__learning_rate=0.17777777777777778, model__n_estimators=150;, score=0.768 total time=  12.5s\n",
      "[CV 2/3] END model__learning_rate=0.25555555555555554, model__n_estimators=100;, score=0.768 total time=   8.2s\n",
      "[CV 2/3] END model__learning_rate=0.25555555555555554, model__n_estimators=250;, score=0.759 total time=  18.6s\n",
      "[CV 2/3] END model__learning_rate=0.33333333333333337, model__n_estimators=300;, score=0.750 total time=  25.0s\n",
      "[CV 3/3] END model__learning_rate=0.48888888888888893, model__n_estimators=150;, score=0.750 total time=  13.1s\n",
      "[CV 1/3] END model__learning_rate=0.5666666666666667, model__n_estimators=100;, score=0.751 total time=   8.6s\n",
      "[CV 2/3] END model__learning_rate=0.5666666666666667, model__n_estimators=250;, score=0.746 total time=  20.4s\n",
      "[CV 3/3] END model__learning_rate=0.6444444444444445, model__n_estimators=300;, score=0.739 total time=  23.7s\n",
      "[CV 1/3] END model__learning_rate=0.8, model__n_estimators=250;, score=0.740 total time=  16.3s\n",
      "[CV 1/3] END model__learning_rate=0.1, model__n_estimators=50;, score=0.764 total time=   4.7s\n",
      "[CV 3/3] END model__learning_rate=0.1, model__n_estimators=300;, score=0.766 total time=  25.1s\n",
      "[CV 3/3] END model__learning_rate=0.25555555555555554, model__n_estimators=150;, score=0.757 total time=  11.7s\n",
      "[CV 1/3] END model__learning_rate=0.33333333333333337, model__n_estimators=100;, score=0.761 total time=   8.1s\n",
      "[CV 1/3] END model__learning_rate=0.33333333333333337, model__n_estimators=250;, score=0.752 total time=  21.1s\n",
      "[CV 3/3] END model__learning_rate=0.4111111111111111, model__n_estimators=300;, score=0.748 total time=  23.5s\n",
      "[CV 3/3] END model__learning_rate=0.5666666666666667, model__n_estimators=200;, score=0.745 total time=  17.0s\n",
      "[CV 3/3] END model__learning_rate=0.6444444444444445, model__n_estimators=200;, score=0.743 total time=  16.1s\n",
      "[CV 3/3] END model__learning_rate=0.7222222222222222, model__n_estimators=150;, score=0.734 total time=  11.6s\n",
      "[CV 1/3] END model__learning_rate=0.8, model__n_estimators=100;, score=0.737 total time=   8.5s\n",
      "[CV 2/3] END model__learning_rate=0.8, model__n_estimators=250;, score=0.741 total time=  14.9s\n",
      "[CV 2/3] END model__learning_rate=0.1, model__n_estimators=50;, score=0.774 total time=   4.5s\n",
      "[CV 2/3] END model__learning_rate=0.1, model__n_estimators=300;, score=0.764 total time=  24.6s\n",
      "[CV 1/3] END model__learning_rate=0.25555555555555554, model__n_estimators=150;, score=0.763 total time=  11.8s\n",
      "[CV 2/3] END model__learning_rate=0.33333333333333337, model__n_estimators=50;, score=0.760 total time=   4.2s\n",
      "[CV 3/3] END model__learning_rate=0.33333333333333337, model__n_estimators=150;, score=0.754 total time=  12.0s\n",
      "[CV 3/3] END model__learning_rate=0.4111111111111111, model__n_estimators=50;, score=0.757 total time=   4.4s\n",
      "[CV 3/3] END model__learning_rate=0.4111111111111111, model__n_estimators=150;, score=0.749 total time=  12.4s\n",
      "[CV 1/3] END model__learning_rate=0.48888888888888893, model__n_estimators=100;, score=0.750 total time=   8.4s\n",
      "[CV 2/3] END model__learning_rate=0.48888888888888893, model__n_estimators=250;, score=0.751 total time=  21.1s\n",
      "[CV 3/3] END model__learning_rate=0.5666666666666667, model__n_estimators=300;, score=0.742 total time=  24.7s\n",
      "[CV 1/3] END model__learning_rate=0.7222222222222222, model__n_estimators=250;, score=0.740 total time=  19.6s\n",
      "[CV 3/3] END model__learning_rate=0.8, model__n_estimators=250;, score=0.731 total time=  15.2s\n",
      "[CV 3/3] END model__learning_rate=0.1, model__n_estimators=250;, score=0.767 total time=  20.7s\n",
      "[CV 1/3] END model__learning_rate=0.17777777777777778, model__n_estimators=300;, score=0.759 total time=  23.5s\n",
      "[CV 3/3] END model__learning_rate=0.33333333333333337, model__n_estimators=100;, score=0.757 total time=   8.0s\n",
      "[CV 1/3] END model__learning_rate=0.33333333333333337, model__n_estimators=300;, score=0.750 total time=  24.5s\n",
      "[CV 3/3] END model__learning_rate=0.48888888888888893, model__n_estimators=100;, score=0.751 total time=   8.3s\n",
      "[CV 1/3] END model__learning_rate=0.48888888888888893, model__n_estimators=300;, score=0.745 total time=  23.1s\n",
      "[CV 2/3] END model__learning_rate=0.6444444444444445, model__n_estimators=100;, score=0.748 total time=   8.7s\n",
      "[CV 1/3] END model__learning_rate=0.6444444444444445, model__n_estimators=300;, score=0.746 total time=  23.2s\n",
      "[CV 2/3] END model__learning_rate=0.8, model__n_estimators=100;, score=0.743 total time=   8.2s\n",
      "[CV 1/3] END model__learning_rate=0.8, model__n_estimators=300;, score=0.745 total time=  15.8s\n"
     ]
    },
    {
     "name": "stdout",
     "output_type": "stream",
     "text": [
      "[CV 3/3] END model__learning_rate=0.1, model__n_estimators=100;, score=0.767 total time=   9.7s\n",
      "[CV 2/3] END model__learning_rate=0.17777777777777778, model__n_estimators=100;, score=0.767 total time=   8.9s\n",
      "[CV 2/3] END model__learning_rate=0.17777777777777778, model__n_estimators=250;, score=0.761 total time=  19.7s\n",
      "[CV 3/3] END model__learning_rate=0.25555555555555554, model__n_estimators=300;, score=0.759 total time=  23.3s\n",
      "[CV 2/3] END model__learning_rate=0.4111111111111111, model__n_estimators=200;, score=0.751 total time=  16.5s\n",
      "[CV 3/3] END model__learning_rate=0.48888888888888893, model__n_estimators=200;, score=0.752 total time=  16.2s\n",
      "[CV 1/3] END model__learning_rate=0.5666666666666667, model__n_estimators=250;, score=0.754 total time=  21.8s\n",
      "[CV 3/3] END model__learning_rate=0.6444444444444445, model__n_estimators=250;, score=0.742 total time=  20.4s\n",
      "[CV 2/3] END model__learning_rate=0.8, model__n_estimators=50;, score=0.746 total time=   4.0s\n",
      "[CV 3/3] END model__learning_rate=0.8, model__n_estimators=100;, score=0.734 total time=   8.8s\n",
      "[CV 2/3] END model__learning_rate=0.8, model__n_estimators=300;, score=0.744 total time=  15.5s\n",
      "[CV 3/3] END model__learning_rate=0.1, model__n_estimators=150;, score=0.768 total time=  12.7s\n",
      "[CV 1/3] END model__learning_rate=0.17777777777777778, model__n_estimators=150;, score=0.765 total time=  12.9s\n",
      "[CV 1/3] END model__learning_rate=0.25555555555555554, model__n_estimators=100;, score=0.765 total time=   8.2s\n",
      "[CV 1/3] END model__learning_rate=0.25555555555555554, model__n_estimators=250;, score=0.760 total time=  19.0s\n",
      "[CV 3/3] END model__learning_rate=0.33333333333333337, model__n_estimators=300;, score=0.752 total time=  24.3s\n",
      "[CV 1/3] END model__learning_rate=0.48888888888888893, model__n_estimators=150;, score=0.743 total time=  12.2s\n",
      "[CV 3/3] END model__learning_rate=0.5666666666666667, model__n_estimators=50;, score=0.753 total time=   4.2s\n",
      "[CV 1/3] END model__learning_rate=0.5666666666666667, model__n_estimators=200;, score=0.749 total time=  16.4s\n",
      "[CV 2/3] END model__learning_rate=0.6444444444444445, model__n_estimators=150;, score=0.742 total time=  12.5s\n",
      "[CV 1/3] END model__learning_rate=0.7222222222222222, model__n_estimators=100;, score=0.740 total time=   8.4s\n",
      "[CV 2/3] END model__learning_rate=0.7222222222222222, model__n_estimators=250;, score=0.744 total time=  19.8s\n",
      "[CV 3/3] END model__learning_rate=0.8, model__n_estimators=300;, score=0.731 total time=  14.5s\n"
     ]
    }
   ],
   "source": [
    "%%time\n",
    "y_pred = gsearch.predict(X_test)\n",
    "# Plot the confusion matrix\n",
    "plot_confusion_matrix(y_test, y_pred)"
   ]
  },
  {
   "cell_type": "code",
   "execution_count": 91,
   "id": "3c50eb90",
   "metadata": {},
   "outputs": [
    {
     "data": {
      "text/plain": [
       "0.3869594494344834"
      ]
     },
     "execution_count": 91,
     "metadata": {},
     "output_type": "execute_result"
    }
   ],
   "source": [
    "# Valeur du score crédit dans le modèle optimisé\n",
    "custom_score(y_test, y_pred)"
   ]
  },
  {
   "cell_type": "markdown",
   "id": "4d7dcfd8",
   "metadata": {},
   "source": [
    "On voit que cette optimisation de la fonction de coût a permi de réduire à la fois le nombre de faux négatifs et de faux positifs, tout en améliorant légèrement le recall et le score F1."
   ]
  }
 ],
 "metadata": {
  "kernelspec": {
   "display_name": "Python 3 (ipykernel)",
   "language": "python",
   "name": "python3"
  },
  "language_info": {
   "codemirror_mode": {
    "name": "ipython",
    "version": 3
   },
   "file_extension": ".py",
   "mimetype": "text/x-python",
   "name": "python",
   "nbconvert_exporter": "python",
   "pygments_lexer": "ipython3",
   "version": "3.9.12"
  }
 },
 "nbformat": 4,
 "nbformat_minor": 5
}
